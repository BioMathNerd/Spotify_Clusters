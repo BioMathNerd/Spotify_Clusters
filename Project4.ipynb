{
 "cells": [
  {
   "cell_type": "code",
   "execution_count": 142,
   "id": "53eb2403",
   "metadata": {},
   "outputs": [],
   "source": [
    "import numpy as np\n",
    "import time\n",
    "import pandas as pd\n",
    "import matplotlib.pyplot as plt\n",
    "%matplotlib inline\n",
    "import seaborn as sns\n",
    "from sklearn.preprocessing import StandardScaler\n",
    "\n",
    "from sklearn.decomposition import PCA\n",
    "from sklearn import preprocessing\n",
    "from sklearn.cluster import KMeans, AgglomerativeClustering\n",
    "from sklearn_extra.cluster import KMedoids\n",
    "\n",
    "import plotly.express as px\n",
    "\n",
    "%matplotlib widget\n",
    "from mpl_toolkits.mplot3d import Axes3D"
   ]
  },
  {
   "cell_type": "markdown",
   "id": "6f576c3e",
   "metadata": {},
   "source": [
    "## Preprocessing ##"
   ]
  },
  {
   "cell_type": "code",
   "execution_count": 66,
   "id": "a796827b",
   "metadata": {},
   "outputs": [
    {
     "data": {
      "text/html": [
       "<div>\n",
       "<style scoped>\n",
       "    .dataframe tbody tr th:only-of-type {\n",
       "        vertical-align: middle;\n",
       "    }\n",
       "\n",
       "    .dataframe tbody tr th {\n",
       "        vertical-align: top;\n",
       "    }\n",
       "\n",
       "    .dataframe thead th {\n",
       "        text-align: right;\n",
       "    }\n",
       "</style>\n",
       "<table border=\"1\" class=\"dataframe\">\n",
       "  <thead>\n",
       "    <tr style=\"text-align: right;\">\n",
       "      <th></th>\n",
       "      <th>name</th>\n",
       "      <th>artist</th>\n",
       "      <th>genre</th>\n",
       "      <th>id</th>\n",
       "      <th>danceability</th>\n",
       "      <th>energy</th>\n",
       "      <th>loudness</th>\n",
       "      <th>speechiness</th>\n",
       "      <th>acousticness</th>\n",
       "      <th>tempo</th>\n",
       "      <th>liveness</th>\n",
       "      <th>valence</th>\n",
       "    </tr>\n",
       "  </thead>\n",
       "  <tbody>\n",
       "    <tr>\n",
       "      <th>0</th>\n",
       "      <td>So Long, Goodbye - Live</td>\n",
       "      <td>10 Years</td>\n",
       "      <td>rock</td>\n",
       "      <td>5mIxO1Ez7OWYEaUPAuG2ZU</td>\n",
       "      <td>0.390</td>\n",
       "      <td>0.295</td>\n",
       "      <td>-10.792</td>\n",
       "      <td>0.0316</td>\n",
       "      <td>0.61200</td>\n",
       "      <td>125.194</td>\n",
       "      <td>0.1080</td>\n",
       "      <td>0.120</td>\n",
       "    </tr>\n",
       "    <tr>\n",
       "      <th>1</th>\n",
       "      <td>Here Without You</td>\n",
       "      <td>3 Doors Down</td>\n",
       "      <td>rock</td>\n",
       "      <td>135cNW8kQtiTId7qcsJfVC</td>\n",
       "      <td>0.469</td>\n",
       "      <td>0.670</td>\n",
       "      <td>-4.604</td>\n",
       "      <td>0.0270</td>\n",
       "      <td>0.00815</td>\n",
       "      <td>144.045</td>\n",
       "      <td>0.1320</td>\n",
       "      <td>0.158</td>\n",
       "    </tr>\n",
       "    <tr>\n",
       "      <th>2</th>\n",
       "      <td>What's Up?</td>\n",
       "      <td>4 Non Blondes</td>\n",
       "      <td>pop</td>\n",
       "      <td>0jWgAnTrNZmOGmqgvHhZEm</td>\n",
       "      <td>0.565</td>\n",
       "      <td>0.564</td>\n",
       "      <td>-10.044</td>\n",
       "      <td>0.0292</td>\n",
       "      <td>0.16100</td>\n",
       "      <td>134.355</td>\n",
       "      <td>0.1140</td>\n",
       "      <td>0.454</td>\n",
       "    </tr>\n",
       "    <tr>\n",
       "      <th>3</th>\n",
       "      <td>Ghost Of You</td>\n",
       "      <td>5 Seconds of Summer</td>\n",
       "      <td>pop</td>\n",
       "      <td>1MhXdlCQPnO56T57MfmaRm</td>\n",
       "      <td>0.458</td>\n",
       "      <td>0.561</td>\n",
       "      <td>-4.819</td>\n",
       "      <td>0.0269</td>\n",
       "      <td>0.09650</td>\n",
       "      <td>149.875</td>\n",
       "      <td>0.1560</td>\n",
       "      <td>0.206</td>\n",
       "    </tr>\n",
       "    <tr>\n",
       "      <th>4</th>\n",
       "      <td>If It Means a Lot to You</td>\n",
       "      <td>A Day To Remember</td>\n",
       "      <td>post hardcore</td>\n",
       "      <td>6J7cSyvSCnPwv3vqHchEfL</td>\n",
       "      <td>0.584</td>\n",
       "      <td>0.536</td>\n",
       "      <td>-8.158</td>\n",
       "      <td>0.0279</td>\n",
       "      <td>0.11200</td>\n",
       "      <td>126.996</td>\n",
       "      <td>0.4560</td>\n",
       "      <td>0.440</td>\n",
       "    </tr>\n",
       "    <tr>\n",
       "      <th>...</th>\n",
       "      <td>...</td>\n",
       "      <td>...</td>\n",
       "      <td>...</td>\n",
       "      <td>...</td>\n",
       "      <td>...</td>\n",
       "      <td>...</td>\n",
       "      <td>...</td>\n",
       "      <td>...</td>\n",
       "      <td>...</td>\n",
       "      <td>...</td>\n",
       "      <td>...</td>\n",
       "      <td>...</td>\n",
       "    </tr>\n",
       "    <tr>\n",
       "      <th>811</th>\n",
       "      <td>Chicken Fried</td>\n",
       "      <td>Zac Brown Band</td>\n",
       "      <td>country</td>\n",
       "      <td>4dGJf1SER1T6ooX46vwzRB</td>\n",
       "      <td>0.566</td>\n",
       "      <td>0.713</td>\n",
       "      <td>-4.250</td>\n",
       "      <td>0.0417</td>\n",
       "      <td>0.64500</td>\n",
       "      <td>169.864</td>\n",
       "      <td>0.1140</td>\n",
       "      <td>0.807</td>\n",
       "    </tr>\n",
       "    <tr>\n",
       "      <th>812</th>\n",
       "      <td>You Come First (feat. Saweetie)</td>\n",
       "      <td>Zak Abel</td>\n",
       "      <td>pop</td>\n",
       "      <td>5Ef2noaxqTAfa5gLVw05OJ</td>\n",
       "      <td>0.745</td>\n",
       "      <td>0.719</td>\n",
       "      <td>-4.291</td>\n",
       "      <td>0.1900</td>\n",
       "      <td>0.03520</td>\n",
       "      <td>99.962</td>\n",
       "      <td>0.0639</td>\n",
       "      <td>0.611</td>\n",
       "    </tr>\n",
       "    <tr>\n",
       "      <th>813</th>\n",
       "      <td>PILLOWTALK</td>\n",
       "      <td>ZAYN</td>\n",
       "      <td>pop</td>\n",
       "      <td>0IKK48xF4eEdfofyaeKWWO</td>\n",
       "      <td>0.588</td>\n",
       "      <td>0.702</td>\n",
       "      <td>-4.271</td>\n",
       "      <td>0.0496</td>\n",
       "      <td>0.10400</td>\n",
       "      <td>124.909</td>\n",
       "      <td>0.0890</td>\n",
       "      <td>0.429</td>\n",
       "    </tr>\n",
       "    <tr>\n",
       "      <th>814</th>\n",
       "      <td>Seven Nation Army</td>\n",
       "      <td>Zella Day</td>\n",
       "      <td>rock</td>\n",
       "      <td>7fBRH08A6Fu47GMyFamyoO</td>\n",
       "      <td>0.690</td>\n",
       "      <td>0.283</td>\n",
       "      <td>-7.309</td>\n",
       "      <td>0.0294</td>\n",
       "      <td>0.89100</td>\n",
       "      <td>104.348</td>\n",
       "      <td>0.1110</td>\n",
       "      <td>0.350</td>\n",
       "    </tr>\n",
       "    <tr>\n",
       "      <th>815</th>\n",
       "      <td>Replay</td>\n",
       "      <td>Zendaya</td>\n",
       "      <td>pop</td>\n",
       "      <td>7d1CFwrBmH34gmS0Hkbfbt</td>\n",
       "      <td>0.688</td>\n",
       "      <td>0.723</td>\n",
       "      <td>-6.682</td>\n",
       "      <td>0.1210</td>\n",
       "      <td>0.04160</td>\n",
       "      <td>140.023</td>\n",
       "      <td>0.3020</td>\n",
       "      <td>0.618</td>\n",
       "    </tr>\n",
       "  </tbody>\n",
       "</table>\n",
       "<p>816 rows × 12 columns</p>\n",
       "</div>"
      ],
      "text/plain": [
       "                                name               artist          genre  \\\n",
       "0            So Long, Goodbye - Live             10 Years           rock   \n",
       "1                   Here Without You         3 Doors Down           rock   \n",
       "2                         What's Up?        4 Non Blondes            pop   \n",
       "3                       Ghost Of You  5 Seconds of Summer            pop   \n",
       "4           If It Means a Lot to You    A Day To Remember  post hardcore   \n",
       "..                               ...                  ...            ...   \n",
       "811                    Chicken Fried       Zac Brown Band        country   \n",
       "812  You Come First (feat. Saweetie)             Zak Abel            pop   \n",
       "813                       PILLOWTALK                 ZAYN            pop   \n",
       "814                Seven Nation Army            Zella Day           rock   \n",
       "815                           Replay              Zendaya            pop   \n",
       "\n",
       "                         id  danceability  energy  loudness  speechiness  \\\n",
       "0    5mIxO1Ez7OWYEaUPAuG2ZU         0.390   0.295   -10.792       0.0316   \n",
       "1    135cNW8kQtiTId7qcsJfVC         0.469   0.670    -4.604       0.0270   \n",
       "2    0jWgAnTrNZmOGmqgvHhZEm         0.565   0.564   -10.044       0.0292   \n",
       "3    1MhXdlCQPnO56T57MfmaRm         0.458   0.561    -4.819       0.0269   \n",
       "4    6J7cSyvSCnPwv3vqHchEfL         0.584   0.536    -8.158       0.0279   \n",
       "..                      ...           ...     ...       ...          ...   \n",
       "811  4dGJf1SER1T6ooX46vwzRB         0.566   0.713    -4.250       0.0417   \n",
       "812  5Ef2noaxqTAfa5gLVw05OJ         0.745   0.719    -4.291       0.1900   \n",
       "813  0IKK48xF4eEdfofyaeKWWO         0.588   0.702    -4.271       0.0496   \n",
       "814  7fBRH08A6Fu47GMyFamyoO         0.690   0.283    -7.309       0.0294   \n",
       "815  7d1CFwrBmH34gmS0Hkbfbt         0.688   0.723    -6.682       0.1210   \n",
       "\n",
       "     acousticness    tempo  liveness  valence  \n",
       "0         0.61200  125.194    0.1080    0.120  \n",
       "1         0.00815  144.045    0.1320    0.158  \n",
       "2         0.16100  134.355    0.1140    0.454  \n",
       "3         0.09650  149.875    0.1560    0.206  \n",
       "4         0.11200  126.996    0.4560    0.440  \n",
       "..            ...      ...       ...      ...  \n",
       "811       0.64500  169.864    0.1140    0.807  \n",
       "812       0.03520   99.962    0.0639    0.611  \n",
       "813       0.10400  124.909    0.0890    0.429  \n",
       "814       0.89100  104.348    0.1110    0.350  \n",
       "815       0.04160  140.023    0.3020    0.618  \n",
       "\n",
       "[816 rows x 12 columns]"
      ]
     },
     "execution_count": 66,
     "metadata": {},
     "output_type": "execute_result"
    }
   ],
   "source": [
    "songs_df = pd.read_csv('/Users/jpate/Documents/MySongsDataset.csv')\n",
    "songs_df"
   ]
  },
  {
   "cell_type": "code",
   "execution_count": 67,
   "id": "2a3cbf40",
   "metadata": {},
   "outputs": [],
   "source": [
    "songs_normalized_df = songs_df.copy()\n",
    "selected_columns = songs_normalized_df[['danceability',\n",
    "                                        'energy',\n",
    "                                        'loudness',\n",
    "                                        'speechiness',\n",
    "                                        'acousticness',\n",
    "                                        'tempo',\n",
    "                                        'liveness',\n",
    "                                        'valence']]"
   ]
  },
  {
   "cell_type": "code",
   "execution_count": 68,
   "id": "993ec33c",
   "metadata": {},
   "outputs": [
    {
     "data": {
      "text/html": [
       "<div>\n",
       "<style scoped>\n",
       "    .dataframe tbody tr th:only-of-type {\n",
       "        vertical-align: middle;\n",
       "    }\n",
       "\n",
       "    .dataframe tbody tr th {\n",
       "        vertical-align: top;\n",
       "    }\n",
       "\n",
       "    .dataframe thead th {\n",
       "        text-align: right;\n",
       "    }\n",
       "</style>\n",
       "<table border=\"1\" class=\"dataframe\">\n",
       "  <thead>\n",
       "    <tr style=\"text-align: right;\">\n",
       "      <th></th>\n",
       "      <th>0</th>\n",
       "      <th>1</th>\n",
       "      <th>2</th>\n",
       "      <th>3</th>\n",
       "      <th>4</th>\n",
       "      <th>5</th>\n",
       "      <th>6</th>\n",
       "      <th>7</th>\n",
       "    </tr>\n",
       "  </thead>\n",
       "  <tbody>\n",
       "    <tr>\n",
       "      <th>0</th>\n",
       "      <td>-0.897123</td>\n",
       "      <td>-1.705987</td>\n",
       "      <td>-0.943379</td>\n",
       "      <td>-0.613512</td>\n",
       "      <td>1.467253</td>\n",
       "      <td>-0.006869</td>\n",
       "      <td>-0.585933</td>\n",
       "      <td>-1.385781</td>\n",
       "    </tr>\n",
       "    <tr>\n",
       "      <th>1</th>\n",
       "      <td>-0.413799</td>\n",
       "      <td>-0.016898</td>\n",
       "      <td>0.470972</td>\n",
       "      <td>-0.660248</td>\n",
       "      <td>-0.744967</td>\n",
       "      <td>0.596358</td>\n",
       "      <td>-0.433835</td>\n",
       "      <td>-1.209569</td>\n",
       "    </tr>\n",
       "    <tr>\n",
       "      <th>2</th>\n",
       "      <td>0.173531</td>\n",
       "      <td>-0.494347</td>\n",
       "      <td>-0.772413</td>\n",
       "      <td>-0.637896</td>\n",
       "      <td>-0.184997</td>\n",
       "      <td>0.286281</td>\n",
       "      <td>-0.547908</td>\n",
       "      <td>0.163034</td>\n",
       "    </tr>\n",
       "    <tr>\n",
       "      <th>3</th>\n",
       "      <td>-0.481097</td>\n",
       "      <td>-0.507860</td>\n",
       "      <td>0.421831</td>\n",
       "      <td>-0.661264</td>\n",
       "      <td>-0.421294</td>\n",
       "      <td>0.782916</td>\n",
       "      <td>-0.281736</td>\n",
       "      <td>-0.986985</td>\n",
       "    </tr>\n",
       "    <tr>\n",
       "      <th>4</th>\n",
       "      <td>0.289774</td>\n",
       "      <td>-0.620466</td>\n",
       "      <td>-0.341343</td>\n",
       "      <td>-0.651104</td>\n",
       "      <td>-0.364510</td>\n",
       "      <td>0.050795</td>\n",
       "      <td>1.619494</td>\n",
       "      <td>0.098114</td>\n",
       "    </tr>\n",
       "    <tr>\n",
       "      <th>...</th>\n",
       "      <td>...</td>\n",
       "      <td>...</td>\n",
       "      <td>...</td>\n",
       "      <td>...</td>\n",
       "      <td>...</td>\n",
       "      <td>...</td>\n",
       "      <td>...</td>\n",
       "      <td>...</td>\n",
       "    </tr>\n",
       "    <tr>\n",
       "      <th>811</th>\n",
       "      <td>0.179649</td>\n",
       "      <td>0.176784</td>\n",
       "      <td>0.551884</td>\n",
       "      <td>-0.510896</td>\n",
       "      <td>1.588149</td>\n",
       "      <td>1.422559</td>\n",
       "      <td>-0.547908</td>\n",
       "      <td>1.799956</td>\n",
       "    </tr>\n",
       "    <tr>\n",
       "      <th>812</th>\n",
       "      <td>1.274776</td>\n",
       "      <td>0.203809</td>\n",
       "      <td>0.542513</td>\n",
       "      <td>0.995838</td>\n",
       "      <td>-0.645868</td>\n",
       "      <td>-0.814286</td>\n",
       "      <td>-0.865414</td>\n",
       "      <td>0.891070</td>\n",
       "    </tr>\n",
       "    <tr>\n",
       "      <th>813</th>\n",
       "      <td>0.314246</td>\n",
       "      <td>0.127237</td>\n",
       "      <td>0.547084</td>\n",
       "      <td>-0.430631</td>\n",
       "      <td>-0.393818</td>\n",
       "      <td>-0.015989</td>\n",
       "      <td>-0.706344</td>\n",
       "      <td>0.047105</td>\n",
       "    </tr>\n",
       "    <tr>\n",
       "      <th>814</th>\n",
       "      <td>0.938284</td>\n",
       "      <td>-1.760038</td>\n",
       "      <td>-0.147292</td>\n",
       "      <td>-0.635864</td>\n",
       "      <td>2.489376</td>\n",
       "      <td>-0.673935</td>\n",
       "      <td>-0.566921</td>\n",
       "      <td>-0.319232</td>\n",
       "    </tr>\n",
       "    <tr>\n",
       "      <th>815</th>\n",
       "      <td>0.926048</td>\n",
       "      <td>0.221826</td>\n",
       "      <td>-0.003983</td>\n",
       "      <td>0.294796</td>\n",
       "      <td>-0.622422</td>\n",
       "      <td>0.467655</td>\n",
       "      <td>0.643529</td>\n",
       "      <td>0.923530</td>\n",
       "    </tr>\n",
       "  </tbody>\n",
       "</table>\n",
       "<p>816 rows × 8 columns</p>\n",
       "</div>"
      ],
      "text/plain": [
       "            0         1         2         3         4         5         6  \\\n",
       "0   -0.897123 -1.705987 -0.943379 -0.613512  1.467253 -0.006869 -0.585933   \n",
       "1   -0.413799 -0.016898  0.470972 -0.660248 -0.744967  0.596358 -0.433835   \n",
       "2    0.173531 -0.494347 -0.772413 -0.637896 -0.184997  0.286281 -0.547908   \n",
       "3   -0.481097 -0.507860  0.421831 -0.661264 -0.421294  0.782916 -0.281736   \n",
       "4    0.289774 -0.620466 -0.341343 -0.651104 -0.364510  0.050795  1.619494   \n",
       "..        ...       ...       ...       ...       ...       ...       ...   \n",
       "811  0.179649  0.176784  0.551884 -0.510896  1.588149  1.422559 -0.547908   \n",
       "812  1.274776  0.203809  0.542513  0.995838 -0.645868 -0.814286 -0.865414   \n",
       "813  0.314246  0.127237  0.547084 -0.430631 -0.393818 -0.015989 -0.706344   \n",
       "814  0.938284 -1.760038 -0.147292 -0.635864  2.489376 -0.673935 -0.566921   \n",
       "815  0.926048  0.221826 -0.003983  0.294796 -0.622422  0.467655  0.643529   \n",
       "\n",
       "            7  \n",
       "0   -1.385781  \n",
       "1   -1.209569  \n",
       "2    0.163034  \n",
       "3   -0.986985  \n",
       "4    0.098114  \n",
       "..        ...  \n",
       "811  1.799956  \n",
       "812  0.891070  \n",
       "813  0.047105  \n",
       "814 -0.319232  \n",
       "815  0.923530  \n",
       "\n",
       "[816 rows x 8 columns]"
      ]
     },
     "execution_count": 68,
     "metadata": {},
     "output_type": "execute_result"
    }
   ],
   "source": [
    "selected_columns = StandardScaler().fit_transform(selected_columns)\n",
    "selected_columns_df = pd.DataFrame(selected_columns)\n",
    "selected_columns_df"
   ]
  },
  {
   "cell_type": "code",
   "execution_count": 69,
   "id": "b31e62c2",
   "metadata": {},
   "outputs": [],
   "source": [
    "normed_features_df = selected_columns_df.rename(columns={0: 'danceability',\n",
    "                                                         1: 'energy',\n",
    "                                                         2: 'loudness',\n",
    "                                                         3:'speechiness',\n",
    "                                                         4: 'acousticness',\n",
    "                                                         5: 'tempo',\n",
    "                                                         6: 'liveness',\n",
    "                                                         7: 'valence'})"
   ]
  },
  {
   "cell_type": "code",
   "execution_count": 70,
   "id": "dd14a150",
   "metadata": {},
   "outputs": [],
   "source": [
    "songs_normalized_df = songs_normalized_df.drop(['id',\n",
    "                                                'danceability',\n",
    "                                                'energy',\n",
    "                                                'loudness',\n",
    "                                                'speechiness',\n",
    "                                                'acousticness',\n",
    "                                                'tempo',\n",
    "                                                'liveness',\n",
    "                                                'valence'],\n",
    "                                                   axis=1)"
   ]
  },
  {
   "cell_type": "code",
   "execution_count": 71,
   "id": "33b19311",
   "metadata": {},
   "outputs": [],
   "source": [
    "songs_data = songs_normalized_df.join(normed_features_df)"
   ]
  },
  {
   "cell_type": "code",
   "execution_count": 8,
   "id": "cd604891",
   "metadata": {},
   "outputs": [
    {
     "data": {
      "text/html": [
       "<div>\n",
       "<style scoped>\n",
       "    .dataframe tbody tr th:only-of-type {\n",
       "        vertical-align: middle;\n",
       "    }\n",
       "\n",
       "    .dataframe tbody tr th {\n",
       "        vertical-align: top;\n",
       "    }\n",
       "\n",
       "    .dataframe thead th {\n",
       "        text-align: right;\n",
       "    }\n",
       "</style>\n",
       "<table border=\"1\" class=\"dataframe\">\n",
       "  <thead>\n",
       "    <tr style=\"text-align: right;\">\n",
       "      <th></th>\n",
       "      <th>name</th>\n",
       "      <th>artist</th>\n",
       "      <th>genre</th>\n",
       "      <th>danceability</th>\n",
       "      <th>energy</th>\n",
       "      <th>loudness</th>\n",
       "      <th>speechiness</th>\n",
       "      <th>acousticness</th>\n",
       "      <th>tempo</th>\n",
       "      <th>liveness</th>\n",
       "      <th>valence</th>\n",
       "    </tr>\n",
       "  </thead>\n",
       "  <tbody>\n",
       "    <tr>\n",
       "      <th>0</th>\n",
       "      <td>So Long, Goodbye - Live</td>\n",
       "      <td>10 Years</td>\n",
       "      <td>rock</td>\n",
       "      <td>-0.897123</td>\n",
       "      <td>-1.705987</td>\n",
       "      <td>-0.943379</td>\n",
       "      <td>-0.613512</td>\n",
       "      <td>1.467253</td>\n",
       "      <td>-0.006869</td>\n",
       "      <td>-0.585933</td>\n",
       "      <td>-1.385781</td>\n",
       "    </tr>\n",
       "    <tr>\n",
       "      <th>1</th>\n",
       "      <td>Here Without You</td>\n",
       "      <td>3 Doors Down</td>\n",
       "      <td>rock</td>\n",
       "      <td>-0.413799</td>\n",
       "      <td>-0.016898</td>\n",
       "      <td>0.470972</td>\n",
       "      <td>-0.660248</td>\n",
       "      <td>-0.744967</td>\n",
       "      <td>0.596358</td>\n",
       "      <td>-0.433835</td>\n",
       "      <td>-1.209569</td>\n",
       "    </tr>\n",
       "    <tr>\n",
       "      <th>2</th>\n",
       "      <td>What's Up?</td>\n",
       "      <td>4 Non Blondes</td>\n",
       "      <td>pop</td>\n",
       "      <td>0.173531</td>\n",
       "      <td>-0.494347</td>\n",
       "      <td>-0.772413</td>\n",
       "      <td>-0.637896</td>\n",
       "      <td>-0.184997</td>\n",
       "      <td>0.286281</td>\n",
       "      <td>-0.547908</td>\n",
       "      <td>0.163034</td>\n",
       "    </tr>\n",
       "    <tr>\n",
       "      <th>3</th>\n",
       "      <td>Ghost Of You</td>\n",
       "      <td>5 Seconds of Summer</td>\n",
       "      <td>pop</td>\n",
       "      <td>-0.481097</td>\n",
       "      <td>-0.507860</td>\n",
       "      <td>0.421831</td>\n",
       "      <td>-0.661264</td>\n",
       "      <td>-0.421294</td>\n",
       "      <td>0.782916</td>\n",
       "      <td>-0.281736</td>\n",
       "      <td>-0.986985</td>\n",
       "    </tr>\n",
       "    <tr>\n",
       "      <th>4</th>\n",
       "      <td>If It Means a Lot to You</td>\n",
       "      <td>A Day To Remember</td>\n",
       "      <td>post hardcore</td>\n",
       "      <td>0.289774</td>\n",
       "      <td>-0.620466</td>\n",
       "      <td>-0.341343</td>\n",
       "      <td>-0.651104</td>\n",
       "      <td>-0.364510</td>\n",
       "      <td>0.050795</td>\n",
       "      <td>1.619494</td>\n",
       "      <td>0.098114</td>\n",
       "    </tr>\n",
       "    <tr>\n",
       "      <th>...</th>\n",
       "      <td>...</td>\n",
       "      <td>...</td>\n",
       "      <td>...</td>\n",
       "      <td>...</td>\n",
       "      <td>...</td>\n",
       "      <td>...</td>\n",
       "      <td>...</td>\n",
       "      <td>...</td>\n",
       "      <td>...</td>\n",
       "      <td>...</td>\n",
       "      <td>...</td>\n",
       "    </tr>\n",
       "    <tr>\n",
       "      <th>811</th>\n",
       "      <td>Chicken Fried</td>\n",
       "      <td>Zac Brown Band</td>\n",
       "      <td>country</td>\n",
       "      <td>0.179649</td>\n",
       "      <td>0.176784</td>\n",
       "      <td>0.551884</td>\n",
       "      <td>-0.510896</td>\n",
       "      <td>1.588149</td>\n",
       "      <td>1.422559</td>\n",
       "      <td>-0.547908</td>\n",
       "      <td>1.799956</td>\n",
       "    </tr>\n",
       "    <tr>\n",
       "      <th>812</th>\n",
       "      <td>You Come First (feat. Saweetie)</td>\n",
       "      <td>Zak Abel</td>\n",
       "      <td>pop</td>\n",
       "      <td>1.274776</td>\n",
       "      <td>0.203809</td>\n",
       "      <td>0.542513</td>\n",
       "      <td>0.995838</td>\n",
       "      <td>-0.645868</td>\n",
       "      <td>-0.814286</td>\n",
       "      <td>-0.865414</td>\n",
       "      <td>0.891070</td>\n",
       "    </tr>\n",
       "    <tr>\n",
       "      <th>813</th>\n",
       "      <td>PILLOWTALK</td>\n",
       "      <td>ZAYN</td>\n",
       "      <td>pop</td>\n",
       "      <td>0.314246</td>\n",
       "      <td>0.127237</td>\n",
       "      <td>0.547084</td>\n",
       "      <td>-0.430631</td>\n",
       "      <td>-0.393818</td>\n",
       "      <td>-0.015989</td>\n",
       "      <td>-0.706344</td>\n",
       "      <td>0.047105</td>\n",
       "    </tr>\n",
       "    <tr>\n",
       "      <th>814</th>\n",
       "      <td>Seven Nation Army</td>\n",
       "      <td>Zella Day</td>\n",
       "      <td>rock</td>\n",
       "      <td>0.938284</td>\n",
       "      <td>-1.760038</td>\n",
       "      <td>-0.147292</td>\n",
       "      <td>-0.635864</td>\n",
       "      <td>2.489376</td>\n",
       "      <td>-0.673935</td>\n",
       "      <td>-0.566921</td>\n",
       "      <td>-0.319232</td>\n",
       "    </tr>\n",
       "    <tr>\n",
       "      <th>815</th>\n",
       "      <td>Replay</td>\n",
       "      <td>Zendaya</td>\n",
       "      <td>pop</td>\n",
       "      <td>0.926048</td>\n",
       "      <td>0.221826</td>\n",
       "      <td>-0.003983</td>\n",
       "      <td>0.294796</td>\n",
       "      <td>-0.622422</td>\n",
       "      <td>0.467655</td>\n",
       "      <td>0.643529</td>\n",
       "      <td>0.923530</td>\n",
       "    </tr>\n",
       "  </tbody>\n",
       "</table>\n",
       "<p>816 rows × 11 columns</p>\n",
       "</div>"
      ],
      "text/plain": [
       "                                name               artist          genre  \\\n",
       "0            So Long, Goodbye - Live             10 Years           rock   \n",
       "1                   Here Without You         3 Doors Down           rock   \n",
       "2                         What's Up?        4 Non Blondes            pop   \n",
       "3                       Ghost Of You  5 Seconds of Summer            pop   \n",
       "4           If It Means a Lot to You    A Day To Remember  post hardcore   \n",
       "..                               ...                  ...            ...   \n",
       "811                    Chicken Fried       Zac Brown Band        country   \n",
       "812  You Come First (feat. Saweetie)             Zak Abel            pop   \n",
       "813                       PILLOWTALK                 ZAYN            pop   \n",
       "814                Seven Nation Army            Zella Day           rock   \n",
       "815                           Replay              Zendaya            pop   \n",
       "\n",
       "     danceability    energy  loudness  speechiness  acousticness     tempo  \\\n",
       "0       -0.897123 -1.705987 -0.943379    -0.613512      1.467253 -0.006869   \n",
       "1       -0.413799 -0.016898  0.470972    -0.660248     -0.744967  0.596358   \n",
       "2        0.173531 -0.494347 -0.772413    -0.637896     -0.184997  0.286281   \n",
       "3       -0.481097 -0.507860  0.421831    -0.661264     -0.421294  0.782916   \n",
       "4        0.289774 -0.620466 -0.341343    -0.651104     -0.364510  0.050795   \n",
       "..            ...       ...       ...          ...           ...       ...   \n",
       "811      0.179649  0.176784  0.551884    -0.510896      1.588149  1.422559   \n",
       "812      1.274776  0.203809  0.542513     0.995838     -0.645868 -0.814286   \n",
       "813      0.314246  0.127237  0.547084    -0.430631     -0.393818 -0.015989   \n",
       "814      0.938284 -1.760038 -0.147292    -0.635864      2.489376 -0.673935   \n",
       "815      0.926048  0.221826 -0.003983     0.294796     -0.622422  0.467655   \n",
       "\n",
       "     liveness   valence  \n",
       "0   -0.585933 -1.385781  \n",
       "1   -0.433835 -1.209569  \n",
       "2   -0.547908  0.163034  \n",
       "3   -0.281736 -0.986985  \n",
       "4    1.619494  0.098114  \n",
       "..        ...       ...  \n",
       "811 -0.547908  1.799956  \n",
       "812 -0.865414  0.891070  \n",
       "813 -0.706344  0.047105  \n",
       "814 -0.566921 -0.319232  \n",
       "815  0.643529  0.923530  \n",
       "\n",
       "[816 rows x 11 columns]"
      ]
     },
     "execution_count": 8,
     "metadata": {},
     "output_type": "execute_result"
    }
   ],
   "source": [
    "songs_data"
   ]
  },
  {
   "cell_type": "markdown",
   "id": "e78a8160",
   "metadata": {},
   "source": [
    "## Loading and Modeling the Data ##"
   ]
  },
  {
   "cell_type": "code",
   "execution_count": 72,
   "id": "cb2a1c66",
   "metadata": {},
   "outputs": [],
   "source": [
    "X = songs_data[['danceability',\n",
    "                'energy',\n",
    "                'loudness',\n",
    "                'speechiness',\n",
    "                'acousticness',\n",
    "                'tempo',\n",
    "                'liveness',\n",
    "                'valence']]"
   ]
  },
  {
   "cell_type": "code",
   "execution_count": 73,
   "id": "35a1d30c",
   "metadata": {},
   "outputs": [
    {
     "data": {
      "text/html": [
       "<div>\n",
       "<style scoped>\n",
       "    .dataframe tbody tr th:only-of-type {\n",
       "        vertical-align: middle;\n",
       "    }\n",
       "\n",
       "    .dataframe tbody tr th {\n",
       "        vertical-align: top;\n",
       "    }\n",
       "\n",
       "    .dataframe thead th {\n",
       "        text-align: right;\n",
       "    }\n",
       "</style>\n",
       "<table border=\"1\" class=\"dataframe\">\n",
       "  <thead>\n",
       "    <tr style=\"text-align: right;\">\n",
       "      <th></th>\n",
       "      <th>0</th>\n",
       "      <th>1</th>\n",
       "      <th>2</th>\n",
       "    </tr>\n",
       "  </thead>\n",
       "  <tbody>\n",
       "    <tr>\n",
       "      <th>0</th>\n",
       "      <td>2.602736</td>\n",
       "      <td>-1.492037</td>\n",
       "      <td>0.158723</td>\n",
       "    </tr>\n",
       "    <tr>\n",
       "      <th>1</th>\n",
       "      <td>-0.478138</td>\n",
       "      <td>-1.526152</td>\n",
       "      <td>-0.370728</td>\n",
       "    </tr>\n",
       "    <tr>\n",
       "      <th>2</th>\n",
       "      <td>0.607138</td>\n",
       "      <td>-0.081452</td>\n",
       "      <td>-0.582575</td>\n",
       "    </tr>\n",
       "    <tr>\n",
       "      <th>3</th>\n",
       "      <td>-0.103425</td>\n",
       "      <td>-1.401394</td>\n",
       "      <td>-0.192039</td>\n",
       "    </tr>\n",
       "    <tr>\n",
       "      <th>4</th>\n",
       "      <td>0.155264</td>\n",
       "      <td>0.266602</td>\n",
       "      <td>0.644151</td>\n",
       "    </tr>\n",
       "    <tr>\n",
       "      <th>...</th>\n",
       "      <td>...</td>\n",
       "      <td>...</td>\n",
       "      <td>...</td>\n",
       "    </tr>\n",
       "    <tr>\n",
       "      <th>811</th>\n",
       "      <td>-0.112429</td>\n",
       "      <td>0.708473</td>\n",
       "      <td>-0.595045</td>\n",
       "    </tr>\n",
       "    <tr>\n",
       "      <th>812</th>\n",
       "      <td>-0.638217</td>\n",
       "      <td>1.635528</td>\n",
       "      <td>-0.987314</td>\n",
       "    </tr>\n",
       "    <tr>\n",
       "      <th>813</th>\n",
       "      <td>-0.439575</td>\n",
       "      <td>-0.142942</td>\n",
       "      <td>-0.988710</td>\n",
       "    </tr>\n",
       "    <tr>\n",
       "      <th>814</th>\n",
       "      <td>2.755775</td>\n",
       "      <td>0.396043</td>\n",
       "      <td>-0.870385</td>\n",
       "    </tr>\n",
       "    <tr>\n",
       "      <th>815</th>\n",
       "      <td>-0.843994</td>\n",
       "      <td>1.244681</td>\n",
       "      <td>0.164756</td>\n",
       "    </tr>\n",
       "  </tbody>\n",
       "</table>\n",
       "<p>816 rows × 3 columns</p>\n",
       "</div>"
      ],
      "text/plain": [
       "            0         1         2\n",
       "0    2.602736 -1.492037  0.158723\n",
       "1   -0.478138 -1.526152 -0.370728\n",
       "2    0.607138 -0.081452 -0.582575\n",
       "3   -0.103425 -1.401394 -0.192039\n",
       "4    0.155264  0.266602  0.644151\n",
       "..        ...       ...       ...\n",
       "811 -0.112429  0.708473 -0.595045\n",
       "812 -0.638217  1.635528 -0.987314\n",
       "813 -0.439575 -0.142942 -0.988710\n",
       "814  2.755775  0.396043 -0.870385\n",
       "815 -0.843994  1.244681  0.164756\n",
       "\n",
       "[816 rows x 3 columns]"
      ]
     },
     "execution_count": 73,
     "metadata": {},
     "output_type": "execute_result"
    }
   ],
   "source": [
    "pca = PCA(n_components=3)\n",
    "pca_mdl = pca.fit_transform(X)\n",
    "pca_df = pd.DataFrame(pca_mdl)\n",
    "pca_df"
   ]
  },
  {
   "cell_type": "code",
   "execution_count": 186,
   "id": "e936ecff",
   "metadata": {},
   "outputs": [],
   "source": [
    "kmeans = KMeans(n_clusters=5, random_state=1).fit(X)"
   ]
  },
  {
   "cell_type": "code",
   "execution_count": 187,
   "id": "f0450863",
   "metadata": {},
   "outputs": [],
   "source": [
    "y = kmeans.fit_predict(X)"
   ]
  },
  {
   "cell_type": "code",
   "execution_count": 188,
   "id": "6f863e04",
   "metadata": {},
   "outputs": [
    {
     "data": {
      "text/html": [
       "<div>\n",
       "<style scoped>\n",
       "    .dataframe tbody tr th:only-of-type {\n",
       "        vertical-align: middle;\n",
       "    }\n",
       "\n",
       "    .dataframe tbody tr th {\n",
       "        vertical-align: top;\n",
       "    }\n",
       "\n",
       "    .dataframe thead th {\n",
       "        text-align: right;\n",
       "    }\n",
       "</style>\n",
       "<table border=\"1\" class=\"dataframe\">\n",
       "  <thead>\n",
       "    <tr style=\"text-align: right;\">\n",
       "      <th></th>\n",
       "      <th>name</th>\n",
       "      <th>artist</th>\n",
       "      <th>genre</th>\n",
       "      <th>danceability</th>\n",
       "      <th>energy</th>\n",
       "      <th>loudness</th>\n",
       "      <th>speechiness</th>\n",
       "      <th>acousticness</th>\n",
       "      <th>tempo</th>\n",
       "      <th>liveness</th>\n",
       "      <th>valence</th>\n",
       "      <th>Cluster</th>\n",
       "    </tr>\n",
       "  </thead>\n",
       "  <tbody>\n",
       "    <tr>\n",
       "      <th>0</th>\n",
       "      <td>So Long, Goodbye - Live</td>\n",
       "      <td>10 Years</td>\n",
       "      <td>rock</td>\n",
       "      <td>-0.897123</td>\n",
       "      <td>-1.705987</td>\n",
       "      <td>-0.943379</td>\n",
       "      <td>-0.613512</td>\n",
       "      <td>1.467253</td>\n",
       "      <td>-0.006869</td>\n",
       "      <td>-0.585933</td>\n",
       "      <td>-1.385781</td>\n",
       "      <td>1</td>\n",
       "    </tr>\n",
       "    <tr>\n",
       "      <th>1</th>\n",
       "      <td>Here Without You</td>\n",
       "      <td>3 Doors Down</td>\n",
       "      <td>rock</td>\n",
       "      <td>-0.413799</td>\n",
       "      <td>-0.016898</td>\n",
       "      <td>0.470972</td>\n",
       "      <td>-0.660248</td>\n",
       "      <td>-0.744967</td>\n",
       "      <td>0.596358</td>\n",
       "      <td>-0.433835</td>\n",
       "      <td>-1.209569</td>\n",
       "      <td>0</td>\n",
       "    </tr>\n",
       "    <tr>\n",
       "      <th>2</th>\n",
       "      <td>What's Up?</td>\n",
       "      <td>4 Non Blondes</td>\n",
       "      <td>pop</td>\n",
       "      <td>0.173531</td>\n",
       "      <td>-0.494347</td>\n",
       "      <td>-0.772413</td>\n",
       "      <td>-0.637896</td>\n",
       "      <td>-0.184997</td>\n",
       "      <td>0.286281</td>\n",
       "      <td>-0.547908</td>\n",
       "      <td>0.163034</td>\n",
       "      <td>4</td>\n",
       "    </tr>\n",
       "    <tr>\n",
       "      <th>3</th>\n",
       "      <td>Ghost Of You</td>\n",
       "      <td>5 Seconds of Summer</td>\n",
       "      <td>pop</td>\n",
       "      <td>-0.481097</td>\n",
       "      <td>-0.507860</td>\n",
       "      <td>0.421831</td>\n",
       "      <td>-0.661264</td>\n",
       "      <td>-0.421294</td>\n",
       "      <td>0.782916</td>\n",
       "      <td>-0.281736</td>\n",
       "      <td>-0.986985</td>\n",
       "      <td>0</td>\n",
       "    </tr>\n",
       "    <tr>\n",
       "      <th>4</th>\n",
       "      <td>If It Means a Lot to You</td>\n",
       "      <td>A Day To Remember</td>\n",
       "      <td>post hardcore</td>\n",
       "      <td>0.289774</td>\n",
       "      <td>-0.620466</td>\n",
       "      <td>-0.341343</td>\n",
       "      <td>-0.651104</td>\n",
       "      <td>-0.364510</td>\n",
       "      <td>0.050795</td>\n",
       "      <td>1.619494</td>\n",
       "      <td>0.098114</td>\n",
       "      <td>4</td>\n",
       "    </tr>\n",
       "    <tr>\n",
       "      <th>...</th>\n",
       "      <td>...</td>\n",
       "      <td>...</td>\n",
       "      <td>...</td>\n",
       "      <td>...</td>\n",
       "      <td>...</td>\n",
       "      <td>...</td>\n",
       "      <td>...</td>\n",
       "      <td>...</td>\n",
       "      <td>...</td>\n",
       "      <td>...</td>\n",
       "      <td>...</td>\n",
       "      <td>...</td>\n",
       "    </tr>\n",
       "    <tr>\n",
       "      <th>811</th>\n",
       "      <td>Chicken Fried</td>\n",
       "      <td>Zac Brown Band</td>\n",
       "      <td>country</td>\n",
       "      <td>0.179649</td>\n",
       "      <td>0.176784</td>\n",
       "      <td>0.551884</td>\n",
       "      <td>-0.510896</td>\n",
       "      <td>1.588149</td>\n",
       "      <td>1.422559</td>\n",
       "      <td>-0.547908</td>\n",
       "      <td>1.799956</td>\n",
       "      <td>4</td>\n",
       "    </tr>\n",
       "    <tr>\n",
       "      <th>812</th>\n",
       "      <td>You Come First (feat. Saweetie)</td>\n",
       "      <td>Zak Abel</td>\n",
       "      <td>pop</td>\n",
       "      <td>1.274776</td>\n",
       "      <td>0.203809</td>\n",
       "      <td>0.542513</td>\n",
       "      <td>0.995838</td>\n",
       "      <td>-0.645868</td>\n",
       "      <td>-0.814286</td>\n",
       "      <td>-0.865414</td>\n",
       "      <td>0.891070</td>\n",
       "      <td>4</td>\n",
       "    </tr>\n",
       "    <tr>\n",
       "      <th>813</th>\n",
       "      <td>PILLOWTALK</td>\n",
       "      <td>ZAYN</td>\n",
       "      <td>pop</td>\n",
       "      <td>0.314246</td>\n",
       "      <td>0.127237</td>\n",
       "      <td>0.547084</td>\n",
       "      <td>-0.430631</td>\n",
       "      <td>-0.393818</td>\n",
       "      <td>-0.015989</td>\n",
       "      <td>-0.706344</td>\n",
       "      <td>0.047105</td>\n",
       "      <td>4</td>\n",
       "    </tr>\n",
       "    <tr>\n",
       "      <th>814</th>\n",
       "      <td>Seven Nation Army</td>\n",
       "      <td>Zella Day</td>\n",
       "      <td>rock</td>\n",
       "      <td>0.938284</td>\n",
       "      <td>-1.760038</td>\n",
       "      <td>-0.147292</td>\n",
       "      <td>-0.635864</td>\n",
       "      <td>2.489376</td>\n",
       "      <td>-0.673935</td>\n",
       "      <td>-0.566921</td>\n",
       "      <td>-0.319232</td>\n",
       "      <td>1</td>\n",
       "    </tr>\n",
       "    <tr>\n",
       "      <th>815</th>\n",
       "      <td>Replay</td>\n",
       "      <td>Zendaya</td>\n",
       "      <td>pop</td>\n",
       "      <td>0.926048</td>\n",
       "      <td>0.221826</td>\n",
       "      <td>-0.003983</td>\n",
       "      <td>0.294796</td>\n",
       "      <td>-0.622422</td>\n",
       "      <td>0.467655</td>\n",
       "      <td>0.643529</td>\n",
       "      <td>0.923530</td>\n",
       "      <td>4</td>\n",
       "    </tr>\n",
       "  </tbody>\n",
       "</table>\n",
       "<p>816 rows × 12 columns</p>\n",
       "</div>"
      ],
      "text/plain": [
       "                                name               artist          genre  \\\n",
       "0            So Long, Goodbye - Live             10 Years           rock   \n",
       "1                   Here Without You         3 Doors Down           rock   \n",
       "2                         What's Up?        4 Non Blondes            pop   \n",
       "3                       Ghost Of You  5 Seconds of Summer            pop   \n",
       "4           If It Means a Lot to You    A Day To Remember  post hardcore   \n",
       "..                               ...                  ...            ...   \n",
       "811                    Chicken Fried       Zac Brown Band        country   \n",
       "812  You Come First (feat. Saweetie)             Zak Abel            pop   \n",
       "813                       PILLOWTALK                 ZAYN            pop   \n",
       "814                Seven Nation Army            Zella Day           rock   \n",
       "815                           Replay              Zendaya            pop   \n",
       "\n",
       "     danceability    energy  loudness  speechiness  acousticness     tempo  \\\n",
       "0       -0.897123 -1.705987 -0.943379    -0.613512      1.467253 -0.006869   \n",
       "1       -0.413799 -0.016898  0.470972    -0.660248     -0.744967  0.596358   \n",
       "2        0.173531 -0.494347 -0.772413    -0.637896     -0.184997  0.286281   \n",
       "3       -0.481097 -0.507860  0.421831    -0.661264     -0.421294  0.782916   \n",
       "4        0.289774 -0.620466 -0.341343    -0.651104     -0.364510  0.050795   \n",
       "..            ...       ...       ...          ...           ...       ...   \n",
       "811      0.179649  0.176784  0.551884    -0.510896      1.588149  1.422559   \n",
       "812      1.274776  0.203809  0.542513     0.995838     -0.645868 -0.814286   \n",
       "813      0.314246  0.127237  0.547084    -0.430631     -0.393818 -0.015989   \n",
       "814      0.938284 -1.760038 -0.147292    -0.635864      2.489376 -0.673935   \n",
       "815      0.926048  0.221826 -0.003983     0.294796     -0.622422  0.467655   \n",
       "\n",
       "     liveness   valence  Cluster  \n",
       "0   -0.585933 -1.385781        1  \n",
       "1   -0.433835 -1.209569        0  \n",
       "2   -0.547908  0.163034        4  \n",
       "3   -0.281736 -0.986985        0  \n",
       "4    1.619494  0.098114        4  \n",
       "..        ...       ...      ...  \n",
       "811 -0.547908  1.799956        4  \n",
       "812 -0.865414  0.891070        4  \n",
       "813 -0.706344  0.047105        4  \n",
       "814 -0.566921 -0.319232        1  \n",
       "815  0.643529  0.923530        4  \n",
       "\n",
       "[816 rows x 12 columns]"
      ]
     },
     "execution_count": 188,
     "metadata": {},
     "output_type": "execute_result"
    }
   ],
   "source": [
    "y_df = pd.DataFrame(y, columns=['Cluster'])\n",
    "new_df = pd.concat([songs_data, y_df], axis=1)\n",
    "new_df"
   ]
  },
  {
   "cell_type": "code",
   "execution_count": 190,
   "id": "3da4f47a",
   "metadata": {},
   "outputs": [],
   "source": [
    "mdl_clstr_0 = new_df[new_df.Cluster == 0]"
   ]
  },
  {
   "cell_type": "code",
   "execution_count": null,
   "id": "bd056c05",
   "metadata": {},
   "outputs": [],
   "source": [
    "clstr_0 = pd.concat([mdl_clstr_0, pca_df], axis = 1)\n",
    "clstr_0 = clstr_0.dropna()\n",
    "clstr_0"
   ]
  },
  {
   "cell_type": "code",
   "execution_count": null,
   "id": "ee87302f",
   "metadata": {},
   "outputs": [],
   "source": [
    "mdl_clstr_1 = new_df[new_df.Cluster == 1]"
   ]
  },
  {
   "cell_type": "code",
   "execution_count": null,
   "id": "81cbad16",
   "metadata": {},
   "outputs": [],
   "source": [
    "clstr_1 = pd.concat([mdl_clstr_1, pca_df], axis = 1)\n",
    "clstr_1 = clstr_1.dropna()\n",
    "clstr_1"
   ]
  },
  {
   "cell_type": "code",
   "execution_count": 192,
   "id": "ac4eba65",
   "metadata": {},
   "outputs": [],
   "source": [
    "mdl_clstr_2 = new_df[new_df.Cluster == 2]"
   ]
  },
  {
   "cell_type": "code",
   "execution_count": null,
   "id": "ed9d4454",
   "metadata": {},
   "outputs": [],
   "source": [
    "clstr_2 = pd.concat([mdl_clstr_2, pca_df], axis = 1)\n",
    "clstr_2 = clstr_2.dropna()\n",
    "clstr_2"
   ]
  },
  {
   "cell_type": "code",
   "execution_count": 243,
   "id": "513e471a",
   "metadata": {},
   "outputs": [],
   "source": [
    "mdl_clstr_3 = new_df[new_df.Cluster == 3]"
   ]
  },
  {
   "cell_type": "code",
   "execution_count": null,
   "id": "98aac81a",
   "metadata": {},
   "outputs": [],
   "source": [
    "clstr_3 = pd.concat([mdl_clstr_3, pca_df], axis = 1)\n",
    "clstr_3 = clstr_3.dropna()\n",
    "clstr_3"
   ]
  },
  {
   "cell_type": "code",
   "execution_count": 194,
   "id": "9c4ccb4e",
   "metadata": {},
   "outputs": [],
   "source": [
    "mdl_clstr_4 = new_df[new_df.Cluster == 4]"
   ]
  },
  {
   "cell_type": "code",
   "execution_count": null,
   "id": "f3071412",
   "metadata": {},
   "outputs": [],
   "source": [
    "clstr_4 = pd.concat([mdl_clstr_4, pca_df], axis = 1)\n",
    "clstr_4 = clstr_4.dropna()\n",
    "clstr_4"
   ]
  },
  {
   "cell_type": "markdown",
   "id": "a11f4fee",
   "metadata": {},
   "source": [
    "## The Final Plot ##"
   ]
  },
  {
   "cell_type": "code",
   "execution_count": 242,
   "id": "c4b0f810",
   "metadata": {},
   "outputs": [
    {
     "data": {
      "application/vnd.plotly.v1+json": {
       "config": {
        "plotlyServerURL": "https://plot.ly"
       },
       "data": [
        {
         "customdata": [
          [
           "So Long, Goodbye - Live",
           "10 Years",
           "rock"
          ],
          [
           "Here Without You",
           "3 Doors Down",
           "rock"
          ],
          [
           "What's Up?",
           "4 Non Blondes",
           "pop"
          ],
          [
           "Ghost Of You",
           "5 Seconds of Summer",
           "pop"
          ],
          [
           "If It Means a Lot to You",
           "A Day To Remember",
           "post hardcore"
          ],
          [
           "All I Want - Acoustic",
           "A Day To Remember",
           "post hardcore"
          ],
          [
           "If It Means A Lot To You",
           "A Day To Remember",
           "post hardcore"
          ],
          [
           "3 Libras",
           "A Perfect Circle",
           "rock"
          ],
          [
           "Back In Black",
           "AC/DC",
           "classic rock"
          ],
          [
           "Chasing Pavements",
           "Adele",
           "pop"
          ],
          [
           "Let Me Down Slowly",
           "Alec Benjamin",
           "pop"
          ],
          [
           "If I Ain't Got You",
           "Alicia Keys",
           "R&B"
          ],
          [
           "Electric (feat. Khalid)",
           "Alina Baraz",
           "rap"
          ],
          [
           "Therapy",
           "All Time Low",
           "emo"
          ],
          [
           "Fool's Holiday",
           "All Time Low",
           "emo"
          ],
          [
           "Best Day Of My Life",
           "American Authors",
           "pop"
          ],
          [
           "West Coast Christmas",
           "Anarbor",
           "pop punk"
          ],
          [
           "Christmas, Baby Please Come Home",
           "Anberlin",
           "pop punk"
          ],
          [
           "I Put A Spell On You (Fifty Shades of Grey) - From \"Fifty Shades Of Grey\" Soundtrack",
           "Annie Lennox",
           "pop"
          ],
          [
           "Cancion del Mariachi",
           "Antonio Banderas",
           "reggaeton"
          ],
          [
           "R U Mine?",
           "Arctic Monkeys",
           "pop"
          ],
          [
           "7 rings",
           "Ariana Grande",
           "pop"
          ],
          [
           "Okay - Acoustic",
           "AS IT IS",
           "emo"
          ],
          [
           "I Love College",
           "Asher Roth",
           "pop"
          ],
          [
           "Pineapple Boy",
           "Authentic Pines",
           "indie"
          ],
          [
           "So Far Away",
           "Avenged Sevenfold",
           "rock"
          ],
          [
           "So Far Away",
           "Avenged Sevenfold",
           "rock"
          ],
          [
           "Hail to the King",
           "Avenged Sevenfold",
           "rock"
          ],
          [
           "F2020",
           "Avenue Beat",
           "pop"
          ],
          [
           "Kings of Summer",
           "ayokay",
           "pop"
          ],
          [
           "So Good",
           "B.o.B",
           "rap"
          ],
          [
           "Airplanes, Pt. II (feat. Eminem & Hayley Williams of Paramore)",
           "B.o.B",
           "rap"
          ],
          [
           "Airplanes (feat. Hayley Williams of Paramore)",
           "B.o.B",
           "rap"
          ],
          [
           "Airplanes, Pt. II (feat. Eminem & Hayley Williams of Paramore)",
           "B.o.B",
           "rap"
          ],
          [
           "You & Jennifer",
           "bülow",
           "pop"
          ],
          [
           "Cyclone (feat. T-Pain)",
           "Baby Bash",
           "rap"
          ],
          [
           "Lighters",
           "Bad Meets Evil",
           "rap"
          ],
          [
           "Above The Law",
           "Bad Meets Evil",
           "rap"
          ],
          [
           "Echo",
           "Bad Meets Evil",
           "rap"
          ],
          [
           "The Reunion",
           "Bad Meets Evil",
           "rap"
          ],
          [
           "Lighters",
           "Bad Meets Evil",
           "rap"
          ],
          [
           "Fast Lane",
           "Bad Meets Evil",
           "rap"
          ],
          [
           "Above The Law",
           "Bad Meets Evil",
           "rap"
          ],
          [
           "Echo",
           "Bad Meets Evil",
           "rap"
          ],
          [
           "God Rest Ye Merry Gentlemen",
           "Bad Religion",
           "rock"
          ],
          [
           "Zombie",
           "Bad Wolves",
           "rock"
          ],
          [
           "Ghost",
           "Badflower",
           "rock"
          ],
          [
           "Ghost - Acoustic",
           "Badflower",
           "rock"
          ],
          [
           "Fire",
           "Barns Courtney",
           "pop"
          ],
          [
           "Pompeii",
           "Bastille",
           "pop"
          ],
          [
           "Angels We Have Heard On High",
           "Bayside",
           "rock"
          ],
          [
           "feel something",
           "Bea Miller",
           "pop"
          ],
          [
           "THAT BITCH",
           "Bea Miller",
           "pop"
          ],
          [
           "Crazy Fishes",
           "Bearcat",
           "rock"
          ],
          [
           "The Hardest Part Is Forgetting Those You Swore You Would Never Forget",
           "Being As An Ocean",
           "post hardcore"
          ],
          [
           "Save a Horse (Ride a Cowboy)",
           "Big & Rich",
           "country"
          ],
          [
           "Baby, I Love Your Way",
           "Big Mountain",
           "reggae"
          ],
          [
           "Pillbox Hill",
           "Big Smile",
           "pop punk"
          ],
          [
           "bellyache",
           "Billie Eilish",
           "pop"
          ],
          [
           "come out and play",
           "Billie Eilish",
           "pop"
          ],
          [
           "when the party's over",
           "Billie Eilish",
           "pop"
          ],
          [
           "People Are Crazy",
           "Billy Currington",
           "country"
          ],
          [
           "idfc - Tarro Remix",
           "blackbear",
           "pop"
          ],
          [
           "Ol' Red",
           "Blake Shelton",
           "country"
          ],
          [
           "Hey Baby, Here's That Song You Wanted",
           "blessthefall",
           "rock"
          ],
          [
           "Happy Holidays, You Bastard",
           "blink-182",
           "emo"
          ],
          [
           "I Miss You",
           "blink-182",
           "emo"
          ],
          [
           "No Woman No Cry",
           "Bob Marley & The Wailers",
           "reggae"
          ],
          [
           "Who Says You Can't Go Home - Duet with Jennifer Nettles of Sugarland",
           "Bon Jovi",
           "classic rock"
          ],
          [
           "The Day That I Ruined Your Life",
           "Boston Manor",
           "emo"
          ],
          [
           "...Baby One More Time",
           "Bowling For Soup",
           "pop punk"
          ],
          [
           "Photograph (feat. Bea Miller)",
           "Boyce Avenue",
           "pop"
          ],
          [
           "Superman",
           "Boyce Avenue",
           "pop"
          ],
          [
           "Set Fire to the Rain",
           "Boyce Avenue",
           "pop"
          ],
          [
           "Glad You Came",
           "Boyce Avenue",
           "pop"
          ],
          [
           "We Are Young",
           "Boyce Avenue",
           "pop"
          ],
          [
           "Breakeven (Falling to Pieces)",
           "Boyce Avenue",
           "pop"
          ],
          [
           "Glycerine",
           "Boyce Avenue",
           "pop"
          ],
          [
           "Radioactive",
           "Boyce Avenue",
           "pop"
          ],
          [
           "A Thousand Years",
           "Boyce Avenue",
           "pop"
          ],
          [
           "Letter to Me",
           "Brad Paisley",
           "country"
          ],
          [
           "The Diary of Jane - Single Version",
           "Breaking Benjamin",
           "rock"
          ],
          [
           "I Will Not Bow",
           "Breaking Benjamin",
           "rock"
          ],
          [
           "Drown - Live from Maida Vale",
           "Bring Me The Horizon",
           "post hardcore"
          ],
          [
           "Girls In Their Summer Clothes",
           "Bruce Springsteen",
           "classic rock"
          ],
          [
           "Runaway Baby",
           "Bruno Mars",
           "pop"
          ],
          [
           "Never Be the Same",
           "Camila Cabello",
           "pop"
          ],
          [
           "Money",
           "Cardi B",
           "rap"
          ],
          [
           "I Like It",
           "Cardi B",
           "rap"
          ],
          [
           "Who Am I",
           "Casting Crowns",
           "christian contemporary"
          ],
          [
           "Praise You In This Storm",
           "Casting Crowns",
           "christian contemporary"
          ],
          [
           "Glorious Day (Living He Loved Me)",
           "Casting Crowns",
           "christian contemporary"
          ],
          [
           "Ridin'",
           "Chamillionaire",
           "rap"
          ],
          [
           "Marvin Gaye (feat. Meghan Trainor)",
           "Charlie Puth",
           "pop"
          ],
          [
           "Good Good Father",
           "Chris Tomlin",
           "christian contemporary"
          ],
          [
           "Jesus Messiah",
           "Chris Tomlin",
           "christian contemporary"
          ],
          [
           "God's Great Dance Floor",
           "Chris Tomlin",
           "christian contemporary"
          ],
          [
           "tragedy",
           "Christina Perri",
           "pop"
          ],
          [
           "A Thousand Years",
           "Christina Perri",
           "pop"
          ],
          [
           "Wake Up",
           "Coheed and Cambria",
           "emo"
          ],
          [
           "Adventure of a Lifetime",
           "Coldplay",
           "alternative"
          ],
          [
           "Viva La Vida",
           "Coldplay",
           "alternative"
          ],
          [
           "Heather",
           "Conan Gray",
           "pop"
          ],
          [
           "Higher",
           "Creed",
           "alternative"
          ],
          [
           "Fortunate Son",
           "Creedence Clearwater Revival",
           "country"
          ],
          [
           "Lift Your Head Weary Sinner (Chains)",
           "Crowder",
           "christian contemporary"
          ],
          [
           "Come As You Are - Live",
           "Crowder",
           "christian contemporary"
          ],
          [
           "There Will Be No Christmas",
           "Crown The Empire",
           "emo"
          ],
          [
           "The Valley",
           "Danny Leggett",
           "pop"
          ],
          [
           "Alright",
           "Darius Rucker",
           "country"
          ],
          [
           "Reason to Believe - Re-Record",
           "Dashboard Confessional",
           "emo"
          ],
          [
           "Vindicated - Re-Record",
           "Dashboard Confessional",
           "emo"
          ],
          [
           "Stolen - Re-Record",
           "Dashboard Confessional",
           "emo"
          ],
          [
           "So Long, so Long - Re-Record",
           "Dashboard Confessional",
           "emo"
          ],
          [
           "Dusk and Summer - Re-Record / Original Lyrics",
           "Dashboard Confessional",
           "emo"
          ],
          [
           "Belle of the Boulevard - Re-Record",
           "Dashboard Confessional",
           "emo"
          ],
          [
           "Hands Down - Re-Record",
           "Dashboard Confessional",
           "emo"
          ],
          [
           "Screaming Infidelities",
           "Dashboard Confessional",
           "emo"
          ],
          [
           "Screaming Infidelities - Acoustic",
           "Dashboard Confessional",
           "emo"
          ],
          [
           "Screaming Infidelities",
           "Dashboard Confessional",
           "emo"
          ],
          [
           "Water And Bridges - Acoustic",
           "Dashboard Confessional",
           "emo"
          ],
          [
           "Even Now - Acoustic",
           "Dashboard Confessional",
           "emo"
          ],
          [
           "Screaming Infidelities",
           "Dashboard Confessional",
           "emo"
          ],
          [
           "This Bitter Pill",
           "Dashboard Confessional",
           "emo"
          ],
          [
           "How He Loves",
           "David Crowder Band",
           "christian contemporary"
          ],
          [
           "Without You (feat. Usher)",
           "David Guetta",
           "pop"
          ],
          [
           "Northern Lights",
           "Death Cab for Cutie",
           "emo"
          ],
          [
           "Your New Twin Sized Bed",
           "Death Cab for Cutie",
           "emo"
          ],
          [
           "The Ice Is Getting Thinner",
           "Death Cab for Cutie",
           "emo"
          ],
          [
           "Northern Lights",
           "Death Cab for Cutie",
           "emo"
          ],
          [
           "The Ice Is Getting Thinner",
           "Death Cab for Cutie",
           "emo"
          ],
          [
           "Ultimate",
           "Denzel Curry",
           "pop"
          ],
          [
           "Panda",
           "Desiigner",
           "rap"
          ],
          [
           "Coming Home",
           "Diddy - Dirty Money",
           "pop"
          ],
          [
           "Color Blind",
           "Diplo",
           "pop"
          ],
          [
           "3 Nights",
           "Dominic Fike",
           "pop"
          ],
          [
           "Bandoleros",
           "Don Omar",
           "reggaeton"
          ],
          [
           "Forever",
           "Drake",
           "rap"
          ],
          [
           "The Season's Upon Us",
           "Dropkick Murphys",
           "rock"
          ],
          [
           "South of the Border (feat. Camila Cabello & Cardi B)",
           "Ed Sheeran",
           "pop"
          ],
          [
           "Photograph",
           "Ed Sheeran",
           "pop"
          ],
          [
           "Photograph",
           "Ed Sheeran",
           "pop"
          ],
          [
           "Give Me Love",
           "Ed Sheeran",
           "pop"
          ],
          [
           "To Love's End (Inuyasha)",
           "Eliott Tordo Erhu",
           "instrumental"
          ],
          [
           "Sadness & Sorrow",
           "Eliott Tordo Erhu",
           "instrumental"
          ],
          [
           "Teldrassil",
           "Eliott Tordo Erhu",
           "instrumental"
          ],
          [
           "Oogway Ascends",
           "Eliott Tordo Erhu",
           "instrumental"
          ],
          [
           "Close To Me (with Diplo) (feat. Swae Lee)",
           "Ellie Goulding",
           "pop"
          ],
          [
           "Love Me Like You Do - From \"Fifty Shades Of Grey\"",
           "Ellie Goulding",
           "pop"
          ],
          [
           "Lock It Up (feat. Anderson .Paak)",
           "Eminem",
           "rap"
          ],
          [
           "River (feat. Ed Sheeran)",
           "Eminem",
           "rap"
          ],
          [
           "Darkness",
           "Eminem",
           "rap"
          ],
          [
           "No Regrets (feat. Don Toliver)",
           "Eminem",
           "rap"
          ],
          [
           "Leaving Heaven (feat. Skylar Grey)",
           "Eminem",
           "rap"
          ],
          [
           "Those Kinda Nights (feat. Ed Sheeran)",
           "Eminem",
           "rap"
          ],
          [
           "Black Magic (feat. Skylar Grey)",
           "Eminem",
           "rap"
          ],
          [
           "Lock It Up (feat. Anderson .Paak)",
           "Eminem",
           "rap"
          ],
          [
           "Black Magic (feat. Skylar Grey)",
           "Eminem",
           "rap"
          ],
          [
           "Black Magic (feat. Skylar Grey)",
           "Eminem",
           "rap"
          ],
          [
           "Unaccommodating (feat. Young M.A)",
           "Eminem",
           "rap"
          ],
          [
           "Godzilla (feat. Juice WRLD)",
           "Eminem",
           "rap"
          ],
          [
           "Leaving Heaven (feat. Skylar Grey)",
           "Eminem",
           "rap"
          ],
          [
           "Not Alike (feat. Royce Da 5'9)",
           "Eminem",
           "rap"
          ],
          [
           "Lock It Up (feat. Anderson .Paak)",
           "Eminem",
           "rap"
          ],
          [
           "Guts Over Fear",
           "Eminem",
           "rap"
          ],
          [
           "Not Alike (feat. Royce Da 5'9)",
           "Eminem",
           "rap"
          ],
          [
           "Sing For The Moment",
           "Eminem",
           "rap"
          ],
          [
           "The Monster",
           "Eminem",
           "rap"
          ],
          [
           "Survival",
           "Eminem",
           "rap"
          ],
          [
           "Legacy",
           "Eminem",
           "rap"
          ],
          [
           "Wicked Ways",
           "Eminem",
           "rap"
          ],
          [
           "The Real Slim Shady",
           "Eminem",
           "rap"
          ],
          [
           "Headlights",
           "Eminem",
           "rap"
          ],
          [
           "Cleanin' Out My Closet",
           "Eminem",
           "rap"
          ],
          [
           "Sing For The Moment",
           "Eminem",
           "rap"
          ],
          [
           "Beautiful Pain",
           "Eminem",
           "rap"
          ],
          [
           "When I'm Gone",
           "Eminem",
           "rap"
          ],
          [
           "Evil Twin",
           "Eminem",
           "rap"
          ],
          [
           "'Till I Collapse",
           "Eminem",
           "rap"
          ],
          [
           "White America",
           "Eminem",
           "rap"
          ],
          [
           "The Way I Am",
           "Eminem",
           "rap"
          ],
          [
           "Crack A Bottle",
           "Eminem",
           "rap"
          ],
          [
           "Like Toy Soldiers",
           "Eminem",
           "rap"
          ],
          [
           "No Love",
           "Eminem",
           "rap"
          ],
          [
           "25 To Life",
           "Eminem",
           "rap"
          ],
          [
           "Love The Way You Lie",
           "Eminem",
           "rap"
          ],
          [
           "Lose Yourself - From \"8 Mile\" Soundtrack",
           "Eminem",
           "rap"
          ],
          [
           "Sing For The Moment",
           "Eminem",
           "rap"
          ],
          [
           "Situations",
           "Escape the Fate",
           "post hardcore"
          ],
          [
           "Not Good Enough For Truth In Cliche'",
           "Escape the Fate",
           "post hardcore"
          ],
          [
           "Situations",
           "Escape the Fate",
           "post hardcore"
          ],
          [
           "Ashley",
           "Escape the Fate",
           "post hardcore"
          ],
          [
           "In the Basement, Part One",
           "Etta James",
           "R&B"
          ],
          [
           "Hosanna (feat. Kristen Essery)",
           "Faithful Unto Death",
           "emo"
          ],
          [
           "Popular Monster",
           "Falling In Reverse",
           "pop punk"
          ],
          [
           "Losing My Mind",
           "Falling In Reverse",
           "rap rock"
          ],
          [
           "Losing My Life",
           "Falling In Reverse",
           "rap rock"
          ],
          [
           "Popular Monster",
           "Falling In Reverse",
           "rap rock"
          ],
          [
           "Losing My Mind",
           "Falling In Reverse",
           "rap rock"
          ],
          [
           "Losing My Life",
           "Falling In Reverse",
           "rap rock"
          ],
          [
           "Coming Home",
           "Falling In Reverse",
           "pop punk"
          ],
          [
           "Popular Monster",
           "Falling In Reverse",
           "rap rock"
          ],
          [
           "Chemical Prisoner",
           "Falling In Reverse",
           "post hardcore"
          ],
          [
           "Raised By Wolves",
           "Falling In Reverse",
           "post hardcore"
          ],
          [
           "Brother",
           "Falling In Reverse",
           "post hardcore"
          ],
          [
           "Raised By Wolves",
           "Falling In Reverse",
           "post hardcore"
          ],
          [
           "Without Me",
           "Fame on Fire",
           "rock"
          ],
          [
           "Back for More (feat. Daecolm)",
           "Feder",
           "pop"
          ],
          [
           "Trap Queen",
           "Fetty Wap",
           "rap"
          ],
          [
           "Shedding Skins",
           "Fia",
           "indie"
          ],
          [
           "I Lost a Friend",
           "FINNEAS",
           "pop"
          ],
          [
           "Break My Heart Again",
           "FINNEAS",
           "pop"
          ],
          [
           "Wrong Side of Heaven",
           "Five Finger Death Punch",
           "hardcore"
          ],
          [
           "Jekyll and Hyde",
           "Five Finger Death Punch",
           "hardcore"
          ],
          [
           "The Bleeding",
           "Five Finger Death Punch",
           "hardcore"
          ],
          [
           "What's Left of the Flag",
           "Flogging Molly",
           "rock"
          ],
          [
           "Candy",
           "Forever Emerald",
           "indie"
          ],
          [
           "Pumped Up Kicks",
           "Foster The People",
           "alternative"
          ],
          [
           "Change the World",
           "Fox Blanco",
           "edm"
          ],
          [
           "Nocturne, Op. posth. in C-Sharp Minor: Lento",
           "Frédéric Chopin",
           "classical"
          ],
          [
           "Lollipop",
           "Framing Hanley",
           "pop"
          ],
          [
           "Take Me Out",
           "Franz Ferdinand",
           "alternative"
          ],
          [
           "La campanella in G-Sharp Minor (From \"Grandes études de Paganini\", S. 141 / 3)",
           "Franz Liszt",
           "classical"
          ],
          [
           "Praeludium and Allegro",
           "Fritz Kreisler",
           "classical"
          ],
          [
           "Emily",
           "From First To Last",
           "emo"
          ],
          [
           "If I Tremble",
           "Front Porch Step",
           "emo"
          ],
          [
           "Help Me Hurt",
           "Front Porch Step",
           "emo"
          ],
          [
           "Worship from a Wretch",
           "Front Porch Step",
           "emo"
          ],
          [
           "Truth",
           "Front Porch Step",
           "emo"
          ],
          [
           "Aware",
           "Front Porch Step",
           "emo"
          ],
          [
           "Drown",
           "Front Porch Step",
           "emo"
          ],
          [
           "Marilyn (feat. Dominique Le Jeune)",
           "G-Eazy",
           "rap"
          ],
          [
           "Me, Myself & I",
           "G-Eazy",
           "rap"
          ],
          [
           "Marilyn (feat. Dominique Lejeune)",
           "G-Eazy",
           "rap"
          ],
          [
           "Mad (feat. Devon Baldwin)",
           "G-Eazy",
           "rap"
          ],
          [
           "Almost Famous",
           "G-Eazy",
           "rap"
          ],
          [
           "Marilyn (feat. Dominique Lejeune)",
           "G-Eazy",
           "rap"
          ],
          [
           "Gotta Go",
           "G-Eazy",
           "rap"
          ],
          [
           "Mad (feat. Devon Baldwin)",
           "G-Eazy",
           "rap"
          ],
          [
           "Après un rêve, Op. 7, No. 1",
           "Gabriel Fauré",
           "classical"
          ],
          [
           "Satisfied (feat. MAX)",
           "Galantis",
           "pop"
          ],
          [
           "i hate u, i love u (feat. olivia o'brien)",
           "Garrett Nash",
           "pop"
          ],
          [
           "Carolina Girls",
           "General Johnson & The Chairmen of the Board",
           "alternative"
          ],
          [
           "Budapest",
           "George Ezra",
           "pop"
          ],
          [
           "Lost in the Fire",
           "Gesaffelstein",
           "pop"
          ],
          [
           "Crazy",
           "Gnarls Barkley",
           "R&B"
          ],
          [
           "O Holy Night",
           "Go Radio",
           "emo"
          ],
          [
           "Rolling In the Deep",
           "Go Radio",
           "emo"
          ],
          [
           "O Holy Night",
           "Go Radio",
           "emo"
          ],
          [
           "Goodnight Moon",
           "Go Radio",
           "emo"
          ],
          [
           "American Idiot",
           "Green Day",
           "pop punk"
          ],
          [
           "Beautiful Things",
           "Gungor",
           "christian contemporary"
          ],
          [
           "New Americana",
           "Halsey",
           "pop"
          ],
          [
           "Niki Fm",
           "Hawthorne Heights",
           "hardcore"
          ],
          [
           "Saying Sorry",
           "Hawthorne Heights",
           "hardcore"
          ],
          [
           "Saying Sorry",
           "Hawthorne Heights",
           "hardcore"
          ],
          [
           "This Is Who We Are",
           "Hawthorne Heights",
           "hardcore"
          ],
          [
           "Pens and Needles",
           "Hawthorne Heights",
           "hardcore"
          ],
          [
           "Ohio Is for Lovers",
           "Hawthorne Heights",
           "hardcore"
          ],
          [
           "Just Friends",
           "Hayden James",
           "pop"
          ],
          [
           "Simmer",
           "Hayley Williams",
           "emo"
          ],
          [
           "Leave It Alone",
           "Hayley Williams",
           "emo"
          ],
          [
           "Oh, Holy Night",
           "Hey Monday",
           "pop"
          ],
          [
           "Oceans (Where Feet May Fail)",
           "Hillsong UNITED",
           "christian contemporary"
          ],
          [
           "Lead Me To The Cross",
           "Hillsong UNITED",
           "christian contemporary"
          ],
          [
           "Scandal Of Grace",
           "Hillsong UNITED",
           "christian contemporary"
          ],
          [
           "Hosanna",
           "Hillsong UNITED",
           "christian contemporary"
          ],
          [
           "Oceans (Where Feet My Fail) - Live/Acoustic Version",
           "Hillsong UNITED",
           "christian contemporary"
          ],
          [
           "From The Inside Out - Live",
           "Hillsong UNITED",
           "christian contemporary"
          ],
          [
           "The Stand - Live",
           "Hillsong UNITED",
           "christian contemporary"
          ],
          [
           "From The Inside Out - Live",
           "Hillsong UNITED",
           "christian contemporary"
          ],
          [
           "Came To My Rescue - Live",
           "Hillsong UNITED",
           "christian contemporary"
          ],
          [
           "O Come Let Us Adore Him",
           "Hillsong Worship",
           "christian contemporary"
          ],
          [
           "Joy To The World",
           "Hillsong Worship",
           "christian contemporary"
          ],
          [
           "Born Is The King (It's Christmas)",
           "Hillsong Worship",
           "christian contemporary"
          ],
          [
           "Emmanuel",
           "Hillsong Worship",
           "christian contemporary"
          ],
          [
           "O Holy Night",
           "Hillsong Worship",
           "christian contemporary"
          ],
          [
           "We Have A Savior",
           "Hillsong Worship",
           "christian contemporary"
          ],
          [
           "Hark! The Herald Angels Sing",
           "Hillsong Worship",
           "christian contemporary"
          ],
          [
           "God Rest Ye Merry Gentlemen (Tidings)",
           "Hillsong Worship",
           "christian contemporary"
          ],
          [
           "Unto Us",
           "Hillsong Worship",
           "christian contemporary"
          ],
          [
           "Gloria (Angels We Have Heard On High)",
           "Hillsong Worship",
           "christian contemporary"
          ],
          [
           "Our King Has Come",
           "Hillsong Worship",
           "christian contemporary"
          ],
          [
           "The First Noel (Holy Is The Lord)",
           "Hillsong Worship",
           "christian contemporary"
          ],
          [
           "Crawling In The Dark - Acoustic Version",
           "Hoobastank",
           "alternative"
          ],
          [
           "Rise Above It",
           "I Prevail",
           "post hardcore"
          ],
          [
           "Blank Space",
           "I Prevail",
           "post hardcore"
          ],
          [
           "A Grave Mistake",
           "Ice Nine Kills",
           "pop"
          ],
          [
           "GET OFF MY D!CK",
           "ILIRA",
           "pop"
          ],
          [
           "It's Time",
           "Imagine Dragons",
           "rock"
          ],
          [
           "On Top Of The World",
           "Imagine Dragons",
           "rock"
          ],
          [
           "Blank Space/Stand By Me - Live From Spotify London",
           "Imagine Dragons",
           "rock"
          ],
          [
           "Radioactive - Live",
           "Imagine Dragons",
           "rock"
          ],
          [
           "Merry Christmas, Happy Holidays",
           "Issues",
           "post hardcore"
          ],
          [
           "Another Way to Die",
           "Jack White",
           "pop"
          ],
          [
           "Blame It",
           "Jamie Foxx",
           "rap"
          ],
          [
           "It Girl",
           "Jason Derulo",
           "rap"
          ],
          [
           "All I Can Give You",
           "Jason Lancaster",
           "emo"
          ],
          [
           "All I Can Give You",
           "Jason Lancaster",
           "emo"
          ],
          [
           "Empire State Of Mind [Jay-Z + Alicia Keys]",
           "JAY-Z",
           "rap"
          ],
          [
           "Run This Town",
           "JAY-Z",
           "rap"
          ],
          [
           "Empire State Of Mind",
           "JAY-Z",
           "rap"
          ],
          [
           "Mary Did You Know",
           "Jeremy Camp",
           "christian contemporary"
          ],
          [
           "Away In A Manger",
           "Jeremy Camp",
           "christian contemporary"
          ],
          [
           "O Come, O Come Emmanuel",
           "Jeremy Camp",
           "christian contemporary"
          ],
          [
           "O Little Town Of Bethlehem",
           "Jeremy Camp",
           "christian contemporary"
          ],
          [
           "God With Us",
           "Jeremy Camp",
           "christian contemporary"
          ],
          [
           "Jingle Bell Rock",
           "Jeremy Camp",
           "christian contemporary"
          ],
          [
           "Hark! The Herald Angels Sing",
           "Jeremy Camp",
           "christian contemporary"
          ],
          [
           "Joy To The World",
           "Jeremy Camp",
           "christian contemporary"
          ],
          [
           "O Little Town Of Bethlehem",
           "Jeremy Camp",
           "christian contemporary"
          ],
          [
           "Have Yourself A Merry Little Christmas",
           "Jeremy Camp",
           "christian contemporary"
          ],
          [
           "Let It Snow",
           "Jeremy Camp",
           "christian contemporary"
          ],
          [
           "Mary Did You Know",
           "Jeremy Camp",
           "christian contemporary"
          ],
          [
           "God With Us",
           "Jeremy Camp",
           "christian contemporary"
          ],
          [
           "O Come, O Come Emmanuel",
           "Jeremy Camp",
           "christian contemporary"
          ],
          [
           "Away In A Manger",
           "Jeremy Camp",
           "christian contemporary"
          ],
          [
           "Christmas Greeting",
           "Jeremy Camp",
           "christian contemporary"
          ],
          [
           "Jingle Bell Rock",
           "Jeremy Camp",
           "christian contemporary"
          ],
          [
           "Luke 2: 8-14",
           "Jeremy Camp",
           "christian contemporary"
          ],
          [
           "Hark! The Herald Angels Sing",
           "Jeremy Camp",
           "christian contemporary"
          ],
          [
           "Joy To The World Intro",
           "Jeremy Camp",
           "christian contemporary"
          ],
          [
           "Joy To The World",
           "Jeremy Camp",
           "christian contemporary"
          ],
          [
           "Luke 2: 15-20",
           "Jeremy Camp",
           "christian contemporary"
          ],
          [
           "O Little Town Of Bethlehem",
           "Jeremy Camp",
           "christian contemporary"
          ],
          [
           "Have Yourself A Merry Little Christmas",
           "Jeremy Camp",
           "christian contemporary"
          ],
          [
           "Let It Snow",
           "Jeremy Camp",
           "christian contemporary"
          ],
          [
           "Isaiah 53: 4-5",
           "Jeremy Camp",
           "christian contemporary"
          ],
          [
           "Mary Did You Know",
           "Jeremy Camp",
           "christian contemporary"
          ],
          [
           "Isaiah 9: 6-7",
           "Jeremy Camp",
           "christian contemporary"
          ],
          [
           "God With Us",
           "Jeremy Camp",
           "christian contemporary"
          ],
          [
           "Matthew 1: 23",
           "Jeremy Camp",
           "christian contemporary"
          ],
          [
           "O Come, O Come Emmanuel",
           "Jeremy Camp",
           "christian contemporary"
          ],
          [
           "Away In A Manger",
           "Jeremy Camp",
           "christian contemporary"
          ],
          [
           "Right Here",
           "Jeremy Camp",
           "christian contemporary"
          ],
          [
           "you were good to me",
           "Jeremy Zucker",
           "pop"
          ],
          [
           "Chopin: Etude Op. 25 No. 11 in a Minor (Winter Wind)",
           "Johan Åhlén",
           "classical"
          ],
          [
           "All of Me",
           "John Legend",
           "R&B"
          ],
          [
           "Shuttin' Detroit Down",
           "John Rich",
           "country"
          ],
          [
           "Sucker",
           "Jonas Brothers",
           "pop"
          ],
          [
           "California",
           "JRAFFE",
           "pop"
          ],
          [
           "Dancing in the Moonlight (feat. NEIMY)",
           "Jubël",
           "alternative"
          ],
          [
           "Little Talks",
           "Julia Sheer",
           "indie"
          ],
          [
           "Cannot Stop Me",
           "Justin Stone",
           "pop"
          ],
          [
           "Mirrors",
           "Justin Timberlake",
           "R&B"
          ],
          [
           "Apologize (Acoustic Version)",
           "Kacey Musgraves",
           "pop"
          ],
          [
           "Way down We Go",
           "KALEO",
           "R&B"
          ],
          [
           "Praise God",
           "Kanye West",
           "rap"
          ],
          [
           "Praise God",
           "Kanye West",
           "rap"
          ],
          [
           "Off The Grid",
           "Kanye West",
           "rap"
          ],
          [
           "Ultralight Beam",
           "Kanye West",
           "rap"
          ],
          [
           "Jesus Walks",
           "Kanye West",
           "rap"
          ],
          [
           "Flashing Lights",
           "Kanye West",
           "rap"
          ],
          [
           "Love Lockdown",
           "Kanye West",
           "rap"
          ],
          [
           "Heartless",
           "Kanye West",
           "rap"
          ],
          [
           "Dangerous",
           "Kardinal Offishall",
           "rap"
          ],
          [
           "m.A.A.d city",
           "Kendrick Lamar",
           "rap"
          ],
          [
           "Backseat Freestyle",
           "Kendrick Lamar",
           "rap"
          ],
          [
           "Beer In Mexico",
           "Kenny Chesney",
           "country"
          ],
          [
           "Summertime",
           "Kenny Chesney",
           "country"
          ],
          [
           "I Go Back",
           "Kenny Chesney",
           "country"
          ],
          [
           "Out Last Night",
           "Kenny Chesney",
           "country"
          ],
          [
           "When the Sun Goes Down",
           "Kenny Chesney",
           "country"
          ],
          [
           "Praying",
           "Kesha",
           "pop"
          ],
          [
           "Praying",
           "Kesha",
           "pop"
          ],
          [
           "Satellites (feat. Wiz Khalifa) - HPG Remix",
           "Kevin Gates",
           "rap"
          ],
          [
           "Let It Rock",
           "Kevin Rudolf",
           "rap rock"
          ],
          [
           "Love Lies (with Normani)",
           "Khalid",
           "rap"
          ],
          [
           "All Summer Long",
           "Kid Rock",
           "country"
          ],
          [
           "Messy",
           "Kiiara",
           "pop"
          ],
          [
           "Gold",
           "Kiiara",
           "pop"
          ],
          [
           "Untitled",
           "Knuckle Puck",
           "emo"
          ],
          [
           "ZEZE (feat. Travis Scott & Offset)",
           "Kodak Black",
           "rap"
          ],
          [
           "Woman (in mirror)",
           "La Dispute",
           "emo"
          ],
          [
           "Such Small Hands",
           "La Dispute",
           "emo"
          ],
          [
           "Nobody, Not Even the Rain",
           "La Dispute",
           "emo"
          ],
          [
           "Such Small Hands",
           "La Dispute",
           "emo"
          ],
          [
           "Nobody, Not Even the Rain",
           "La Dispute",
           "emo"
          ],
          [
           "Nobody, Not Even the Rain",
           "La Dispute",
           "emo"
          ],
          [
           "Compass",
           "Lady A",
           "pop"
          ],
          [
           "Shallow",
           "Lady Gaga",
           "pop"
          ],
          [
           "ILYSB - Ferdinand Weber Edit",
           "LANY",
           "pop"
          ],
          [
           "I Like Me Better",
           "Lauv",
           "pop"
          ],
          [
           "Chasing Fire",
           "Lauv",
           "pop"
          ],
          [
           "La Di Da",
           "Lennon Stella",
           "pop"
          ],
          [
           "American Woman",
           "Lenny Kravitz",
           "classic rock"
          ],
          [
           "Always On The Run",
           "Lenny Kravitz",
           "classic rock"
          ],
          [
           "It's My Party",
           "Lesley Gore",
           "classic rock"
          ],
          [
           "You Don't Own Me",
           "Lesley Gore",
           "classic rock"
          ],
          [
           "Someone You Loved",
           "Lewis Capaldi",
           "pop"
          ],
          [
           "Someone You Loved",
           "Lewis Capaldi",
           "pop"
          ],
          [
           "Everything",
           "Lifehouse",
           "emo"
          ],
          [
           "Old Town Road (feat. Billy Ray Cyrus) - Remix",
           "Lil Nas X",
           "rap rock"
          ],
          [
           "I Made It feat Kevin Rudolf, Birdman and Jay Sean",
           "Lil Wayne",
           "rap"
          ],
          [
           "Lollipop",
           "Lil Wayne",
           "rap"
          ],
          [
           "Drop The World",
           "Lil Wayne",
           "rap"
          ],
          [
           "How To Love",
           "Lil Wayne",
           "rap"
          ],
          [
           "Lollipop",
           "Lil Wayne",
           "rap"
          ],
          [
           "Papercut",
           "Linkin Park",
           "rock"
          ],
          [
           "Crawling",
           "Linkin Park",
           "rock"
          ],
          [
           "Boondocks",
           "Little Big Town",
           "country"
          ],
          [
           "Woman Like Me (feat. Nicki Minaj)",
           "Little Mix",
           "pop"
          ],
          [
           "Your Side Of The Bed",
           "Loote",
           "pop"
          ],
          [
           "Wish I Never Met You",
           "Loote",
           "pop"
          ],
          [
           "Tennis Court",
           "Lorde",
           "alternative"
          ],
          [
           "Queen",
           "Loren Gray",
           "indie"
          ],
          [
           "Body",
           "Loud Luxury",
           "pop"
          ],
          [
           "Money Maker",
           "Ludacris",
           "rap"
          ],
          [
           "Beer Never Broke My Heart",
           "Luke Combs",
           "country"
          ],
          [
           "The Show Goes On",
           "Lupe Fiasco",
           "pop"
          ],
          [
           "The Show Goes On",
           "Lupe Fiasco",
           "pop"
          ],
          [
           "Donald Trump",
           "Mac Miller",
           "rap"
          ],
          [
           "Bad Things (with Camila Cabello)",
           "Machine Gun Kelly",
           "rap rock"
          ],
          [
           "Bad Things (with Camila Cabello)",
           "Machine Gun Kelly",
           "rap rock"
          ],
          [
           "RAP DEVIL",
           "Machine Gun Kelly",
           "rap"
          ],
          [
           "Save Me",
           "Machine Gun Kelly",
           "rap rock"
          ],
          [
           "Save Me",
           "Machine Gun Kelly",
           "rap rock"
          ],
          [
           "Can't Hold Us (feat. Ray Dalton)",
           "Macklemore & Ryan Lewis",
           "pop"
          ],
          [
           "Smells Like Teen Spirit",
           "Malia J",
           "indie"
          ],
          [
           "Father Christmas",
           "Man Overboard",
           "emo"
          ],
          [
           "Come Alive",
           "Matty Mullins",
           "christian contemporary"
          ],
          [
           "Say It All",
           "Matty Mullins",
           "christian contemporary"
          ],
          [
           "I Choose You",
           "Matty Mullins",
           "christian contemporary"
          ],
          [
           "Unstoppable (feat. Jordan Feliz)",
           "Matty Mullins",
           "christian contemporary"
          ],
          [
           "Go the Distance",
           "Matty Mullins",
           "christian contemporary"
          ],
          [
           "Brand New Fire",
           "Matty Mullins",
           "christian contemporary"
          ],
          [
           "Christ Be Magnified",
           "Matty Mullins",
           "christian contemporary"
          ],
          [
           "The Great Unknown",
           "Matty Mullins",
           "christian contemporary"
          ],
          [
           "The Best Is yet to Come",
           "Matty Mullins",
           "christian contemporary"
          ],
          [
           "You Can",
           "Matty Mullins",
           "christian contemporary"
          ],
          [
           "Until I Need You",
           "Matty Mullins",
           "christian contemporary"
          ],
          [
           "Just Say You're Not Into It - Commentary",
           "Mayday Parade",
           "emo"
          ],
          [
           "When I Get Home, You're So Dead - Commentary",
           "Mayday Parade",
           "emo"
          ],
          [
           "One Man Drinking Games - Commentary",
           "Mayday Parade",
           "emo"
          ],
          [
           "Your Song - Commentary",
           "Mayday Parade",
           "emo"
          ],
          [
           "Three Cheers For Five Years - Commentary",
           "Mayday Parade",
           "emo"
          ],
          [
           "The Last Something That Meant Anything - Commentary",
           "Mayday Parade",
           "emo"
          ],
          [
           "The Problem With The Big Picture Is That It's Hard To See - Commentary",
           "Mayday Parade",
           "emo"
          ],
          [
           "Just Say You're Not Into It",
           "Mayday Parade",
           "emo"
          ],
          [
           "When I Get Home, You're So Dead",
           "Mayday Parade",
           "emo"
          ],
          [
           "One Man Drinking Games",
           "Mayday Parade",
           "emo"
          ],
          [
           "Your Song",
           "Mayday Parade",
           "emo"
          ],
          [
           "Three Cheers For Five Years",
           "Mayday Parade",
           "emo"
          ],
          [
           "The Last Something That Meant Anything",
           "Mayday Parade",
           "emo"
          ],
          [
           "The Problem With The Big Picture Is That It's Hard To See",
           "Mayday Parade",
           "emo"
          ],
          [
           "Take This To Heart - Acoustic",
           "Mayday Parade",
           "emo"
          ],
          [
           "You Be The Anchor That Keeps My Feet On The Ground, I'll Be The Wings That Keep Your Heart In The Clouds",
           "Mayday Parade",
           "emo"
          ],
          [
           "You Be The Anchor That Keeps My Feet On The Ground, I'll Be The Wings That Keep Your Heart In The Clouds",
           "Mayday Parade",
           "emo"
          ],
          [
           "I'd Hate To Be You When People Find Out What This Song Is About",
           "Mayday Parade",
           "emo"
          ],
          [
           "Your Song - EP Version",
           "Mayday Parade",
           "emo"
          ],
          [
           "You Be The Anchor That Keeps My Feet On The Ground, I'll Be The Wings That Keep Your Heart In The Clouds",
           "Mayday Parade",
           "emo"
          ],
          [
           "Amber Lynn - EP Version",
           "Mayday Parade",
           "emo"
          ],
          [
           "Three Cheers For Five Years",
           "Mayday Parade",
           "emo"
          ],
          [
           "Take This To Heart - Acoustic",
           "Mayday Parade",
           "emo"
          ],
          [
           "Three Cheers For Five Years",
           "Mayday Parade",
           "emo"
          ],
          [
           "Jamie All Over - EP Version",
           "Mayday Parade",
           "emo"
          ],
          [
           "Jersey",
           "Mayday Parade",
           "emo"
          ],
          [
           "Jamie All Over",
           "Mayday Parade",
           "emo"
          ],
          [
           "Ghosts",
           "Mayday Parade",
           "emo"
          ],
          [
           "Demons",
           "Mayday Parade",
           "emo"
          ],
          [
           "Walk On Water Or Drown",
           "Mayday Parade",
           "emo"
          ],
          [
           "Bruised and Scarred - EP Version",
           "Mayday Parade",
           "emo"
          ],
          [
           "Bruised and Scarred - EP Version",
           "Mayday Parade",
           "emo"
          ],
          [
           "Going Bad (feat. Drake)",
           "Meek Mill",
           "rap"
          ],
          [
           "Traumatized",
           "Meek Mill",
           "rap"
          ],
          [
           "Been That (feat. Rick Ross)",
           "Meek Mill",
           "rap"
          ],
          [
           "House Party (feat. Young Chris)",
           "Meek Mill",
           "rap"
          ],
          [
           "I Love Me",
           "Meghan Trainor",
           "pop"
          ],
          [
           "Woman Up",
           "Meghan Trainor",
           "pop"
          ],
          [
           "Me Too",
           "Meghan Trainor",
           "pop"
          ],
          [
           "Like I'm Gonna Lose You (feat. John Legend)",
           "Meghan Trainor",
           "pop"
          ],
          [
           "Like I'm Gonna Lose You (feat. John Legend)",
           "Meghan Trainor",
           "pop"
          ],
          [
           "Prove Me Right",
           "Memphis May Fire",
           "post hardcore"
          ],
          [
           "The Old Me",
           "Memphis May Fire",
           "post hardcore"
          ],
          [
           "Prove Me Right",
           "Memphis May Fire",
           "post hardcore"
          ],
          [
           "Alive In The Lights",
           "Memphis May Fire",
           "post hardcore"
          ],
          [
           "Miles Away - feat. Kellin Quinn",
           "Memphis May Fire",
           "post hardcore"
          ],
          [
           "No Ordinary Love",
           "Memphis May Fire",
           "post hardcore"
          ],
          [
           "No Ordinary Love",
           "Memphis May Fire",
           "post hardcore"
          ],
          [
           "Beneath The Skin",
           "Memphis May Fire",
           "post hardcore"
          ],
          [
           "Sleepless Nights",
           "Memphis May Fire",
           "post hardcore"
          ],
          [
           "The Answer",
           "Memphis May Fire",
           "post hardcore"
          ],
          [
           "Possibilities",
           "Memphis May Fire",
           "post hardcore"
          ],
          [
           "Speechless",
           "Memphis May Fire",
           "post hardcore"
          ],
          [
           "The Rose",
           "Memphis May Fire",
           "post hardcore"
          ],
          [
           "Not Enough",
           "Memphis May Fire",
           "post hardcore"
          ],
          [
           "Need To Be",
           "Memphis May Fire",
           "post hardcore"
          ],
          [
           "Pharisees",
           "Memphis May Fire",
           "post hardcore"
          ],
          [
           "Divinity",
           "Memphis May Fire",
           "post hardcore"
          ],
          [
           "My Generation",
           "Memphis May Fire",
           "post hardcore"
          ],
          [
           "Stay the Course",
           "Memphis May Fire",
           "post hardcore"
          ],
          [
           "Beneath the Skin - Acoustic",
           "Memphis May Fire",
           "post hardcore"
          ],
          [
           "Need To Be - Acoustic",
           "Memphis May Fire",
           "post hardcore"
          ],
          [
           "Miles Away (Acoustic) [feat. Kellin Quinn]",
           "Memphis May Fire",
           "post hardcore"
          ],
          [
           "Summer Love (feat. Matter Mos)",
           "Midnight Quickie",
           "pop"
          ],
          [
           "Cooler Than Me (feat. Big Sean)",
           "Mike Posner",
           "pop"
          ],
          [
           "What Should I Do",
           "Mike Rogers",
           "pop"
          ],
          [
           "Chasin' You",
           "Morgan Wallen",
           "country"
          ],
          [
           "Hopeless Wanderer",
           "Mumford & Sons",
           "indie"
          ],
          [
           "I Will Wait",
           "Mumford & Sons",
           "indie"
          ],
          [
           "Little Lion Man",
           "Mumford & Sons",
           "indie"
          ],
          [
           "The Cave",
           "Mumford & Sons",
           "indie"
          ],
          [
           "Believe",
           "Mumford & Sons",
           "indie"
          ],
          [
           "Helena",
           "My Chemical Romance",
           "emo"
          ],
          [
           "All I Want for Christmas Is You - 2005",
           "My Chemical Romance",
           "emo"
          ],
          [
           "Teenagers",
           "My Chemical Romance",
           "emo"
          ],
          [
           "All I Want for Christmas Is You - 2005",
           "My Chemical Romance",
           "emo"
          ],
          [
           "Casual Sex",
           "My Darkest Days",
           "emo"
          ],
          [
           "December (feat. Chris Carrabba)",
           "Neck Deep",
           "emo"
          ],
          [
           "A Part of Me (ft. Laura Whiteside)",
           "Neck Deep",
           "emo"
          ],
          [
           "December (feat. Chris Carrabba)",
           "Neck Deep",
           "emo"
          ],
          [
           "December (again) [feat. Mark Hoppus]",
           "Neck Deep",
           "emo"
          ],
          [
           "Multiplied",
           "NEEDTOBREATHE",
           "christian contemporary"
          ],
          [
           "30 Days - Single Version",
           "Never Shout Never",
           "alternative"
          ],
          [
           "Nothing For Christmas",
           "New Found Glory",
           "alternative"
          ],
          [
           "Nothing for Christmas",
           "New Found Glory",
           "alternative"
          ],
          [
           "bad guy",
           "new.wav",
           "pop punk"
          ],
          [
           "Paralyzed",
           "NF",
           "emo"
          ],
          [
           "If Everyone Cared",
           "Nickelback",
           "rock"
          ],
          [
           "Majesty (with Labrinth & feat. Eminem)",
           "Nicki Minaj",
           "rap"
          ],
          [
           "Familia (with Anuel Aa, feat. Bantu) - Spider-Man: Into the Spider-Verse",
           "Nicki Minaj",
           "rap"
          ],
          [
           "Only",
           "Nicki Minaj",
           "rap"
          ],
          [
           "Only",
           "Nicki Minaj",
           "rap"
          ],
          [
           "Lake Of Fire",
           "Nirvana",
           "grunge"
          ],
          [
           "Where Did You Sleep Last Night",
           "Nirvana",
           "grunge"
          ],
          [
           "Come As You Are",
           "Nirvana",
           "grunge"
          ],
          [
           "Where Did You Sleep Last Night",
           "Nirvana",
           "grunge"
          ],
          [
           "Smells Like Teen Spirit",
           "Nirvana",
           "grunge"
          ],
          [
           "So Close",
           "NOTD",
           "pop"
          ],
          [
           "Echoes (feat. Py)",
           "ODESZA",
           "pop"
          ],
          [
           "How Did I Get Here",
           "ODESZA",
           "pop"
          ],
          [
           "Late Night",
           "ODESZA",
           "pop"
          ],
          [
           "Line Of Sight (feat. WYNNE & Mansionair)",
           "ODESZA",
           "pop"
          ],
          [
           "SECOND & SEBRING",
           "Of Mice & Men",
           "post hardcore"
          ],
          [
           "Mountain Sound",
           "Of Monsters and Men",
           "alternative"
          ],
          [
           "Josslyn",
           "Olivia O'Brien",
           "pop"
          ],
          [
           "drivers license",
           "Olivia Rodrigo",
           "pop"
          ],
          [
           "Dance with Me Tonight",
           "Olly Murs",
           "pop"
          ],
          [
           "Good Life",
           "OneRepublic",
           "pop"
          ],
          [
           "Skyfall",
           "Our Last Night",
           "rock"
          ],
          [
           "Blank Space - Rock",
           "Our Last Night",
           "rock"
          ],
          [
           "Good Time",
           "Owl City",
           "alternative"
          ],
          [
           "Scars - Acoustic Version",
           "Papa Roach",
           "emo"
          ],
          [
           "Gravity",
           "Papa Roach",
           "emo"
          ],
          [
           "Falling Apart",
           "Papa Roach",
           "emo"
          ],
          [
           "Scars",
           "Papa Roach",
           "emo"
          ],
          [
           "No Matter What",
           "Papa Roach",
           "emo"
          ],
          [
           "My Heart",
           "Paramore",
           "emo"
          ],
          [
           "At The Cross (Love Ran Red) - Live",
           "Passion",
           "christian contemporary"
          ],
          [
           "Live And Let Die",
           "Paul McCartney",
           "classic rock"
          ],
          [
           "Honey and Glass",
           "Peyton Cardoza",
           "pop"
          ],
          [
           "Etude No. 2",
           "Philip Glass",
           "classical"
          ],
          [
           "Today I Saw The Whole World - Acoustic Version",
           "Pierce The Veil",
           "post hardcore"
          ],
          [
           "Besitos",
           "Pierce The Veil",
           "post hardcore"
          ],
          [
           "Today I Saw The Whole World - Acoustic Version",
           "Pierce The Veil",
           "post hardcore"
          ],
          [
           "Kissing in Cars (Bonus Track)",
           "Pierce The Veil",
           "post hardcore"
          ],
          [
           "Kissing in Cars (Bonus Track)",
           "Pierce The Veil",
           "post hardcore"
          ],
          [
           "Besitos",
           "Pierce The Veil",
           "post hardcore"
          ],
          [
           "May These Noises Startle You in Your Sleep Tonight",
           "Pierce The Veil",
           "post hardcore"
          ],
          [
           "Hell Above",
           "Pierce The Veil",
           "post hardcore"
          ],
          [
           "A Match into Water",
           "Pierce The Veil",
           "post hardcore"
          ],
          [
           "King for a Day (feat. Kellin Quinn)",
           "Pierce The Veil",
           "post hardcore"
          ],
          [
           "Bulls in the Bronx",
           "Pierce The Veil",
           "post hardcore"
          ],
          [
           "Props & Mayhem",
           "Pierce The Veil",
           "post hardcore"
          ],
          [
           "Tangled in the Great Escape (feat. Jason Butler)",
           "Pierce The Veil",
           "post hardcore"
          ],
          [
           "I'm Low on Gas and You Need a Jacket",
           "Pierce The Veil",
           "post hardcore"
          ],
          [
           "The First Punch",
           "Pierce The Veil",
           "post hardcore"
          ],
          [
           "One Hundred Sleepless Nights",
           "Pierce The Veil",
           "post hardcore"
          ],
          [
           "Stained Glass Eyes and Colorful Tears",
           "Pierce The Veil",
           "post hardcore"
          ],
          [
           "Hold on Till May (feat. Lindsey Stamey)",
           "Pierce The Veil",
           "post hardcore"
          ],
          [
           "Decipher Reflections From Reality - Original Version",
           "PlayRadioPlay!",
           "pop"
          ],
          [
           "Better Now",
           "Post Malone",
           "rap"
          ],
          [
           "Wow.",
           "Post Malone",
           "rap"
          ],
          [
           "R.O.D",
           "PT",
           "pop"
          ],
          [
           "Weekend Luv",
           "Quinn Lewis",
           "pop"
          ],
          [
           "What Hurts The Most",
           "Rascal Flatts",
           "country"
          ],
          [
           "Bless The Broken Road",
           "Rascal Flatts",
           "country"
          ],
          [
           "Life Is A Highway - 2008 Remaster",
           "Rascal Flatts",
           "country"
          ],
          [
           "I Got a Woman",
           "Ray Charles",
           "R&B"
          ],
          [
           "To: My Old Self",
           "Real Friends",
           "emo"
          ],
          [
           "Sixteen",
           "Real Friends",
           "emo"
          ],
          [
           "I Don't Love You Anymore",
           "Real Friends",
           "emo"
          ],
          [
           "Late Nights in My Car",
           "Real Friends",
           "emo"
          ],
          [
           "Summer - Acoustic Version",
           "Real Friends",
           "emo"
          ],
          [
           "I Had A Heart",
           "Real Friends",
           "emo"
          ],
          [
           "I've Given Up on You",
           "Real Friends",
           "emo"
          ],
          [
           "I Had a Heart",
           "Real Friends",
           "emo"
          ],
          [
           "Breathe Into Me",
           "Red",
           "hardcore"
          ],
          [
           "Good Mood",
           "Rei",
           "pop"
          ],
          [
           "Kiss It Better - R3hab Remix",
           "Rihanna",
           "R&B"
          ],
          [
           "Love The Way You Lie (Part II) - Pt. 2",
           "Rihanna",
           "R&B"
          ],
          [
           "Making Christmas",
           "Rise Against",
           "rock"
          ],
          [
           "Let You Love Me",
           "Rita Ora",
           "pop"
          ],
          [
           "In My Zone",
           "Rittz",
           "pop"
          ],
          [
           "Nothing to Regret",
           "Robinson",
           "rap"
          ],
          [
           "Let Me Live (feat. Anne-Marie & Mr Eazi)",
           "Rudimental",
           "pop"
          ],
          [
           "The Scientist (Live Film Version) [feat. Mark Saul]",
           "Ryan Alexander",
           "indie"
          ],
          [
           "Camo",
           "Ryan Beatty",
           "pop"
          ],
          [
           "Golden (feat. Hoodlem)",
           "SAINT WKND",
           "pop"
          ],
          [
           "You're Not Alone",
           "Saosin",
           "emo"
          ],
          [
           "Remember That Night?",
           "Sara Kays",
           "pop"
          ],
          [
           "18 Days",
           "Saving Abel",
           "alternative"
          ],
          [
           "You Don't Own Me (feat. G-Eazy)",
           "SAYGRACE",
           "pop"
          ],
          [
           "Fall for You (Acoustic)",
           "Secondhand Serenade",
           "emo"
          ],
          [
           "Drink About",
           "Seeb",
           "pop"
          ],
          [
           "Careless Whisper",
           "Seether",
           "rock"
          ],
          [
           "Partners in Crime (feat. Ash Costello)",
           "Set It Off",
           "emo"
          ],
          [
           "This Christmas (I'll Burn It to the Ground)",
           "Set It Off",
           "emo"
          ],
          [
           "Trampoline",
           "SHAED",
           "pop"
          ],
          [
           "Forever Reign",
           "Shane & Shane",
           "christian contemporary"
          ],
          [
           "Save Me - Acoustic",
           "Shinedown",
           "rock"
          ],
          [
           "Sound of Madness",
           "Shinedown",
           "rock"
          ],
          [
           "Save Me - Acoustic",
           "Shinedown",
           "rock"
          ],
          [
           "Party Like A Rock Star",
           "Shop Boyz",
           "pop"
          ],
          [
           "Forget to Forget",
           "SHY Martin",
           "pop"
          ],
          [
           "Somebody",
           "Sigala",
           "rap"
          ],
          [
           "Just Got Paid",
           "Sigala",
           "rap"
          ],
          [
           "Anywhere",
           "Sigma",
           "rap"
          ],
          [
           "Electricity (with Dua Lipa)",
           "Silk City",
           "pop"
          ],
          [
           "Disarm",
           "Silverstein",
           "post hardcore"
          ],
          [
           "My Heroine - Acoustic",
           "Silverstein",
           "post hardcore"
          ],
          [
           "My Heroine",
           "Silverstein",
           "post hardcore"
          ],
          [
           "Smile In Your Sleep",
           "Silverstein",
           "post hardcore"
          ],
          [
           "Apologize",
           "Silverstein",
           "post hardcore"
          ],
          [
           "Apologize (One Republic cover)",
           "Silverstein",
           "post hardcore"
          ],
          [
           "Perfect - Acoustic Version",
           "Simple Plan",
           "pop punk"
          ],
          [
           "Monster",
           "Skillet",
           "rock"
          ],
          [
           "With Ears to See, and Eyes to Hear",
           "Sleeping With Sirens",
           "post hardcore"
          ],
          [
           "Four Corners and Two Sides",
           "Sleeping With Sirens",
           "post hardcore"
          ],
          [
           "If I'm James Dean, You're Audrey Hepburn",
           "Sleeping With Sirens",
           "post hardcore"
          ],
          [
           "With Ears to See, and Eyes to Hear",
           "Sleeping With Sirens",
           "post hardcore"
          ],
          [
           "Don't Fall Asleep at the Helm",
           "Sleeping With Sirens",
           "post hardcore"
          ],
          [
           "Iris - Live",
           "Sleeping With Sirens",
           "post hardcore"
          ],
          [
           "Let Love Bleed Red",
           "Sleeping With Sirens",
           "post hardcore"
          ],
          [
           "Let Love Bleed Red",
           "Sleeping With Sirens",
           "post hardcore"
          ],
          [
           "All My Heart",
           "Sleeping With Sirens",
           "post hardcore"
          ],
          [
           "The Strays",
           "Sleeping With Sirens",
           "post hardcore"
          ],
          [
           "November",
           "Sleeping With Sirens",
           "post hardcore"
          ],
          [
           "Scene One - James Dean & Audrey Hepburn",
           "Sleeping With Sirens",
           "post hardcore"
          ],
          [
           "Scene Two - Roger Rabbit",
           "Sleeping With Sirens",
           "post hardcore"
          ],
          [
           "Scene Three - Stomach Tied In Knots",
           "Sleeping With Sirens",
           "post hardcore"
          ],
          [
           "Scene Four - Don't You Ever Forget About Me",
           "Sleeping With Sirens",
           "post hardcore"
          ],
          [
           "Scene Five - With Ears To See and Eyes To Hear",
           "Sleeping With Sirens",
           "post hardcore"
          ],
          [
           "Who Are You Now",
           "Sleeping With Sirens",
           "post hardcore"
          ],
          [
           "Magic In The Hamptons (feat. Lil Yachty)",
           "Social House",
           "pop"
          ],
          [
           "Christmas Brings Me Down",
           "Sparks The Rescue",
           "pop"
          ],
          [
           "Take What You Want",
           "State of Mine",
           "pop"
          ],
          [
           "Honeybee",
           "Steam Powered Giraffe",
           "indie"
          ],
          [
           "Brass Goggles",
           "Steam Powered Giraffe",
           "indie"
          ],
          [
           "Honeybee (Live)",
           "Steam Powered Giraffe",
           "indie"
          ],
          [
           "Brass Goggles (Live)",
           "Steam Powered Giraffe",
           "indie"
          ],
          [
           "Jet Airliner",
           "Steve Miller Band",
           "country"
          ],
          [
           "Wicked Game - Acoustic; Live",
           "Stone Sour",
           "emo"
          ],
          [
           "Wicked Game - Acoustic; Live",
           "Stone Sour",
           "emo"
          ],
          [
           "Until the Day I Die",
           "Story Of The Year",
           "rock"
          ],
          [
           "Paralyzed",
           "Sueco",
           "emo"
          ],
          [
           "Chicago",
           "Sufjan Stevens",
           "pop"
          ],
          [
           "With Me",
           "Sum 41",
           "pop punk"
          ],
          [
           "With Me",
           "Sum 41",
           "pop punk"
          ],
          [
           "Where I Belong",
           "Switchfoot",
           "rock"
          ],
          [
           "Stars",
           "Switchfoot",
           "rock"
          ],
          [
           "Evergreen",
           "Switchfoot",
           "rock"
          ],
          [
           "Afterlife",
           "Switchfoot",
           "rock"
          ],
          [
           "Vice Verses",
           "Switchfoot",
           "rock"
          ],
          [
           "Where I Belong",
           "Switchfoot",
           "rock"
          ],
          [
           "Where I Belong",
           "Switchfoot",
           "rock"
          ],
          [
           "Dark Horses",
           "Switchfoot",
           "rock"
          ],
          [
           "Afterlife",
           "Switchfoot",
           "rock"
          ],
          [
           "Dare You to Move",
           "Switchfoot",
           "rock"
          ],
          [
           "Meant to Live",
           "Switchfoot",
           "rock"
          ],
          [
           "Stars",
           "Switchfoot",
           "rock"
          ],
          [
           "This Is Home",
           "Switchfoot",
           "rock"
          ],
          [
           "Buy U a Drank (Shawty Snappin') (feat. Yung Joc)",
           "T-Pain",
           "rap"
          ],
          [
           "That's All She Wrote (feat. Eminem)",
           "T.I.",
           "rap"
          ],
          [
           "Whatever You Like",
           "T.I.",
           "rap"
          ],
          [
           "Live Your Life - feat. Rihanna",
           "T.I.",
           "rap"
          ],
          [
           "Whatever You Like",
           "T.I.",
           "rap"
          ],
          [
           "There's No 'I' In Team",
           "Taking Back Sunday",
           "emo"
          ],
          [
           "Cute Without The E - Cut From The Team",
           "Taking Back Sunday",
           "emo"
          ],
          [
           "A Decade Under The Influence - Acoustic",
           "Taking Back Sunday",
           "emo"
          ],
          [
           "MakeDamnSure",
           "Taking Back Sunday",
           "emo"
          ],
          [
           "you broke me first",
           "Tate McRae",
           "pop"
          ],
          [
           "You Need To Calm Down",
           "Taylor Swift",
           "pop"
          ],
          [
           "I Did Something Bad",
           "Taylor Swift",
           "pop"
          ],
          [
           "All Too Well",
           "Taylor Swift",
           "pop"
          ],
          [
           "I Know Places",
           "Taylor Swift",
           "pop"
          ],
          [
           "You Belong With Me",
           "Taylor Swift",
           "pop"
          ],
          [
           "Jack's Lament",
           "The All-American Rejects",
           "emo"
          ],
          [
           "Don't Be So Hard",
           "The Audition",
           "pop punk"
          ],
          [
           "The Weight - Remastered",
           "The Band",
           "pop"
          ],
          [
           "Gold on the Ceiling",
           "The Black Keys",
           "pop"
          ],
          [
           "This Feeling",
           "The Chainsmokers",
           "pop"
          ],
          [
           "Closer",
           "The Chainsmokers",
           "pop"
          ],
          [
           "Twin Size Mattress",
           "The Front Bottoms",
           "indie"
          ],
          [
           "My Life",
           "The Game",
           "rap"
          ],
          [
           "Too Late",
           "The Happy Fits",
           "pop"
          ],
          [
           "Best Tears",
           "The Happy Fits",
           "pop"
          ],
          [
           "Achey Bones",
           "The Happy Fits",
           "pop"
          ],
          [
           "Mr. Brightside",
           "The Killers",
           "pop punk"
          ],
          [
           "Mr. Brightside",
           "The Killers",
           "pop punk"
          ],
          [
           "See The Sun",
           "The Kooks",
           "pop"
          ],
          [
           "FEEL NOTHING",
           "The Plot In You",
           "pop"
          ],
          [
           "I Don't Need A Man",
           "The Pussycat Dolls",
           "pop"
          ],
          [
           "I Don't Wanna Spend Another Christmas Without You",
           "The Ready Set",
           "emo"
          ],
          [
           "Higher",
           "The Ready Set",
           "emo"
          ],
          [
           "I Don't Wanna Spend Another Christmas Without You",
           "The Ready Set",
           "emo"
          ],
          [
           "Wishlist",
           "The Ready Set",
           "emo"
          ],
          [
           "Be My Baby",
           "The Ronettes",
           "classic rock"
          ],
          [
           "Self-Conclusion",
           "The Spill Canvas",
           "emo"
          ],
          [
           "Black Dresses",
           "The Spill Canvas",
           "emo"
          ],
          [
           "Self-Conclusion",
           "The Spill Canvas",
           "emo"
          ],
          [
           "Self-Conclusion",
           "The Spill Canvas",
           "emo"
          ],
          [
           "Whiskey Dream Kathleen",
           "The Spill Canvas",
           "emo"
          ],
          [
           "Navy Blue",
           "The Story So Far",
           "pop punk"
          ],
          [
           "Human Right",
           "The Strike",
           "pop"
          ],
          [
           "Machu Picchu",
           "The Strokes",
           "pop"
          ],
          [
           "This Christmas",
           "The Summer Set",
           "emo"
          ],
          [
           "This Christmas",
           "The Summer Set",
           "emo"
          ],
          [
           "Boomerang",
           "The Summer Set",
           "emo"
          ],
          [
           "Lightning in a Bottle",
           "The Summer Set",
           "emo"
          ],
          [
           "Pretty Handsome Awkward",
           "The Used",
           "emo"
          ],
          [
           "On My Own",
           "The Used",
           "emo"
          ],
          [
           "On My Own",
           "The Used",
           "emo"
          ],
          [
           "Buried Myself Alive",
           "The Used",
           "emo"
          ],
          [
           "One Headlight",
           "The Wallflowers",
           "pop"
          ],
          [
           "The Hills",
           "The Weeknd",
           "rap"
          ],
          [
           "Earned It (Fifty Shades Of Grey) - From The \"Fifty Shades Of Grey\" Soundtrack",
           "The Weeknd",
           "rap"
          ],
          [
           "The Hills",
           "The Weeknd",
           "rap"
          ],
          [
           "Burning",
           "The Whitest Boy Alive",
           "pop"
          ],
          [
           "Not Meant to Be",
           "Theory of a Deadman",
           "rock"
          ],
          [
           "Walk On Water",
           "Thirty Seconds To Mars",
           "rock"
          ],
          [
           "The Kill",
           "Thirty Seconds To Mars",
           "emo"
          ],
          [
           "Attack",
           "Thirty Seconds To Mars",
           "emo"
          ],
          [
           "Kings And Queens",
           "Thirty Seconds To Mars",
           "rock"
          ],
          [
           "City Of Angels",
           "Thirty Seconds To Mars",
           "alternative"
          ],
          [
           "Birth",
           "Thirty Seconds To Mars",
           "alternative"
          ],
          [
           "Conquistador",
           "Thirty Seconds To Mars",
           "alternative"
          ],
          [
           "Up In The Air",
           "Thirty Seconds To Mars",
           "alternative"
          ],
          [
           "City Of Angels",
           "Thirty Seconds To Mars",
           "alternative"
          ],
          [
           "The Race",
           "Thirty Seconds To Mars",
           "alternative"
          ],
          [
           "End Of All Days",
           "Thirty Seconds To Mars",
           "emo"
          ],
          [
           "Pyres Of Varanasi",
           "Thirty Seconds To Mars",
           "alternative"
          ],
          [
           "Bright Lights",
           "Thirty Seconds To Mars",
           "alternative"
          ],
          [
           "Do Or Die",
           "Thirty Seconds To Mars",
           "alternative"
          ],
          [
           "Convergence",
           "Thirty Seconds To Mars",
           "alternative"
          ],
          [
           "Northern Lights",
           "Thirty Seconds To Mars",
           "alternative"
          ],
          [
           "Depuis Le Début",
           "Thirty Seconds To Mars",
           "alternative"
          ],
          [
           "Escape",
           "Thirty Seconds To Mars",
           "alternative"
          ],
          [
           "Night Of The Hunter",
           "Thirty Seconds To Mars",
           "rock"
          ],
          [
           "Kings And Queens",
           "Thirty Seconds To Mars",
           "rock"
          ],
          [
           "This Is War",
           "Thirty Seconds To Mars",
           "rock"
          ],
          [
           "100 Suns",
           "Thirty Seconds To Mars",
           "emo"
          ],
          [
           "Hurricane",
           "Thirty Seconds To Mars",
           "emo"
          ],
          [
           "Closer To The Edge",
           "Thirty Seconds To Mars",
           "rock"
          ],
          [
           "Vox Populi",
           "Thirty Seconds To Mars",
           "rock"
          ],
          [
           "Search And Destroy",
           "Thirty Seconds To Mars",
           "rock"
          ],
          [
           "Alibi",
           "Thirty Seconds To Mars",
           "emo"
          ],
          [
           "Stranger In A Strange Land",
           "Thirty Seconds To Mars",
           "rock"
          ],
          [
           "History",
           "This Wild Life",
           "emo"
          ],
          [
           "Sleigh Ride",
           "This Wild Life",
           "emo"
          ],
          [
           "Concrete - Live Session",
           "This Wild Life",
           "emo"
          ],
          [
           "Roots and Branches (Meant To Be Alone)",
           "This Wild Life",
           "emo"
          ],
          [
           "Sleepwalking - Live Session",
           "This Wild Life",
           "emo"
          ],
          [
           "Trans Am",
           "Thompson Square",
           "pop"
          ],
          [
           "I Hate Everything About You - Live Acoustic - Rolling Stone Original (EP)",
           "Three Days Grace",
           "rock"
          ],
          [
           "Never Too Late - Acoustic Version",
           "Three Days Grace",
           "rock"
          ],
          [
           "Throw A Fit",
           "Tinashe",
           "pop"
          ],
          [
           "Stays In Mexico",
           "Toby Keith",
           "country"
          ],
          [
           "Beer For My Horses",
           "Toby Keith",
           "country"
          ],
          [
           "I Love This Bar",
           "Toby Keith",
           "country"
          ],
          [
           "Dance Monkey",
           "Tones And I",
           "pop"
          ],
          [
           "Lonely Girl",
           "Tonight Alive",
           "rock"
          ],
          [
           "Sympathy",
           "Too Close To Touch",
           "alternative"
          ],
          [
           "Headstrong",
           "Trapt",
           "hardcore"
          ],
          [
           "Headstrong",
           "Trapt",
           "hardcore"
          ],
          [
           "Bottoms Up (feat. Nicki Minaj)",
           "Trey Songz",
           "rap"
          ],
          [
           "Say Aah (feat. Fabolous)",
           "Trey Songz",
           "rap"
          ],
          [
           "Bottoms Up (feat. Nicki Minaj)",
           "Trey Songz",
           "rap"
          ],
          [
           "Kings",
           "Tribe Society",
           "alternative"
          ],
          [
           "Dance To This (feat. Ariana Grande)",
           "Troye Sivan",
           "pop"
          ],
          [
           "What You Know",
           "Two Door Cinema Club",
           "pop"
          ],
          [
           "Paranoid (feat. B.o.B)",
           "Ty Dolla $ign",
           "rap"
          ],
          [
           "Dip (feat. Nicki Minaj)",
           "Tyga",
           "rap"
          ],
          [
           "What Hurts The Most",
           "Unsafe Unsound",
           "rock"
          ],
          [
           "DJ Got Us Fallin' In Love",
           "Usher",
           "R&B"
          ],
          [
           "Love in This Club (feat. Young Jeezy)",
           "Usher",
           "R&B"
          ],
          [
           "Bubble Gum",
           "VAX",
           "pop"
          ],
          [
           "Make Up (feat. Ava Max)",
           "Vice",
           "pop"
          ],
          [
           "Blister in the Sun - 2002 Remastered Version",
           "Violent Femmes",
           "pop"
          ],
          [
           "No Hands (feat. Roscoe Dash & Wale)",
           "Waka Flocka Flame",
           "rap"
          ],
          [
           "Poledancer (feat. Megan Thee Stallion) - DJ Taj Jersey Club Mix",
           "Wale",
           "rap"
          ],
          [
           "I Knew You Were Trouble",
           "We Came As Romans",
           "rock"
          ],
          [
           "The Christmas Song (Chestnuts Roasting On An Open Fire)",
           "We The Kings",
           "rock"
          ],
          [
           "O Holy Night",
           "We The Kings",
           "rock"
          ],
          [
           "Check Yes, Juliet",
           "We The Kings",
           "rock"
          ],
          [
           "Hark! The Herald Angels Sing",
           "Weezer",
           "rock"
          ],
          [
           "Oceans",
           "Where Fire May Fail",
           "rock"
          ],
          [
           "Oceans",
           "Where Fire May Fail",
           "rock"
          ],
          [
           "Oceans",
           "Where Fire May Fail",
           "rock"
          ],
          [
           "Do You Hear What I Hear?",
           "William Beckett",
           "alternative"
          ],
          [
           "Black and Yellow",
           "Wiz Khalifa",
           "rap"
          ],
          [
           "The Village",
           "Wrabel",
           "pop"
          ],
          [
           "Unsteady",
           "X Ambassadors",
           "pop"
          ],
          [
           "whoa (mind in awe)",
           "XXXTENTACION",
           "rap"
          ],
          [
           "If You're Over Me",
           "Years & Years",
           "pop"
          ],
          [
           "Best Friend",
           "Yelawolf",
           "rap"
          ],
          [
           "Christmas Lights",
           "Yellowcard",
           "emo"
          ],
          [
           "Christmas Lights",
           "Yellowcard",
           "emo"
          ],
          [
           "Bite My Tongue",
           "You Me At Six",
           "pop punk"
          ],
          [
           "Crash",
           "You Me At Six",
           "pop punk"
          ],
          [
           "Stay With Me - Acoustic Version",
           "You Me At Six",
           "pop punk"
          ],
          [
           "Chicken Fried",
           "Zac Brown Band",
           "country"
          ],
          [
           "You Come First (feat. Saweetie)",
           "Zak Abel",
           "pop"
          ],
          [
           "PILLOWTALK",
           "ZAYN",
           "pop"
          ],
          [
           "Seven Nation Army",
           "Zella Day",
           "rock"
          ],
          [
           "Replay",
           "Zendaya",
           "pop"
          ]
         ],
         "hovertemplate": "0=%{x}<br>1=%{y}<br>2=%{z}<br>name=%{customdata[0]}<br>artist=%{customdata[1]}<br>genre=%{customdata[2]}<br>Cluster=%{marker.color}<extra></extra>",
         "legendgroup": "",
         "marker": {
          "color": [
           1,
           0,
           4,
           0,
           4,
           4,
           4,
           0,
           0,
           4,
           1,
           1,
           1,
           0,
           4,
           4,
           1,
           4,
           1,
           4,
           0,
           1,
           1,
           2,
           0,
           0,
           0,
           4,
           4,
           4,
           4,
           4,
           4,
           4,
           2,
           4,
           4,
           2,
           0,
           2,
           4,
           2,
           2,
           0,
           4,
           0,
           0,
           4,
           4,
           4,
           0,
           1,
           2,
           4,
           0,
           2,
           4,
           0,
           2,
           1,
           1,
           4,
           4,
           4,
           0,
           2,
           4,
           4,
           4,
           0,
           0,
           1,
           1,
           1,
           4,
           1,
           1,
           1,
           1,
           1,
           1,
           0,
           2,
           0,
           4,
           4,
           4,
           4,
           2,
           1,
           0,
           4,
           4,
           4,
           0,
           0,
           0,
           0,
           1,
           1,
           4,
           0,
           1,
           0,
           4,
           2,
           2,
           0,
           4,
           4,
           1,
           1,
           1,
           1,
           1,
           1,
           1,
           1,
           1,
           1,
           1,
           1,
           1,
           1,
           0,
           4,
           4,
           4,
           1,
           4,
           1,
           2,
           2,
           0,
           2,
           4,
           4,
           2,
           4,
           4,
           1,
           1,
           1,
           1,
           1,
           1,
           1,
           2,
           0,
           4,
           2,
           2,
           2,
           2,
           4,
           2,
           4,
           2,
           2,
           4,
           2,
           2,
           2,
           4,
           2,
           2,
           0,
           4,
           0,
           2,
           2,
           4,
           2,
           4,
           0,
           2,
           2,
           2,
           0,
           4,
           2,
           0,
           4,
           2,
           2,
           2,
           2,
           0,
           2,
           0,
           2,
           0,
           4,
           0,
           0,
           0,
           0,
           0,
           0,
           0,
           0,
           0,
           0,
           4,
           1,
           4,
           4,
           4,
           2,
           1,
           1,
           1,
           0,
           4,
           0,
           0,
           0,
           4,
           4,
           3,
           0,
           0,
           1,
           1,
           1,
           1,
           1,
           1,
           4,
           4,
           4,
           0,
           4,
           4,
           4,
           4,
           4,
           4,
           4,
           1,
           2,
           1,
           4,
           4,
           4,
           4,
           0,
           4,
           0,
           0,
           0,
           1,
           0,
           0,
           0,
           0,
           0,
           4,
           0,
           4,
           4,
           1,
           0,
           1,
           0,
           0,
           0,
           1,
           2,
           0,
           0,
           1,
           0,
           1,
           4,
           1,
           1,
           0,
           0,
           4,
           1,
           4,
           4,
           1,
           0,
           0,
           0,
           0,
           4,
           4,
           4,
           2,
           4,
           4,
           4,
           0,
           4,
           1,
           1,
           2,
           2,
           2,
           0,
           1,
           0,
           4,
           4,
           0,
           4,
           0,
           4,
           1,
           4,
           0,
           4,
           0,
           1,
           1,
           0,
           3,
           0,
           1,
           0,
           1,
           4,
           1,
           4,
           3,
           0,
           3,
           4,
           1,
           0,
           1,
           0,
           1,
           1,
           1,
           0,
           4,
           4,
           4,
           1,
           4,
           4,
           1,
           1,
           4,
           4,
           2,
           2,
           2,
           2,
           4,
           4,
           4,
           2,
           2,
           4,
           0,
           4,
           4,
           4,
           1,
           1,
           4,
           4,
           4,
           4,
           4,
           1,
           0,
           4,
           4,
           0,
           4,
           0,
           4,
           4,
           4,
           1,
           4,
           4,
           4,
           4,
           4,
           4,
           4,
           1,
           1,
           1,
           0,
           4,
           2,
           4,
           2,
           0,
           4,
           2,
           2,
           2,
           4,
           4,
           4,
           4,
           4,
           4,
           2,
           4,
           4,
           4,
           2,
           4,
           4,
           2,
           0,
           0,
           4,
           1,
           4,
           2,
           4,
           4,
           4,
           0,
           2,
           0,
           4,
           4,
           4,
           4,
           3,
           3,
           3,
           3,
           3,
           3,
           3,
           0,
           0,
           0,
           0,
           0,
           0,
           0,
           1,
           0,
           0,
           0,
           1,
           0,
           1,
           1,
           1,
           1,
           1,
           0,
           0,
           4,
           0,
           0,
           1,
           1,
           4,
           2,
           0,
           2,
           2,
           4,
           2,
           4,
           4,
           0,
           2,
           0,
           0,
           4,
           0,
           0,
           2,
           2,
           0,
           0,
           0,
           0,
           0,
           0,
           0,
           0,
           0,
           0,
           4,
           0,
           1,
           4,
           4,
           4,
           1,
           0,
           0,
           4,
           4,
           0,
           0,
           0,
           4,
           0,
           2,
           1,
           0,
           1,
           0,
           4,
           1,
           1,
           1,
           4,
           0,
           0,
           4,
           2,
           2,
           2,
           2,
           2,
           4,
           2,
           4,
           4,
           0,
           4,
           4,
           4,
           0,
           0,
           2,
           1,
           4,
           4,
           0,
           4,
           2,
           1,
           4,
           0,
           4,
           0,
           0,
           0,
           0,
           1,
           1,
           4,
           0,
           4,
           4,
           4,
           0,
           0,
           0,
           2,
           0,
           0,
           0,
           0,
           0,
           0,
           0,
           0,
           0,
           1,
           4,
           4,
           2,
           4,
           0,
           1,
           4,
           1,
           4,
           1,
           0,
           0,
           4,
           4,
           1,
           4,
           0,
           2,
           4,
           0,
           0,
           4,
           4,
           4,
           2,
           1,
           4,
           4,
           0,
           1,
           0,
           0,
           1,
           4,
           0,
           0,
           0,
           1,
           0,
           1,
           0,
           1,
           2,
           4,
           4,
           4,
           4,
           4,
           0,
           1,
           0,
           0,
           0,
           0,
           4,
           4,
           0,
           0,
           2,
           0,
           4,
           2,
           0,
           0,
           1,
           0,
           0,
           4,
           4,
           4,
           0,
           4,
           0,
           4,
           0,
           0,
           1,
           1,
           2,
           2,
           4,
           1,
           1,
           4,
           0,
           1,
           0,
           0,
           0,
           0,
           1,
           0,
           1,
           0,
           0,
           0,
           0,
           0,
           0,
           0,
           4,
           4,
           0,
           4,
           0,
           4,
           4,
           1,
           1,
           0,
           1,
           4,
           4,
           4,
           4,
           4,
           1,
           1,
           4,
           4,
           4,
           4,
           0,
           2,
           2,
           4,
           4,
           0,
           0,
           0,
           0,
           4,
           4,
           4,
           4,
           4,
           4,
           1,
           1,
           1,
           1,
           1,
           1,
           4,
           4,
           4,
           4,
           4,
           4,
           2,
           0,
           0,
           2,
           4,
           4,
           1,
           0,
           4,
           0,
           0,
           0,
           2,
           0,
           0,
           0,
           0,
           2,
           0,
           0,
           1,
           1,
           4,
           0,
           1,
           4,
           1,
           1,
           0,
           0,
           0,
           1,
           0,
           0,
           0,
           0,
           1,
           0,
           1,
           4,
           1,
           1,
           1,
           2,
           0,
           0,
           4,
           4,
           4,
           4,
           4,
           0,
           0,
           0,
           0,
           2,
           2,
           2,
           2,
           4,
           4,
           4,
           4,
           4,
           4,
           0,
           4,
           4,
           1,
           4,
           2,
           4,
           4,
           1,
           0,
           4,
           0,
           0,
           0,
           0,
           4,
           1,
           0,
           1,
           4,
           4,
           0,
           0,
           0,
           1,
           4,
           4,
           4,
           4,
           1,
           4
          ],
          "coloraxis": "coloraxis",
          "line": {
           "color": "black",
           "width": 1
          },
          "size": 5,
          "symbol": "circle"
         },
         "mode": "markers",
         "name": "",
         "scene": "scene",
         "showlegend": false,
         "type": "scatter3d",
         "x": [
          2.602736416950726,
          -0.4781384152522929,
          0.6071380276851064,
          -0.10342512094767432,
          0.1552637904550953,
          -0.15077911265198607,
          0.1168212311766829,
          -0.25660819037727867,
          -1.2226292468120041,
          1.2047465260136025,
          1.0557212140593384,
          1.9535690643680554,
          2.644965410487383,
          -0.821353157769533,
          -0.7312103771519055,
          -1.0973711363915752,
          1.9611273606745312,
          -0.7522838998685513,
          0.7336903678422305,
          0.27160976943130094,
          -0.6544395698306645,
          2.545773664522722,
          2.0427207321762606,
          -1.0989482133876876,
          -0.9844398465802405,
          -0.7191647703026064,
          -0.7191647703026064,
          -1.3352971772601494,
          1.313597685984356,
          0.5925236104806966,
          -0.9562022380690156,
          -0.853144834478828,
          -0.5592445758993754,
          -0.853144834478828,
          0.30575608955987826,
          -0.4231279516127901,
          0.8472539612564715,
          -2.1233476724781957,
          -1.1740128767385016,
          -1.5421522251781823,
          0.8472539612564715,
          -1.273191445804858,
          -2.1233476724781957,
          -1.1740128767385016,
          -1.950670782907595,
          -0.4784254244307831,
          -0.9956789221225286,
          0.7282643142604596,
          0.3604763766068899,
          -0.538492344612901,
          -1.4700929891308665,
          1.0087523736694544,
          -1.9662616179543244,
          -0.5610330537355037,
          -1.2135423138380173,
          -1.6881172497480152,
          -0.8731311625845621,
          -1.7792941156093893,
          0.9439424794770498,
          2.853188985072909,
          4.125361536633133,
          -0.24262544238395112,
          0.18283720396618083,
          0.8318617654294078,
          -2.051647420758797,
          -2.8388965315397274,
          -0.5684438392795671,
          1.0059015368908502,
          -1.583108694140661,
          0.3657927884897335,
          -0.9549985741933595,
          2.657568336581745,
          3.1312718069888534,
          3.080606956915057,
          0.47750902349756436,
          2.8044085131377967,
          2.4157389783820618,
          2.2493537526032794,
          2.862070599369235,
          3.107810465442241,
          2.2599854472369367,
          -1.5685014556828243,
          -1.5594565639241098,
          0.33202362893421306,
          -0.7502405378303771,
          -1.0947026886413398,
          -0.2837695664369983,
          -0.2058108295382093,
          -1.1180892237992182,
          1.3138058400923955,
          -0.4606054395619088,
          0.19543424629987238,
          -1.1658793319187835,
          0.11584120980469449,
          0.2276673039508174,
          -0.6744796573664684,
          -1.146110499458042,
          0.1865396423838245,
          1.1841496970215253,
          1.7032544415269835,
          -1.2634655662199787,
          0.0022464839212752137,
          1.7125350758444482,
          -1.0894911682750272,
          -0.05446846458457848,
          -0.4932375799148924,
          -0.1615334101596325,
          0.06839511112342012,
          0.5802234761731833,
          -0.7434417735115243,
          0.7530262254609401,
          1.237337235018831,
          3.354053244057044,
          2.4701546468819253,
          3.9499389829056755,
          2.7417844225482457,
          2.224248275179142,
          0.9422957713719198,
          2.8363414566302922,
          0.9303897971849634,
          1.2853582500660252,
          2.505112791477563,
          0.9303897971849634,
          2.586214934112879,
          0.18713715618226306,
          -0.08271152992001732,
          -1.6343757609367615,
          1.0529709290424207,
          4.052525426807134,
          -1.6343757609367615,
          4.052525426807134,
          -1.4016539666550571,
          -1.1192856990047286,
          -1.4864617418101236,
          -0.8106914214421304,
          -0.08001011322757755,
          -0.6357890192924446,
          -1.8673542439932784,
          -0.7124001661964622,
          0.12196710299787471,
          2.408874697341038,
          2.408874697341038,
          2.0523030084284466,
          3.8572942439347817,
          3.5944134443795948,
          4.079835040812404,
          4.471758887680886,
          -0.9896227172838442,
          -0.30433784811597586,
          -1.0349028701690302,
          -0.5536938792763253,
          -0.15198323207733752,
          -0.8561756161690657,
          -1.102369619371692,
          -0.22933479049078315,
          -1.4210141863475512,
          -1.0349028701690302,
          -1.4210141863475512,
          -1.4210141863475512,
          -0.5008888936845514,
          -1.4378070754617756,
          -1.102369619371692,
          -1.2318166194788387,
          -1.0349028701690302,
          -0.9022096651273069,
          -1.2318166194788387,
          -1.1684809197051838,
          -1.071663811054492,
          -1.9129738734973436,
          -1.5632984316045657,
          -1.0804139636812105,
          -0.5336185732097851,
          -1.5188248400651194,
          -1.2370959796348826,
          -1.1684809197051838,
          -1.5289995772019684,
          -1.4049774580216763,
          -1.185659969740855,
          -1.3179195698491684,
          0.22160479390485216,
          -0.9552754668824152,
          -1.6652040394995222,
          -0.6886351906766685,
          -1.3877285908330237,
          -0.9877116378211628,
          -1.0120720224030657,
          -1.2381145432507443,
          -1.1684809197051838,
          -1.294637693051916,
          -1.4373651964746887,
          -1.294637693051916,
          -1.6744151814361086,
          0.5253259793732172,
          -0.795410543254529,
          -1.5000410961498067,
          -1.4297603564188583,
          -1.57868774660792,
          -1.5000410961498067,
          -1.4297603564188583,
          -1.57868774660792,
          -1.322422607999313,
          -1.5000410961498067,
          -1.899496815787728,
          -0.8505617432400941,
          2.577530355157974,
          -0.8505617432400941,
          -1.2524137221317853,
          0.05225622665134493,
          -1.8762259952978801,
          4.90652596575937,
          2.2812599862327296,
          3.5185737068868774,
          -1.5748075190589315,
          -1.8617423639471105,
          -0.845963127505777,
          -1.8657030223605113,
          -1.4219134681867847,
          -0.6127319993387235,
          -0.05892301350499096,
          6.971923277363981,
          -1.4341378157333493,
          0.0828288507510798,
          4.6414011214831685,
          4.641636682202904,
          1.1609122943579566,
          1.5366356284068432,
          2.7118463166925446,
          1.1975751737846687,
          -0.5345545147197257,
          1.0472669744371783,
          -0.4967296892371285,
          0.2169009404673929,
          -0.2626868967846752,
          0.6314966629993579,
          -0.257496015769083,
          0.880209684224754,
          0.6314966629993579,
          -0.18934176969520478,
          -0.257496015769083,
          6.298249159567896,
          -1.1987308391523972,
          3.1168254064133447,
          -0.38608161940113034,
          0.6411467954193999,
          0.9032629269720202,
          -1.0383814988392412,
          -0.07289093461962787,
          -0.7615429307566582,
          -0.7905764431303933,
          -0.5252578070032177,
          -2.6630613473618876,
          1.2529925851657961,
          -1.0922987011039593,
          0.563887325536018,
          -1.9995757300581019,
          -1.9995757300581019,
          -2.052068774611001,
          -2.1131326382333206,
          -1.3730480448572446,
          -0.2271192295315939,
          0.5620712102161761,
          2.5727643876465134,
          -0.6567018377936956,
          2.1980198423535815,
          -0.08484302232018405,
          0.20870183584795934,
          -0.45148549827007983,
          2.367259221017549,
          -0.6904718301655941,
          -1.3728213570963963,
          0.7326595766076466,
          1.322609858442751,
          0.06213221664023594,
          1.6183314656533268,
          -1.3699677712872889,
          1.9637847152076873,
          3.1396397171281007,
          -0.47989068473425295,
          -0.8624315762047051,
          -0.13775154866231393,
          1.3607760948623646,
          -0.12131109971110159,
          -0.040048969110511534,
          0.9081294697667766,
          -0.19118333868860865,
          -0.542605334686786,
          -1.468429114605944,
          -1.7558340833822608,
          -0.3931834738481005,
          -1.2109413322423974,
          -1.0178711465450088,
          0.3374350323248943,
          0.42134183859990015,
          -1.0286652536426033,
          -0.3923810309045369,
          -0.610755091785438,
          -0.27290591535055186,
          2.0312780540532542,
          1.693866724569228,
          -2.5590385494142796,
          -0.9518630655364662,
          -2.8660403354003563,
          0.3430173364941007,
          0.8955798156104849,
          0.47728766879816853,
          0.44994424843576003,
          1.1665655763340887,
          -1.4786053890404114,
          -0.8920680488311629,
          -0.7123564121547874,
          0.4492353443960238,
          3.960664220534997,
          -0.9340651433822985,
          0.3355646725805731,
          1.1658082799469494,
          0.3907865480789597,
          0.8981449409536513,
          6.55825345891425,
          -1.3415841411565468,
          2.8089890496217085,
          -0.7682449195885481,
          5.153465032073782,
          -0.5371532279493603,
          3.9135993629215857,
          0.5539151660537763,
          4.087977479172012,
          -0.7625842408129424,
          3.6180304823134555,
          0.4831530263308311,
          3.8899314900834736,
          1.182925991651453,
          4.681311168740719,
          0.497715472607305,
          0.9716463871770757,
          -0.7516645139723426,
          4.3544693304289614,
          4.564930856531301,
          2.709628501003037,
          -0.9878917343185227,
          -1.0815251805203145,
          -1.134364483710363,
          0.4124682323610292,
          2.893064691873402,
          0.3854115456718492,
          0.9404969730698112,
          1.5550483864943447,
          1.099167132196466,
          0.013069151081919785,
          0.013069151081919785,
          -0.808949187064305,
          1.377839622899089,
          -0.20202683696997722,
          -0.14651215040261356,
          0.5713661535315772,
          -0.15870849831948391,
          -0.9076949249576513,
          -0.33079830794454806,
          -0.19547054922990323,
          -1.0778383479862752,
          -1.3910822464728398,
          -0.49588636994741575,
          -0.22178559064453648,
          -0.25261574571932266,
          2.0002367150184113,
          1.9920640606689102,
          -1.5965561345956159,
          -0.5813145967624717,
          -0.29396258485275717,
          -1.2370018774565816,
          0.24893328146464724,
          1.726859782766079,
          -0.9056816218254219,
          -0.049306478300446745,
          1.553624413247974,
          -0.4176152102789799,
          0.7068792533343623,
          -0.4176152102789799,
          0.7068792533343623,
          0.7068792533343623,
          -0.4164911407771954,
          1.3783524175667985,
          -0.27429976970261705,
          1.3968331915518097,
          -0.22742995807685515,
          -0.384782634138428,
          0.1628109360364869,
          -1.3923683823345627,
          1.0711809106616688,
          1.7195009837163266,
          1.8706448888376321,
          1.8706448888376321,
          0.7306498157923935,
          -0.500363035325668,
          -1.7204012669401185,
          0.49687330088259585,
          -1.8268234772535406,
          -0.4673751170146071,
          0.49687330088259585,
          -2.1741023938307444,
          -0.48585278535991844,
          -0.48044871427698743,
          -1.3127845871818271,
          -0.9217590602398716,
          -1.0392358385514624,
          0.390971741080833,
          0.877431034715691,
          -0.752138272413586,
          0.12415970289638265,
          -0.7391430443919201,
          -1.5735418761819144,
          -1.5735418761819144,
          -1.5401088391934268,
          -0.3314004023746343,
          -0.3314004023746343,
          -1.3025880966978074,
          0.2551024787397223,
          0.2551024787397223,
          -1.653169307975635,
          1.5740809785927437,
          -1.7021997451381892,
          -2.024892410420432,
          -0.9574794277167648,
          0.04000067464253019,
          -0.48400433100314116,
          -0.5585985134700354,
          -1.371518126097692,
          -0.39713190906599305,
          -1.231309848640118,
          -0.7262717557597812,
          -0.02571447539160279,
          -0.5341433105775322,
          7.508727178748628,
          4.568194837714109,
          5.228203923224347,
          4.599060577363931,
          6.146407888094005,
          5.861458111425904,
          6.183754087736535,
          -1.59611114024207,
          -1.65154620299666,
          -1.0605867739280943,
          -1.0966250978741787,
          -1.6266174415884538,
          -0.4069145910636006,
          -1.07960539519844,
          1.241465931163049,
          -0.3736084312451929,
          -0.3736084312451929,
          -1.3134311185958547,
          1.4916323998308463,
          -0.3736084312451929,
          1.409065760547962,
          1.553914187094077,
          1.241465931163049,
          1.553914187094077,
          1.1089890823276671,
          -1.747033756899231,
          -1.3051027901110008,
          -0.7210860691317983,
          -1.8754115360077461,
          -1.8913666105178792,
          1.4348513526671725,
          1.4348513526671725,
          0.7103629733812472,
          0.20688999777195488,
          -0.956841055227536,
          -1.64194925533917,
          -1.1705501082614453,
          -0.6564197616322273,
          -0.9182163225683512,
          1.016042020212989,
          1.016042020212989,
          -2.1213899178855464,
          -1.7861088576303765,
          -2.1213899178855464,
          -1.8514320261377581,
          -1.424543418315244,
          -1.6660895717060809,
          -1.6660895717060809,
          -1.8650397217368142,
          -1.697307024280556,
          -1.9329781471449468,
          -2.1463123572705194,
          -0.3581612272486937,
          -2.147775622639027,
          -1.9927151189299814,
          -1.206165114805975,
          -1.9920133409743424,
          -1.6215209014322842,
          -1.9549065774658254,
          -1.541575840850589,
          0.19038766212996214,
          -0.5223615728750486,
          1.0598139354737164,
          0.9125296386491037,
          -0.42109588233559087,
          0.20915266977632,
          1.2886406774524717,
          0.6197843255058789,
          -0.8927559811990272,
          0.2340325578216574,
          0.5648607037774479,
          -0.21513549941885107,
          -1.267882595777439,
          -0.7022887223917847,
          -1.371122919618944,
          -0.7022887223917847,
          -1.8888298742072513,
          1.4709122689508467,
          -0.2657811101249346,
          1.4709122689508467,
          -1.7275167463901913,
          -0.5449374866456959,
          2.198243807757178,
          2.0198257517411213,
          1.8882191735913827,
          -0.5130748246837485,
          0.4367382637889737,
          -1.0209135102774491,
          -0.5534148280367585,
          -1.3369440504074475,
          0.21721520008216919,
          0.21721520008216919,
          0.006130657806576618,
          1.1096882687454146,
          0.6192303098047963,
          1.1096882687454146,
          -1.3126605743211435,
          -0.9371816468709606,
          0.543092225016198,
          0.6971468954140615,
          -0.19937588907637402,
          0.014279733296975477,
          -1.6043140742268627,
          -0.7950567815769113,
          -0.7508089119059626,
          2.001031332849589,
          -0.7009812528057082,
          0.01708329720995511,
          -0.9531850282579818,
          -0.852667918060168,
          -1.542915339002546,
          1.4930735803217703,
          -1.2069991441763586,
          -1.5106525079708155,
          -0.8745538088447493,
          -1.023142027501003,
          -0.842268623231158,
          0.1879863374775027,
          0.7296562090660527,
          2.8183384370874602,
          4.9930310600586,
          -0.12950580341764187,
          -1.5825658505447864,
          -0.12950580341764187,
          1.018297106227749,
          1.018297106227749,
          -1.5825658505447864,
          -0.20841394861172696,
          -1.849738806633479,
          -2.5702233852765777,
          -1.6554161355554236,
          -1.5940283442824421,
          -1.5462753688524205,
          -1.189129250771579,
          -1.4496115002365177,
          -1.313022309157417,
          -1.9907464814279119,
          -1.658892616511972,
          -1.3650297076019473,
          1.6021681314543088,
          0.35567558450876996,
          0.5842551885886721,
          -0.47873696056175025,
          1.3780457184910222,
          -0.5959570393504,
          1.484017351069631,
          -1.382476851747006,
          0.7815502379958423,
          -0.17249350009619352,
          2.69814310855615,
          -1.8158363269496942,
          -1.3822068599858206,
          0.5245804695992352,
          -0.8054365847042534,
          1.8889160099909392,
          -0.70786762140751,
          -1.3597266492965405,
          -0.5859002852297681,
          -0.5199588286804478,
          -0.7288976994402463,
          -1.783952321469855,
          -0.48317646729594116,
          -0.06220705091676983,
          0.8503466872073927,
          -1.6611586864351573,
          2.860699644048891,
          1.0935744645856145,
          0.7771590087978452,
          -0.9786736223583661,
          1.3816237563356217,
          -1.0289239939035109,
          -0.40240540217769716,
          1.7930934028706287,
          -0.6132717289928084,
          -1.0963564459683728,
          -2.2113387083424865,
          -1.642202857583014,
          1.3736164471366665,
          0.8863021838536819,
          1.3703888459932163,
          -2.2090482957899265,
          1.3703888459932163,
          -1.2367064892595871,
          -0.15205606944274222,
          -0.9134208461297992,
          -1.6058586786932905,
          -1.3511266834083835,
          -0.482280035745571,
          -0.4436394835949213,
          1.166105977599971,
          -1.241723394353376,
          -2.197562351194941,
          -0.3611553748805925,
          -0.32262323131887133,
          0.4082459511687121,
          -1.7469173829612472,
          -1.6410872011048565,
          -2.0759601727425188,
          -2.096019809788057,
          -1.6410872011048565,
          0.31399951153470973,
          -0.900666950481604,
          -0.9379799136733296,
          -0.9379799136733296,
          1.5205690694520633,
          -0.25521838470271896,
          0.3723248090229979,
          0.45056648742353367,
          0.6250957820636512,
          1.3416626380177752,
          -0.7366682893927806,
          0.7568710060558154,
          -1.6497503364388602,
          1.311198858581722,
          -1.739097952683026,
          -1.0253297794973784,
          3.711783792036994,
          0.9095290982955725,
          0.7455156431067652,
          -1.5032516419675759,
          0.0013610279968192035,
          1.9286207689393722,
          1.9286207689393722,
          -0.7569648190439061,
          -1.1161597242517645,
          1.746165161691595,
          -1.289465820236071,
          -1.289465820236071,
          -0.9075880961142087,
          -1.3821290780636937,
          1.8244211788691165,
          -1.5434941311626165,
          3.1715276879156304,
          -0.9075880961142087,
          -0.9075880961142087,
          -1.7377897372004851,
          -1.5434941311626165,
          -1.279909479972677,
          -1.7533561253531211,
          -1.3821290780636937,
          -0.1212612460225534,
          0.3418076157937612,
          -1.4445800633432058,
          -0.7593109941659094,
          -1.6321562521869364,
          -0.7593109941659094,
          -1.0533350469997884,
          3.041274977476362,
          2.415525254976819,
          -1.1833437531307365,
          2.5866951009106005,
          -0.23881500603813097,
          0.34673068711613625,
          0.4264722105276272,
          -0.6685051703620111,
          -0.6930990292926329,
          2.3500810509804255,
          0.6302654331418455,
          0.8312042130691488,
          -1.0467841535247202,
          0.3995093116278439,
          0.8536581150908713,
          -1.04090789916786,
          -0.9798390151860626,
          0.3718889682034692,
          -0.7267182513377993,
          -0.8883071762142584,
          -1.1467232382637063,
          -1.355237673896151,
          -1.1993390367946186,
          -0.8691864727524489,
          -1.354796070947919,
          -0.5578698561012575,
          -0.8506998701255655,
          -0.2172677918785866,
          -0.17709061100878923,
          -0.47924828612365067,
          1.2804643294236049,
          1.3578914986300032,
          1.2804643294236049,
          1.2804643294236049,
          2.0590787311878644,
          1.2608502457891648,
          -0.8723627387749526,
          -0.9440687785283398,
          -0.48688131551490155,
          -0.25078481723935353,
          -1.5293704993956614,
          -1.669302374844413,
          -1.8410389105903224,
          0.8301799529405532,
          0.8301799529405532,
          -2.1247337473868386,
          0.291333292522589,
          0.4571421907403728,
          1.1854034077106559,
          0.2909909143029703,
          0.3098782883833005,
          -1.2072804348787205,
          -0.5606426800818893,
          -2.0446384180674624,
          -2.2590589088905695,
          -0.9143073945360315,
          -0.12492164628029935,
          0.6093063403988813,
          -1.395950450738664,
          -1.4151079169956124,
          -0.12492164628029935,
          -0.1320617236661797,
          1.2621321162235226,
          0.7604050683079489,
          0.6951442137229596,
          -0.9565945881332887,
          3.225163724863359,
          -0.8336518281217384,
          2.9465381221221585,
          3.24956709273361,
          -1.2400024209219773,
          -0.9143073945360315,
          -0.7216567681165832,
          3.844300220051552,
          -0.5364365276495825,
          -1.2672538341245645,
          -0.484535858285764,
          -0.7049367411180318,
          3.248165864305665,
          -1.2131314948390666,
          1.3843917485260067,
          0.6631733781546323,
          0.8982413281980299,
          1.5093928728823196,
          2.4189177287718335,
          -1.979191980877702,
          0.14164869287739892,
          -0.11155018172146998,
          -0.31090680890321115,
          -1.470324262173636,
          -0.5402084143242325,
          -0.8159137493498289,
          1.3120444879870132,
          -1.9145186903380724,
          -0.9952576084806309,
          -1.6986749921158564,
          -1.6986749921158564,
          -0.05521159437087331,
          -1.8273709652868064,
          -0.05521159437087331,
          -0.3697965710709541,
          -0.5950996633696426,
          -1.2166989609005996,
          0.6622001829681854,
          0.10479930016348595,
          -0.09253521559729996,
          -1.381760944635452,
          -0.5093689662600086,
          -0.12735388227296654,
          -0.525003649468152,
          2.631455531946894,
          -0.23685402336741693,
          -0.5652488954033145,
          -0.37302911245191145,
          1.159509777798409,
          2.8339323914189625,
          -1.586160309050269,
          -1.4635510621779637,
          0.10890777352150731,
          0.10890777352150731,
          0.10890777352150731,
          -0.3059872224067425,
          -1.4221257777987832,
          1.7465202695882984,
          0.2360712698230126,
          0.6456878536105652,
          -0.8582765077466509,
          -1.223103148367512,
          0.3525148696991839,
          0.33100421353591786,
          -1.1889991025627864,
          1.0731548331742207,
          -0.051334225770068055,
          -0.11242893297273183,
          -0.6382167338130361,
          -0.4395746734574065,
          2.7557750390938462,
          -0.84399369936515
         ],
         "y": [
          -1.4920368280611536,
          -1.5261519048774919,
          -0.08145191727230666,
          -1.4013941163462,
          0.2666017196264942,
          0.6526422894267025,
          0.32602891700917946,
          -1.1094722074245214,
          -0.620753571245198,
          -0.03828886160704523,
          0.2887491834266427,
          -0.24585249507046222,
          -0.5332920768874011,
          -2.145986743184359,
          0.2216128127439401,
          0.4452454226648137,
          1.8767082564093516,
          -0.489966393537918,
          -0.5637159625964107,
          0.7954554482319183,
          -0.4579005936310827,
          1.8048596981313243,
          -1.6047233181859606,
          2.290637503535212,
          -0.21345151948382,
          -1.9586819238336104,
          -1.9586819238336104,
          0.5201828626667215,
          1.237933872738076,
          -0.49570643632694744,
          1.2741488932825131,
          0.8016119562293081,
          0.35559959973829974,
          0.8016119562293081,
          1.5356340249643738,
          0.7959557562779274,
          0.56539912498775,
          1.0229549706810945,
          0.08211349479608941,
          2.5926402636321906,
          0.56539912498775,
          0.7744576021533943,
          1.0229549706810945,
          0.08211349479608941,
          0.9140409725054839,
          -1.2159793194827302,
          -0.8534641465305566,
          0.023475480088395315,
          -0.3133610501339916,
          0.8543794300693607,
          -0.23732382087950907,
          0.12978256946501615,
          2.0043240779430267,
          1.0172453050192907,
          -0.7249850190360323,
          2.355564700470699,
          1.2207695357722077,
          -0.5836757672301645,
          1.1773958567361387,
          -0.09207597912423032,
          -0.5247234726508335,
          -0.19961064546803417,
          0.4627979450721329,
          0.7182032840616461,
          -1.745207970387796,
          0.9813523696229305,
          0.65731895534628,
          1.925076781381198,
          0.7626897009214044,
          -2.4365018100727767,
          -0.7467570119298579,
          0.40535361722761903,
          -0.2301548641335403,
          0.0028314317808683523,
          0.58863257346631,
          -0.22665884752092896,
          0.3012532524931575,
          -1.6776263638588764,
          -0.656681407759553,
          -0.9514487140087977,
          -0.08118860064745188,
          -1.5557051016304948,
          0.3519543432498614,
          -1.163290185264671,
          -0.11986071672812715,
          1.033815258594198,
          -0.33578593592904754,
          1.69082060656897,
          1.8947026627906691,
          -0.9361484551075877,
          -1.445727379852321,
          -0.32921838408969756,
          2.103180792111456,
          2.2351212442341244,
          -1.5585789598867048,
          -1.6822316274771691,
          -0.8319945810037811,
          -0.996042887772126,
          -1.5211461975195548,
          0.6067682317410089,
          0.34585749667634835,
          -0.6206967252265458,
          -0.9760910648313245,
          -0.7268843719158171,
          0.80416787407678,
          0.010977196863027033,
          -0.554510402890224,
          -0.7826838990274538,
          0.08206067878439703,
          0.903546335203036,
          -0.03215141722048839,
          0.33433283287270116,
          -0.644256162082025,
          0.12935666022872827,
          0.21530900502389574,
          0.7561032993142244,
          0.40441897966436624,
          -1.1338365185726758,
          -1.0297958596955388,
          -1.2283112388882784,
          0.2154684040064858,
          0.43118853627105275,
          -1.2283112388882784,
          0.12790363420254544,
          -2.3712555980460333,
          -0.1500674346872386,
          0.060706242669690345,
          0.764321927718538,
          -1.32820995883295,
          0.060706242669690345,
          -1.32820995883295,
          1.6179940557563808,
          1.426148202267044,
          -0.9715102368402883,
          0.4965606177805205,
          2.1477972792081355,
          2.299712909186156,
          0.7190632627668759,
          -0.5596824596849591,
          1.9264257221876788,
          -0.2671051377578378,
          -0.2671051377578378,
          -0.9138717825732955,
          -1.841552768265739,
          -2.2494828878300956,
          -2.1768883043110856,
          -2.2735503475655743,
          0.24684827178147184,
          -2.065462637886237,
          1.6893833493726078,
          3.2192594377134465,
          1.4431980958644754,
          -0.07374034929820747,
          0.9343171645293787,
          1.8840343911599144,
          0.5133238188057345,
          1.6893833493726078,
          0.5133238188057345,
          0.5133238188057345,
          1.3147145183920106,
          3.029249875589472,
          0.9343171645293787,
          2.069266275709397,
          1.6893833493726078,
          1.1848413569842842,
          2.069266275709397,
          -0.4606489496585025,
          1.3063317761804263,
          -0.2962416970302751,
          2.053900586549526,
          1.3856651551642807,
          2.2762342117984096,
          1.327333571805097,
          2.7081140007886746,
          -0.4606489496585025,
          1.6335615887966495,
          2.23726829623366,
          2.538832961535475,
          -0.685005449883168,
          0.005822317225993463,
          1.5315381963044103,
          -0.20705108727650043,
          1.238670982613293,
          0.14688868952096312,
          1.138735292859321,
          2.4435629263475582,
          0.06481384758175401,
          -0.4606489496585025,
          0.6124441312072931,
          -1.1469659054012513,
          0.6124441312072931,
          -1.128127052504112,
          2.2321182393722716,
          -0.18005563091165003,
          -0.9267935807267117,
          -0.2309147167941506,
          -0.6566804769440264,
          -0.9267935807267117,
          -0.2309147167941506,
          -0.6566804769440264,
          -1.6481279715729,
          -0.9267935807267117,
          -0.5145045317232708,
          -0.3730884618478925,
          -0.7028662773719581,
          -0.3730884618478925,
          0.0745399273402896,
          0.07009927252066243,
          1.9648217075710872,
          0.3806213778718181,
          -0.3993103382795187,
          -0.30883743621358106,
          -0.17676678843033436,
          0.44963214651118333,
          -2.210405961652135,
          -1.021971615544021,
          -1.3843028230486023,
          1.8876782704751964,
          1.0488145272063059,
          -0.7498989683549339,
          -1.08652154754995,
          -0.9582814107072843,
          -0.2575137978701881,
          -0.875653408917827,
          -0.7025652515122194,
          0.8717166252665065,
          -0.6498548536139535,
          0.11244897485981525,
          -0.09264030412250022,
          0.9448004876864732,
          1.1569798587983982,
          -0.9592218873514481,
          0.6581129375300864,
          -0.30367530910623725,
          -0.07143022158429942,
          -0.49860694200568734,
          -0.30367530910623725,
          0.92951985169257,
          -0.07143022158429942,
          -1.7692805559460536,
          2.6268841330832884,
          0.41102920976458224,
          1.475869690147723,
          0.3013963037676901,
          -0.2491099114063389,
          1.2346665561035635,
          -2.1114148244827193,
          -0.17033278077368486,
          -2.1234690616288963,
          -0.43656794899283297,
          -0.10884327647360796,
          -0.710726306504591,
          -1.3491554133598234,
          -1.1128008110864316,
          -0.7205154032746574,
          -0.7205154032746574,
          -1.1304258616145697,
          0.5854730621475175,
          0.4729295258614515,
          0.010346252826444368,
          0.6247764985163806,
          0.390698731450764,
          -1.992330317298057,
          -2.220199353021482,
          -1.8045817943145386,
          -1.2614671393025216,
          -1.9637642292882493,
          -1.2046910302746907,
          -0.8303514358579992,
          -1.965478700218538,
          -1.4224466942443057,
          -1.1689135459142075,
          -1.1204289174390523,
          -1.519112416811319,
          0.9714949119861007,
          -1.4683980645501098,
          -1.3185577807143767,
          -1.705525763189994,
          -0.7651060174773605,
          0.45454676786966125,
          -2.1042318524966825,
          -0.5197664401962957,
          -0.7296002189530066,
          -0.6202995085638106,
          -0.4877450762008677,
          -1.15017073263508,
          -1.4310766889166475,
          -1.1988865539458218,
          0.7788190804012983,
          1.4136744866035584,
          1.5203697687974649,
          1.8663976537704574,
          -0.15383225404650283,
          0.7767212260391236,
          0.2655220367836972,
          0.030223918706128294,
          0.15620769775768972,
          -0.2785189542476601,
          -0.9223160518999933,
          2.0691389720812086,
          1.2921405168223656,
          1.9174000711851356,
          -1.6326031364396607,
          -0.561075533789238,
          -2.0164556362296273,
          -0.7383309647173296,
          -0.14705756129016992,
          -0.4201681722815225,
          -0.276888010362267,
          -1.738424941011217,
          -0.7355030384667838,
          -1.1723718117924464,
          1.3147013516014496,
          -1.6455233490677827,
          -0.14078920519576166,
          -2.1659245943873775,
          -0.5644416405079329,
          -2.4779674559145315,
          -0.49815158902854956,
          2.276833875982352,
          -0.354341659246938,
          -2.6315421669578547,
          -1.749146667234157,
          1.756915840642827,
          -0.6447017484523598,
          -1.0005893672944945,
          1.409884597349884,
          3.4224576300210208,
          -1.620909892229082,
          2.7026163717106155,
          -0.028561350834363796,
          -2.2093242468462044,
          -2.064819086764543,
          -0.5494603896477444,
          -1.124209306222423,
          -0.21055606284263673,
          -1.0544277874610983,
          -0.7478766708513958,
          -0.21963293160233946,
          2.3043753021072177,
          2.259915864563905,
          -0.2700136936588834,
          0.7536840828070805,
          0.2896595560224657,
          0.41827863182538627,
          -0.9426272583920374,
          -0.4689081991811251,
          0.8037866314560073,
          0.8037866314560073,
          1.5594561146854877,
          2.062316447456435,
          2.0569717560614755,
          0.9069757415559548,
          -0.2876161346979311,
          1.7992481388999995,
          2.4758035412905426,
          0.34085875509872143,
          1.7804207701033783,
          -0.12514251744347696,
          0.20815217557447496,
          0.6344933630593623,
          -0.028413038516007058,
          1.7223297047579178,
          -0.240218189944494,
          -0.10392035266648626,
          1.2368567563183228,
          0.11641742126663875,
          0.03487209085745643,
          1.5600668848339556,
          2.649148265421491,
          1.4291850111049353,
          -2.0284836017600867,
          1.827874089051297,
          1.1464216193780847,
          -0.2314425016587095,
          0.7782303366394693,
          -0.2314425016587095,
          0.7782303366394693,
          0.7782303366394693,
          0.12828898241585773,
          -0.12537638395008227,
          0.40968001372669005,
          1.6898517191968419,
          0.4412610996474184,
          0.4561985161594354,
          1.0345722925236813,
          1.0981906943781472,
          2.0303646686148005,
          1.125025888656029,
          -0.18659552159274165,
          -0.18659552159274165,
          -3.227232314464905,
          1.786493079406988,
          0.8994457292190422,
          1.0804999386279779,
          0.9216191767895336,
          -0.506326228696031,
          1.0804999386279779,
          0.8478862662609412,
          -0.03403545627325187,
          0.47288783946580426,
          1.4857099471549617,
          2.1664672073646183,
          1.2333118016993663,
          1.0506230853941865,
          -0.17192246154609991,
          0.8425982397726108,
          1.6605444140351358,
          0.4578773385193126,
          0.6670425151986028,
          0.6670425151986028,
          1.6145734636024784,
          0.3865573445507428,
          0.3865573445507428,
          2.7151683302120206,
          -0.7589492883092223,
          -0.7589492883092223,
          1.1996387509132496,
          -2.1405215459421743,
          1.105513495110302,
          -0.39727738848282335,
          1.1079838365705819,
          -0.627627577840393,
          0.3071365194086854,
          -0.7022317454986537,
          0.19477154128522234,
          -1.416948048306397,
          0.6338801059833677,
          0.4765647908525311,
          -0.3050063807108147,
          -0.45031919035961676,
          2.2943962052646523,
          5.05078220178384,
          5.390887007406855,
          4.231067500407155,
          3.701154531630886,
          3.881667039415562,
          4.407906778176696,
          -1.941077568843026,
          -0.6887580385939497,
          -2.3787558718114976,
          -1.2270713609617878,
          -0.9778251925781833,
          -1.3875533029257547,
          -1.1876266316631394,
          -0.7612930563745439,
          -1.6692351876691447,
          -1.6692351876691447,
          -1.0732894169172251,
          -1.3567577257707655,
          -1.6692351876691447,
          -0.5355012815189734,
          -0.5313736032434286,
          -0.7612930563745439,
          -0.5313736032434286,
          0.5386198095127288,
          -0.9373654461043603,
          -1.0649238326628625,
          -0.44039806941084525,
          -0.8154981213875859,
          -0.356004557085741,
          0.3703927799608678,
          0.3703927799608678,
          2.002915947516295,
          0.530945343223125,
          0.2588974083713218,
          1.7417432659002843,
          2.291827352757929,
          0.37316792646088554,
          2.9784517013637406,
          0.3087899544127275,
          0.3087899544127275,
          -0.5914873815756952,
          0.8968739483220948,
          -0.5914873815756952,
          -1.1930250079650497,
          0.01034610546690429,
          -1.3351613186344062,
          -1.3351613186344062,
          -0.011675964518885171,
          -0.6726511789808163,
          -0.5224650660212821,
          -1.5299890618116907,
          -1.5047870221501276,
          -1.7770815816493346,
          -0.9240715777800786,
          -1.423893554042167,
          -1.3349729530417858,
          -1.038477788250167,
          -1.1744364552204738,
          -1.1314630095417955,
          1.179618552801149,
          -1.6080342616483212,
          -0.20186936892630766,
          1.4456683047663617,
          2.0413772308003204,
          0.549426926643818,
          0.453216789367976,
          -1.8496556750022197,
          -0.43119294726994256,
          -0.41877075665746766,
          -0.41346420811497286,
          -1.0656729827854927,
          -1.7542296817030194,
          -1.67147089948034,
          0.7250615650745165,
          -1.67147089948034,
          1.934795701007575,
          -0.4282762849296055,
          -1.3261007213726177,
          -0.4282762849296055,
          -1.039106152073606,
          -0.21769779158012134,
          0.2609993151613258,
          0.05973479339526403,
          -0.09335976320652012,
          -0.46355852718178997,
          -1.4651823209629196,
          -0.9632171000251507,
          1.7249149726170288,
          1.8949547630516752,
          1.3904088072018772,
          1.3904088072018772,
          1.3092565366192,
          0.5758719808741958,
          0.8570205873947536,
          0.5758719808741958,
          0.3846933442917306,
          1.33361728443143,
          -1.4138633479352762,
          0.6359067502510288,
          0.23187206392697043,
          -0.5674789373671075,
          -1.7805258765959775,
          -1.0339516807298728,
          0.21483772211527274,
          -0.7362137953186447,
          1.571493602928269,
          0.9459111026424495,
          -1.0358929633791314,
          -0.17714700519754165,
          1.0560647586374305,
          0.5568375037478946,
          1.1639135895624955,
          -0.15597914252603368,
          -0.45210338227981184,
          -0.8238195162730612,
          -1.0521883642031487,
          -1.9819856295772111,
          -1.334869787883401,
          0.01222946148677927,
          -1.8566937694961956,
          0.6439227041148402,
          -0.8227594957629593,
          0.6439227041148402,
          -0.6880333622270002,
          -0.6880333622270002,
          -0.8227594957629593,
          -0.9341002776742559,
          -0.521272593335277,
          -0.6126590236608476,
          -0.3826671822144219,
          -0.7184301967662966,
          -0.4027419694393458,
          -1.599874897068884,
          -0.8806105311639122,
          -0.9200503089363146,
          -1.6177370657863408,
          -1.2016258423024626,
          -1.0769251025244597,
          0.08368678727976146,
          -0.023159399051994885,
          1.4679892897306597,
          0.8221370816335607,
          1.3873568000612118,
          -0.5868398386725406,
          -0.23411794086563856,
          0.649133787098139,
          1.1810465957355616,
          -0.37355646345459426,
          -0.47595175001352064,
          -1.0054465654350184,
          -0.523737658686387,
          -0.0670738447381511,
          -0.19071079692687543,
          -0.6228062791130445,
          -0.31283618362690907,
          -1.683373576714769,
          1.6421894998862054,
          0.6177578830338121,
          -0.41026031759525433,
          -0.17044497594468574,
          0.4496263004466755,
          1.2855389070330017,
          0.3203925472090195,
          1.4705028034033265,
          1.5015041986295927,
          1.9999252562470953,
          -0.07463785928334447,
          -1.1386973745345692,
          0.8584512264414117,
          -0.5369026216347574,
          -1.744545592168475,
          -0.9666515971339587,
          0.5324862792942957,
          -0.42406702115228495,
          -0.24648913943736267,
          -1.3055472806446913,
          0.6557104283432058,
          -1.7731270435492035,
          -0.17722897178132008,
          -1.6694462687083744,
          -0.17722897178132008,
          0.9978111225122133,
          2.7858455670039355,
          1.116208046442464,
          1.0313066088874896,
          0.8833629193477712,
          0.38584005679541916,
          -0.4795780806815135,
          -0.9495810703737192,
          -1.8253339773844737,
          -0.6762682008456915,
          -0.9946955441625613,
          -1.1999164280638723,
          -0.5186411458445271,
          0.7340727272938893,
          -0.3255166019799875,
          -0.3388796442283809,
          -0.04473955433843936,
          -0.3255166019799875,
          -0.5846399394428712,
          -0.21979083112467643,
          -0.43770061113423964,
          -0.43770061113423964,
          0.49602270115787855,
          -1.4150276545573448,
          -0.7951444753618785,
          0.6566862680151067,
          -0.3126736941705397,
          0.8912276148440171,
          -0.8809523719378021,
          -0.417732206403699,
          -0.980756388976188,
          1.9070626372694466,
          -0.5220451122311527,
          -1.0925843951861458,
          -1.0448317098643158,
          0.5114423086856856,
          -0.5362800500279505,
          -1.4152860574708719,
          1.5027538761023946,
          0.19074516101932346,
          0.19074516101932346,
          0.5036274182477912,
          -0.4075932769392687,
          0.08097579049198027,
          -2.9610757429906096,
          -2.9610757429906096,
          -0.7122827520142774,
          -0.8225070208140511,
          -1.8178810630777076,
          -0.9937425098932052,
          -0.6668723919835347,
          -0.7122827520142774,
          -0.7122827520142774,
          -1.016350697725253,
          -0.9937425098932052,
          -0.9692288091603828,
          -0.531934795531864,
          -0.8225070208140511,
          -0.4607706431537511,
          0.9708936434953938,
          0.046718946962535826,
          0.4783019955500283,
          -0.12428448418788293,
          0.4783019955500283,
          0.250706552785647,
          -0.671023718996392,
          -0.8135613159273314,
          -0.09380218711845571,
          -0.46749209774344225,
          1.5993099605476533,
          0.6287108328088125,
          -0.14903355936812235,
          0.1298045298514321,
          0.19262355907754541,
          -0.9231718317238232,
          -1.0683894417520141,
          0.3805417358061013,
          -0.16848560049493988,
          0.05265057887650871,
          1.3779051026042421,
          -1.4033515317047078,
          1.111120062744462,
          1.9775583121381484,
          -0.1581467103254212,
          1.3155160792027043,
          -1.639677812002371,
          -1.6571735722951075,
          -1.270015050975582,
          -1.3021196052271438,
          1.5284516041049705,
          1.2167932591680095,
          0.8160258280290419,
          1.0450627677643003,
          1.1523794654561057,
          0.6302428112780584,
          0.16814038460444786,
          0.1718153125157496,
          0.16814038460444786,
          0.16814038460444786,
          -0.11098287107255854,
          0.16062975430418686,
          1.8880487300894877,
          1.659455088600072,
          0.8979661528794167,
          1.1273087409514255,
          1.7731287525424073,
          1.1569705235022547,
          0.17063074045494403,
          -2.3712657478364574,
          -2.3712657478364574,
          -0.7119864450014044,
          1.3053527262261486,
          -0.7734746638523292,
          0.2330659230835089,
          -1.744317782883558,
          1.6627124498343657,
          -1.2820211141356652,
          -0.6969463643561049,
          -1.8907806750554375,
          -1.200711572657191,
          -2.1158959267142032,
          -0.9201869869902284,
          -1.1093543298819937,
          -0.18638261063794928,
          -0.0897677329643595,
          -0.9201869869902284,
          -0.7050400914089677,
          -0.8794951516899012,
          -0.5340438673610561,
          -0.6144756450745031,
          -0.3880013237852592,
          -0.28849352591716504,
          -0.30499840321750293,
          -0.9100661012657763,
          -2.000645695926474,
          -0.42282025257534883,
          -2.1158959267142032,
          -1.4377907640981895,
          1.2735929051024857,
          -0.6177120265895205,
          -1.2701624941536989,
          -1.400279185128605,
          -0.45424115394590553,
          -1.7569339946660443,
          -0.15335846089000005,
          -1.032472983889145,
          1.062892500069341,
          -0.7323416671404823,
          -0.9448027011630111,
          -0.6126117586232317,
          0.7360348135131531,
          -0.5627537882954724,
          -1.926062218483782,
          0.9798826880175324,
          1.0253685501611003,
          1.510203604424545,
          0.5109137233231265,
          1.5908127534331578,
          -0.3668740925343287,
          -1.5039548068370523,
          -0.1760514246630563,
          -0.1760514246630563,
          1.609364087100349,
          2.555604738354828,
          1.609364087100349,
          -0.07576345541604369,
          1.324764042417528,
          0.6493791574672739,
          0.7354042079675397,
          1.8837864384860972,
          0.14040099086141958,
          0.9692128013022764,
          -0.3079501528316651,
          0.021243594724273878,
          1.5355456478259328,
          2.420110507401115,
          0.4573188380366324,
          3.259188856496627,
          0.4651460312507817,
          1.1595596941653754,
          -0.3440914999441032,
          -1.3586395154225293,
          0.8831459338108205,
          -1.240635708441918,
          -1.240635708441918,
          -1.240635708441918,
          -2.035915974629873,
          0.5625147255791937,
          -0.4784412384403652,
          -1.3628899770284342,
          0.17373568558224445,
          0.8444707048055672,
          0.7357398338128222,
          -1.027896434275484,
          -1.1221541045127117,
          -0.9829329450770571,
          -1.1375808586237055,
          0.17310675719722304,
          0.7084728161283199,
          1.6355282645578397,
          -0.14294211652685127,
          0.3960428734915081,
          1.2446805956487852
         ],
         "z": [
          0.15872255573917737,
          -0.37072761482939254,
          -0.5825754987736459,
          -0.19203861835757738,
          0.6441514318392356,
          -0.9237471696815769,
          0.6059880749027179,
          -0.49929950665615325,
          -0.15003313494369475,
          -1.1866517556835878,
          -0.6106468576778653,
          -0.08749564755419062,
          -0.3571887413423741,
          0.18109903059919624,
          -0.7997839766429803,
          -1.7645573583925223,
          -0.7064447305767938,
          -0.7993655165920851,
          -0.2290903563061404,
          -0.24869727188619764,
          0.191602577347352,
          0.41389580001822274,
          -0.08544085835036051,
          0.7514386328751335,
          -0.5805633563928474,
          0.09216129152020805,
          0.09216129152020805,
          -1.1349509169731462,
          -0.19638030706468473,
          -0.742829422608665,
          -0.48234287238330087,
          -0.6050321827288825,
          -1.189083671512289,
          -0.6050321827288825,
          0.9801877393920999,
          -1.2813702849292101,
          0.2751486493538958,
          2.614347183417042,
          0.5763196049107586,
          3.856460035166927,
          0.2751486493538958,
          0.8721513905390977,
          2.614347183417042,
          0.5763196049107586,
          -0.4283123476829333,
          -0.9428740981920443,
          -0.16023289427626336,
          -0.5935375772836955,
          -0.9995403990910843,
          -0.4877282650524395,
          -0.1001556282633454,
          0.316505270253332,
          1.4667740337743405,
          0.06874299798401556,
          -0.04157548635463429,
          0.5522092435660682,
          -0.45611408294081135,
          1.7920238508646211,
          0.9284268110388704,
          0.3142780619292254,
          0.2573473549174511,
          -0.8720568084572423,
          0.41129377085463503,
          -1.3897268189704834,
          0.5493381881846573,
          1.4625650711871143,
          -1.4073124178455216,
          -1.8648705759063362,
          -0.3113981490885079,
          0.36248010059851754,
          0.4790141966252754,
          -0.8760982129199228,
          -0.447324202213466,
          -0.41003724650963175,
          -0.7858393055261886,
          -0.3703941867307378,
          -0.6865398335758683,
          0.05634702054784128,
          -0.17318410489867075,
          0.1019360729387736,
          -0.8013388160370154,
          -0.018730161808215955,
          0.1654151685889553,
          0.5922569169473744,
          -1.0850779212026267,
          -1.0025225500612216,
          -0.5569402487611151,
          -0.09565745480132745,
          0.060476605599116384,
          -0.5815589880191436,
          -0.0978836555500741,
          -1.2226924725079227,
          -0.34790120483202097,
          -0.4903618727843888,
          -0.34172554969967545,
          0.04679149416448715,
          -0.8008351276812063,
          -0.35334140688467586,
          -0.14044150732897717,
          -0.3805265363766413,
          -1.1426452804350973,
          -0.5552934303145406,
          0.679355712026061,
          -0.0037859074891260992,
          -0.8057008746701614,
          1.0936842541800402,
          3.2714809042164625,
          -0.18749257889415472,
          0.046755786198041153,
          -1.152252600936157,
          -0.052203711205472327,
          -0.3422595539985303,
          0.7672145259136769,
          -0.22428780423136915,
          -0.8020831454676777,
          -0.8255649244211019,
          -1.0647642772257961,
          0.1974587826599338,
          -0.29733021776809226,
          0.09811524540818282,
          -0.9709094126418287,
          -0.7429789112074656,
          0.09811524540818282,
          -0.8892725621862737,
          0.4125793165143959,
          -0.8042187221649917,
          -0.873298336333403,
          -1.2802289732548051,
          0.14172033807996978,
          -0.873298336333403,
          0.14172033807996978,
          0.989050393583249,
          2.29840172195373,
          1.4773140881262405,
          1.5229633648086787,
          -1.1410084416263706,
          0.018775409254659856,
          1.975951327731182,
          -0.7049920213671103,
          -1.6398160614581307,
          -0.4777730340374668,
          -0.4777730340374668,
          -0.3107160552009936,
          0.5148540661642919,
          0.6067915635342179,
          0.665550241019592,
          0.8587275943122854,
          0.5202207364396925,
          0.6009560442003836,
          -0.6739670322189492,
          0.8717093284246112,
          2.494339634180349,
          1.0573344269128573,
          0.7634024059785381,
          0.12800575225873123,
          2.115473504546397,
          -0.6739670322189492,
          2.115473504546397,
          2.115473504546397,
          -0.41450584899730125,
          1.1090910610017963,
          0.7634024059785381,
          1.0093881166410377,
          -0.6739670322189492,
          0.6231027410044138,
          1.0093881166410377,
          -0.4609544097904008,
          -1.4475178189083333,
          0.6116718592441869,
          1.921303121419991,
          3.1593691001376922,
          -2.3215034456174872,
          2.5240410974246528,
          -1.156453374708072,
          -0.4609544097904008,
          1.6666487496982985,
          1.5392329164193639,
          0.06025056461988235,
          0.6395794433358785,
          0.0024251732100466603,
          0.443338184740002,
          0.5438914536650626,
          -0.2862849906096689,
          0.7067317979442764,
          -0.11453930632789468,
          1.1278417388863746,
          1.6436230875693085,
          -0.4609544097904008,
          0.7217721078925274,
          0.16168532528102705,
          0.7217721078925274,
          1.8899935321423798,
          -1.3110013305626278,
          0.7859735639686442,
          -0.1504592445152793,
          0.4697331745136452,
          0.6400829896687779,
          -0.1504592445152793,
          0.4697331745136452,
          0.6400829896687779,
          0.3582086625888929,
          -0.1504592445152793,
          1.1483157944177382,
          -0.7515129545872332,
          -0.22590378247120962,
          -0.7515129545872332,
          -0.8181211854695787,
          -1.2553912257982136,
          0.06881659221606905,
          -0.022552760724224855,
          1.4206065990700292,
          0.29629668798927405,
          0.26946395290200786,
          -0.6564870004375516,
          0.12760782032658308,
          1.1024741148541086,
          0.41335245595119097,
          -1.6371794336835992,
          -1.5471475638012673,
          1.1283588032679057,
          0.6043804703269842,
          -0.19228466808816475,
          0.4528199686362378,
          0.5769502626297693,
          -0.22855528603310543,
          -1.3116296300348569,
          -0.1813399533416889,
          -0.3278174021821837,
          -1.1049216687917833,
          -1.2094097673071211,
          -1.2568495839175964,
          0.6976608760865325,
          -1.0637375213394507,
          0.24614458221693514,
          -0.45286703319595184,
          -0.6441421018298352,
          0.24614458221693514,
          -0.8244625251867042,
          -0.45286703319595184,
          1.4382331538048452,
          0.4737173997700161,
          1.2821827976207443,
          -0.7850578382278324,
          -1.0618709021079877,
          -0.7234592502424552,
          -2.0285872945777146,
          0.366464372258693,
          -0.9697296777095626,
          0.6933380566040531,
          -0.35690941566257267,
          0.78253802461844,
          -0.8658130207298411,
          0.97135578314302,
          -0.46626263187158545,
          -0.18380176402158435,
          -0.18380176402158435,
          0.7769825707075397,
          -0.3072117989110112,
          0.5934142312166465,
          -0.925645880581263,
          -1.1875530473163025,
          -0.5324282498764854,
          0.04214231623637651,
          0.43136670038890773,
          -0.4476718110463464,
          -0.5545748045611787,
          0.08275523632731134,
          -0.03404102268993988,
          2.0050967254038485,
          2.8430890927037047,
          -0.1735330495947822,
          -0.6865328993156389,
          -0.5053129317981729,
          0.3967478240322049,
          -0.3394386785076151,
          0.4159308294604462,
          -0.14269780534322818,
          -0.2915324551226925,
          -0.03209950345942565,
          -0.27312294266738263,
          0.324437528638723,
          -0.531966540722277,
          -0.7788760069226262,
          -0.2437475407640176,
          -0.36968961458273086,
          0.11679890434005419,
          0.4744109263859903,
          0.03542443324028818,
          -1.430907980293557,
          -1.4197629626321642,
          -0.8566841836521487,
          1.5240078836262276,
          0.454197744027527,
          -0.21414709522418365,
          -0.8860897306343601,
          -0.19687008149929472,
          -1.2350479609978953,
          -0.4030194166339137,
          -0.17023127791246506,
          2.9264474830294205,
          1.048286228202486,
          2.6192313345955576,
          -0.3810466746761576,
          -0.25707562250138044,
          1.0306132496154086,
          -0.23705284639190385,
          -0.6512620047991747,
          -0.14624011864658076,
          -0.6385331545975461,
          0.18180482851713953,
          -0.23775674716078715,
          -0.07090911513404756,
          -0.24893462211159398,
          -0.36607927905448173,
          -0.6546324106343535,
          1.156983231156725,
          -0.25433847609552246,
          0.2894769082019338,
          -0.39052159966654415,
          3.649775331052264,
          -0.5345934090032755,
          0.0983541510851589,
          0.17673871386650827,
          0.4523143442698432,
          -0.2628766401517901,
          -0.1322990426746447,
          -0.321303979119383,
          3.652122006256568,
          -0.3521085875685384,
          2.2284218849886455,
          -0.5395501167151172,
          1.828193929365975,
          1.1720318517743191,
          -0.30867900712986907,
          -0.5546263551558919,
          -0.042684838688030705,
          0.7829106658605236,
          -0.05623346427886324,
          -0.31061901314537665,
          -1.6629596138633678,
          -2.140914670816832,
          -0.3744720254364322,
          -0.5358560510455236,
          -0.6700729800381396,
          -1.1712142032298671,
          -0.47854470749270367,
          0.3839883710825631,
          0.0918829425728875,
          0.0918829425728875,
          1.0877791445085268,
          3.2310916976879476,
          1.9985811730881564,
          0.3803308018258182,
          -1.0320185235650021,
          -0.6133080390832985,
          -1.9295088931439106,
          1.9406841607135221,
          0.7423770666278586,
          -0.8573022032036782,
          -0.39255506970532217,
          -0.6680284624103843,
          -0.6171094109605452,
          -1.1460274663526835,
          -0.8929057835795977,
          -0.9783292775683696,
          -0.31092921345443697,
          -1.33621526189036,
          -0.8203603190852224,
          -1.8602468379209591,
          -0.1807403244511891,
          1.1942512677330084,
          0.2621542980417035,
          -1.058325833259196,
          -0.9273113831270743,
          -0.601919917858437,
          -1.372273100854361,
          -0.601919917858437,
          -1.372273100854361,
          -1.372273100854361,
          -1.1402375433128635,
          -0.39795829931520627,
          -0.42423301080017384,
          -0.04927459507649709,
          -0.5456834448484866,
          -0.35985176966764565,
          -1.2073499605292126,
          -0.17648792443036831,
          -1.2118086334999656,
          1.4973810648253407,
          -0.631003021840224,
          -0.631003021840224,
          0.8422713191532228,
          -1.2440834271863446,
          0.5150163133897727,
          -0.7281976351098577,
          1.051090704050433,
          -0.7011592836071094,
          -0.7281976351098577,
          1.7194822837263009,
          0.8006127862317687,
          0.5937449799520557,
          -1.438905841245122,
          -1.0819090036160766,
          -0.007942514217832698,
          -0.6800740204505078,
          -0.7149558318194708,
          -1.6968190805631176,
          0.8796785623855327,
          -1.4126841022833654,
          -0.4243367889199068,
          -0.4243367889199068,
          0.7081434015064925,
          -0.03875342240315008,
          -0.03875342240315008,
          -0.019940245492737617,
          -0.6068690506306418,
          -0.6068690506306418,
          -1.1010759145573787,
          0.38433065685613726,
          0.015039666121176305,
          1.3532139175628974,
          -0.6024588211671319,
          -0.8339870517538059,
          -0.8357960799341284,
          -0.9232730854535315,
          0.24975157330424944,
          0.20156766349229754,
          -0.8174520756516115,
          0.28123982970606914,
          -0.6519951617528673,
          -0.7961368564742902,
          2.392185553722209,
          3.358861172808306,
          4.332866722296091,
          5.51906519236551,
          3.556658522068524,
          3.4584738016634096,
          3.6655459914650077,
          0.5495281071436504,
          0.05286266735624474,
          0.013746048761211348,
          0.7771933242277637,
          0.21412985484983063,
          -0.9068446937233013,
          0.3127895266176042,
          -0.027030835220329202,
          0.4846266284415032,
          0.4846266284415032,
          -0.4291994517002536,
          -0.19927269662878722,
          0.4846266284415032,
          0.39725928786773734,
          0.281702292157439,
          -0.027030835220329202,
          0.281702292157439,
          -0.8957285861565628,
          1.7851794830603125,
          -0.5924120341416766,
          -0.39146025944924684,
          0.2629195495077648,
          0.4219068913607614,
          -0.7773325214462732,
          -0.7773325214462732,
          -0.9326154769526501,
          0.7598661183238345,
          0.5424202253075077,
          2.660654034375124,
          0.0714574970661042,
          -0.44832996993160207,
          -0.03416461787067067,
          -0.5962875716272202,
          -0.5962875716272202,
          1.4164456483157764,
          2.2578856782445977,
          1.4164456483157764,
          2.190316567728798,
          -0.5983684809580719,
          0.13674635017688697,
          0.13674635017688697,
          1.0051334770216929,
          2.047348879707602,
          0.872061072035083,
          1.9849554559289362,
          -0.24177931180183593,
          2.0499386500478654,
          1.468116560787099,
          2.116547813758888,
          1.109649794786885,
          0.5256949053839389,
          1.7632748235224536,
          -0.010396404738246616,
          -1.2209180530438442,
          0.5941363999435818,
          -0.8601381088648297,
          -0.011309752478767318,
          -0.9754037345301059,
          -1.5656182234918754,
          -1.0696382455896443,
          -0.24070345883941402,
          0.09970592389750206,
          -0.6735474739015256,
          -0.5699500475468632,
          0.04829317947849092,
          0.4918273579463796,
          0.8131933705430786,
          -0.7116019086923056,
          0.8131933705430786,
          0.7699933563376212,
          -0.2494179585023918,
          -0.6874715861848978,
          -0.2494179585023918,
          0.016716690630767393,
          -0.9860568011291291,
          -0.33968250825025276,
          -0.6696709537975789,
          -0.6169983671123267,
          -0.9466474441649239,
          -0.31103092708712793,
          0.06173422211658867,
          -0.16713101569102937,
          -0.05655066045557975,
          2.882649560841786,
          2.882649560841786,
          1.5123369355532639,
          1.9587100784554836,
          -1.013084285509776,
          1.9587100784554836,
          -0.9750913736293888,
          -1.2140075938558945,
          -0.3714870366108743,
          0.02005921081424807,
          -0.3667339880583978,
          -0.3674198046580591,
          1.2719154267131274,
          -0.5170275631060284,
          2.3053685526521,
          -0.0482394017424188,
          -1.0698916452537748,
          -1.09508782711819,
          -0.7884782801203886,
          -1.0830621298789598,
          0.5648004807034416,
          -0.5860589695296282,
          -0.45595128329682366,
          0.005242446088166735,
          -0.5472820739402896,
          -0.9066706096436318,
          -0.7172783092202479,
          -0.17332298569472088,
          1.152436522415198,
          0.6050699696273822,
          0.9585988437702325,
          -0.9785823032664577,
          0.46106917029259636,
          -0.9785823032664577,
          -0.6146171475740991,
          -0.6146171475740991,
          0.46106917029259636,
          0.08162379042030962,
          0.6700482132943801,
          2.337958121902263,
          0.21645145432537582,
          -0.12271855147009858,
          0.08050966476290973,
          1.2615145057984773,
          -0.16344622482165921,
          0.5224682632931267,
          0.44108972485969367,
          -0.10707551962057142,
          -0.5677185812641651,
          -0.48503516867395663,
          -0.6758941038142655,
          -0.730833496298856,
          0.24468008955906517,
          -1.0412559340458873,
          -0.10632005961753735,
          -0.3648840493815422,
          -1.0519614077578545,
          0.5983501617369485,
          -0.5419377345627493,
          -0.2584200933884989,
          1.1560617320936506,
          0.3355414054892681,
          -0.7199011726832699,
          -0.905662314392596,
          -0.35372306340034065,
          -0.9247030267098139,
          0.7103710583677684,
          1.274567657152561,
          -1.5167036850330184,
          0.08894363520760097,
          -0.18570314461132226,
          -0.31301189620194764,
          -0.3244843298131208,
          -0.9193995379942095,
          0.7195141924665729,
          3.1296832012273827,
          -0.6405521050287863,
          -0.031769928279420635,
          0.48927017674098244,
          -0.5797883908204238,
          0.15145056502722665,
          0.327125408925934,
          0.012805704379012645,
          -0.5671750863771496,
          -0.7895069359536813,
          -0.23249151942126367,
          1.394420282516075,
          -1.162102814901043,
          -0.36572502849956723,
          -0.13892153453258374,
          0.9242011019510191,
          -0.13892153453258374,
          0.6530277777347683,
          -0.4134049955036638,
          -1.348249885307825,
          -1.0892739371283804,
          -1.102346970475432,
          0.013817688189939586,
          0.43693667214583903,
          -0.2414073851846191,
          -0.16175784644420008,
          1.8364422532128764,
          -0.5462388384089469,
          -0.44837139571593815,
          -0.6102311789207046,
          -1.2317423292980911,
          0.716308441662656,
          0.6790624202858949,
          3.3394982869298904,
          0.716308441662656,
          -0.42038664258355324,
          3.414604597435904,
          -0.17872284442480604,
          -0.17872284442480604,
          -1.1118356763034387,
          -0.14356942230888187,
          0.3533941798479709,
          -0.6966242905136272,
          -0.790519660023068,
          -0.91632497148664,
          -0.21494933168018684,
          -0.7216444630002252,
          -0.4736715121527559,
          -1.6318935783026824,
          1.0521295951671008,
          -0.7327180322186375,
          0.15014926691843405,
          0.516516912311226,
          2.585020118900838,
          3.859711949495601,
          -0.4997706009793332,
          1.8418567906527272,
          1.8418567906527272,
          -1.1848243741229725,
          -0.5749761960389387,
          -0.6293063708936762,
          0.7990387401981406,
          0.7990387401981406,
          -0.8244785037029061,
          -0.4472134649860663,
          -0.05489701654600321,
          0.66228829684864,
          -0.07345222912552268,
          -0.8244785037029061,
          -0.8244785037029061,
          1.6095997420789772,
          0.66228829684864,
          -0.2562872679567907,
          0.8873628259748896,
          -0.4472134649860663,
          -1.0092611569008307,
          0.1418321058441148,
          0.9748322411891973,
          -0.12866996546032536,
          1.2972821673187758,
          -0.12866996546032536,
          0.1569626069367777,
          -0.2626831298069398,
          -0.8109681293365969,
          0.39459974306226464,
          -0.39855062140642017,
          -1.91893752377481,
          -0.8400758976470736,
          -1.021086972786331,
          -0.22115866856144398,
          -1.1981466808521406,
          0.14668876566754802,
          -0.4687717428411229,
          -0.5515486257103602,
          -0.9762814500977113,
          -0.9796964954338714,
          -1.5240324737227604,
          0.05355409884612509,
          0.5856066833464272,
          1.270745447951444,
          -0.7012251091818501,
          -1.0813111421059258,
          0.02073914896760881,
          -0.044140212066679625,
          -0.010315661168691799,
          -0.240391134450268,
          -1.8512728865753934,
          -1.0725972969327313,
          -1.241594275565367,
          -1.1368797215317308,
          -0.6908638972851968,
          -0.9298772716009667,
          0.06147490466717031,
          -0.45471437304707923,
          0.06147490466717031,
          0.06147490466717031,
          -0.5693343961509788,
          -0.7945712876067579,
          -1.1430343224593262,
          -1.684754344426531,
          -1.4302101702517083,
          -1.500442404126974,
          -0.6349342942471226,
          -0.5775488957224763,
          2.742570695830115,
          1.678312584886436,
          1.678312584886436,
          3.5155915418689507,
          -1.6362750785699605,
          -0.5422566415986909,
          -1.0606425993689803,
          0.31207169865692497,
          -0.8802375727702407,
          -0.3003059619420094,
          -0.6016487927435544,
          2.599089357518121,
          2.7884509184826336,
          0.5470489693055162,
          -0.9083037011391091,
          0.11785194678544526,
          -0.722894631683213,
          0.7536415284530035,
          -0.9083037011391091,
          -0.20285497663141835,
          -0.6765859084392275,
          1.4501529911844109,
          -0.6263352967610846,
          -0.42797269473007626,
          0.8758054453050503,
          -0.8798857683546291,
          -0.11198653697091877,
          0.9314269648595082,
          0.6301786019958385,
          0.5470489693055162,
          0.500205769905913,
          -0.5131914888301701,
          -0.026204452106129,
          -0.17180441975721783,
          -0.10440199490977352,
          -0.7211264021504328,
          -0.03129588225658372,
          -0.10980054905530563,
          -0.4765725398805514,
          -1.4010706730472828,
          -0.5625314973389596,
          -0.3545645326929981,
          -0.2779310320399822,
          0.8416661757028581,
          0.19086495768688333,
          -0.42294177302023117,
          -1.0234023144742823,
          -0.35340036354605764,
          -1.6272275353082457,
          -0.04142117032095004,
          -0.9302107019102925,
          -0.5497166229051659,
          -0.10481568975299844,
          0.4252928090088099,
          0.4252928090088099,
          0.02476241109970559,
          1.6243523584909099,
          0.02476241109970559,
          2.5931284443437166,
          -1.4000658968075763,
          -1.2556549547023577,
          -1.4768818137545368,
          -0.6418844071977743,
          0.32138270616388115,
          -1.218007685741342,
          -0.26181878719825996,
          0.2056325264909217,
          -1.1867820753752774,
          -0.7102918443962211,
          -0.6229991126837966,
          1.5695267146472576,
          -1.5765562490598048,
          -1.549790250569839,
          -0.2534215721446856,
          0.41150355897868635,
          -0.09723931247381164,
          -0.5724110585768897,
          -0.5724110585768897,
          -0.5724110585768897,
          0.7029355109827944,
          -0.12198632759694007,
          -0.43636935283568984,
          -0.13659157704380567,
          -0.8418428323576487,
          -1.289871390698115,
          -1.4969603855385374,
          -0.7552036420912277,
          -0.7455230505507617,
          -0.04397341915032861,
          -0.9319332513619428,
          -0.23903976257292028,
          -0.595044604322145,
          -0.9873138643788991,
          -0.988710049156179,
          -0.8703847465938598,
          0.16475607276114082
         ]
        }
       ],
       "layout": {
        "coloraxis": {
         "colorbar": {
          "title": {
           "text": "Cluster"
          }
         },
         "colorscale": [
          [
           0,
           "#0d0887"
          ],
          [
           0.1111111111111111,
           "#46039f"
          ],
          [
           0.2222222222222222,
           "#7201a8"
          ],
          [
           0.3333333333333333,
           "#9c179e"
          ],
          [
           0.4444444444444444,
           "#bd3786"
          ],
          [
           0.5555555555555556,
           "#d8576b"
          ],
          [
           0.6666666666666666,
           "#ed7953"
          ],
          [
           0.7777777777777778,
           "#fb9f3a"
          ],
          [
           0.8888888888888888,
           "#fdca26"
          ],
          [
           1,
           "#f0f921"
          ]
         ]
        },
        "legend": {
         "tracegroupgap": 0
        },
        "margin": {
         "t": 60
        },
        "scene": {
         "domain": {
          "x": [
           0,
           1
          ],
          "y": [
           0,
           1
          ]
         },
         "xaxis": {
          "title": {
           "text": "0"
          }
         },
         "yaxis": {
          "title": {
           "text": "1"
          }
         },
         "zaxis": {
          "title": {
           "text": "2"
          }
         }
        },
        "template": {
         "data": {
          "bar": [
           {
            "error_x": {
             "color": "#2a3f5f"
            },
            "error_y": {
             "color": "#2a3f5f"
            },
            "marker": {
             "line": {
              "color": "#E5ECF6",
              "width": 0.5
             },
             "pattern": {
              "fillmode": "overlay",
              "size": 10,
              "solidity": 0.2
             }
            },
            "type": "bar"
           }
          ],
          "barpolar": [
           {
            "marker": {
             "line": {
              "color": "#E5ECF6",
              "width": 0.5
             },
             "pattern": {
              "fillmode": "overlay",
              "size": 10,
              "solidity": 0.2
             }
            },
            "type": "barpolar"
           }
          ],
          "carpet": [
           {
            "aaxis": {
             "endlinecolor": "#2a3f5f",
             "gridcolor": "white",
             "linecolor": "white",
             "minorgridcolor": "white",
             "startlinecolor": "#2a3f5f"
            },
            "baxis": {
             "endlinecolor": "#2a3f5f",
             "gridcolor": "white",
             "linecolor": "white",
             "minorgridcolor": "white",
             "startlinecolor": "#2a3f5f"
            },
            "type": "carpet"
           }
          ],
          "choropleth": [
           {
            "colorbar": {
             "outlinewidth": 0,
             "ticks": ""
            },
            "type": "choropleth"
           }
          ],
          "contour": [
           {
            "colorbar": {
             "outlinewidth": 0,
             "ticks": ""
            },
            "colorscale": [
             [
              0,
              "#0d0887"
             ],
             [
              0.1111111111111111,
              "#46039f"
             ],
             [
              0.2222222222222222,
              "#7201a8"
             ],
             [
              0.3333333333333333,
              "#9c179e"
             ],
             [
              0.4444444444444444,
              "#bd3786"
             ],
             [
              0.5555555555555556,
              "#d8576b"
             ],
             [
              0.6666666666666666,
              "#ed7953"
             ],
             [
              0.7777777777777778,
              "#fb9f3a"
             ],
             [
              0.8888888888888888,
              "#fdca26"
             ],
             [
              1,
              "#f0f921"
             ]
            ],
            "type": "contour"
           }
          ],
          "contourcarpet": [
           {
            "colorbar": {
             "outlinewidth": 0,
             "ticks": ""
            },
            "type": "contourcarpet"
           }
          ],
          "heatmap": [
           {
            "colorbar": {
             "outlinewidth": 0,
             "ticks": ""
            },
            "colorscale": [
             [
              0,
              "#0d0887"
             ],
             [
              0.1111111111111111,
              "#46039f"
             ],
             [
              0.2222222222222222,
              "#7201a8"
             ],
             [
              0.3333333333333333,
              "#9c179e"
             ],
             [
              0.4444444444444444,
              "#bd3786"
             ],
             [
              0.5555555555555556,
              "#d8576b"
             ],
             [
              0.6666666666666666,
              "#ed7953"
             ],
             [
              0.7777777777777778,
              "#fb9f3a"
             ],
             [
              0.8888888888888888,
              "#fdca26"
             ],
             [
              1,
              "#f0f921"
             ]
            ],
            "type": "heatmap"
           }
          ],
          "heatmapgl": [
           {
            "colorbar": {
             "outlinewidth": 0,
             "ticks": ""
            },
            "colorscale": [
             [
              0,
              "#0d0887"
             ],
             [
              0.1111111111111111,
              "#46039f"
             ],
             [
              0.2222222222222222,
              "#7201a8"
             ],
             [
              0.3333333333333333,
              "#9c179e"
             ],
             [
              0.4444444444444444,
              "#bd3786"
             ],
             [
              0.5555555555555556,
              "#d8576b"
             ],
             [
              0.6666666666666666,
              "#ed7953"
             ],
             [
              0.7777777777777778,
              "#fb9f3a"
             ],
             [
              0.8888888888888888,
              "#fdca26"
             ],
             [
              1,
              "#f0f921"
             ]
            ],
            "type": "heatmapgl"
           }
          ],
          "histogram": [
           {
            "marker": {
             "pattern": {
              "fillmode": "overlay",
              "size": 10,
              "solidity": 0.2
             }
            },
            "type": "histogram"
           }
          ],
          "histogram2d": [
           {
            "colorbar": {
             "outlinewidth": 0,
             "ticks": ""
            },
            "colorscale": [
             [
              0,
              "#0d0887"
             ],
             [
              0.1111111111111111,
              "#46039f"
             ],
             [
              0.2222222222222222,
              "#7201a8"
             ],
             [
              0.3333333333333333,
              "#9c179e"
             ],
             [
              0.4444444444444444,
              "#bd3786"
             ],
             [
              0.5555555555555556,
              "#d8576b"
             ],
             [
              0.6666666666666666,
              "#ed7953"
             ],
             [
              0.7777777777777778,
              "#fb9f3a"
             ],
             [
              0.8888888888888888,
              "#fdca26"
             ],
             [
              1,
              "#f0f921"
             ]
            ],
            "type": "histogram2d"
           }
          ],
          "histogram2dcontour": [
           {
            "colorbar": {
             "outlinewidth": 0,
             "ticks": ""
            },
            "colorscale": [
             [
              0,
              "#0d0887"
             ],
             [
              0.1111111111111111,
              "#46039f"
             ],
             [
              0.2222222222222222,
              "#7201a8"
             ],
             [
              0.3333333333333333,
              "#9c179e"
             ],
             [
              0.4444444444444444,
              "#bd3786"
             ],
             [
              0.5555555555555556,
              "#d8576b"
             ],
             [
              0.6666666666666666,
              "#ed7953"
             ],
             [
              0.7777777777777778,
              "#fb9f3a"
             ],
             [
              0.8888888888888888,
              "#fdca26"
             ],
             [
              1,
              "#f0f921"
             ]
            ],
            "type": "histogram2dcontour"
           }
          ],
          "mesh3d": [
           {
            "colorbar": {
             "outlinewidth": 0,
             "ticks": ""
            },
            "type": "mesh3d"
           }
          ],
          "parcoords": [
           {
            "line": {
             "colorbar": {
              "outlinewidth": 0,
              "ticks": ""
             }
            },
            "type": "parcoords"
           }
          ],
          "pie": [
           {
            "automargin": true,
            "type": "pie"
           }
          ],
          "scatter": [
           {
            "marker": {
             "colorbar": {
              "outlinewidth": 0,
              "ticks": ""
             }
            },
            "type": "scatter"
           }
          ],
          "scatter3d": [
           {
            "line": {
             "colorbar": {
              "outlinewidth": 0,
              "ticks": ""
             }
            },
            "marker": {
             "colorbar": {
              "outlinewidth": 0,
              "ticks": ""
             }
            },
            "type": "scatter3d"
           }
          ],
          "scattercarpet": [
           {
            "marker": {
             "colorbar": {
              "outlinewidth": 0,
              "ticks": ""
             }
            },
            "type": "scattercarpet"
           }
          ],
          "scattergeo": [
           {
            "marker": {
             "colorbar": {
              "outlinewidth": 0,
              "ticks": ""
             }
            },
            "type": "scattergeo"
           }
          ],
          "scattergl": [
           {
            "marker": {
             "colorbar": {
              "outlinewidth": 0,
              "ticks": ""
             }
            },
            "type": "scattergl"
           }
          ],
          "scattermapbox": [
           {
            "marker": {
             "colorbar": {
              "outlinewidth": 0,
              "ticks": ""
             }
            },
            "type": "scattermapbox"
           }
          ],
          "scatterpolar": [
           {
            "marker": {
             "colorbar": {
              "outlinewidth": 0,
              "ticks": ""
             }
            },
            "type": "scatterpolar"
           }
          ],
          "scatterpolargl": [
           {
            "marker": {
             "colorbar": {
              "outlinewidth": 0,
              "ticks": ""
             }
            },
            "type": "scatterpolargl"
           }
          ],
          "scatterternary": [
           {
            "marker": {
             "colorbar": {
              "outlinewidth": 0,
              "ticks": ""
             }
            },
            "type": "scatterternary"
           }
          ],
          "surface": [
           {
            "colorbar": {
             "outlinewidth": 0,
             "ticks": ""
            },
            "colorscale": [
             [
              0,
              "#0d0887"
             ],
             [
              0.1111111111111111,
              "#46039f"
             ],
             [
              0.2222222222222222,
              "#7201a8"
             ],
             [
              0.3333333333333333,
              "#9c179e"
             ],
             [
              0.4444444444444444,
              "#bd3786"
             ],
             [
              0.5555555555555556,
              "#d8576b"
             ],
             [
              0.6666666666666666,
              "#ed7953"
             ],
             [
              0.7777777777777778,
              "#fb9f3a"
             ],
             [
              0.8888888888888888,
              "#fdca26"
             ],
             [
              1,
              "#f0f921"
             ]
            ],
            "type": "surface"
           }
          ],
          "table": [
           {
            "cells": {
             "fill": {
              "color": "#EBF0F8"
             },
             "line": {
              "color": "white"
             }
            },
            "header": {
             "fill": {
              "color": "#C8D4E3"
             },
             "line": {
              "color": "white"
             }
            },
            "type": "table"
           }
          ]
         },
         "layout": {
          "annotationdefaults": {
           "arrowcolor": "#2a3f5f",
           "arrowhead": 0,
           "arrowwidth": 1
          },
          "autotypenumbers": "strict",
          "coloraxis": {
           "colorbar": {
            "outlinewidth": 0,
            "ticks": ""
           }
          },
          "colorscale": {
           "diverging": [
            [
             0,
             "#8e0152"
            ],
            [
             0.1,
             "#c51b7d"
            ],
            [
             0.2,
             "#de77ae"
            ],
            [
             0.3,
             "#f1b6da"
            ],
            [
             0.4,
             "#fde0ef"
            ],
            [
             0.5,
             "#f7f7f7"
            ],
            [
             0.6,
             "#e6f5d0"
            ],
            [
             0.7,
             "#b8e186"
            ],
            [
             0.8,
             "#7fbc41"
            ],
            [
             0.9,
             "#4d9221"
            ],
            [
             1,
             "#276419"
            ]
           ],
           "sequential": [
            [
             0,
             "#0d0887"
            ],
            [
             0.1111111111111111,
             "#46039f"
            ],
            [
             0.2222222222222222,
             "#7201a8"
            ],
            [
             0.3333333333333333,
             "#9c179e"
            ],
            [
             0.4444444444444444,
             "#bd3786"
            ],
            [
             0.5555555555555556,
             "#d8576b"
            ],
            [
             0.6666666666666666,
             "#ed7953"
            ],
            [
             0.7777777777777778,
             "#fb9f3a"
            ],
            [
             0.8888888888888888,
             "#fdca26"
            ],
            [
             1,
             "#f0f921"
            ]
           ],
           "sequentialminus": [
            [
             0,
             "#0d0887"
            ],
            [
             0.1111111111111111,
             "#46039f"
            ],
            [
             0.2222222222222222,
             "#7201a8"
            ],
            [
             0.3333333333333333,
             "#9c179e"
            ],
            [
             0.4444444444444444,
             "#bd3786"
            ],
            [
             0.5555555555555556,
             "#d8576b"
            ],
            [
             0.6666666666666666,
             "#ed7953"
            ],
            [
             0.7777777777777778,
             "#fb9f3a"
            ],
            [
             0.8888888888888888,
             "#fdca26"
            ],
            [
             1,
             "#f0f921"
            ]
           ]
          },
          "colorway": [
           "#636efa",
           "#EF553B",
           "#00cc96",
           "#ab63fa",
           "#FFA15A",
           "#19d3f3",
           "#FF6692",
           "#B6E880",
           "#FF97FF",
           "#FECB52"
          ],
          "font": {
           "color": "#2a3f5f"
          },
          "geo": {
           "bgcolor": "white",
           "lakecolor": "white",
           "landcolor": "#E5ECF6",
           "showlakes": true,
           "showland": true,
           "subunitcolor": "white"
          },
          "hoverlabel": {
           "align": "left"
          },
          "hovermode": "closest",
          "mapbox": {
           "style": "light"
          },
          "paper_bgcolor": "white",
          "plot_bgcolor": "#E5ECF6",
          "polar": {
           "angularaxis": {
            "gridcolor": "white",
            "linecolor": "white",
            "ticks": ""
           },
           "bgcolor": "#E5ECF6",
           "radialaxis": {
            "gridcolor": "white",
            "linecolor": "white",
            "ticks": ""
           }
          },
          "scene": {
           "xaxis": {
            "backgroundcolor": "#E5ECF6",
            "gridcolor": "white",
            "gridwidth": 2,
            "linecolor": "white",
            "showbackground": true,
            "ticks": "",
            "zerolinecolor": "white"
           },
           "yaxis": {
            "backgroundcolor": "#E5ECF6",
            "gridcolor": "white",
            "gridwidth": 2,
            "linecolor": "white",
            "showbackground": true,
            "ticks": "",
            "zerolinecolor": "white"
           },
           "zaxis": {
            "backgroundcolor": "#E5ECF6",
            "gridcolor": "white",
            "gridwidth": 2,
            "linecolor": "white",
            "showbackground": true,
            "ticks": "",
            "zerolinecolor": "white"
           }
          },
          "shapedefaults": {
           "line": {
            "color": "#2a3f5f"
           }
          },
          "ternary": {
           "aaxis": {
            "gridcolor": "white",
            "linecolor": "white",
            "ticks": ""
           },
           "baxis": {
            "gridcolor": "white",
            "linecolor": "white",
            "ticks": ""
           },
           "bgcolor": "#E5ECF6",
           "caxis": {
            "gridcolor": "white",
            "linecolor": "white",
            "ticks": ""
           }
          },
          "title": {
           "x": 0.05
          },
          "xaxis": {
           "automargin": true,
           "gridcolor": "white",
           "linecolor": "white",
           "ticks": "",
           "title": {
            "standoff": 15
           },
           "zerolinecolor": "white",
           "zerolinewidth": 2
          },
          "yaxis": {
           "automargin": true,
           "gridcolor": "white",
           "linecolor": "white",
           "ticks": "",
           "title": {
            "standoff": 15
           },
           "zerolinecolor": "white",
           "zerolinewidth": 2
          }
         }
        }
       }
      },
      "text/html": [
       "<div>                            <div id=\"f50ad7b1-1002-4695-8f47-1e732bcd1acc\" class=\"plotly-graph-div\" style=\"height:525px; width:100%;\"></div>            <script type=\"text/javascript\">                require([\"plotly\"], function(Plotly) {                    window.PLOTLYENV=window.PLOTLYENV || {};                                    if (document.getElementById(\"f50ad7b1-1002-4695-8f47-1e732bcd1acc\")) {                    Plotly.newPlot(                        \"f50ad7b1-1002-4695-8f47-1e732bcd1acc\",                        [{\"customdata\":[[\"So Long, Goodbye - Live\",\"10 Years\",\"rock\"],[\"Here Without You\",\"3 Doors Down\",\"rock\"],[\"What's Up?\",\"4 Non Blondes\",\"pop\"],[\"Ghost Of You\",\"5 Seconds of Summer\",\"pop\"],[\"If It Means a Lot to You\",\"A Day To Remember\",\"post hardcore\"],[\"All I Want - Acoustic\",\"A Day To Remember\",\"post hardcore\"],[\"If It Means A Lot To You\",\"A Day To Remember\",\"post hardcore\"],[\"3 Libras\",\"A Perfect Circle\",\"rock\"],[\"Back In Black\",\"AC/DC\",\"classic rock\"],[\"Chasing Pavements\",\"Adele\",\"pop\"],[\"Let Me Down Slowly\",\"Alec Benjamin\",\"pop\"],[\"If I Ain't Got You\",\"Alicia Keys\",\"R&B\"],[\"Electric (feat. Khalid)\",\"Alina Baraz\",\"rap\"],[\"Therapy\",\"All Time Low\",\"emo\"],[\"Fool's Holiday\",\"All Time Low\",\"emo\"],[\"Best Day Of My Life\",\"American Authors\",\"pop\"],[\"West Coast Christmas\",\"Anarbor\",\"pop punk\"],[\"Christmas, Baby Please Come Home\",\"Anberlin\",\"pop punk\"],[\"I Put A Spell On You (Fifty Shades of Grey) - From \\\"Fifty Shades Of Grey\\\" Soundtrack\",\"Annie Lennox\",\"pop\"],[\"Cancion del Mariachi\",\"Antonio Banderas\",\"reggaeton\"],[\"R U Mine?\",\"Arctic Monkeys\",\"pop\"],[\"7 rings\",\"Ariana Grande\",\"pop\"],[\"Okay - Acoustic\",\"AS IT IS\",\"emo\"],[\"I Love College\",\"Asher Roth\",\"pop\"],[\"Pineapple Boy\",\"Authentic Pines\",\"indie\"],[\"So Far Away\",\"Avenged Sevenfold\",\"rock\"],[\"So Far Away\",\"Avenged Sevenfold\",\"rock\"],[\"Hail to the King\",\"Avenged Sevenfold\",\"rock\"],[\"F2020\",\"Avenue Beat\",\"pop\"],[\"Kings of Summer\",\"ayokay\",\"pop\"],[\"So Good\",\"B.o.B\",\"rap\"],[\"Airplanes, Pt. II (feat. Eminem & Hayley Williams of Paramore)\",\"B.o.B\",\"rap\"],[\"Airplanes (feat. Hayley Williams of Paramore)\",\"B.o.B\",\"rap\"],[\"Airplanes, Pt. II (feat. Eminem & Hayley Williams of Paramore)\",\"B.o.B\",\"rap\"],[\"You & Jennifer\",\"b\\u00fclow\",\"pop\"],[\"Cyclone (feat. T-Pain)\",\"Baby Bash\",\"rap\"],[\"Lighters\",\"Bad Meets Evil\",\"rap\"],[\"Above The Law\",\"Bad Meets Evil\",\"rap\"],[\"Echo\",\"Bad Meets Evil\",\"rap\"],[\"The Reunion\",\"Bad Meets Evil\",\"rap\"],[\"Lighters\",\"Bad Meets Evil\",\"rap\"],[\"Fast Lane\",\"Bad Meets Evil\",\"rap\"],[\"Above The Law\",\"Bad Meets Evil\",\"rap\"],[\"Echo\",\"Bad Meets Evil\",\"rap\"],[\"God Rest Ye Merry Gentlemen\",\"Bad Religion\",\"rock\"],[\"Zombie\",\"Bad Wolves\",\"rock\"],[\"Ghost\",\"Badflower\",\"rock\"],[\"Ghost - Acoustic\",\"Badflower\",\"rock\"],[\"Fire\",\"Barns Courtney\",\"pop\"],[\"Pompeii\",\"Bastille\",\"pop\"],[\"Angels We Have Heard On High\",\"Bayside\",\"rock\"],[\"feel something\",\"Bea Miller\",\"pop\"],[\"THAT BITCH\",\"Bea Miller\",\"pop\"],[\"Crazy Fishes\",\"Bearcat\",\"rock\"],[\"The Hardest Part Is Forgetting Those You Swore You Would Never Forget\",\"Being As An Ocean\",\"post hardcore\"],[\"Save a Horse (Ride a Cowboy)\",\"Big & Rich\",\"country\"],[\"Baby, I Love Your Way\",\"Big Mountain\",\"reggae\"],[\"Pillbox Hill\",\"Big Smile\",\"pop punk\"],[\"bellyache\",\"Billie Eilish\",\"pop\"],[\"come out and play\",\"Billie Eilish\",\"pop\"],[\"when the party's over\",\"Billie Eilish\",\"pop\"],[\"People Are Crazy\",\"Billy Currington\",\"country\"],[\"idfc - Tarro Remix\",\"blackbear\",\"pop\"],[\"Ol' Red\",\"Blake Shelton\",\"country\"],[\"Hey Baby, Here's That Song You Wanted\",\"blessthefall\",\"rock\"],[\"Happy Holidays, You Bastard\",\"blink-182\",\"emo\"],[\"I Miss You\",\"blink-182\",\"emo\"],[\"No Woman No Cry\",\"Bob Marley & The Wailers\",\"reggae\"],[\"Who Says You Can't Go Home - Duet with Jennifer Nettles of Sugarland\",\"Bon Jovi\",\"classic rock\"],[\"The Day That I Ruined Your Life\",\"Boston Manor\",\"emo\"],[\"...Baby One More Time\",\"Bowling For Soup\",\"pop punk\"],[\"Photograph (feat. Bea Miller)\",\"Boyce Avenue\",\"pop\"],[\"Superman\",\"Boyce Avenue\",\"pop\"],[\"Set Fire to the Rain\",\"Boyce Avenue\",\"pop\"],[\"Glad You Came\",\"Boyce Avenue\",\"pop\"],[\"We Are Young\",\"Boyce Avenue\",\"pop\"],[\"Breakeven (Falling to Pieces)\",\"Boyce Avenue\",\"pop\"],[\"Glycerine\",\"Boyce Avenue\",\"pop\"],[\"Radioactive\",\"Boyce Avenue\",\"pop\"],[\"A Thousand Years\",\"Boyce Avenue\",\"pop\"],[\"Letter to Me\",\"Brad Paisley\",\"country\"],[\"The Diary of Jane - Single Version\",\"Breaking Benjamin\",\"rock\"],[\"I Will Not Bow\",\"Breaking Benjamin\",\"rock\"],[\"Drown - Live from Maida Vale\",\"Bring Me The Horizon\",\"post hardcore\"],[\"Girls In Their Summer Clothes\",\"Bruce Springsteen\",\"classic rock\"],[\"Runaway Baby\",\"Bruno Mars\",\"pop\"],[\"Never Be the Same\",\"Camila Cabello\",\"pop\"],[\"Money\",\"Cardi B\",\"rap\"],[\"I Like It\",\"Cardi B\",\"rap\"],[\"Who Am I\",\"Casting Crowns\",\"christian contemporary\"],[\"Praise You In This Storm\",\"Casting Crowns\",\"christian contemporary\"],[\"Glorious Day (Living He Loved Me)\",\"Casting Crowns\",\"christian contemporary\"],[\"Ridin'\",\"Chamillionaire\",\"rap\"],[\"Marvin Gaye (feat. Meghan Trainor)\",\"Charlie Puth\",\"pop\"],[\"Good Good Father\",\"Chris Tomlin\",\"christian contemporary\"],[\"Jesus Messiah\",\"Chris Tomlin\",\"christian contemporary\"],[\"God's Great Dance Floor\",\"Chris Tomlin\",\"christian contemporary\"],[\"tragedy\",\"Christina Perri\",\"pop\"],[\"A Thousand Years\",\"Christina Perri\",\"pop\"],[\"Wake Up\",\"Coheed and Cambria\",\"emo\"],[\"Adventure of a Lifetime\",\"Coldplay\",\"alternative\"],[\"Viva La Vida\",\"Coldplay\",\"alternative\"],[\"Heather\",\"Conan Gray\",\"pop\"],[\"Higher\",\"Creed\",\"alternative\"],[\"Fortunate Son\",\"Creedence Clearwater Revival\",\"country\"],[\"Lift Your Head Weary Sinner (Chains)\",\"Crowder\",\"christian contemporary\"],[\"Come As You Are - Live\",\"Crowder\",\"christian contemporary\"],[\"There Will Be No Christmas\",\"Crown The Empire\",\"emo\"],[\"The Valley\",\"Danny Leggett\",\"pop\"],[\"Alright\",\"Darius Rucker\",\"country\"],[\"Reason to Believe - Re-Record\",\"Dashboard Confessional\",\"emo\"],[\"Vindicated - Re-Record\",\"Dashboard Confessional\",\"emo\"],[\"Stolen - Re-Record\",\"Dashboard Confessional\",\"emo\"],[\"So Long, so Long - Re-Record\",\"Dashboard Confessional\",\"emo\"],[\"Dusk and Summer - Re-Record / Original Lyrics\",\"Dashboard Confessional\",\"emo\"],[\"Belle of the Boulevard - Re-Record\",\"Dashboard Confessional\",\"emo\"],[\"Hands Down - Re-Record\",\"Dashboard Confessional\",\"emo\"],[\"Screaming Infidelities\",\"Dashboard Confessional\",\"emo\"],[\"Screaming Infidelities - Acoustic\",\"Dashboard Confessional\",\"emo\"],[\"Screaming Infidelities\",\"Dashboard Confessional\",\"emo\"],[\"Water And Bridges - Acoustic\",\"Dashboard Confessional\",\"emo\"],[\"Even Now - Acoustic\",\"Dashboard Confessional\",\"emo\"],[\"Screaming Infidelities\",\"Dashboard Confessional\",\"emo\"],[\"This Bitter Pill\",\"Dashboard Confessional\",\"emo\"],[\"How He Loves\",\"David Crowder Band\",\"christian contemporary\"],[\"Without You (feat. Usher)\",\"David Guetta\",\"pop\"],[\"Northern Lights\",\"Death Cab for Cutie\",\"emo\"],[\"Your New Twin Sized Bed\",\"Death Cab for Cutie\",\"emo\"],[\"The Ice Is Getting Thinner\",\"Death Cab for Cutie\",\"emo\"],[\"Northern Lights\",\"Death Cab for Cutie\",\"emo\"],[\"The Ice Is Getting Thinner\",\"Death Cab for Cutie\",\"emo\"],[\"Ultimate\",\"Denzel Curry\",\"pop\"],[\"Panda\",\"Desiigner\",\"rap\"],[\"Coming Home\",\"Diddy - Dirty Money\",\"pop\"],[\"Color Blind\",\"Diplo\",\"pop\"],[\"3 Nights\",\"Dominic Fike\",\"pop\"],[\"Bandoleros\",\"Don Omar\",\"reggaeton\"],[\"Forever\",\"Drake\",\"rap\"],[\"The Season's Upon Us\",\"Dropkick Murphys\",\"rock\"],[\"South of the Border (feat. Camila Cabello & Cardi B)\",\"Ed Sheeran\",\"pop\"],[\"Photograph\",\"Ed Sheeran\",\"pop\"],[\"Photograph\",\"Ed Sheeran\",\"pop\"],[\"Give Me Love\",\"Ed Sheeran\",\"pop\"],[\"To Love's End (Inuyasha)\",\"Eliott Tordo Erhu\",\"instrumental\"],[\"Sadness & Sorrow\",\"Eliott Tordo Erhu\",\"instrumental\"],[\"Teldrassil\",\"Eliott Tordo Erhu\",\"instrumental\"],[\"Oogway Ascends\",\"Eliott Tordo Erhu\",\"instrumental\"],[\"Close To Me (with Diplo) (feat. Swae Lee)\",\"Ellie Goulding\",\"pop\"],[\"Love Me Like You Do - From \\\"Fifty Shades Of Grey\\\"\",\"Ellie Goulding\",\"pop\"],[\"Lock It Up (feat. Anderson .Paak)\",\"Eminem\",\"rap\"],[\"River (feat. Ed Sheeran)\",\"Eminem\",\"rap\"],[\"Darkness\",\"Eminem\",\"rap\"],[\"No Regrets (feat. Don Toliver)\",\"Eminem\",\"rap\"],[\"Leaving Heaven (feat. Skylar Grey)\",\"Eminem\",\"rap\"],[\"Those Kinda Nights (feat. Ed Sheeran)\",\"Eminem\",\"rap\"],[\"Black Magic (feat. Skylar Grey)\",\"Eminem\",\"rap\"],[\"Lock It Up (feat. Anderson .Paak)\",\"Eminem\",\"rap\"],[\"Black Magic (feat. Skylar Grey)\",\"Eminem\",\"rap\"],[\"Black Magic (feat. Skylar Grey)\",\"Eminem\",\"rap\"],[\"Unaccommodating (feat. Young M.A)\",\"Eminem\",\"rap\"],[\"Godzilla (feat. Juice WRLD)\",\"Eminem\",\"rap\"],[\"Leaving Heaven (feat. Skylar Grey)\",\"Eminem\",\"rap\"],[\"Not Alike (feat. Royce Da 5'9)\",\"Eminem\",\"rap\"],[\"Lock It Up (feat. Anderson .Paak)\",\"Eminem\",\"rap\"],[\"Guts Over Fear\",\"Eminem\",\"rap\"],[\"Not Alike (feat. Royce Da 5'9)\",\"Eminem\",\"rap\"],[\"Sing For The Moment\",\"Eminem\",\"rap\"],[\"The Monster\",\"Eminem\",\"rap\"],[\"Survival\",\"Eminem\",\"rap\"],[\"Legacy\",\"Eminem\",\"rap\"],[\"Wicked Ways\",\"Eminem\",\"rap\"],[\"The Real Slim Shady\",\"Eminem\",\"rap\"],[\"Headlights\",\"Eminem\",\"rap\"],[\"Cleanin' Out My Closet\",\"Eminem\",\"rap\"],[\"Sing For The Moment\",\"Eminem\",\"rap\"],[\"Beautiful Pain\",\"Eminem\",\"rap\"],[\"When I'm Gone\",\"Eminem\",\"rap\"],[\"Evil Twin\",\"Eminem\",\"rap\"],[\"'Till I Collapse\",\"Eminem\",\"rap\"],[\"White America\",\"Eminem\",\"rap\"],[\"The Way I Am\",\"Eminem\",\"rap\"],[\"Crack A Bottle\",\"Eminem\",\"rap\"],[\"Like Toy Soldiers\",\"Eminem\",\"rap\"],[\"No Love\",\"Eminem\",\"rap\"],[\"25 To Life\",\"Eminem\",\"rap\"],[\"Love The Way You Lie\",\"Eminem\",\"rap\"],[\"Lose Yourself - From \\\"8 Mile\\\" Soundtrack\",\"Eminem\",\"rap\"],[\"Sing For The Moment\",\"Eminem\",\"rap\"],[\"Situations\",\"Escape the Fate\",\"post hardcore\"],[\"Not Good Enough For Truth In Cliche'\",\"Escape the Fate\",\"post hardcore\"],[\"Situations\",\"Escape the Fate\",\"post hardcore\"],[\"Ashley\",\"Escape the Fate\",\"post hardcore\"],[\"In the Basement, Part One\",\"Etta James\",\"R&B\"],[\"Hosanna (feat. Kristen Essery)\",\"Faithful Unto Death\",\"emo\"],[\"Popular Monster\",\"Falling In Reverse\",\"pop punk\"],[\"Losing My Mind\",\"Falling In Reverse\",\"rap rock\"],[\"Losing My Life\",\"Falling In Reverse\",\"rap rock\"],[\"Popular Monster\",\"Falling In Reverse\",\"rap rock\"],[\"Losing My Mind\",\"Falling In Reverse\",\"rap rock\"],[\"Losing My Life\",\"Falling In Reverse\",\"rap rock\"],[\"Coming Home\",\"Falling In Reverse\",\"pop punk\"],[\"Popular Monster\",\"Falling In Reverse\",\"rap rock\"],[\"Chemical Prisoner\",\"Falling In Reverse\",\"post hardcore\"],[\"Raised By Wolves\",\"Falling In Reverse\",\"post hardcore\"],[\"Brother\",\"Falling In Reverse\",\"post hardcore\"],[\"Raised By Wolves\",\"Falling In Reverse\",\"post hardcore\"],[\"Without Me\",\"Fame on Fire\",\"rock\"],[\"Back for More (feat. Daecolm)\",\"Feder\",\"pop\"],[\"Trap Queen\",\"Fetty Wap\",\"rap\"],[\"Shedding Skins\",\"Fia\",\"indie\"],[\"I Lost a Friend\",\"FINNEAS\",\"pop\"],[\"Break My Heart Again\",\"FINNEAS\",\"pop\"],[\"Wrong Side of Heaven\",\"Five Finger Death Punch\",\"hardcore\"],[\"Jekyll and Hyde\",\"Five Finger Death Punch\",\"hardcore\"],[\"The Bleeding\",\"Five Finger Death Punch\",\"hardcore\"],[\"What's Left of the Flag\",\"Flogging Molly\",\"rock\"],[\"Candy\",\"Forever Emerald\",\"indie\"],[\"Pumped Up Kicks\",\"Foster The People\",\"alternative\"],[\"Change the World\",\"Fox Blanco\",\"edm\"],[\"Nocturne, Op. posth. in C-Sharp Minor: Lento\",\"Fr\\u00e9d\\u00e9ric Chopin\",\"classical\"],[\"Lollipop\",\"Framing Hanley\",\"pop\"],[\"Take Me Out\",\"Franz Ferdinand\",\"alternative\"],[\"La campanella in G-Sharp Minor (From \\\"Grandes \\u00e9tudes de Paganini\\\", S. 141 / 3)\",\"Franz Liszt\",\"classical\"],[\"Praeludium and Allegro\",\"Fritz Kreisler\",\"classical\"],[\"Emily\",\"From First To Last\",\"emo\"],[\"If I Tremble\",\"Front Porch Step\",\"emo\"],[\"Help Me Hurt\",\"Front Porch Step\",\"emo\"],[\"Worship from a Wretch\",\"Front Porch Step\",\"emo\"],[\"Truth\",\"Front Porch Step\",\"emo\"],[\"Aware\",\"Front Porch Step\",\"emo\"],[\"Drown\",\"Front Porch Step\",\"emo\"],[\"Marilyn (feat. Dominique Le Jeune)\",\"G-Eazy\",\"rap\"],[\"Me, Myself & I\",\"G-Eazy\",\"rap\"],[\"Marilyn (feat. Dominique Lejeune)\",\"G-Eazy\",\"rap\"],[\"Mad (feat. Devon Baldwin)\",\"G-Eazy\",\"rap\"],[\"Almost Famous\",\"G-Eazy\",\"rap\"],[\"Marilyn (feat. Dominique Lejeune)\",\"G-Eazy\",\"rap\"],[\"Gotta Go\",\"G-Eazy\",\"rap\"],[\"Mad (feat. Devon Baldwin)\",\"G-Eazy\",\"rap\"],[\"Apr\\u00e8s un r\\u00eave, Op. 7, No. 1\",\"Gabriel Faur\\u00e9\",\"classical\"],[\"Satisfied (feat. MAX)\",\"Galantis\",\"pop\"],[\"i hate u, i love u (feat. olivia o'brien)\",\"Garrett Nash\",\"pop\"],[\"Carolina Girls\",\"General Johnson & The Chairmen of the Board\",\"alternative\"],[\"Budapest\",\"George Ezra\",\"pop\"],[\"Lost in the Fire\",\"Gesaffelstein\",\"pop\"],[\"Crazy\",\"Gnarls Barkley\",\"R&B\"],[\"O Holy Night\",\"Go Radio\",\"emo\"],[\"Rolling In the Deep\",\"Go Radio\",\"emo\"],[\"O Holy Night\",\"Go Radio\",\"emo\"],[\"Goodnight Moon\",\"Go Radio\",\"emo\"],[\"American Idiot\",\"Green Day\",\"pop punk\"],[\"Beautiful Things\",\"Gungor\",\"christian contemporary\"],[\"New Americana\",\"Halsey\",\"pop\"],[\"Niki Fm\",\"Hawthorne Heights\",\"hardcore\"],[\"Saying Sorry\",\"Hawthorne Heights\",\"hardcore\"],[\"Saying Sorry\",\"Hawthorne Heights\",\"hardcore\"],[\"This Is Who We Are\",\"Hawthorne Heights\",\"hardcore\"],[\"Pens and Needles\",\"Hawthorne Heights\",\"hardcore\"],[\"Ohio Is for Lovers\",\"Hawthorne Heights\",\"hardcore\"],[\"Just Friends\",\"Hayden James\",\"pop\"],[\"Simmer\",\"Hayley Williams\",\"emo\"],[\"Leave It Alone\",\"Hayley Williams\",\"emo\"],[\"Oh, Holy Night\",\"Hey Monday\",\"pop\"],[\"Oceans (Where Feet May Fail)\",\"Hillsong UNITED\",\"christian contemporary\"],[\"Lead Me To The Cross\",\"Hillsong UNITED\",\"christian contemporary\"],[\"Scandal Of Grace\",\"Hillsong UNITED\",\"christian contemporary\"],[\"Hosanna\",\"Hillsong UNITED\",\"christian contemporary\"],[\"Oceans (Where Feet My Fail) - Live/Acoustic Version\",\"Hillsong UNITED\",\"christian contemporary\"],[\"From The Inside Out - Live\",\"Hillsong UNITED\",\"christian contemporary\"],[\"The Stand - Live\",\"Hillsong UNITED\",\"christian contemporary\"],[\"From The Inside Out - Live\",\"Hillsong UNITED\",\"christian contemporary\"],[\"Came To My Rescue - Live\",\"Hillsong UNITED\",\"christian contemporary\"],[\"O Come Let Us Adore Him\",\"Hillsong Worship\",\"christian contemporary\"],[\"Joy To The World\",\"Hillsong Worship\",\"christian contemporary\"],[\"Born Is The King (It's Christmas)\",\"Hillsong Worship\",\"christian contemporary\"],[\"Emmanuel\",\"Hillsong Worship\",\"christian contemporary\"],[\"O Holy Night\",\"Hillsong Worship\",\"christian contemporary\"],[\"We Have A Savior\",\"Hillsong Worship\",\"christian contemporary\"],[\"Hark! The Herald Angels Sing\",\"Hillsong Worship\",\"christian contemporary\"],[\"God Rest Ye Merry Gentlemen (Tidings)\",\"Hillsong Worship\",\"christian contemporary\"],[\"Unto Us\",\"Hillsong Worship\",\"christian contemporary\"],[\"Gloria (Angels We Have Heard On High)\",\"Hillsong Worship\",\"christian contemporary\"],[\"Our King Has Come\",\"Hillsong Worship\",\"christian contemporary\"],[\"The First Noel (Holy Is The Lord)\",\"Hillsong Worship\",\"christian contemporary\"],[\"Crawling In The Dark - Acoustic Version\",\"Hoobastank\",\"alternative\"],[\"Rise Above It\",\"I Prevail\",\"post hardcore\"],[\"Blank Space\",\"I Prevail\",\"post hardcore\"],[\"A Grave Mistake\",\"Ice Nine Kills\",\"pop\"],[\"GET OFF MY D!CK\",\"ILIRA\",\"pop\"],[\"It's Time\",\"Imagine Dragons\",\"rock\"],[\"On Top Of The World\",\"Imagine Dragons\",\"rock\"],[\"Blank Space/Stand By Me - Live From Spotify London\",\"Imagine Dragons\",\"rock\"],[\"Radioactive - Live\",\"Imagine Dragons\",\"rock\"],[\"Merry Christmas, Happy Holidays\",\"Issues\",\"post hardcore\"],[\"Another Way to Die\",\"Jack White\",\"pop\"],[\"Blame It\",\"Jamie Foxx\",\"rap\"],[\"It Girl\",\"Jason Derulo\",\"rap\"],[\"All I Can Give You\",\"Jason Lancaster\",\"emo\"],[\"All I Can Give You\",\"Jason Lancaster\",\"emo\"],[\"Empire State Of Mind [Jay-Z + Alicia Keys]\",\"JAY-Z\",\"rap\"],[\"Run This Town\",\"JAY-Z\",\"rap\"],[\"Empire State Of Mind\",\"JAY-Z\",\"rap\"],[\"Mary Did You Know\",\"Jeremy Camp\",\"christian contemporary\"],[\"Away In A Manger\",\"Jeremy Camp\",\"christian contemporary\"],[\"O Come, O Come Emmanuel\",\"Jeremy Camp\",\"christian contemporary\"],[\"O Little Town Of Bethlehem\",\"Jeremy Camp\",\"christian contemporary\"],[\"God With Us\",\"Jeremy Camp\",\"christian contemporary\"],[\"Jingle Bell Rock\",\"Jeremy Camp\",\"christian contemporary\"],[\"Hark! The Herald Angels Sing\",\"Jeremy Camp\",\"christian contemporary\"],[\"Joy To The World\",\"Jeremy Camp\",\"christian contemporary\"],[\"O Little Town Of Bethlehem\",\"Jeremy Camp\",\"christian contemporary\"],[\"Have Yourself A Merry Little Christmas\",\"Jeremy Camp\",\"christian contemporary\"],[\"Let It Snow\",\"Jeremy Camp\",\"christian contemporary\"],[\"Mary Did You Know\",\"Jeremy Camp\",\"christian contemporary\"],[\"God With Us\",\"Jeremy Camp\",\"christian contemporary\"],[\"O Come, O Come Emmanuel\",\"Jeremy Camp\",\"christian contemporary\"],[\"Away In A Manger\",\"Jeremy Camp\",\"christian contemporary\"],[\"Christmas Greeting\",\"Jeremy Camp\",\"christian contemporary\"],[\"Jingle Bell Rock\",\"Jeremy Camp\",\"christian contemporary\"],[\"Luke 2: 8-14\",\"Jeremy Camp\",\"christian contemporary\"],[\"Hark! The Herald Angels Sing\",\"Jeremy Camp\",\"christian contemporary\"],[\"Joy To The World Intro\",\"Jeremy Camp\",\"christian contemporary\"],[\"Joy To The World\",\"Jeremy Camp\",\"christian contemporary\"],[\"Luke 2: 15-20\",\"Jeremy Camp\",\"christian contemporary\"],[\"O Little Town Of Bethlehem\",\"Jeremy Camp\",\"christian contemporary\"],[\"Have Yourself A Merry Little Christmas\",\"Jeremy Camp\",\"christian contemporary\"],[\"Let It Snow\",\"Jeremy Camp\",\"christian contemporary\"],[\"Isaiah 53: 4-5\",\"Jeremy Camp\",\"christian contemporary\"],[\"Mary Did You Know\",\"Jeremy Camp\",\"christian contemporary\"],[\"Isaiah 9: 6-7\",\"Jeremy Camp\",\"christian contemporary\"],[\"God With Us\",\"Jeremy Camp\",\"christian contemporary\"],[\"Matthew 1: 23\",\"Jeremy Camp\",\"christian contemporary\"],[\"O Come, O Come Emmanuel\",\"Jeremy Camp\",\"christian contemporary\"],[\"Away In A Manger\",\"Jeremy Camp\",\"christian contemporary\"],[\"Right Here\",\"Jeremy Camp\",\"christian contemporary\"],[\"you were good to me\",\"Jeremy Zucker\",\"pop\"],[\"Chopin: Etude Op. 25 No. 11 in a Minor (Winter Wind)\",\"Johan \\u00c5hl\\u00e9n\",\"classical\"],[\"All of Me\",\"John Legend\",\"R&B\"],[\"Shuttin' Detroit Down\",\"John Rich\",\"country\"],[\"Sucker\",\"Jonas Brothers\",\"pop\"],[\"California\",\"JRAFFE\",\"pop\"],[\"Dancing in the Moonlight (feat. NEIMY)\",\"Jub\\u00ebl\",\"alternative\"],[\"Little Talks\",\"Julia Sheer\",\"indie\"],[\"Cannot Stop Me\",\"Justin Stone\",\"pop\"],[\"Mirrors\",\"Justin Timberlake\",\"R&B\"],[\"Apologize (Acoustic Version)\",\"Kacey Musgraves\",\"pop\"],[\"Way down We Go\",\"KALEO\",\"R&B\"],[\"Praise God\",\"Kanye West\",\"rap\"],[\"Praise God\",\"Kanye West\",\"rap\"],[\"Off The Grid\",\"Kanye West\",\"rap\"],[\"Ultralight Beam\",\"Kanye West\",\"rap\"],[\"Jesus Walks\",\"Kanye West\",\"rap\"],[\"Flashing Lights\",\"Kanye West\",\"rap\"],[\"Love Lockdown\",\"Kanye West\",\"rap\"],[\"Heartless\",\"Kanye West\",\"rap\"],[\"Dangerous\",\"Kardinal Offishall\",\"rap\"],[\"m.A.A.d city\",\"Kendrick Lamar\",\"rap\"],[\"Backseat Freestyle\",\"Kendrick Lamar\",\"rap\"],[\"Beer In Mexico\",\"Kenny Chesney\",\"country\"],[\"Summertime\",\"Kenny Chesney\",\"country\"],[\"I Go Back\",\"Kenny Chesney\",\"country\"],[\"Out Last Night\",\"Kenny Chesney\",\"country\"],[\"When the Sun Goes Down\",\"Kenny Chesney\",\"country\"],[\"Praying\",\"Kesha\",\"pop\"],[\"Praying\",\"Kesha\",\"pop\"],[\"Satellites (feat. Wiz Khalifa) - HPG Remix\",\"Kevin Gates\",\"rap\"],[\"Let It Rock\",\"Kevin Rudolf\",\"rap rock\"],[\"Love Lies (with Normani)\",\"Khalid\",\"rap\"],[\"All Summer Long\",\"Kid Rock\",\"country\"],[\"Messy\",\"Kiiara\",\"pop\"],[\"Gold\",\"Kiiara\",\"pop\"],[\"Untitled\",\"Knuckle Puck\",\"emo\"],[\"ZEZE (feat. Travis Scott & Offset)\",\"Kodak Black\",\"rap\"],[\"Woman (in mirror)\",\"La Dispute\",\"emo\"],[\"Such Small Hands\",\"La Dispute\",\"emo\"],[\"Nobody, Not Even the Rain\",\"La Dispute\",\"emo\"],[\"Such Small Hands\",\"La Dispute\",\"emo\"],[\"Nobody, Not Even the Rain\",\"La Dispute\",\"emo\"],[\"Nobody, Not Even the Rain\",\"La Dispute\",\"emo\"],[\"Compass\",\"Lady A\",\"pop\"],[\"Shallow\",\"Lady Gaga\",\"pop\"],[\"ILYSB - Ferdinand Weber Edit\",\"LANY\",\"pop\"],[\"I Like Me Better\",\"Lauv\",\"pop\"],[\"Chasing Fire\",\"Lauv\",\"pop\"],[\"La Di Da\",\"Lennon Stella\",\"pop\"],[\"American Woman\",\"Lenny Kravitz\",\"classic rock\"],[\"Always On The Run\",\"Lenny Kravitz\",\"classic rock\"],[\"It's My Party\",\"Lesley Gore\",\"classic rock\"],[\"You Don't Own Me\",\"Lesley Gore\",\"classic rock\"],[\"Someone You Loved\",\"Lewis Capaldi\",\"pop\"],[\"Someone You Loved\",\"Lewis Capaldi\",\"pop\"],[\"Everything\",\"Lifehouse\",\"emo\"],[\"Old Town Road (feat. Billy Ray Cyrus) - Remix\",\"Lil Nas X\",\"rap rock\"],[\"I Made It feat Kevin Rudolf, Birdman and Jay Sean\",\"Lil Wayne\",\"rap\"],[\"Lollipop\",\"Lil Wayne\",\"rap\"],[\"Drop The World\",\"Lil Wayne\",\"rap\"],[\"How To Love\",\"Lil Wayne\",\"rap\"],[\"Lollipop\",\"Lil Wayne\",\"rap\"],[\"Papercut\",\"Linkin Park\",\"rock\"],[\"Crawling\",\"Linkin Park\",\"rock\"],[\"Boondocks\",\"Little Big Town\",\"country\"],[\"Woman Like Me (feat. Nicki Minaj)\",\"Little Mix\",\"pop\"],[\"Your Side Of The Bed\",\"Loote\",\"pop\"],[\"Wish I Never Met You\",\"Loote\",\"pop\"],[\"Tennis Court\",\"Lorde\",\"alternative\"],[\"Queen\",\"Loren Gray\",\"indie\"],[\"Body\",\"Loud Luxury\",\"pop\"],[\"Money Maker\",\"Ludacris\",\"rap\"],[\"Beer Never Broke My Heart\",\"Luke Combs\",\"country\"],[\"The Show Goes On\",\"Lupe Fiasco\",\"pop\"],[\"The Show Goes On\",\"Lupe Fiasco\",\"pop\"],[\"Donald Trump\",\"Mac Miller\",\"rap\"],[\"Bad Things (with Camila Cabello)\",\"Machine Gun Kelly\",\"rap rock\"],[\"Bad Things (with Camila Cabello)\",\"Machine Gun Kelly\",\"rap rock\"],[\"RAP DEVIL\",\"Machine Gun Kelly\",\"rap\"],[\"Save Me\",\"Machine Gun Kelly\",\"rap rock\"],[\"Save Me\",\"Machine Gun Kelly\",\"rap rock\"],[\"Can't Hold Us (feat. Ray Dalton)\",\"Macklemore & Ryan Lewis\",\"pop\"],[\"Smells Like Teen Spirit\",\"Malia J\",\"indie\"],[\"Father Christmas\",\"Man Overboard\",\"emo\"],[\"Come Alive\",\"Matty Mullins\",\"christian contemporary\"],[\"Say It All\",\"Matty Mullins\",\"christian contemporary\"],[\"I Choose You\",\"Matty Mullins\",\"christian contemporary\"],[\"Unstoppable (feat. Jordan Feliz)\",\"Matty Mullins\",\"christian contemporary\"],[\"Go the Distance\",\"Matty Mullins\",\"christian contemporary\"],[\"Brand New Fire\",\"Matty Mullins\",\"christian contemporary\"],[\"Christ Be Magnified\",\"Matty Mullins\",\"christian contemporary\"],[\"The Great Unknown\",\"Matty Mullins\",\"christian contemporary\"],[\"The Best Is yet to Come\",\"Matty Mullins\",\"christian contemporary\"],[\"You Can\",\"Matty Mullins\",\"christian contemporary\"],[\"Until I Need You\",\"Matty Mullins\",\"christian contemporary\"],[\"Just Say You're Not Into It - Commentary\",\"Mayday Parade\",\"emo\"],[\"When I Get Home, You're So Dead - Commentary\",\"Mayday Parade\",\"emo\"],[\"One Man Drinking Games - Commentary\",\"Mayday Parade\",\"emo\"],[\"Your Song - Commentary\",\"Mayday Parade\",\"emo\"],[\"Three Cheers For Five Years - Commentary\",\"Mayday Parade\",\"emo\"],[\"The Last Something That Meant Anything - Commentary\",\"Mayday Parade\",\"emo\"],[\"The Problem With The Big Picture Is That It's Hard To See - Commentary\",\"Mayday Parade\",\"emo\"],[\"Just Say You're Not Into It\",\"Mayday Parade\",\"emo\"],[\"When I Get Home, You're So Dead\",\"Mayday Parade\",\"emo\"],[\"One Man Drinking Games\",\"Mayday Parade\",\"emo\"],[\"Your Song\",\"Mayday Parade\",\"emo\"],[\"Three Cheers For Five Years\",\"Mayday Parade\",\"emo\"],[\"The Last Something That Meant Anything\",\"Mayday Parade\",\"emo\"],[\"The Problem With The Big Picture Is That It's Hard To See\",\"Mayday Parade\",\"emo\"],[\"Take This To Heart - Acoustic\",\"Mayday Parade\",\"emo\"],[\"You Be The Anchor That Keeps My Feet On The Ground, I'll Be The Wings That Keep Your Heart In The Clouds\",\"Mayday Parade\",\"emo\"],[\"You Be The Anchor That Keeps My Feet On The Ground, I'll Be The Wings That Keep Your Heart In The Clouds\",\"Mayday Parade\",\"emo\"],[\"I'd Hate To Be You When People Find Out What This Song Is About\",\"Mayday Parade\",\"emo\"],[\"Your Song - EP Version\",\"Mayday Parade\",\"emo\"],[\"You Be The Anchor That Keeps My Feet On The Ground, I'll Be The Wings That Keep Your Heart In The Clouds\",\"Mayday Parade\",\"emo\"],[\"Amber Lynn - EP Version\",\"Mayday Parade\",\"emo\"],[\"Three Cheers For Five Years\",\"Mayday Parade\",\"emo\"],[\"Take This To Heart - Acoustic\",\"Mayday Parade\",\"emo\"],[\"Three Cheers For Five Years\",\"Mayday Parade\",\"emo\"],[\"Jamie All Over - EP Version\",\"Mayday Parade\",\"emo\"],[\"Jersey\",\"Mayday Parade\",\"emo\"],[\"Jamie All Over\",\"Mayday Parade\",\"emo\"],[\"Ghosts\",\"Mayday Parade\",\"emo\"],[\"Demons\",\"Mayday Parade\",\"emo\"],[\"Walk On Water Or Drown\",\"Mayday Parade\",\"emo\"],[\"Bruised and Scarred - EP Version\",\"Mayday Parade\",\"emo\"],[\"Bruised and Scarred - EP Version\",\"Mayday Parade\",\"emo\"],[\"Going Bad (feat. Drake)\",\"Meek Mill\",\"rap\"],[\"Traumatized\",\"Meek Mill\",\"rap\"],[\"Been That (feat. Rick Ross)\",\"Meek Mill\",\"rap\"],[\"House Party (feat. Young Chris)\",\"Meek Mill\",\"rap\"],[\"I Love Me\",\"Meghan Trainor\",\"pop\"],[\"Woman Up\",\"Meghan Trainor\",\"pop\"],[\"Me Too\",\"Meghan Trainor\",\"pop\"],[\"Like I'm Gonna Lose You (feat. John Legend)\",\"Meghan Trainor\",\"pop\"],[\"Like I'm Gonna Lose You (feat. John Legend)\",\"Meghan Trainor\",\"pop\"],[\"Prove Me Right\",\"Memphis May Fire\",\"post hardcore\"],[\"The Old Me\",\"Memphis May Fire\",\"post hardcore\"],[\"Prove Me Right\",\"Memphis May Fire\",\"post hardcore\"],[\"Alive In The Lights\",\"Memphis May Fire\",\"post hardcore\"],[\"Miles Away - feat. Kellin Quinn\",\"Memphis May Fire\",\"post hardcore\"],[\"No Ordinary Love\",\"Memphis May Fire\",\"post hardcore\"],[\"No Ordinary Love\",\"Memphis May Fire\",\"post hardcore\"],[\"Beneath The Skin\",\"Memphis May Fire\",\"post hardcore\"],[\"Sleepless Nights\",\"Memphis May Fire\",\"post hardcore\"],[\"The Answer\",\"Memphis May Fire\",\"post hardcore\"],[\"Possibilities\",\"Memphis May Fire\",\"post hardcore\"],[\"Speechless\",\"Memphis May Fire\",\"post hardcore\"],[\"The Rose\",\"Memphis May Fire\",\"post hardcore\"],[\"Not Enough\",\"Memphis May Fire\",\"post hardcore\"],[\"Need To Be\",\"Memphis May Fire\",\"post hardcore\"],[\"Pharisees\",\"Memphis May Fire\",\"post hardcore\"],[\"Divinity\",\"Memphis May Fire\",\"post hardcore\"],[\"My Generation\",\"Memphis May Fire\",\"post hardcore\"],[\"Stay the Course\",\"Memphis May Fire\",\"post hardcore\"],[\"Beneath the Skin - Acoustic\",\"Memphis May Fire\",\"post hardcore\"],[\"Need To Be - Acoustic\",\"Memphis May Fire\",\"post hardcore\"],[\"Miles Away (Acoustic) [feat. Kellin Quinn]\",\"Memphis May Fire\",\"post hardcore\"],[\"Summer Love (feat. Matter Mos)\",\"Midnight Quickie\",\"pop\"],[\"Cooler Than Me (feat. Big Sean)\",\"Mike Posner\",\"pop\"],[\"What Should I Do\",\"Mike Rogers\",\"pop\"],[\"Chasin' You\",\"Morgan Wallen\",\"country\"],[\"Hopeless Wanderer\",\"Mumford & Sons\",\"indie\"],[\"I Will Wait\",\"Mumford & Sons\",\"indie\"],[\"Little Lion Man\",\"Mumford & Sons\",\"indie\"],[\"The Cave\",\"Mumford & Sons\",\"indie\"],[\"Believe\",\"Mumford & Sons\",\"indie\"],[\"Helena\",\"My Chemical Romance\",\"emo\"],[\"All I Want for Christmas Is You - 2005\",\"My Chemical Romance\",\"emo\"],[\"Teenagers\",\"My Chemical Romance\",\"emo\"],[\"All I Want for Christmas Is You - 2005\",\"My Chemical Romance\",\"emo\"],[\"Casual Sex\",\"My Darkest Days\",\"emo\"],[\"December (feat. Chris Carrabba)\",\"Neck Deep\",\"emo\"],[\"A Part of Me (ft. Laura Whiteside)\",\"Neck Deep\",\"emo\"],[\"December (feat. Chris Carrabba)\",\"Neck Deep\",\"emo\"],[\"December (again) [feat. Mark Hoppus]\",\"Neck Deep\",\"emo\"],[\"Multiplied\",\"NEEDTOBREATHE\",\"christian contemporary\"],[\"30 Days - Single Version\",\"Never Shout Never\",\"alternative\"],[\"Nothing For Christmas\",\"New Found Glory\",\"alternative\"],[\"Nothing for Christmas\",\"New Found Glory\",\"alternative\"],[\"bad guy\",\"new.wav\",\"pop punk\"],[\"Paralyzed\",\"NF\",\"emo\"],[\"If Everyone Cared\",\"Nickelback\",\"rock\"],[\"Majesty (with Labrinth & feat. Eminem)\",\"Nicki Minaj\",\"rap\"],[\"Familia (with Anuel Aa, feat. Bantu) - Spider-Man: Into the Spider-Verse\",\"Nicki Minaj\",\"rap\"],[\"Only\",\"Nicki Minaj\",\"rap\"],[\"Only\",\"Nicki Minaj\",\"rap\"],[\"Lake Of Fire\",\"Nirvana\",\"grunge\"],[\"Where Did You Sleep Last Night\",\"Nirvana\",\"grunge\"],[\"Come As You Are\",\"Nirvana\",\"grunge\"],[\"Where Did You Sleep Last Night\",\"Nirvana\",\"grunge\"],[\"Smells Like Teen Spirit\",\"Nirvana\",\"grunge\"],[\"So Close\",\"NOTD\",\"pop\"],[\"Echoes (feat. Py)\",\"ODESZA\",\"pop\"],[\"How Did I Get Here\",\"ODESZA\",\"pop\"],[\"Late Night\",\"ODESZA\",\"pop\"],[\"Line Of Sight (feat. WYNNE & Mansionair)\",\"ODESZA\",\"pop\"],[\"SECOND & SEBRING\",\"Of Mice & Men\",\"post hardcore\"],[\"Mountain Sound\",\"Of Monsters and Men\",\"alternative\"],[\"Josslyn\",\"Olivia O'Brien\",\"pop\"],[\"drivers license\",\"Olivia Rodrigo\",\"pop\"],[\"Dance with Me Tonight\",\"Olly Murs\",\"pop\"],[\"Good Life\",\"OneRepublic\",\"pop\"],[\"Skyfall\",\"Our Last Night\",\"rock\"],[\"Blank Space - Rock\",\"Our Last Night\",\"rock\"],[\"Good Time\",\"Owl City\",\"alternative\"],[\"Scars - Acoustic Version\",\"Papa Roach\",\"emo\"],[\"Gravity\",\"Papa Roach\",\"emo\"],[\"Falling Apart\",\"Papa Roach\",\"emo\"],[\"Scars\",\"Papa Roach\",\"emo\"],[\"No Matter What\",\"Papa Roach\",\"emo\"],[\"My Heart\",\"Paramore\",\"emo\"],[\"At The Cross (Love Ran Red) - Live\",\"Passion\",\"christian contemporary\"],[\"Live And Let Die\",\"Paul McCartney\",\"classic rock\"],[\"Honey and Glass\",\"Peyton Cardoza\",\"pop\"],[\"Etude No. 2\",\"Philip Glass\",\"classical\"],[\"Today I Saw The Whole World - Acoustic Version\",\"Pierce The Veil\",\"post hardcore\"],[\"Besitos\",\"Pierce The Veil\",\"post hardcore\"],[\"Today I Saw The Whole World - Acoustic Version\",\"Pierce The Veil\",\"post hardcore\"],[\"Kissing in Cars (Bonus Track)\",\"Pierce The Veil\",\"post hardcore\"],[\"Kissing in Cars (Bonus Track)\",\"Pierce The Veil\",\"post hardcore\"],[\"Besitos\",\"Pierce The Veil\",\"post hardcore\"],[\"May These Noises Startle You in Your Sleep Tonight\",\"Pierce The Veil\",\"post hardcore\"],[\"Hell Above\",\"Pierce The Veil\",\"post hardcore\"],[\"A Match into Water\",\"Pierce The Veil\",\"post hardcore\"],[\"King for a Day (feat. Kellin Quinn)\",\"Pierce The Veil\",\"post hardcore\"],[\"Bulls in the Bronx\",\"Pierce The Veil\",\"post hardcore\"],[\"Props & Mayhem\",\"Pierce The Veil\",\"post hardcore\"],[\"Tangled in the Great Escape (feat. Jason Butler)\",\"Pierce The Veil\",\"post hardcore\"],[\"I'm Low on Gas and You Need a Jacket\",\"Pierce The Veil\",\"post hardcore\"],[\"The First Punch\",\"Pierce The Veil\",\"post hardcore\"],[\"One Hundred Sleepless Nights\",\"Pierce The Veil\",\"post hardcore\"],[\"Stained Glass Eyes and Colorful Tears\",\"Pierce The Veil\",\"post hardcore\"],[\"Hold on Till May (feat. Lindsey Stamey)\",\"Pierce The Veil\",\"post hardcore\"],[\"Decipher Reflections From Reality - Original Version\",\"PlayRadioPlay!\",\"pop\"],[\"Better Now\",\"Post Malone\",\"rap\"],[\"Wow.\",\"Post Malone\",\"rap\"],[\"R.O.D\",\"PT\",\"pop\"],[\"Weekend Luv\",\"Quinn Lewis\",\"pop\"],[\"What Hurts The Most\",\"Rascal Flatts\",\"country\"],[\"Bless The Broken Road\",\"Rascal Flatts\",\"country\"],[\"Life Is A Highway - 2008 Remaster\",\"Rascal Flatts\",\"country\"],[\"I Got a Woman\",\"Ray Charles\",\"R&B\"],[\"To: My Old Self\",\"Real Friends\",\"emo\"],[\"Sixteen\",\"Real Friends\",\"emo\"],[\"I Don't Love You Anymore\",\"Real Friends\",\"emo\"],[\"Late Nights in My Car\",\"Real Friends\",\"emo\"],[\"Summer - Acoustic Version\",\"Real Friends\",\"emo\"],[\"I Had A Heart\",\"Real Friends\",\"emo\"],[\"I've Given Up on You\",\"Real Friends\",\"emo\"],[\"I Had a Heart\",\"Real Friends\",\"emo\"],[\"Breathe Into Me\",\"Red\",\"hardcore\"],[\"Good Mood\",\"Rei\",\"pop\"],[\"Kiss It Better - R3hab Remix\",\"Rihanna\",\"R&B\"],[\"Love The Way You Lie (Part II) - Pt. 2\",\"Rihanna\",\"R&B\"],[\"Making Christmas\",\"Rise Against\",\"rock\"],[\"Let You Love Me\",\"Rita Ora\",\"pop\"],[\"In My Zone\",\"Rittz\",\"pop\"],[\"Nothing to Regret\",\"Robinson\",\"rap\"],[\"Let Me Live (feat. Anne-Marie & Mr Eazi)\",\"Rudimental\",\"pop\"],[\"The Scientist (Live Film Version) [feat. Mark Saul]\",\"Ryan Alexander\",\"indie\"],[\"Camo\",\"Ryan Beatty\",\"pop\"],[\"Golden (feat. Hoodlem)\",\"SAINT WKND\",\"pop\"],[\"You're Not Alone\",\"Saosin\",\"emo\"],[\"Remember That Night?\",\"Sara Kays\",\"pop\"],[\"18 Days\",\"Saving Abel\",\"alternative\"],[\"You Don't Own Me (feat. G-Eazy)\",\"SAYGRACE\",\"pop\"],[\"Fall for You (Acoustic)\",\"Secondhand Serenade\",\"emo\"],[\"Drink About\",\"Seeb\",\"pop\"],[\"Careless Whisper\",\"Seether\",\"rock\"],[\"Partners in Crime (feat. Ash Costello)\",\"Set It Off\",\"emo\"],[\"This Christmas (I'll Burn It to the Ground)\",\"Set It Off\",\"emo\"],[\"Trampoline\",\"SHAED\",\"pop\"],[\"Forever Reign\",\"Shane & Shane\",\"christian contemporary\"],[\"Save Me - Acoustic\",\"Shinedown\",\"rock\"],[\"Sound of Madness\",\"Shinedown\",\"rock\"],[\"Save Me - Acoustic\",\"Shinedown\",\"rock\"],[\"Party Like A Rock Star\",\"Shop Boyz\",\"pop\"],[\"Forget to Forget\",\"SHY Martin\",\"pop\"],[\"Somebody\",\"Sigala\",\"rap\"],[\"Just Got Paid\",\"Sigala\",\"rap\"],[\"Anywhere\",\"Sigma\",\"rap\"],[\"Electricity (with Dua Lipa)\",\"Silk City\",\"pop\"],[\"Disarm\",\"Silverstein\",\"post hardcore\"],[\"My Heroine - Acoustic\",\"Silverstein\",\"post hardcore\"],[\"My Heroine\",\"Silverstein\",\"post hardcore\"],[\"Smile In Your Sleep\",\"Silverstein\",\"post hardcore\"],[\"Apologize\",\"Silverstein\",\"post hardcore\"],[\"Apologize (One Republic cover)\",\"Silverstein\",\"post hardcore\"],[\"Perfect - Acoustic Version\",\"Simple Plan\",\"pop punk\"],[\"Monster\",\"Skillet\",\"rock\"],[\"With Ears to See, and Eyes to Hear\",\"Sleeping With Sirens\",\"post hardcore\"],[\"Four Corners and Two Sides\",\"Sleeping With Sirens\",\"post hardcore\"],[\"If I'm James Dean, You're Audrey Hepburn\",\"Sleeping With Sirens\",\"post hardcore\"],[\"With Ears to See, and Eyes to Hear\",\"Sleeping With Sirens\",\"post hardcore\"],[\"Don't Fall Asleep at the Helm\",\"Sleeping With Sirens\",\"post hardcore\"],[\"Iris - Live\",\"Sleeping With Sirens\",\"post hardcore\"],[\"Let Love Bleed Red\",\"Sleeping With Sirens\",\"post hardcore\"],[\"Let Love Bleed Red\",\"Sleeping With Sirens\",\"post hardcore\"],[\"All My Heart\",\"Sleeping With Sirens\",\"post hardcore\"],[\"The Strays\",\"Sleeping With Sirens\",\"post hardcore\"],[\"November\",\"Sleeping With Sirens\",\"post hardcore\"],[\"Scene One - James Dean & Audrey Hepburn\",\"Sleeping With Sirens\",\"post hardcore\"],[\"Scene Two - Roger Rabbit\",\"Sleeping With Sirens\",\"post hardcore\"],[\"Scene Three - Stomach Tied In Knots\",\"Sleeping With Sirens\",\"post hardcore\"],[\"Scene Four - Don't You Ever Forget About Me\",\"Sleeping With Sirens\",\"post hardcore\"],[\"Scene Five - With Ears To See and Eyes To Hear\",\"Sleeping With Sirens\",\"post hardcore\"],[\"Who Are You Now\",\"Sleeping With Sirens\",\"post hardcore\"],[\"Magic In The Hamptons (feat. Lil Yachty)\",\"Social House\",\"pop\"],[\"Christmas Brings Me Down\",\"Sparks The Rescue\",\"pop\"],[\"Take What You Want\",\"State of Mine\",\"pop\"],[\"Honeybee\",\"Steam Powered Giraffe\",\"indie\"],[\"Brass Goggles\",\"Steam Powered Giraffe\",\"indie\"],[\"Honeybee (Live)\",\"Steam Powered Giraffe\",\"indie\"],[\"Brass Goggles (Live)\",\"Steam Powered Giraffe\",\"indie\"],[\"Jet Airliner\",\"Steve Miller Band\",\"country\"],[\"Wicked Game - Acoustic; Live\",\"Stone Sour\",\"emo\"],[\"Wicked Game - Acoustic; Live\",\"Stone Sour\",\"emo\"],[\"Until the Day I Die\",\"Story Of The Year\",\"rock\"],[\"Paralyzed\",\"Sueco\",\"emo\"],[\"Chicago\",\"Sufjan Stevens\",\"pop\"],[\"With Me\",\"Sum 41\",\"pop punk\"],[\"With Me\",\"Sum 41\",\"pop punk\"],[\"Where I Belong\",\"Switchfoot\",\"rock\"],[\"Stars\",\"Switchfoot\",\"rock\"],[\"Evergreen\",\"Switchfoot\",\"rock\"],[\"Afterlife\",\"Switchfoot\",\"rock\"],[\"Vice Verses\",\"Switchfoot\",\"rock\"],[\"Where I Belong\",\"Switchfoot\",\"rock\"],[\"Where I Belong\",\"Switchfoot\",\"rock\"],[\"Dark Horses\",\"Switchfoot\",\"rock\"],[\"Afterlife\",\"Switchfoot\",\"rock\"],[\"Dare You to Move\",\"Switchfoot\",\"rock\"],[\"Meant to Live\",\"Switchfoot\",\"rock\"],[\"Stars\",\"Switchfoot\",\"rock\"],[\"This Is Home\",\"Switchfoot\",\"rock\"],[\"Buy U a Drank (Shawty Snappin') (feat. Yung Joc)\",\"T-Pain\",\"rap\"],[\"That's All She Wrote (feat. Eminem)\",\"T.I.\",\"rap\"],[\"Whatever You Like\",\"T.I.\",\"rap\"],[\"Live Your Life - feat. Rihanna\",\"T.I.\",\"rap\"],[\"Whatever You Like\",\"T.I.\",\"rap\"],[\"There's No 'I' In Team\",\"Taking Back Sunday\",\"emo\"],[\"Cute Without The E - Cut From The Team\",\"Taking Back Sunday\",\"emo\"],[\"A Decade Under The Influence - Acoustic\",\"Taking Back Sunday\",\"emo\"],[\"MakeDamnSure\",\"Taking Back Sunday\",\"emo\"],[\"you broke me first\",\"Tate McRae\",\"pop\"],[\"You Need To Calm Down\",\"Taylor Swift\",\"pop\"],[\"I Did Something Bad\",\"Taylor Swift\",\"pop\"],[\"All Too Well\",\"Taylor Swift\",\"pop\"],[\"I Know Places\",\"Taylor Swift\",\"pop\"],[\"You Belong With Me\",\"Taylor Swift\",\"pop\"],[\"Jack's Lament\",\"The All-American Rejects\",\"emo\"],[\"Don't Be So Hard\",\"The Audition\",\"pop punk\"],[\"The Weight - Remastered\",\"The Band\",\"pop\"],[\"Gold on the Ceiling\",\"The Black Keys\",\"pop\"],[\"This Feeling\",\"The Chainsmokers\",\"pop\"],[\"Closer\",\"The Chainsmokers\",\"pop\"],[\"Twin Size Mattress\",\"The Front Bottoms\",\"indie\"],[\"My Life\",\"The Game\",\"rap\"],[\"Too Late\",\"The Happy Fits\",\"pop\"],[\"Best Tears\",\"The Happy Fits\",\"pop\"],[\"Achey Bones\",\"The Happy Fits\",\"pop\"],[\"Mr. Brightside\",\"The Killers\",\"pop punk\"],[\"Mr. Brightside\",\"The Killers\",\"pop punk\"],[\"See The Sun\",\"The Kooks\",\"pop\"],[\"FEEL NOTHING\",\"The Plot In You\",\"pop\"],[\"I Don't Need A Man\",\"The Pussycat Dolls\",\"pop\"],[\"I Don't Wanna Spend Another Christmas Without You\",\"The Ready Set\",\"emo\"],[\"Higher\",\"The Ready Set\",\"emo\"],[\"I Don't Wanna Spend Another Christmas Without You\",\"The Ready Set\",\"emo\"],[\"Wishlist\",\"The Ready Set\",\"emo\"],[\"Be My Baby\",\"The Ronettes\",\"classic rock\"],[\"Self-Conclusion\",\"The Spill Canvas\",\"emo\"],[\"Black Dresses\",\"The Spill Canvas\",\"emo\"],[\"Self-Conclusion\",\"The Spill Canvas\",\"emo\"],[\"Self-Conclusion\",\"The Spill Canvas\",\"emo\"],[\"Whiskey Dream Kathleen\",\"The Spill Canvas\",\"emo\"],[\"Navy Blue\",\"The Story So Far\",\"pop punk\"],[\"Human Right\",\"The Strike\",\"pop\"],[\"Machu Picchu\",\"The Strokes\",\"pop\"],[\"This Christmas\",\"The Summer Set\",\"emo\"],[\"This Christmas\",\"The Summer Set\",\"emo\"],[\"Boomerang\",\"The Summer Set\",\"emo\"],[\"Lightning in a Bottle\",\"The Summer Set\",\"emo\"],[\"Pretty Handsome Awkward\",\"The Used\",\"emo\"],[\"On My Own\",\"The Used\",\"emo\"],[\"On My Own\",\"The Used\",\"emo\"],[\"Buried Myself Alive\",\"The Used\",\"emo\"],[\"One Headlight\",\"The Wallflowers\",\"pop\"],[\"The Hills\",\"The Weeknd\",\"rap\"],[\"Earned It (Fifty Shades Of Grey) - From The \\\"Fifty Shades Of Grey\\\" Soundtrack\",\"The Weeknd\",\"rap\"],[\"The Hills\",\"The Weeknd\",\"rap\"],[\"Burning\",\"The Whitest Boy Alive\",\"pop\"],[\"Not Meant to Be\",\"Theory of a Deadman\",\"rock\"],[\"Walk On Water\",\"Thirty Seconds To Mars\",\"rock\"],[\"The Kill\",\"Thirty Seconds To Mars\",\"emo\"],[\"Attack\",\"Thirty Seconds To Mars\",\"emo\"],[\"Kings And Queens\",\"Thirty Seconds To Mars\",\"rock\"],[\"City Of Angels\",\"Thirty Seconds To Mars\",\"alternative\"],[\"Birth\",\"Thirty Seconds To Mars\",\"alternative\"],[\"Conquistador\",\"Thirty Seconds To Mars\",\"alternative\"],[\"Up In The Air\",\"Thirty Seconds To Mars\",\"alternative\"],[\"City Of Angels\",\"Thirty Seconds To Mars\",\"alternative\"],[\"The Race\",\"Thirty Seconds To Mars\",\"alternative\"],[\"End Of All Days\",\"Thirty Seconds To Mars\",\"emo\"],[\"Pyres Of Varanasi\",\"Thirty Seconds To Mars\",\"alternative\"],[\"Bright Lights\",\"Thirty Seconds To Mars\",\"alternative\"],[\"Do Or Die\",\"Thirty Seconds To Mars\",\"alternative\"],[\"Convergence\",\"Thirty Seconds To Mars\",\"alternative\"],[\"Northern Lights\",\"Thirty Seconds To Mars\",\"alternative\"],[\"Depuis Le D\\u00e9but\",\"Thirty Seconds To Mars\",\"alternative\"],[\"Escape\",\"Thirty Seconds To Mars\",\"alternative\"],[\"Night Of The Hunter\",\"Thirty Seconds To Mars\",\"rock\"],[\"Kings And Queens\",\"Thirty Seconds To Mars\",\"rock\"],[\"This Is War\",\"Thirty Seconds To Mars\",\"rock\"],[\"100 Suns\",\"Thirty Seconds To Mars\",\"emo\"],[\"Hurricane\",\"Thirty Seconds To Mars\",\"emo\"],[\"Closer To The Edge\",\"Thirty Seconds To Mars\",\"rock\"],[\"Vox Populi\",\"Thirty Seconds To Mars\",\"rock\"],[\"Search And Destroy\",\"Thirty Seconds To Mars\",\"rock\"],[\"Alibi\",\"Thirty Seconds To Mars\",\"emo\"],[\"Stranger In A Strange Land\",\"Thirty Seconds To Mars\",\"rock\"],[\"History\",\"This Wild Life\",\"emo\"],[\"Sleigh Ride\",\"This Wild Life\",\"emo\"],[\"Concrete - Live Session\",\"This Wild Life\",\"emo\"],[\"Roots and Branches (Meant To Be Alone)\",\"This Wild Life\",\"emo\"],[\"Sleepwalking - Live Session\",\"This Wild Life\",\"emo\"],[\"Trans Am\",\"Thompson Square\",\"pop\"],[\"I Hate Everything About You - Live Acoustic - Rolling Stone Original (EP)\",\"Three Days Grace\",\"rock\"],[\"Never Too Late - Acoustic Version\",\"Three Days Grace\",\"rock\"],[\"Throw A Fit\",\"Tinashe\",\"pop\"],[\"Stays In Mexico\",\"Toby Keith\",\"country\"],[\"Beer For My Horses\",\"Toby Keith\",\"country\"],[\"I Love This Bar\",\"Toby Keith\",\"country\"],[\"Dance Monkey\",\"Tones And I\",\"pop\"],[\"Lonely Girl\",\"Tonight Alive\",\"rock\"],[\"Sympathy\",\"Too Close To Touch\",\"alternative\"],[\"Headstrong\",\"Trapt\",\"hardcore\"],[\"Headstrong\",\"Trapt\",\"hardcore\"],[\"Bottoms Up (feat. Nicki Minaj)\",\"Trey Songz\",\"rap\"],[\"Say Aah (feat. Fabolous)\",\"Trey Songz\",\"rap\"],[\"Bottoms Up (feat. Nicki Minaj)\",\"Trey Songz\",\"rap\"],[\"Kings\",\"Tribe Society\",\"alternative\"],[\"Dance To This (feat. Ariana Grande)\",\"Troye Sivan\",\"pop\"],[\"What You Know\",\"Two Door Cinema Club\",\"pop\"],[\"Paranoid (feat. B.o.B)\",\"Ty Dolla $ign\",\"rap\"],[\"Dip (feat. Nicki Minaj)\",\"Tyga\",\"rap\"],[\"What Hurts The Most\",\"Unsafe Unsound\",\"rock\"],[\"DJ Got Us Fallin' In Love\",\"Usher\",\"R&B\"],[\"Love in This Club (feat. Young Jeezy)\",\"Usher\",\"R&B\"],[\"Bubble Gum\",\"VAX\",\"pop\"],[\"Make Up (feat. Ava Max)\",\"Vice\",\"pop\"],[\"Blister in the Sun - 2002 Remastered Version\",\"Violent Femmes\",\"pop\"],[\"No Hands (feat. Roscoe Dash & Wale)\",\"Waka Flocka Flame\",\"rap\"],[\"Poledancer (feat. Megan Thee Stallion) - DJ Taj Jersey Club Mix\",\"Wale\",\"rap\"],[\"I Knew You Were Trouble\",\"We Came As Romans\",\"rock\"],[\"The Christmas Song (Chestnuts Roasting On An Open Fire)\",\"We The Kings\",\"rock\"],[\"O Holy Night\",\"We The Kings\",\"rock\"],[\"Check Yes, Juliet\",\"We The Kings\",\"rock\"],[\"Hark! The Herald Angels Sing\",\"Weezer\",\"rock\"],[\"Oceans\",\"Where Fire May Fail\",\"rock\"],[\"Oceans\",\"Where Fire May Fail\",\"rock\"],[\"Oceans\",\"Where Fire May Fail\",\"rock\"],[\"Do You Hear What I Hear?\",\"William Beckett\",\"alternative\"],[\"Black and Yellow\",\"Wiz Khalifa\",\"rap\"],[\"The Village\",\"Wrabel\",\"pop\"],[\"Unsteady\",\"X Ambassadors\",\"pop\"],[\"whoa (mind in awe)\",\"XXXTENTACION\",\"rap\"],[\"If You're Over Me\",\"Years & Years\",\"pop\"],[\"Best Friend\",\"Yelawolf\",\"rap\"],[\"Christmas Lights\",\"Yellowcard\",\"emo\"],[\"Christmas Lights\",\"Yellowcard\",\"emo\"],[\"Bite My Tongue\",\"You Me At Six\",\"pop punk\"],[\"Crash\",\"You Me At Six\",\"pop punk\"],[\"Stay With Me - Acoustic Version\",\"You Me At Six\",\"pop punk\"],[\"Chicken Fried\",\"Zac Brown Band\",\"country\"],[\"You Come First (feat. Saweetie)\",\"Zak Abel\",\"pop\"],[\"PILLOWTALK\",\"ZAYN\",\"pop\"],[\"Seven Nation Army\",\"Zella Day\",\"rock\"],[\"Replay\",\"Zendaya\",\"pop\"]],\"hovertemplate\":\"0=%{x}<br>1=%{y}<br>2=%{z}<br>name=%{customdata[0]}<br>artist=%{customdata[1]}<br>genre=%{customdata[2]}<br>Cluster=%{marker.color}<extra></extra>\",\"legendgroup\":\"\",\"marker\":{\"color\":[1,0,4,0,4,4,4,0,0,4,1,1,1,0,4,4,1,4,1,4,0,1,1,2,0,0,0,4,4,4,4,4,4,4,2,4,4,2,0,2,4,2,2,0,4,0,0,4,4,4,0,1,2,4,0,2,4,0,2,1,1,4,4,4,0,2,4,4,4,0,0,1,1,1,4,1,1,1,1,1,1,0,2,0,4,4,4,4,2,1,0,4,4,4,0,0,0,0,1,1,4,0,1,0,4,2,2,0,4,4,1,1,1,1,1,1,1,1,1,1,1,1,1,1,0,4,4,4,1,4,1,2,2,0,2,4,4,2,4,4,1,1,1,1,1,1,1,2,0,4,2,2,2,2,4,2,4,2,2,4,2,2,2,4,2,2,0,4,0,2,2,4,2,4,0,2,2,2,0,4,2,0,4,2,2,2,2,0,2,0,2,0,4,0,0,0,0,0,0,0,0,0,0,4,1,4,4,4,2,1,1,1,0,4,0,0,0,4,4,3,0,0,1,1,1,1,1,1,4,4,4,0,4,4,4,4,4,4,4,1,2,1,4,4,4,4,0,4,0,0,0,1,0,0,0,0,0,4,0,4,4,1,0,1,0,0,0,1,2,0,0,1,0,1,4,1,1,0,0,4,1,4,4,1,0,0,0,0,4,4,4,2,4,4,4,0,4,1,1,2,2,2,0,1,0,4,4,0,4,0,4,1,4,0,4,0,1,1,0,3,0,1,0,1,4,1,4,3,0,3,4,1,0,1,0,1,1,1,0,4,4,4,1,4,4,1,1,4,4,2,2,2,2,4,4,4,2,2,4,0,4,4,4,1,1,4,4,4,4,4,1,0,4,4,0,4,0,4,4,4,1,4,4,4,4,4,4,4,1,1,1,0,4,2,4,2,0,4,2,2,2,4,4,4,4,4,4,2,4,4,4,2,4,4,2,0,0,4,1,4,2,4,4,4,0,2,0,4,4,4,4,3,3,3,3,3,3,3,0,0,0,0,0,0,0,1,0,0,0,1,0,1,1,1,1,1,0,0,4,0,0,1,1,4,2,0,2,2,4,2,4,4,0,2,0,0,4,0,0,2,2,0,0,0,0,0,0,0,0,0,0,4,0,1,4,4,4,1,0,0,4,4,0,0,0,4,0,2,1,0,1,0,4,1,1,1,4,0,0,4,2,2,2,2,2,4,2,4,4,0,4,4,4,0,0,2,1,4,4,0,4,2,1,4,0,4,0,0,0,0,1,1,4,0,4,4,4,0,0,0,2,0,0,0,0,0,0,0,0,0,1,4,4,2,4,0,1,4,1,4,1,0,0,4,4,1,4,0,2,4,0,0,4,4,4,2,1,4,4,0,1,0,0,1,4,0,0,0,1,0,1,0,1,2,4,4,4,4,4,0,1,0,0,0,0,4,4,0,0,2,0,4,2,0,0,1,0,0,4,4,4,0,4,0,4,0,0,1,1,2,2,4,1,1,4,0,1,0,0,0,0,1,0,1,0,0,0,0,0,0,0,4,4,0,4,0,4,4,1,1,0,1,4,4,4,4,4,1,1,4,4,4,4,0,2,2,4,4,0,0,0,0,4,4,4,4,4,4,1,1,1,1,1,1,4,4,4,4,4,4,2,0,0,2,4,4,1,0,4,0,0,0,2,0,0,0,0,2,0,0,1,1,4,0,1,4,1,1,0,0,0,1,0,0,0,0,1,0,1,4,1,1,1,2,0,0,4,4,4,4,4,0,0,0,0,2,2,2,2,4,4,4,4,4,4,0,4,4,1,4,2,4,4,1,0,4,0,0,0,0,4,1,0,1,4,4,0,0,0,1,4,4,4,4,1,4],\"coloraxis\":\"coloraxis\",\"symbol\":\"circle\",\"line\":{\"color\":\"black\",\"width\":1},\"size\":5},\"mode\":\"markers\",\"name\":\"\",\"scene\":\"scene\",\"showlegend\":false,\"x\":[2.602736416950726,-0.4781384152522929,0.6071380276851064,-0.10342512094767432,0.1552637904550953,-0.15077911265198607,0.1168212311766829,-0.25660819037727867,-1.2226292468120041,1.2047465260136025,1.0557212140593384,1.9535690643680554,2.644965410487383,-0.821353157769533,-0.7312103771519055,-1.0973711363915752,1.9611273606745312,-0.7522838998685513,0.7336903678422305,0.27160976943130094,-0.6544395698306645,2.545773664522722,2.0427207321762606,-1.0989482133876876,-0.9844398465802405,-0.7191647703026064,-0.7191647703026064,-1.3352971772601494,1.313597685984356,0.5925236104806966,-0.9562022380690156,-0.853144834478828,-0.5592445758993754,-0.853144834478828,0.30575608955987826,-0.4231279516127901,0.8472539612564715,-2.1233476724781957,-1.1740128767385016,-1.5421522251781823,0.8472539612564715,-1.273191445804858,-2.1233476724781957,-1.1740128767385016,-1.950670782907595,-0.4784254244307831,-0.9956789221225286,0.7282643142604596,0.3604763766068899,-0.538492344612901,-1.4700929891308665,1.0087523736694544,-1.9662616179543244,-0.5610330537355037,-1.2135423138380173,-1.6881172497480152,-0.8731311625845621,-1.7792941156093893,0.9439424794770498,2.853188985072909,4.125361536633133,-0.24262544238395112,0.18283720396618083,0.8318617654294078,-2.051647420758797,-2.8388965315397274,-0.5684438392795671,1.0059015368908502,-1.583108694140661,0.3657927884897335,-0.9549985741933595,2.657568336581745,3.1312718069888534,3.080606956915057,0.47750902349756436,2.8044085131377967,2.4157389783820618,2.2493537526032794,2.862070599369235,3.107810465442241,2.2599854472369367,-1.5685014556828243,-1.5594565639241098,0.33202362893421306,-0.7502405378303771,-1.0947026886413398,-0.2837695664369983,-0.2058108295382093,-1.1180892237992182,1.3138058400923955,-0.4606054395619088,0.19543424629987238,-1.1658793319187835,0.11584120980469449,0.2276673039508174,-0.6744796573664684,-1.146110499458042,0.1865396423838245,1.1841496970215253,1.7032544415269835,-1.2634655662199787,0.0022464839212752137,1.7125350758444482,-1.0894911682750272,-0.05446846458457848,-0.4932375799148924,-0.1615334101596325,0.06839511112342012,0.5802234761731833,-0.7434417735115243,0.7530262254609401,1.237337235018831,3.354053244057044,2.4701546468819253,3.9499389829056755,2.7417844225482457,2.224248275179142,0.9422957713719198,2.8363414566302922,0.9303897971849634,1.2853582500660252,2.505112791477563,0.9303897971849634,2.586214934112879,0.18713715618226306,-0.08271152992001732,-1.6343757609367615,1.0529709290424207,4.052525426807134,-1.6343757609367615,4.052525426807134,-1.4016539666550571,-1.1192856990047286,-1.4864617418101236,-0.8106914214421304,-0.08001011322757755,-0.6357890192924446,-1.8673542439932784,-0.7124001661964622,0.12196710299787471,2.408874697341038,2.408874697341038,2.0523030084284466,3.8572942439347817,3.5944134443795948,4.079835040812404,4.471758887680886,-0.9896227172838442,-0.30433784811597586,-1.0349028701690302,-0.5536938792763253,-0.15198323207733752,-0.8561756161690657,-1.102369619371692,-0.22933479049078315,-1.4210141863475512,-1.0349028701690302,-1.4210141863475512,-1.4210141863475512,-0.5008888936845514,-1.4378070754617756,-1.102369619371692,-1.2318166194788387,-1.0349028701690302,-0.9022096651273069,-1.2318166194788387,-1.1684809197051838,-1.071663811054492,-1.9129738734973436,-1.5632984316045657,-1.0804139636812105,-0.5336185732097851,-1.5188248400651194,-1.2370959796348826,-1.1684809197051838,-1.5289995772019684,-1.4049774580216763,-1.185659969740855,-1.3179195698491684,0.22160479390485216,-0.9552754668824152,-1.6652040394995222,-0.6886351906766685,-1.3877285908330237,-0.9877116378211628,-1.0120720224030657,-1.2381145432507443,-1.1684809197051838,-1.294637693051916,-1.4373651964746887,-1.294637693051916,-1.6744151814361086,0.5253259793732172,-0.795410543254529,-1.5000410961498067,-1.4297603564188583,-1.57868774660792,-1.5000410961498067,-1.4297603564188583,-1.57868774660792,-1.322422607999313,-1.5000410961498067,-1.899496815787728,-0.8505617432400941,2.577530355157974,-0.8505617432400941,-1.2524137221317853,0.05225622665134493,-1.8762259952978801,4.90652596575937,2.2812599862327296,3.5185737068868774,-1.5748075190589315,-1.8617423639471105,-0.845963127505777,-1.8657030223605113,-1.4219134681867847,-0.6127319993387235,-0.05892301350499096,6.971923277363981,-1.4341378157333493,0.0828288507510798,4.6414011214831685,4.641636682202904,1.1609122943579566,1.5366356284068432,2.7118463166925446,1.1975751737846687,-0.5345545147197257,1.0472669744371783,-0.4967296892371285,0.2169009404673929,-0.2626868967846752,0.6314966629993579,-0.257496015769083,0.880209684224754,0.6314966629993579,-0.18934176969520478,-0.257496015769083,6.298249159567896,-1.1987308391523972,3.1168254064133447,-0.38608161940113034,0.6411467954193999,0.9032629269720202,-1.0383814988392412,-0.07289093461962787,-0.7615429307566582,-0.7905764431303933,-0.5252578070032177,-2.6630613473618876,1.2529925851657961,-1.0922987011039593,0.563887325536018,-1.9995757300581019,-1.9995757300581019,-2.052068774611001,-2.1131326382333206,-1.3730480448572446,-0.2271192295315939,0.5620712102161761,2.5727643876465134,-0.6567018377936956,2.1980198423535815,-0.08484302232018405,0.20870183584795934,-0.45148549827007983,2.367259221017549,-0.6904718301655941,-1.3728213570963963,0.7326595766076466,1.322609858442751,0.06213221664023594,1.6183314656533268,-1.3699677712872889,1.9637847152076873,3.1396397171281007,-0.47989068473425295,-0.8624315762047051,-0.13775154866231393,1.3607760948623646,-0.12131109971110159,-0.040048969110511534,0.9081294697667766,-0.19118333868860865,-0.542605334686786,-1.468429114605944,-1.7558340833822608,-0.3931834738481005,-1.2109413322423974,-1.0178711465450088,0.3374350323248943,0.42134183859990015,-1.0286652536426033,-0.3923810309045369,-0.610755091785438,-0.27290591535055186,2.0312780540532542,1.693866724569228,-2.5590385494142796,-0.9518630655364662,-2.8660403354003563,0.3430173364941007,0.8955798156104849,0.47728766879816853,0.44994424843576003,1.1665655763340887,-1.4786053890404114,-0.8920680488311629,-0.7123564121547874,0.4492353443960238,3.960664220534997,-0.9340651433822985,0.3355646725805731,1.1658082799469494,0.3907865480789597,0.8981449409536513,6.55825345891425,-1.3415841411565468,2.8089890496217085,-0.7682449195885481,5.153465032073782,-0.5371532279493603,3.9135993629215857,0.5539151660537763,4.087977479172012,-0.7625842408129424,3.6180304823134555,0.4831530263308311,3.8899314900834736,1.182925991651453,4.681311168740719,0.497715472607305,0.9716463871770757,-0.7516645139723426,4.3544693304289614,4.564930856531301,2.709628501003037,-0.9878917343185227,-1.0815251805203145,-1.134364483710363,0.4124682323610292,2.893064691873402,0.3854115456718492,0.9404969730698112,1.5550483864943447,1.099167132196466,0.013069151081919785,0.013069151081919785,-0.808949187064305,1.377839622899089,-0.20202683696997722,-0.14651215040261356,0.5713661535315772,-0.15870849831948391,-0.9076949249576513,-0.33079830794454806,-0.19547054922990323,-1.0778383479862752,-1.3910822464728398,-0.49588636994741575,-0.22178559064453648,-0.25261574571932266,2.0002367150184113,1.9920640606689102,-1.5965561345956159,-0.5813145967624717,-0.29396258485275717,-1.2370018774565816,0.24893328146464724,1.726859782766079,-0.9056816218254219,-0.049306478300446745,1.553624413247974,-0.4176152102789799,0.7068792533343623,-0.4176152102789799,0.7068792533343623,0.7068792533343623,-0.4164911407771954,1.3783524175667985,-0.27429976970261705,1.3968331915518097,-0.22742995807685515,-0.384782634138428,0.1628109360364869,-1.3923683823345627,1.0711809106616688,1.7195009837163266,1.8706448888376321,1.8706448888376321,0.7306498157923935,-0.500363035325668,-1.7204012669401185,0.49687330088259585,-1.8268234772535406,-0.4673751170146071,0.49687330088259585,-2.1741023938307444,-0.48585278535991844,-0.48044871427698743,-1.3127845871818271,-0.9217590602398716,-1.0392358385514624,0.390971741080833,0.877431034715691,-0.752138272413586,0.12415970289638265,-0.7391430443919201,-1.5735418761819144,-1.5735418761819144,-1.5401088391934268,-0.3314004023746343,-0.3314004023746343,-1.3025880966978074,0.2551024787397223,0.2551024787397223,-1.653169307975635,1.5740809785927437,-1.7021997451381892,-2.024892410420432,-0.9574794277167648,0.04000067464253019,-0.48400433100314116,-0.5585985134700354,-1.371518126097692,-0.39713190906599305,-1.231309848640118,-0.7262717557597812,-0.02571447539160279,-0.5341433105775322,7.508727178748628,4.568194837714109,5.228203923224347,4.599060577363931,6.146407888094005,5.861458111425904,6.183754087736535,-1.59611114024207,-1.65154620299666,-1.0605867739280943,-1.0966250978741787,-1.6266174415884538,-0.4069145910636006,-1.07960539519844,1.241465931163049,-0.3736084312451929,-0.3736084312451929,-1.3134311185958547,1.4916323998308463,-0.3736084312451929,1.409065760547962,1.553914187094077,1.241465931163049,1.553914187094077,1.1089890823276671,-1.747033756899231,-1.3051027901110008,-0.7210860691317983,-1.8754115360077461,-1.8913666105178792,1.4348513526671725,1.4348513526671725,0.7103629733812472,0.20688999777195488,-0.956841055227536,-1.64194925533917,-1.1705501082614453,-0.6564197616322273,-0.9182163225683512,1.016042020212989,1.016042020212989,-2.1213899178855464,-1.7861088576303765,-2.1213899178855464,-1.8514320261377581,-1.424543418315244,-1.6660895717060809,-1.6660895717060809,-1.8650397217368142,-1.697307024280556,-1.9329781471449468,-2.1463123572705194,-0.3581612272486937,-2.147775622639027,-1.9927151189299814,-1.206165114805975,-1.9920133409743424,-1.6215209014322842,-1.9549065774658254,-1.541575840850589,0.19038766212996214,-0.5223615728750486,1.0598139354737164,0.9125296386491037,-0.42109588233559087,0.20915266977632,1.2886406774524717,0.6197843255058789,-0.8927559811990272,0.2340325578216574,0.5648607037774479,-0.21513549941885107,-1.267882595777439,-0.7022887223917847,-1.371122919618944,-0.7022887223917847,-1.8888298742072513,1.4709122689508467,-0.2657811101249346,1.4709122689508467,-1.7275167463901913,-0.5449374866456959,2.198243807757178,2.0198257517411213,1.8882191735913827,-0.5130748246837485,0.4367382637889737,-1.0209135102774491,-0.5534148280367585,-1.3369440504074475,0.21721520008216919,0.21721520008216919,0.006130657806576618,1.1096882687454146,0.6192303098047963,1.1096882687454146,-1.3126605743211435,-0.9371816468709606,0.543092225016198,0.6971468954140615,-0.19937588907637402,0.014279733296975477,-1.6043140742268627,-0.7950567815769113,-0.7508089119059626,2.001031332849589,-0.7009812528057082,0.01708329720995511,-0.9531850282579818,-0.852667918060168,-1.542915339002546,1.4930735803217703,-1.2069991441763586,-1.5106525079708155,-0.8745538088447493,-1.023142027501003,-0.842268623231158,0.1879863374775027,0.7296562090660527,2.8183384370874602,4.9930310600586,-0.12950580341764187,-1.5825658505447864,-0.12950580341764187,1.018297106227749,1.018297106227749,-1.5825658505447864,-0.20841394861172696,-1.849738806633479,-2.5702233852765777,-1.6554161355554236,-1.5940283442824421,-1.5462753688524205,-1.189129250771579,-1.4496115002365177,-1.313022309157417,-1.9907464814279119,-1.658892616511972,-1.3650297076019473,1.6021681314543088,0.35567558450876996,0.5842551885886721,-0.47873696056175025,1.3780457184910222,-0.5959570393504,1.484017351069631,-1.382476851747006,0.7815502379958423,-0.17249350009619352,2.69814310855615,-1.8158363269496942,-1.3822068599858206,0.5245804695992352,-0.8054365847042534,1.8889160099909392,-0.70786762140751,-1.3597266492965405,-0.5859002852297681,-0.5199588286804478,-0.7288976994402463,-1.783952321469855,-0.48317646729594116,-0.06220705091676983,0.8503466872073927,-1.6611586864351573,2.860699644048891,1.0935744645856145,0.7771590087978452,-0.9786736223583661,1.3816237563356217,-1.0289239939035109,-0.40240540217769716,1.7930934028706287,-0.6132717289928084,-1.0963564459683728,-2.2113387083424865,-1.642202857583014,1.3736164471366665,0.8863021838536819,1.3703888459932163,-2.2090482957899265,1.3703888459932163,-1.2367064892595871,-0.15205606944274222,-0.9134208461297992,-1.6058586786932905,-1.3511266834083835,-0.482280035745571,-0.4436394835949213,1.166105977599971,-1.241723394353376,-2.197562351194941,-0.3611553748805925,-0.32262323131887133,0.4082459511687121,-1.7469173829612472,-1.6410872011048565,-2.0759601727425188,-2.096019809788057,-1.6410872011048565,0.31399951153470973,-0.900666950481604,-0.9379799136733296,-0.9379799136733296,1.5205690694520633,-0.25521838470271896,0.3723248090229979,0.45056648742353367,0.6250957820636512,1.3416626380177752,-0.7366682893927806,0.7568710060558154,-1.6497503364388602,1.311198858581722,-1.739097952683026,-1.0253297794973784,3.711783792036994,0.9095290982955725,0.7455156431067652,-1.5032516419675759,0.0013610279968192035,1.9286207689393722,1.9286207689393722,-0.7569648190439061,-1.1161597242517645,1.746165161691595,-1.289465820236071,-1.289465820236071,-0.9075880961142087,-1.3821290780636937,1.8244211788691165,-1.5434941311626165,3.1715276879156304,-0.9075880961142087,-0.9075880961142087,-1.7377897372004851,-1.5434941311626165,-1.279909479972677,-1.7533561253531211,-1.3821290780636937,-0.1212612460225534,0.3418076157937612,-1.4445800633432058,-0.7593109941659094,-1.6321562521869364,-0.7593109941659094,-1.0533350469997884,3.041274977476362,2.415525254976819,-1.1833437531307365,2.5866951009106005,-0.23881500603813097,0.34673068711613625,0.4264722105276272,-0.6685051703620111,-0.6930990292926329,2.3500810509804255,0.6302654331418455,0.8312042130691488,-1.0467841535247202,0.3995093116278439,0.8536581150908713,-1.04090789916786,-0.9798390151860626,0.3718889682034692,-0.7267182513377993,-0.8883071762142584,-1.1467232382637063,-1.355237673896151,-1.1993390367946186,-0.8691864727524489,-1.354796070947919,-0.5578698561012575,-0.8506998701255655,-0.2172677918785866,-0.17709061100878923,-0.47924828612365067,1.2804643294236049,1.3578914986300032,1.2804643294236049,1.2804643294236049,2.0590787311878644,1.2608502457891648,-0.8723627387749526,-0.9440687785283398,-0.48688131551490155,-0.25078481723935353,-1.5293704993956614,-1.669302374844413,-1.8410389105903224,0.8301799529405532,0.8301799529405532,-2.1247337473868386,0.291333292522589,0.4571421907403728,1.1854034077106559,0.2909909143029703,0.3098782883833005,-1.2072804348787205,-0.5606426800818893,-2.0446384180674624,-2.2590589088905695,-0.9143073945360315,-0.12492164628029935,0.6093063403988813,-1.395950450738664,-1.4151079169956124,-0.12492164628029935,-0.1320617236661797,1.2621321162235226,0.7604050683079489,0.6951442137229596,-0.9565945881332887,3.225163724863359,-0.8336518281217384,2.9465381221221585,3.24956709273361,-1.2400024209219773,-0.9143073945360315,-0.7216567681165832,3.844300220051552,-0.5364365276495825,-1.2672538341245645,-0.484535858285764,-0.7049367411180318,3.248165864305665,-1.2131314948390666,1.3843917485260067,0.6631733781546323,0.8982413281980299,1.5093928728823196,2.4189177287718335,-1.979191980877702,0.14164869287739892,-0.11155018172146998,-0.31090680890321115,-1.470324262173636,-0.5402084143242325,-0.8159137493498289,1.3120444879870132,-1.9145186903380724,-0.9952576084806309,-1.6986749921158564,-1.6986749921158564,-0.05521159437087331,-1.8273709652868064,-0.05521159437087331,-0.3697965710709541,-0.5950996633696426,-1.2166989609005996,0.6622001829681854,0.10479930016348595,-0.09253521559729996,-1.381760944635452,-0.5093689662600086,-0.12735388227296654,-0.525003649468152,2.631455531946894,-0.23685402336741693,-0.5652488954033145,-0.37302911245191145,1.159509777798409,2.8339323914189625,-1.586160309050269,-1.4635510621779637,0.10890777352150731,0.10890777352150731,0.10890777352150731,-0.3059872224067425,-1.4221257777987832,1.7465202695882984,0.2360712698230126,0.6456878536105652,-0.8582765077466509,-1.223103148367512,0.3525148696991839,0.33100421353591786,-1.1889991025627864,1.0731548331742207,-0.051334225770068055,-0.11242893297273183,-0.6382167338130361,-0.4395746734574065,2.7557750390938462,-0.84399369936515],\"y\":[-1.4920368280611536,-1.5261519048774919,-0.08145191727230666,-1.4013941163462,0.2666017196264942,0.6526422894267025,0.32602891700917946,-1.1094722074245214,-0.620753571245198,-0.03828886160704523,0.2887491834266427,-0.24585249507046222,-0.5332920768874011,-2.145986743184359,0.2216128127439401,0.4452454226648137,1.8767082564093516,-0.489966393537918,-0.5637159625964107,0.7954554482319183,-0.4579005936310827,1.8048596981313243,-1.6047233181859606,2.290637503535212,-0.21345151948382,-1.9586819238336104,-1.9586819238336104,0.5201828626667215,1.237933872738076,-0.49570643632694744,1.2741488932825131,0.8016119562293081,0.35559959973829974,0.8016119562293081,1.5356340249643738,0.7959557562779274,0.56539912498775,1.0229549706810945,0.08211349479608941,2.5926402636321906,0.56539912498775,0.7744576021533943,1.0229549706810945,0.08211349479608941,0.9140409725054839,-1.2159793194827302,-0.8534641465305566,0.023475480088395315,-0.3133610501339916,0.8543794300693607,-0.23732382087950907,0.12978256946501615,2.0043240779430267,1.0172453050192907,-0.7249850190360323,2.355564700470699,1.2207695357722077,-0.5836757672301645,1.1773958567361387,-0.09207597912423032,-0.5247234726508335,-0.19961064546803417,0.4627979450721329,0.7182032840616461,-1.745207970387796,0.9813523696229305,0.65731895534628,1.925076781381198,0.7626897009214044,-2.4365018100727767,-0.7467570119298579,0.40535361722761903,-0.2301548641335403,0.0028314317808683523,0.58863257346631,-0.22665884752092896,0.3012532524931575,-1.6776263638588764,-0.656681407759553,-0.9514487140087977,-0.08118860064745188,-1.5557051016304948,0.3519543432498614,-1.163290185264671,-0.11986071672812715,1.033815258594198,-0.33578593592904754,1.69082060656897,1.8947026627906691,-0.9361484551075877,-1.445727379852321,-0.32921838408969756,2.103180792111456,2.2351212442341244,-1.5585789598867048,-1.6822316274771691,-0.8319945810037811,-0.996042887772126,-1.5211461975195548,0.6067682317410089,0.34585749667634835,-0.6206967252265458,-0.9760910648313245,-0.7268843719158171,0.80416787407678,0.010977196863027033,-0.554510402890224,-0.7826838990274538,0.08206067878439703,0.903546335203036,-0.03215141722048839,0.33433283287270116,-0.644256162082025,0.12935666022872827,0.21530900502389574,0.7561032993142244,0.40441897966436624,-1.1338365185726758,-1.0297958596955388,-1.2283112388882784,0.2154684040064858,0.43118853627105275,-1.2283112388882784,0.12790363420254544,-2.3712555980460333,-0.1500674346872386,0.060706242669690345,0.764321927718538,-1.32820995883295,0.060706242669690345,-1.32820995883295,1.6179940557563808,1.426148202267044,-0.9715102368402883,0.4965606177805205,2.1477972792081355,2.299712909186156,0.7190632627668759,-0.5596824596849591,1.9264257221876788,-0.2671051377578378,-0.2671051377578378,-0.9138717825732955,-1.841552768265739,-2.2494828878300956,-2.1768883043110856,-2.2735503475655743,0.24684827178147184,-2.065462637886237,1.6893833493726078,3.2192594377134465,1.4431980958644754,-0.07374034929820747,0.9343171645293787,1.8840343911599144,0.5133238188057345,1.6893833493726078,0.5133238188057345,0.5133238188057345,1.3147145183920106,3.029249875589472,0.9343171645293787,2.069266275709397,1.6893833493726078,1.1848413569842842,2.069266275709397,-0.4606489496585025,1.3063317761804263,-0.2962416970302751,2.053900586549526,1.3856651551642807,2.2762342117984096,1.327333571805097,2.7081140007886746,-0.4606489496585025,1.6335615887966495,2.23726829623366,2.538832961535475,-0.685005449883168,0.005822317225993463,1.5315381963044103,-0.20705108727650043,1.238670982613293,0.14688868952096312,1.138735292859321,2.4435629263475582,0.06481384758175401,-0.4606489496585025,0.6124441312072931,-1.1469659054012513,0.6124441312072931,-1.128127052504112,2.2321182393722716,-0.18005563091165003,-0.9267935807267117,-0.2309147167941506,-0.6566804769440264,-0.9267935807267117,-0.2309147167941506,-0.6566804769440264,-1.6481279715729,-0.9267935807267117,-0.5145045317232708,-0.3730884618478925,-0.7028662773719581,-0.3730884618478925,0.0745399273402896,0.07009927252066243,1.9648217075710872,0.3806213778718181,-0.3993103382795187,-0.30883743621358106,-0.17676678843033436,0.44963214651118333,-2.210405961652135,-1.021971615544021,-1.3843028230486023,1.8876782704751964,1.0488145272063059,-0.7498989683549339,-1.08652154754995,-0.9582814107072843,-0.2575137978701881,-0.875653408917827,-0.7025652515122194,0.8717166252665065,-0.6498548536139535,0.11244897485981525,-0.09264030412250022,0.9448004876864732,1.1569798587983982,-0.9592218873514481,0.6581129375300864,-0.30367530910623725,-0.07143022158429942,-0.49860694200568734,-0.30367530910623725,0.92951985169257,-0.07143022158429942,-1.7692805559460536,2.6268841330832884,0.41102920976458224,1.475869690147723,0.3013963037676901,-0.2491099114063389,1.2346665561035635,-2.1114148244827193,-0.17033278077368486,-2.1234690616288963,-0.43656794899283297,-0.10884327647360796,-0.710726306504591,-1.3491554133598234,-1.1128008110864316,-0.7205154032746574,-0.7205154032746574,-1.1304258616145697,0.5854730621475175,0.4729295258614515,0.010346252826444368,0.6247764985163806,0.390698731450764,-1.992330317298057,-2.220199353021482,-1.8045817943145386,-1.2614671393025216,-1.9637642292882493,-1.2046910302746907,-0.8303514358579992,-1.965478700218538,-1.4224466942443057,-1.1689135459142075,-1.1204289174390523,-1.519112416811319,0.9714949119861007,-1.4683980645501098,-1.3185577807143767,-1.705525763189994,-0.7651060174773605,0.45454676786966125,-2.1042318524966825,-0.5197664401962957,-0.7296002189530066,-0.6202995085638106,-0.4877450762008677,-1.15017073263508,-1.4310766889166475,-1.1988865539458218,0.7788190804012983,1.4136744866035584,1.5203697687974649,1.8663976537704574,-0.15383225404650283,0.7767212260391236,0.2655220367836972,0.030223918706128294,0.15620769775768972,-0.2785189542476601,-0.9223160518999933,2.0691389720812086,1.2921405168223656,1.9174000711851356,-1.6326031364396607,-0.561075533789238,-2.0164556362296273,-0.7383309647173296,-0.14705756129016992,-0.4201681722815225,-0.276888010362267,-1.738424941011217,-0.7355030384667838,-1.1723718117924464,1.3147013516014496,-1.6455233490677827,-0.14078920519576166,-2.1659245943873775,-0.5644416405079329,-2.4779674559145315,-0.49815158902854956,2.276833875982352,-0.354341659246938,-2.6315421669578547,-1.749146667234157,1.756915840642827,-0.6447017484523598,-1.0005893672944945,1.409884597349884,3.4224576300210208,-1.620909892229082,2.7026163717106155,-0.028561350834363796,-2.2093242468462044,-2.064819086764543,-0.5494603896477444,-1.124209306222423,-0.21055606284263673,-1.0544277874610983,-0.7478766708513958,-0.21963293160233946,2.3043753021072177,2.259915864563905,-0.2700136936588834,0.7536840828070805,0.2896595560224657,0.41827863182538627,-0.9426272583920374,-0.4689081991811251,0.8037866314560073,0.8037866314560073,1.5594561146854877,2.062316447456435,2.0569717560614755,0.9069757415559548,-0.2876161346979311,1.7992481388999995,2.4758035412905426,0.34085875509872143,1.7804207701033783,-0.12514251744347696,0.20815217557447496,0.6344933630593623,-0.028413038516007058,1.7223297047579178,-0.240218189944494,-0.10392035266648626,1.2368567563183228,0.11641742126663875,0.03487209085745643,1.5600668848339556,2.649148265421491,1.4291850111049353,-2.0284836017600867,1.827874089051297,1.1464216193780847,-0.2314425016587095,0.7782303366394693,-0.2314425016587095,0.7782303366394693,0.7782303366394693,0.12828898241585773,-0.12537638395008227,0.40968001372669005,1.6898517191968419,0.4412610996474184,0.4561985161594354,1.0345722925236813,1.0981906943781472,2.0303646686148005,1.125025888656029,-0.18659552159274165,-0.18659552159274165,-3.227232314464905,1.786493079406988,0.8994457292190422,1.0804999386279779,0.9216191767895336,-0.506326228696031,1.0804999386279779,0.8478862662609412,-0.03403545627325187,0.47288783946580426,1.4857099471549617,2.1664672073646183,1.2333118016993663,1.0506230853941865,-0.17192246154609991,0.8425982397726108,1.6605444140351358,0.4578773385193126,0.6670425151986028,0.6670425151986028,1.6145734636024784,0.3865573445507428,0.3865573445507428,2.7151683302120206,-0.7589492883092223,-0.7589492883092223,1.1996387509132496,-2.1405215459421743,1.105513495110302,-0.39727738848282335,1.1079838365705819,-0.627627577840393,0.3071365194086854,-0.7022317454986537,0.19477154128522234,-1.416948048306397,0.6338801059833677,0.4765647908525311,-0.3050063807108147,-0.45031919035961676,2.2943962052646523,5.05078220178384,5.390887007406855,4.231067500407155,3.701154531630886,3.881667039415562,4.407906778176696,-1.941077568843026,-0.6887580385939497,-2.3787558718114976,-1.2270713609617878,-0.9778251925781833,-1.3875533029257547,-1.1876266316631394,-0.7612930563745439,-1.6692351876691447,-1.6692351876691447,-1.0732894169172251,-1.3567577257707655,-1.6692351876691447,-0.5355012815189734,-0.5313736032434286,-0.7612930563745439,-0.5313736032434286,0.5386198095127288,-0.9373654461043603,-1.0649238326628625,-0.44039806941084525,-0.8154981213875859,-0.356004557085741,0.3703927799608678,0.3703927799608678,2.002915947516295,0.530945343223125,0.2588974083713218,1.7417432659002843,2.291827352757929,0.37316792646088554,2.9784517013637406,0.3087899544127275,0.3087899544127275,-0.5914873815756952,0.8968739483220948,-0.5914873815756952,-1.1930250079650497,0.01034610546690429,-1.3351613186344062,-1.3351613186344062,-0.011675964518885171,-0.6726511789808163,-0.5224650660212821,-1.5299890618116907,-1.5047870221501276,-1.7770815816493346,-0.9240715777800786,-1.423893554042167,-1.3349729530417858,-1.038477788250167,-1.1744364552204738,-1.1314630095417955,1.179618552801149,-1.6080342616483212,-0.20186936892630766,1.4456683047663617,2.0413772308003204,0.549426926643818,0.453216789367976,-1.8496556750022197,-0.43119294726994256,-0.41877075665746766,-0.41346420811497286,-1.0656729827854927,-1.7542296817030194,-1.67147089948034,0.7250615650745165,-1.67147089948034,1.934795701007575,-0.4282762849296055,-1.3261007213726177,-0.4282762849296055,-1.039106152073606,-0.21769779158012134,0.2609993151613258,0.05973479339526403,-0.09335976320652012,-0.46355852718178997,-1.4651823209629196,-0.9632171000251507,1.7249149726170288,1.8949547630516752,1.3904088072018772,1.3904088072018772,1.3092565366192,0.5758719808741958,0.8570205873947536,0.5758719808741958,0.3846933442917306,1.33361728443143,-1.4138633479352762,0.6359067502510288,0.23187206392697043,-0.5674789373671075,-1.7805258765959775,-1.0339516807298728,0.21483772211527274,-0.7362137953186447,1.571493602928269,0.9459111026424495,-1.0358929633791314,-0.17714700519754165,1.0560647586374305,0.5568375037478946,1.1639135895624955,-0.15597914252603368,-0.45210338227981184,-0.8238195162730612,-1.0521883642031487,-1.9819856295772111,-1.334869787883401,0.01222946148677927,-1.8566937694961956,0.6439227041148402,-0.8227594957629593,0.6439227041148402,-0.6880333622270002,-0.6880333622270002,-0.8227594957629593,-0.9341002776742559,-0.521272593335277,-0.6126590236608476,-0.3826671822144219,-0.7184301967662966,-0.4027419694393458,-1.599874897068884,-0.8806105311639122,-0.9200503089363146,-1.6177370657863408,-1.2016258423024626,-1.0769251025244597,0.08368678727976146,-0.023159399051994885,1.4679892897306597,0.8221370816335607,1.3873568000612118,-0.5868398386725406,-0.23411794086563856,0.649133787098139,1.1810465957355616,-0.37355646345459426,-0.47595175001352064,-1.0054465654350184,-0.523737658686387,-0.0670738447381511,-0.19071079692687543,-0.6228062791130445,-0.31283618362690907,-1.683373576714769,1.6421894998862054,0.6177578830338121,-0.41026031759525433,-0.17044497594468574,0.4496263004466755,1.2855389070330017,0.3203925472090195,1.4705028034033265,1.5015041986295927,1.9999252562470953,-0.07463785928334447,-1.1386973745345692,0.8584512264414117,-0.5369026216347574,-1.744545592168475,-0.9666515971339587,0.5324862792942957,-0.42406702115228495,-0.24648913943736267,-1.3055472806446913,0.6557104283432058,-1.7731270435492035,-0.17722897178132008,-1.6694462687083744,-0.17722897178132008,0.9978111225122133,2.7858455670039355,1.116208046442464,1.0313066088874896,0.8833629193477712,0.38584005679541916,-0.4795780806815135,-0.9495810703737192,-1.8253339773844737,-0.6762682008456915,-0.9946955441625613,-1.1999164280638723,-0.5186411458445271,0.7340727272938893,-0.3255166019799875,-0.3388796442283809,-0.04473955433843936,-0.3255166019799875,-0.5846399394428712,-0.21979083112467643,-0.43770061113423964,-0.43770061113423964,0.49602270115787855,-1.4150276545573448,-0.7951444753618785,0.6566862680151067,-0.3126736941705397,0.8912276148440171,-0.8809523719378021,-0.417732206403699,-0.980756388976188,1.9070626372694466,-0.5220451122311527,-1.0925843951861458,-1.0448317098643158,0.5114423086856856,-0.5362800500279505,-1.4152860574708719,1.5027538761023946,0.19074516101932346,0.19074516101932346,0.5036274182477912,-0.4075932769392687,0.08097579049198027,-2.9610757429906096,-2.9610757429906096,-0.7122827520142774,-0.8225070208140511,-1.8178810630777076,-0.9937425098932052,-0.6668723919835347,-0.7122827520142774,-0.7122827520142774,-1.016350697725253,-0.9937425098932052,-0.9692288091603828,-0.531934795531864,-0.8225070208140511,-0.4607706431537511,0.9708936434953938,0.046718946962535826,0.4783019955500283,-0.12428448418788293,0.4783019955500283,0.250706552785647,-0.671023718996392,-0.8135613159273314,-0.09380218711845571,-0.46749209774344225,1.5993099605476533,0.6287108328088125,-0.14903355936812235,0.1298045298514321,0.19262355907754541,-0.9231718317238232,-1.0683894417520141,0.3805417358061013,-0.16848560049493988,0.05265057887650871,1.3779051026042421,-1.4033515317047078,1.111120062744462,1.9775583121381484,-0.1581467103254212,1.3155160792027043,-1.639677812002371,-1.6571735722951075,-1.270015050975582,-1.3021196052271438,1.5284516041049705,1.2167932591680095,0.8160258280290419,1.0450627677643003,1.1523794654561057,0.6302428112780584,0.16814038460444786,0.1718153125157496,0.16814038460444786,0.16814038460444786,-0.11098287107255854,0.16062975430418686,1.8880487300894877,1.659455088600072,0.8979661528794167,1.1273087409514255,1.7731287525424073,1.1569705235022547,0.17063074045494403,-2.3712657478364574,-2.3712657478364574,-0.7119864450014044,1.3053527262261486,-0.7734746638523292,0.2330659230835089,-1.744317782883558,1.6627124498343657,-1.2820211141356652,-0.6969463643561049,-1.8907806750554375,-1.200711572657191,-2.1158959267142032,-0.9201869869902284,-1.1093543298819937,-0.18638261063794928,-0.0897677329643595,-0.9201869869902284,-0.7050400914089677,-0.8794951516899012,-0.5340438673610561,-0.6144756450745031,-0.3880013237852592,-0.28849352591716504,-0.30499840321750293,-0.9100661012657763,-2.000645695926474,-0.42282025257534883,-2.1158959267142032,-1.4377907640981895,1.2735929051024857,-0.6177120265895205,-1.2701624941536989,-1.400279185128605,-0.45424115394590553,-1.7569339946660443,-0.15335846089000005,-1.032472983889145,1.062892500069341,-0.7323416671404823,-0.9448027011630111,-0.6126117586232317,0.7360348135131531,-0.5627537882954724,-1.926062218483782,0.9798826880175324,1.0253685501611003,1.510203604424545,0.5109137233231265,1.5908127534331578,-0.3668740925343287,-1.5039548068370523,-0.1760514246630563,-0.1760514246630563,1.609364087100349,2.555604738354828,1.609364087100349,-0.07576345541604369,1.324764042417528,0.6493791574672739,0.7354042079675397,1.8837864384860972,0.14040099086141958,0.9692128013022764,-0.3079501528316651,0.021243594724273878,1.5355456478259328,2.420110507401115,0.4573188380366324,3.259188856496627,0.4651460312507817,1.1595596941653754,-0.3440914999441032,-1.3586395154225293,0.8831459338108205,-1.240635708441918,-1.240635708441918,-1.240635708441918,-2.035915974629873,0.5625147255791937,-0.4784412384403652,-1.3628899770284342,0.17373568558224445,0.8444707048055672,0.7357398338128222,-1.027896434275484,-1.1221541045127117,-0.9829329450770571,-1.1375808586237055,0.17310675719722304,0.7084728161283199,1.6355282645578397,-0.14294211652685127,0.3960428734915081,1.2446805956487852],\"z\":[0.15872255573917737,-0.37072761482939254,-0.5825754987736459,-0.19203861835757738,0.6441514318392356,-0.9237471696815769,0.6059880749027179,-0.49929950665615325,-0.15003313494369475,-1.1866517556835878,-0.6106468576778653,-0.08749564755419062,-0.3571887413423741,0.18109903059919624,-0.7997839766429803,-1.7645573583925223,-0.7064447305767938,-0.7993655165920851,-0.2290903563061404,-0.24869727188619764,0.191602577347352,0.41389580001822274,-0.08544085835036051,0.7514386328751335,-0.5805633563928474,0.09216129152020805,0.09216129152020805,-1.1349509169731462,-0.19638030706468473,-0.742829422608665,-0.48234287238330087,-0.6050321827288825,-1.189083671512289,-0.6050321827288825,0.9801877393920999,-1.2813702849292101,0.2751486493538958,2.614347183417042,0.5763196049107586,3.856460035166927,0.2751486493538958,0.8721513905390977,2.614347183417042,0.5763196049107586,-0.4283123476829333,-0.9428740981920443,-0.16023289427626336,-0.5935375772836955,-0.9995403990910843,-0.4877282650524395,-0.1001556282633454,0.316505270253332,1.4667740337743405,0.06874299798401556,-0.04157548635463429,0.5522092435660682,-0.45611408294081135,1.7920238508646211,0.9284268110388704,0.3142780619292254,0.2573473549174511,-0.8720568084572423,0.41129377085463503,-1.3897268189704834,0.5493381881846573,1.4625650711871143,-1.4073124178455216,-1.8648705759063362,-0.3113981490885079,0.36248010059851754,0.4790141966252754,-0.8760982129199228,-0.447324202213466,-0.41003724650963175,-0.7858393055261886,-0.3703941867307378,-0.6865398335758683,0.05634702054784128,-0.17318410489867075,0.1019360729387736,-0.8013388160370154,-0.018730161808215955,0.1654151685889553,0.5922569169473744,-1.0850779212026267,-1.0025225500612216,-0.5569402487611151,-0.09565745480132745,0.060476605599116384,-0.5815589880191436,-0.0978836555500741,-1.2226924725079227,-0.34790120483202097,-0.4903618727843888,-0.34172554969967545,0.04679149416448715,-0.8008351276812063,-0.35334140688467586,-0.14044150732897717,-0.3805265363766413,-1.1426452804350973,-0.5552934303145406,0.679355712026061,-0.0037859074891260992,-0.8057008746701614,1.0936842541800402,3.2714809042164625,-0.18749257889415472,0.046755786198041153,-1.152252600936157,-0.052203711205472327,-0.3422595539985303,0.7672145259136769,-0.22428780423136915,-0.8020831454676777,-0.8255649244211019,-1.0647642772257961,0.1974587826599338,-0.29733021776809226,0.09811524540818282,-0.9709094126418287,-0.7429789112074656,0.09811524540818282,-0.8892725621862737,0.4125793165143959,-0.8042187221649917,-0.873298336333403,-1.2802289732548051,0.14172033807996978,-0.873298336333403,0.14172033807996978,0.989050393583249,2.29840172195373,1.4773140881262405,1.5229633648086787,-1.1410084416263706,0.018775409254659856,1.975951327731182,-0.7049920213671103,-1.6398160614581307,-0.4777730340374668,-0.4777730340374668,-0.3107160552009936,0.5148540661642919,0.6067915635342179,0.665550241019592,0.8587275943122854,0.5202207364396925,0.6009560442003836,-0.6739670322189492,0.8717093284246112,2.494339634180349,1.0573344269128573,0.7634024059785381,0.12800575225873123,2.115473504546397,-0.6739670322189492,2.115473504546397,2.115473504546397,-0.41450584899730125,1.1090910610017963,0.7634024059785381,1.0093881166410377,-0.6739670322189492,0.6231027410044138,1.0093881166410377,-0.4609544097904008,-1.4475178189083333,0.6116718592441869,1.921303121419991,3.1593691001376922,-2.3215034456174872,2.5240410974246528,-1.156453374708072,-0.4609544097904008,1.6666487496982985,1.5392329164193639,0.06025056461988235,0.6395794433358785,0.0024251732100466603,0.443338184740002,0.5438914536650626,-0.2862849906096689,0.7067317979442764,-0.11453930632789468,1.1278417388863746,1.6436230875693085,-0.4609544097904008,0.7217721078925274,0.16168532528102705,0.7217721078925274,1.8899935321423798,-1.3110013305626278,0.7859735639686442,-0.1504592445152793,0.4697331745136452,0.6400829896687779,-0.1504592445152793,0.4697331745136452,0.6400829896687779,0.3582086625888929,-0.1504592445152793,1.1483157944177382,-0.7515129545872332,-0.22590378247120962,-0.7515129545872332,-0.8181211854695787,-1.2553912257982136,0.06881659221606905,-0.022552760724224855,1.4206065990700292,0.29629668798927405,0.26946395290200786,-0.6564870004375516,0.12760782032658308,1.1024741148541086,0.41335245595119097,-1.6371794336835992,-1.5471475638012673,1.1283588032679057,0.6043804703269842,-0.19228466808816475,0.4528199686362378,0.5769502626297693,-0.22855528603310543,-1.3116296300348569,-0.1813399533416889,-0.3278174021821837,-1.1049216687917833,-1.2094097673071211,-1.2568495839175964,0.6976608760865325,-1.0637375213394507,0.24614458221693514,-0.45286703319595184,-0.6441421018298352,0.24614458221693514,-0.8244625251867042,-0.45286703319595184,1.4382331538048452,0.4737173997700161,1.2821827976207443,-0.7850578382278324,-1.0618709021079877,-0.7234592502424552,-2.0285872945777146,0.366464372258693,-0.9697296777095626,0.6933380566040531,-0.35690941566257267,0.78253802461844,-0.8658130207298411,0.97135578314302,-0.46626263187158545,-0.18380176402158435,-0.18380176402158435,0.7769825707075397,-0.3072117989110112,0.5934142312166465,-0.925645880581263,-1.1875530473163025,-0.5324282498764854,0.04214231623637651,0.43136670038890773,-0.4476718110463464,-0.5545748045611787,0.08275523632731134,-0.03404102268993988,2.0050967254038485,2.8430890927037047,-0.1735330495947822,-0.6865328993156389,-0.5053129317981729,0.3967478240322049,-0.3394386785076151,0.4159308294604462,-0.14269780534322818,-0.2915324551226925,-0.03209950345942565,-0.27312294266738263,0.324437528638723,-0.531966540722277,-0.7788760069226262,-0.2437475407640176,-0.36968961458273086,0.11679890434005419,0.4744109263859903,0.03542443324028818,-1.430907980293557,-1.4197629626321642,-0.8566841836521487,1.5240078836262276,0.454197744027527,-0.21414709522418365,-0.8860897306343601,-0.19687008149929472,-1.2350479609978953,-0.4030194166339137,-0.17023127791246506,2.9264474830294205,1.048286228202486,2.6192313345955576,-0.3810466746761576,-0.25707562250138044,1.0306132496154086,-0.23705284639190385,-0.6512620047991747,-0.14624011864658076,-0.6385331545975461,0.18180482851713953,-0.23775674716078715,-0.07090911513404756,-0.24893462211159398,-0.36607927905448173,-0.6546324106343535,1.156983231156725,-0.25433847609552246,0.2894769082019338,-0.39052159966654415,3.649775331052264,-0.5345934090032755,0.0983541510851589,0.17673871386650827,0.4523143442698432,-0.2628766401517901,-0.1322990426746447,-0.321303979119383,3.652122006256568,-0.3521085875685384,2.2284218849886455,-0.5395501167151172,1.828193929365975,1.1720318517743191,-0.30867900712986907,-0.5546263551558919,-0.042684838688030705,0.7829106658605236,-0.05623346427886324,-0.31061901314537665,-1.6629596138633678,-2.140914670816832,-0.3744720254364322,-0.5358560510455236,-0.6700729800381396,-1.1712142032298671,-0.47854470749270367,0.3839883710825631,0.0918829425728875,0.0918829425728875,1.0877791445085268,3.2310916976879476,1.9985811730881564,0.3803308018258182,-1.0320185235650021,-0.6133080390832985,-1.9295088931439106,1.9406841607135221,0.7423770666278586,-0.8573022032036782,-0.39255506970532217,-0.6680284624103843,-0.6171094109605452,-1.1460274663526835,-0.8929057835795977,-0.9783292775683696,-0.31092921345443697,-1.33621526189036,-0.8203603190852224,-1.8602468379209591,-0.1807403244511891,1.1942512677330084,0.2621542980417035,-1.058325833259196,-0.9273113831270743,-0.601919917858437,-1.372273100854361,-0.601919917858437,-1.372273100854361,-1.372273100854361,-1.1402375433128635,-0.39795829931520627,-0.42423301080017384,-0.04927459507649709,-0.5456834448484866,-0.35985176966764565,-1.2073499605292126,-0.17648792443036831,-1.2118086334999656,1.4973810648253407,-0.631003021840224,-0.631003021840224,0.8422713191532228,-1.2440834271863446,0.5150163133897727,-0.7281976351098577,1.051090704050433,-0.7011592836071094,-0.7281976351098577,1.7194822837263009,0.8006127862317687,0.5937449799520557,-1.438905841245122,-1.0819090036160766,-0.007942514217832698,-0.6800740204505078,-0.7149558318194708,-1.6968190805631176,0.8796785623855327,-1.4126841022833654,-0.4243367889199068,-0.4243367889199068,0.7081434015064925,-0.03875342240315008,-0.03875342240315008,-0.019940245492737617,-0.6068690506306418,-0.6068690506306418,-1.1010759145573787,0.38433065685613726,0.015039666121176305,1.3532139175628974,-0.6024588211671319,-0.8339870517538059,-0.8357960799341284,-0.9232730854535315,0.24975157330424944,0.20156766349229754,-0.8174520756516115,0.28123982970606914,-0.6519951617528673,-0.7961368564742902,2.392185553722209,3.358861172808306,4.332866722296091,5.51906519236551,3.556658522068524,3.4584738016634096,3.6655459914650077,0.5495281071436504,0.05286266735624474,0.013746048761211348,0.7771933242277637,0.21412985484983063,-0.9068446937233013,0.3127895266176042,-0.027030835220329202,0.4846266284415032,0.4846266284415032,-0.4291994517002536,-0.19927269662878722,0.4846266284415032,0.39725928786773734,0.281702292157439,-0.027030835220329202,0.281702292157439,-0.8957285861565628,1.7851794830603125,-0.5924120341416766,-0.39146025944924684,0.2629195495077648,0.4219068913607614,-0.7773325214462732,-0.7773325214462732,-0.9326154769526501,0.7598661183238345,0.5424202253075077,2.660654034375124,0.0714574970661042,-0.44832996993160207,-0.03416461787067067,-0.5962875716272202,-0.5962875716272202,1.4164456483157764,2.2578856782445977,1.4164456483157764,2.190316567728798,-0.5983684809580719,0.13674635017688697,0.13674635017688697,1.0051334770216929,2.047348879707602,0.872061072035083,1.9849554559289362,-0.24177931180183593,2.0499386500478654,1.468116560787099,2.116547813758888,1.109649794786885,0.5256949053839389,1.7632748235224536,-0.010396404738246616,-1.2209180530438442,0.5941363999435818,-0.8601381088648297,-0.011309752478767318,-0.9754037345301059,-1.5656182234918754,-1.0696382455896443,-0.24070345883941402,0.09970592389750206,-0.6735474739015256,-0.5699500475468632,0.04829317947849092,0.4918273579463796,0.8131933705430786,-0.7116019086923056,0.8131933705430786,0.7699933563376212,-0.2494179585023918,-0.6874715861848978,-0.2494179585023918,0.016716690630767393,-0.9860568011291291,-0.33968250825025276,-0.6696709537975789,-0.6169983671123267,-0.9466474441649239,-0.31103092708712793,0.06173422211658867,-0.16713101569102937,-0.05655066045557975,2.882649560841786,2.882649560841786,1.5123369355532639,1.9587100784554836,-1.013084285509776,1.9587100784554836,-0.9750913736293888,-1.2140075938558945,-0.3714870366108743,0.02005921081424807,-0.3667339880583978,-0.3674198046580591,1.2719154267131274,-0.5170275631060284,2.3053685526521,-0.0482394017424188,-1.0698916452537748,-1.09508782711819,-0.7884782801203886,-1.0830621298789598,0.5648004807034416,-0.5860589695296282,-0.45595128329682366,0.005242446088166735,-0.5472820739402896,-0.9066706096436318,-0.7172783092202479,-0.17332298569472088,1.152436522415198,0.6050699696273822,0.9585988437702325,-0.9785823032664577,0.46106917029259636,-0.9785823032664577,-0.6146171475740991,-0.6146171475740991,0.46106917029259636,0.08162379042030962,0.6700482132943801,2.337958121902263,0.21645145432537582,-0.12271855147009858,0.08050966476290973,1.2615145057984773,-0.16344622482165921,0.5224682632931267,0.44108972485969367,-0.10707551962057142,-0.5677185812641651,-0.48503516867395663,-0.6758941038142655,-0.730833496298856,0.24468008955906517,-1.0412559340458873,-0.10632005961753735,-0.3648840493815422,-1.0519614077578545,0.5983501617369485,-0.5419377345627493,-0.2584200933884989,1.1560617320936506,0.3355414054892681,-0.7199011726832699,-0.905662314392596,-0.35372306340034065,-0.9247030267098139,0.7103710583677684,1.274567657152561,-1.5167036850330184,0.08894363520760097,-0.18570314461132226,-0.31301189620194764,-0.3244843298131208,-0.9193995379942095,0.7195141924665729,3.1296832012273827,-0.6405521050287863,-0.031769928279420635,0.48927017674098244,-0.5797883908204238,0.15145056502722665,0.327125408925934,0.012805704379012645,-0.5671750863771496,-0.7895069359536813,-0.23249151942126367,1.394420282516075,-1.162102814901043,-0.36572502849956723,-0.13892153453258374,0.9242011019510191,-0.13892153453258374,0.6530277777347683,-0.4134049955036638,-1.348249885307825,-1.0892739371283804,-1.102346970475432,0.013817688189939586,0.43693667214583903,-0.2414073851846191,-0.16175784644420008,1.8364422532128764,-0.5462388384089469,-0.44837139571593815,-0.6102311789207046,-1.2317423292980911,0.716308441662656,0.6790624202858949,3.3394982869298904,0.716308441662656,-0.42038664258355324,3.414604597435904,-0.17872284442480604,-0.17872284442480604,-1.1118356763034387,-0.14356942230888187,0.3533941798479709,-0.6966242905136272,-0.790519660023068,-0.91632497148664,-0.21494933168018684,-0.7216444630002252,-0.4736715121527559,-1.6318935783026824,1.0521295951671008,-0.7327180322186375,0.15014926691843405,0.516516912311226,2.585020118900838,3.859711949495601,-0.4997706009793332,1.8418567906527272,1.8418567906527272,-1.1848243741229725,-0.5749761960389387,-0.6293063708936762,0.7990387401981406,0.7990387401981406,-0.8244785037029061,-0.4472134649860663,-0.05489701654600321,0.66228829684864,-0.07345222912552268,-0.8244785037029061,-0.8244785037029061,1.6095997420789772,0.66228829684864,-0.2562872679567907,0.8873628259748896,-0.4472134649860663,-1.0092611569008307,0.1418321058441148,0.9748322411891973,-0.12866996546032536,1.2972821673187758,-0.12866996546032536,0.1569626069367777,-0.2626831298069398,-0.8109681293365969,0.39459974306226464,-0.39855062140642017,-1.91893752377481,-0.8400758976470736,-1.021086972786331,-0.22115866856144398,-1.1981466808521406,0.14668876566754802,-0.4687717428411229,-0.5515486257103602,-0.9762814500977113,-0.9796964954338714,-1.5240324737227604,0.05355409884612509,0.5856066833464272,1.270745447951444,-0.7012251091818501,-1.0813111421059258,0.02073914896760881,-0.044140212066679625,-0.010315661168691799,-0.240391134450268,-1.8512728865753934,-1.0725972969327313,-1.241594275565367,-1.1368797215317308,-0.6908638972851968,-0.9298772716009667,0.06147490466717031,-0.45471437304707923,0.06147490466717031,0.06147490466717031,-0.5693343961509788,-0.7945712876067579,-1.1430343224593262,-1.684754344426531,-1.4302101702517083,-1.500442404126974,-0.6349342942471226,-0.5775488957224763,2.742570695830115,1.678312584886436,1.678312584886436,3.5155915418689507,-1.6362750785699605,-0.5422566415986909,-1.0606425993689803,0.31207169865692497,-0.8802375727702407,-0.3003059619420094,-0.6016487927435544,2.599089357518121,2.7884509184826336,0.5470489693055162,-0.9083037011391091,0.11785194678544526,-0.722894631683213,0.7536415284530035,-0.9083037011391091,-0.20285497663141835,-0.6765859084392275,1.4501529911844109,-0.6263352967610846,-0.42797269473007626,0.8758054453050503,-0.8798857683546291,-0.11198653697091877,0.9314269648595082,0.6301786019958385,0.5470489693055162,0.500205769905913,-0.5131914888301701,-0.026204452106129,-0.17180441975721783,-0.10440199490977352,-0.7211264021504328,-0.03129588225658372,-0.10980054905530563,-0.4765725398805514,-1.4010706730472828,-0.5625314973389596,-0.3545645326929981,-0.2779310320399822,0.8416661757028581,0.19086495768688333,-0.42294177302023117,-1.0234023144742823,-0.35340036354605764,-1.6272275353082457,-0.04142117032095004,-0.9302107019102925,-0.5497166229051659,-0.10481568975299844,0.4252928090088099,0.4252928090088099,0.02476241109970559,1.6243523584909099,0.02476241109970559,2.5931284443437166,-1.4000658968075763,-1.2556549547023577,-1.4768818137545368,-0.6418844071977743,0.32138270616388115,-1.218007685741342,-0.26181878719825996,0.2056325264909217,-1.1867820753752774,-0.7102918443962211,-0.6229991126837966,1.5695267146472576,-1.5765562490598048,-1.549790250569839,-0.2534215721446856,0.41150355897868635,-0.09723931247381164,-0.5724110585768897,-0.5724110585768897,-0.5724110585768897,0.7029355109827944,-0.12198632759694007,-0.43636935283568984,-0.13659157704380567,-0.8418428323576487,-1.289871390698115,-1.4969603855385374,-0.7552036420912277,-0.7455230505507617,-0.04397341915032861,-0.9319332513619428,-0.23903976257292028,-0.595044604322145,-0.9873138643788991,-0.988710049156179,-0.8703847465938598,0.16475607276114082],\"type\":\"scatter3d\"}],                        {\"template\":{\"data\":{\"bar\":[{\"error_x\":{\"color\":\"#2a3f5f\"},\"error_y\":{\"color\":\"#2a3f5f\"},\"marker\":{\"line\":{\"color\":\"#E5ECF6\",\"width\":0.5},\"pattern\":{\"fillmode\":\"overlay\",\"size\":10,\"solidity\":0.2}},\"type\":\"bar\"}],\"barpolar\":[{\"marker\":{\"line\":{\"color\":\"#E5ECF6\",\"width\":0.5},\"pattern\":{\"fillmode\":\"overlay\",\"size\":10,\"solidity\":0.2}},\"type\":\"barpolar\"}],\"carpet\":[{\"aaxis\":{\"endlinecolor\":\"#2a3f5f\",\"gridcolor\":\"white\",\"linecolor\":\"white\",\"minorgridcolor\":\"white\",\"startlinecolor\":\"#2a3f5f\"},\"baxis\":{\"endlinecolor\":\"#2a3f5f\",\"gridcolor\":\"white\",\"linecolor\":\"white\",\"minorgridcolor\":\"white\",\"startlinecolor\":\"#2a3f5f\"},\"type\":\"carpet\"}],\"choropleth\":[{\"colorbar\":{\"outlinewidth\":0,\"ticks\":\"\"},\"type\":\"choropleth\"}],\"contour\":[{\"colorbar\":{\"outlinewidth\":0,\"ticks\":\"\"},\"colorscale\":[[0.0,\"#0d0887\"],[0.1111111111111111,\"#46039f\"],[0.2222222222222222,\"#7201a8\"],[0.3333333333333333,\"#9c179e\"],[0.4444444444444444,\"#bd3786\"],[0.5555555555555556,\"#d8576b\"],[0.6666666666666666,\"#ed7953\"],[0.7777777777777778,\"#fb9f3a\"],[0.8888888888888888,\"#fdca26\"],[1.0,\"#f0f921\"]],\"type\":\"contour\"}],\"contourcarpet\":[{\"colorbar\":{\"outlinewidth\":0,\"ticks\":\"\"},\"type\":\"contourcarpet\"}],\"heatmap\":[{\"colorbar\":{\"outlinewidth\":0,\"ticks\":\"\"},\"colorscale\":[[0.0,\"#0d0887\"],[0.1111111111111111,\"#46039f\"],[0.2222222222222222,\"#7201a8\"],[0.3333333333333333,\"#9c179e\"],[0.4444444444444444,\"#bd3786\"],[0.5555555555555556,\"#d8576b\"],[0.6666666666666666,\"#ed7953\"],[0.7777777777777778,\"#fb9f3a\"],[0.8888888888888888,\"#fdca26\"],[1.0,\"#f0f921\"]],\"type\":\"heatmap\"}],\"heatmapgl\":[{\"colorbar\":{\"outlinewidth\":0,\"ticks\":\"\"},\"colorscale\":[[0.0,\"#0d0887\"],[0.1111111111111111,\"#46039f\"],[0.2222222222222222,\"#7201a8\"],[0.3333333333333333,\"#9c179e\"],[0.4444444444444444,\"#bd3786\"],[0.5555555555555556,\"#d8576b\"],[0.6666666666666666,\"#ed7953\"],[0.7777777777777778,\"#fb9f3a\"],[0.8888888888888888,\"#fdca26\"],[1.0,\"#f0f921\"]],\"type\":\"heatmapgl\"}],\"histogram\":[{\"marker\":{\"pattern\":{\"fillmode\":\"overlay\",\"size\":10,\"solidity\":0.2}},\"type\":\"histogram\"}],\"histogram2d\":[{\"colorbar\":{\"outlinewidth\":0,\"ticks\":\"\"},\"colorscale\":[[0.0,\"#0d0887\"],[0.1111111111111111,\"#46039f\"],[0.2222222222222222,\"#7201a8\"],[0.3333333333333333,\"#9c179e\"],[0.4444444444444444,\"#bd3786\"],[0.5555555555555556,\"#d8576b\"],[0.6666666666666666,\"#ed7953\"],[0.7777777777777778,\"#fb9f3a\"],[0.8888888888888888,\"#fdca26\"],[1.0,\"#f0f921\"]],\"type\":\"histogram2d\"}],\"histogram2dcontour\":[{\"colorbar\":{\"outlinewidth\":0,\"ticks\":\"\"},\"colorscale\":[[0.0,\"#0d0887\"],[0.1111111111111111,\"#46039f\"],[0.2222222222222222,\"#7201a8\"],[0.3333333333333333,\"#9c179e\"],[0.4444444444444444,\"#bd3786\"],[0.5555555555555556,\"#d8576b\"],[0.6666666666666666,\"#ed7953\"],[0.7777777777777778,\"#fb9f3a\"],[0.8888888888888888,\"#fdca26\"],[1.0,\"#f0f921\"]],\"type\":\"histogram2dcontour\"}],\"mesh3d\":[{\"colorbar\":{\"outlinewidth\":0,\"ticks\":\"\"},\"type\":\"mesh3d\"}],\"parcoords\":[{\"line\":{\"colorbar\":{\"outlinewidth\":0,\"ticks\":\"\"}},\"type\":\"parcoords\"}],\"pie\":[{\"automargin\":true,\"type\":\"pie\"}],\"scatter\":[{\"marker\":{\"colorbar\":{\"outlinewidth\":0,\"ticks\":\"\"}},\"type\":\"scatter\"}],\"scatter3d\":[{\"line\":{\"colorbar\":{\"outlinewidth\":0,\"ticks\":\"\"}},\"marker\":{\"colorbar\":{\"outlinewidth\":0,\"ticks\":\"\"}},\"type\":\"scatter3d\"}],\"scattercarpet\":[{\"marker\":{\"colorbar\":{\"outlinewidth\":0,\"ticks\":\"\"}},\"type\":\"scattercarpet\"}],\"scattergeo\":[{\"marker\":{\"colorbar\":{\"outlinewidth\":0,\"ticks\":\"\"}},\"type\":\"scattergeo\"}],\"scattergl\":[{\"marker\":{\"colorbar\":{\"outlinewidth\":0,\"ticks\":\"\"}},\"type\":\"scattergl\"}],\"scattermapbox\":[{\"marker\":{\"colorbar\":{\"outlinewidth\":0,\"ticks\":\"\"}},\"type\":\"scattermapbox\"}],\"scatterpolar\":[{\"marker\":{\"colorbar\":{\"outlinewidth\":0,\"ticks\":\"\"}},\"type\":\"scatterpolar\"}],\"scatterpolargl\":[{\"marker\":{\"colorbar\":{\"outlinewidth\":0,\"ticks\":\"\"}},\"type\":\"scatterpolargl\"}],\"scatterternary\":[{\"marker\":{\"colorbar\":{\"outlinewidth\":0,\"ticks\":\"\"}},\"type\":\"scatterternary\"}],\"surface\":[{\"colorbar\":{\"outlinewidth\":0,\"ticks\":\"\"},\"colorscale\":[[0.0,\"#0d0887\"],[0.1111111111111111,\"#46039f\"],[0.2222222222222222,\"#7201a8\"],[0.3333333333333333,\"#9c179e\"],[0.4444444444444444,\"#bd3786\"],[0.5555555555555556,\"#d8576b\"],[0.6666666666666666,\"#ed7953\"],[0.7777777777777778,\"#fb9f3a\"],[0.8888888888888888,\"#fdca26\"],[1.0,\"#f0f921\"]],\"type\":\"surface\"}],\"table\":[{\"cells\":{\"fill\":{\"color\":\"#EBF0F8\"},\"line\":{\"color\":\"white\"}},\"header\":{\"fill\":{\"color\":\"#C8D4E3\"},\"line\":{\"color\":\"white\"}},\"type\":\"table\"}]},\"layout\":{\"annotationdefaults\":{\"arrowcolor\":\"#2a3f5f\",\"arrowhead\":0,\"arrowwidth\":1},\"autotypenumbers\":\"strict\",\"coloraxis\":{\"colorbar\":{\"outlinewidth\":0,\"ticks\":\"\"}},\"colorscale\":{\"diverging\":[[0,\"#8e0152\"],[0.1,\"#c51b7d\"],[0.2,\"#de77ae\"],[0.3,\"#f1b6da\"],[0.4,\"#fde0ef\"],[0.5,\"#f7f7f7\"],[0.6,\"#e6f5d0\"],[0.7,\"#b8e186\"],[0.8,\"#7fbc41\"],[0.9,\"#4d9221\"],[1,\"#276419\"]],\"sequential\":[[0.0,\"#0d0887\"],[0.1111111111111111,\"#46039f\"],[0.2222222222222222,\"#7201a8\"],[0.3333333333333333,\"#9c179e\"],[0.4444444444444444,\"#bd3786\"],[0.5555555555555556,\"#d8576b\"],[0.6666666666666666,\"#ed7953\"],[0.7777777777777778,\"#fb9f3a\"],[0.8888888888888888,\"#fdca26\"],[1.0,\"#f0f921\"]],\"sequentialminus\":[[0.0,\"#0d0887\"],[0.1111111111111111,\"#46039f\"],[0.2222222222222222,\"#7201a8\"],[0.3333333333333333,\"#9c179e\"],[0.4444444444444444,\"#bd3786\"],[0.5555555555555556,\"#d8576b\"],[0.6666666666666666,\"#ed7953\"],[0.7777777777777778,\"#fb9f3a\"],[0.8888888888888888,\"#fdca26\"],[1.0,\"#f0f921\"]]},\"colorway\":[\"#636efa\",\"#EF553B\",\"#00cc96\",\"#ab63fa\",\"#FFA15A\",\"#19d3f3\",\"#FF6692\",\"#B6E880\",\"#FF97FF\",\"#FECB52\"],\"font\":{\"color\":\"#2a3f5f\"},\"geo\":{\"bgcolor\":\"white\",\"lakecolor\":\"white\",\"landcolor\":\"#E5ECF6\",\"showlakes\":true,\"showland\":true,\"subunitcolor\":\"white\"},\"hoverlabel\":{\"align\":\"left\"},\"hovermode\":\"closest\",\"mapbox\":{\"style\":\"light\"},\"paper_bgcolor\":\"white\",\"plot_bgcolor\":\"#E5ECF6\",\"polar\":{\"angularaxis\":{\"gridcolor\":\"white\",\"linecolor\":\"white\",\"ticks\":\"\"},\"bgcolor\":\"#E5ECF6\",\"radialaxis\":{\"gridcolor\":\"white\",\"linecolor\":\"white\",\"ticks\":\"\"}},\"scene\":{\"xaxis\":{\"backgroundcolor\":\"#E5ECF6\",\"gridcolor\":\"white\",\"gridwidth\":2,\"linecolor\":\"white\",\"showbackground\":true,\"ticks\":\"\",\"zerolinecolor\":\"white\"},\"yaxis\":{\"backgroundcolor\":\"#E5ECF6\",\"gridcolor\":\"white\",\"gridwidth\":2,\"linecolor\":\"white\",\"showbackground\":true,\"ticks\":\"\",\"zerolinecolor\":\"white\"},\"zaxis\":{\"backgroundcolor\":\"#E5ECF6\",\"gridcolor\":\"white\",\"gridwidth\":2,\"linecolor\":\"white\",\"showbackground\":true,\"ticks\":\"\",\"zerolinecolor\":\"white\"}},\"shapedefaults\":{\"line\":{\"color\":\"#2a3f5f\"}},\"ternary\":{\"aaxis\":{\"gridcolor\":\"white\",\"linecolor\":\"white\",\"ticks\":\"\"},\"baxis\":{\"gridcolor\":\"white\",\"linecolor\":\"white\",\"ticks\":\"\"},\"bgcolor\":\"#E5ECF6\",\"caxis\":{\"gridcolor\":\"white\",\"linecolor\":\"white\",\"ticks\":\"\"}},\"title\":{\"x\":0.05},\"xaxis\":{\"automargin\":true,\"gridcolor\":\"white\",\"linecolor\":\"white\",\"ticks\":\"\",\"title\":{\"standoff\":15},\"zerolinecolor\":\"white\",\"zerolinewidth\":2},\"yaxis\":{\"automargin\":true,\"gridcolor\":\"white\",\"linecolor\":\"white\",\"ticks\":\"\",\"title\":{\"standoff\":15},\"zerolinecolor\":\"white\",\"zerolinewidth\":2}}},\"scene\":{\"domain\":{\"x\":[0.0,1.0],\"y\":[0.0,1.0]},\"xaxis\":{\"title\":{\"text\":\"0\"}},\"yaxis\":{\"title\":{\"text\":\"1\"}},\"zaxis\":{\"title\":{\"text\":\"2\"}}},\"coloraxis\":{\"colorbar\":{\"title\":{\"text\":\"Cluster\"}},\"colorscale\":[[0.0,\"#0d0887\"],[0.1111111111111111,\"#46039f\"],[0.2222222222222222,\"#7201a8\"],[0.3333333333333333,\"#9c179e\"],[0.4444444444444444,\"#bd3786\"],[0.5555555555555556,\"#d8576b\"],[0.6666666666666666,\"#ed7953\"],[0.7777777777777778,\"#fb9f3a\"],[0.8888888888888888,\"#fdca26\"],[1.0,\"#f0f921\"]]},\"legend\":{\"tracegroupgap\":0},\"margin\":{\"t\":60}},                        {\"responsive\": true}                    ).then(function(){\n",
       "                            \n",
       "var gd = document.getElementById('f50ad7b1-1002-4695-8f47-1e732bcd1acc');\n",
       "var x = new MutationObserver(function (mutations, observer) {{\n",
       "        var display = window.getComputedStyle(gd).display;\n",
       "        if (!display || display === 'none') {{\n",
       "            console.log([gd, 'removed!']);\n",
       "            Plotly.purge(gd);\n",
       "            observer.disconnect();\n",
       "        }}\n",
       "}});\n",
       "\n",
       "// Listen for the removal of the full notebook cells\n",
       "var notebookContainer = gd.closest('#notebook-container');\n",
       "if (notebookContainer) {{\n",
       "    x.observe(notebookContainer, {childList: true});\n",
       "}}\n",
       "\n",
       "// Listen for the clearing of the current output cell\n",
       "var outputEl = gd.closest('.output');\n",
       "if (outputEl) {{\n",
       "    x.observe(outputEl, {childList: true});\n",
       "}}\n",
       "\n",
       "                        })                };                });            </script>        </div>"
      ]
     },
     "metadata": {},
     "output_type": "display_data"
    }
   ],
   "source": [
    "fig = px.scatter_3d(pd.concat([new_df, pca_df], axis = 1), \n",
    "                 x = 0, y = 1, z=2, color='Cluster', size_max=0.01, hover_data=['name','artist','genre'])\n",
    "\n",
    "fig.update_traces(marker=dict(size=5,\n",
    "                              line=dict(width=1,\n",
    "                                        color='black')),\n",
    "                  selector=dict(mode='markers'))\n",
    "\n",
    "fig.show()"
   ]
  },
  {
   "cell_type": "markdown",
   "id": "cc04d6c0",
   "metadata": {},
   "source": [
    "## Individual Cluster Plots ##"
   ]
  },
  {
   "cell_type": "code",
   "execution_count": 246,
   "id": "e0e9a038",
   "metadata": {},
   "outputs": [
    {
     "data": {
      "application/vnd.plotly.v1+json": {
       "config": {
        "plotlyServerURL": "https://plot.ly"
       },
       "data": [
        {
         "customdata": [
          [
           "So Long, Goodbye - Live",
           "10 Years",
           "rock"
          ],
          [
           "Let Me Down Slowly",
           "Alec Benjamin",
           "pop"
          ],
          [
           "If I Ain't Got You",
           "Alicia Keys",
           "R&B"
          ],
          [
           "Electric (feat. Khalid)",
           "Alina Baraz",
           "rap"
          ],
          [
           "West Coast Christmas",
           "Anarbor",
           "pop punk"
          ],
          [
           "I Put A Spell On You (Fifty Shades of Grey) - From \"Fifty Shades Of Grey\" Soundtrack",
           "Annie Lennox",
           "pop"
          ],
          [
           "7 rings",
           "Ariana Grande",
           "pop"
          ],
          [
           "Okay - Acoustic",
           "AS IT IS",
           "emo"
          ],
          [
           "feel something",
           "Bea Miller",
           "pop"
          ],
          [
           "come out and play",
           "Billie Eilish",
           "pop"
          ],
          [
           "when the party's over",
           "Billie Eilish",
           "pop"
          ],
          [
           "Photograph (feat. Bea Miller)",
           "Boyce Avenue",
           "pop"
          ],
          [
           "Superman",
           "Boyce Avenue",
           "pop"
          ],
          [
           "Set Fire to the Rain",
           "Boyce Avenue",
           "pop"
          ],
          [
           "We Are Young",
           "Boyce Avenue",
           "pop"
          ],
          [
           "Breakeven (Falling to Pieces)",
           "Boyce Avenue",
           "pop"
          ],
          [
           "Glycerine",
           "Boyce Avenue",
           "pop"
          ],
          [
           "Radioactive",
           "Boyce Avenue",
           "pop"
          ],
          [
           "A Thousand Years",
           "Boyce Avenue",
           "pop"
          ],
          [
           "Letter to Me",
           "Brad Paisley",
           "country"
          ],
          [
           "Who Am I",
           "Casting Crowns",
           "christian contemporary"
          ],
          [
           "A Thousand Years",
           "Christina Perri",
           "pop"
          ],
          [
           "Wake Up",
           "Coheed and Cambria",
           "emo"
          ],
          [
           "Heather",
           "Conan Gray",
           "pop"
          ],
          [
           "Reason to Believe - Re-Record",
           "Dashboard Confessional",
           "emo"
          ],
          [
           "Vindicated - Re-Record",
           "Dashboard Confessional",
           "emo"
          ],
          [
           "Stolen - Re-Record",
           "Dashboard Confessional",
           "emo"
          ],
          [
           "So Long, so Long - Re-Record",
           "Dashboard Confessional",
           "emo"
          ],
          [
           "Dusk and Summer - Re-Record / Original Lyrics",
           "Dashboard Confessional",
           "emo"
          ],
          [
           "Belle of the Boulevard - Re-Record",
           "Dashboard Confessional",
           "emo"
          ],
          [
           "Hands Down - Re-Record",
           "Dashboard Confessional",
           "emo"
          ],
          [
           "Screaming Infidelities",
           "Dashboard Confessional",
           "emo"
          ],
          [
           "Screaming Infidelities - Acoustic",
           "Dashboard Confessional",
           "emo"
          ],
          [
           "Screaming Infidelities",
           "Dashboard Confessional",
           "emo"
          ],
          [
           "Water And Bridges - Acoustic",
           "Dashboard Confessional",
           "emo"
          ],
          [
           "Even Now - Acoustic",
           "Dashboard Confessional",
           "emo"
          ],
          [
           "Screaming Infidelities",
           "Dashboard Confessional",
           "emo"
          ],
          [
           "This Bitter Pill",
           "Dashboard Confessional",
           "emo"
          ],
          [
           "The Ice Is Getting Thinner",
           "Death Cab for Cutie",
           "emo"
          ],
          [
           "The Ice Is Getting Thinner",
           "Death Cab for Cutie",
           "emo"
          ],
          [
           "Photograph",
           "Ed Sheeran",
           "pop"
          ],
          [
           "Photograph",
           "Ed Sheeran",
           "pop"
          ],
          [
           "Give Me Love",
           "Ed Sheeran",
           "pop"
          ],
          [
           "To Love's End (Inuyasha)",
           "Eliott Tordo Erhu",
           "instrumental"
          ],
          [
           "Sadness & Sorrow",
           "Eliott Tordo Erhu",
           "instrumental"
          ],
          [
           "Teldrassil",
           "Eliott Tordo Erhu",
           "instrumental"
          ],
          [
           "Oogway Ascends",
           "Eliott Tordo Erhu",
           "instrumental"
          ],
          [
           "Brother",
           "Falling In Reverse",
           "post hardcore"
          ],
          [
           "Shedding Skins",
           "Fia",
           "indie"
          ],
          [
           "I Lost a Friend",
           "FINNEAS",
           "pop"
          ],
          [
           "Break My Heart Again",
           "FINNEAS",
           "pop"
          ],
          [
           "La campanella in G-Sharp Minor (From \"Grandes études de Paganini\", S. 141 / 3)",
           "Franz Liszt",
           "classical"
          ],
          [
           "Praeludium and Allegro",
           "Fritz Kreisler",
           "classical"
          ],
          [
           "Emily",
           "From First To Last",
           "emo"
          ],
          [
           "If I Tremble",
           "Front Porch Step",
           "emo"
          ],
          [
           "Help Me Hurt",
           "Front Porch Step",
           "emo"
          ],
          [
           "Worship from a Wretch",
           "Front Porch Step",
           "emo"
          ],
          [
           "Après un rêve, Op. 7, No. 1",
           "Gabriel Fauré",
           "classical"
          ],
          [
           "i hate u, i love u (feat. olivia o'brien)",
           "Garrett Nash",
           "pop"
          ],
          [
           "Beautiful Things",
           "Gungor",
           "christian contemporary"
          ],
          [
           "Leave It Alone",
           "Hayley Williams",
           "emo"
          ],
          [
           "Oceans (Where Feet May Fail)",
           "Hillsong UNITED",
           "christian contemporary"
          ],
          [
           "Oceans (Where Feet My Fail) - Live/Acoustic Version",
           "Hillsong UNITED",
           "christian contemporary"
          ],
          [
           "Came To My Rescue - Live",
           "Hillsong UNITED",
           "christian contemporary"
          ],
          [
           "Joy To The World",
           "Hillsong Worship",
           "christian contemporary"
          ],
          [
           "Emmanuel",
           "Hillsong Worship",
           "christian contemporary"
          ],
          [
           "O Holy Night",
           "Hillsong Worship",
           "christian contemporary"
          ],
          [
           "Unto Us",
           "Hillsong Worship",
           "christian contemporary"
          ],
          [
           "The First Noel (Holy Is The Lord)",
           "Hillsong Worship",
           "christian contemporary"
          ],
          [
           "All I Can Give You",
           "Jason Lancaster",
           "emo"
          ],
          [
           "All I Can Give You",
           "Jason Lancaster",
           "emo"
          ],
          [
           "Away In A Manger",
           "Jeremy Camp",
           "christian contemporary"
          ],
          [
           "Have Yourself A Merry Little Christmas",
           "Jeremy Camp",
           "christian contemporary"
          ],
          [
           "Away In A Manger",
           "Jeremy Camp",
           "christian contemporary"
          ],
          [
           "Christmas Greeting",
           "Jeremy Camp",
           "christian contemporary"
          ],
          [
           "Joy To The World Intro",
           "Jeremy Camp",
           "christian contemporary"
          ],
          [
           "Luke 2: 15-20",
           "Jeremy Camp",
           "christian contemporary"
          ],
          [
           "Have Yourself A Merry Little Christmas",
           "Jeremy Camp",
           "christian contemporary"
          ],
          [
           "Matthew 1: 23",
           "Jeremy Camp",
           "christian contemporary"
          ],
          [
           "Away In A Manger",
           "Jeremy Camp",
           "christian contemporary"
          ],
          [
           "you were good to me",
           "Jeremy Zucker",
           "pop"
          ],
          [
           "Chopin: Etude Op. 25 No. 11 in a Minor (Winter Wind)",
           "Johan Åhlén",
           "classical"
          ],
          [
           "All of Me",
           "John Legend",
           "R&B"
          ],
          [
           "Little Talks",
           "Julia Sheer",
           "indie"
          ],
          [
           "Apologize (Acoustic Version)",
           "Kacey Musgraves",
           "pop"
          ],
          [
           "Way down We Go",
           "KALEO",
           "R&B"
          ],
          [
           "Praying",
           "Kesha",
           "pop"
          ],
          [
           "Praying",
           "Kesha",
           "pop"
          ],
          [
           "Gold",
           "Kiiara",
           "pop"
          ],
          [
           "Shallow",
           "Lady Gaga",
           "pop"
          ],
          [
           "You Don't Own Me",
           "Lesley Gore",
           "classic rock"
          ],
          [
           "Someone You Loved",
           "Lewis Capaldi",
           "pop"
          ],
          [
           "Someone You Loved",
           "Lewis Capaldi",
           "pop"
          ],
          [
           "Smells Like Teen Spirit",
           "Malia J",
           "indie"
          ],
          [
           "Take This To Heart - Acoustic",
           "Mayday Parade",
           "emo"
          ],
          [
           "Your Song - EP Version",
           "Mayday Parade",
           "emo"
          ],
          [
           "Amber Lynn - EP Version",
           "Mayday Parade",
           "emo"
          ],
          [
           "Three Cheers For Five Years",
           "Mayday Parade",
           "emo"
          ],
          [
           "Take This To Heart - Acoustic",
           "Mayday Parade",
           "emo"
          ],
          [
           "Three Cheers For Five Years",
           "Mayday Parade",
           "emo"
          ],
          [
           "Jamie All Over - EP Version",
           "Mayday Parade",
           "emo"
          ],
          [
           "Bruised and Scarred - EP Version",
           "Mayday Parade",
           "emo"
          ],
          [
           "Bruised and Scarred - EP Version",
           "Mayday Parade",
           "emo"
          ],
          [
           "Miles Away (Acoustic) [feat. Kellin Quinn]",
           "Memphis May Fire",
           "post hardcore"
          ],
          [
           "Chasin' You",
           "Morgan Wallen",
           "country"
          ],
          [
           "December (feat. Chris Carrabba)",
           "Neck Deep",
           "emo"
          ],
          [
           "December (feat. Chris Carrabba)",
           "Neck Deep",
           "emo"
          ],
          [
           "30 Days - Single Version",
           "Never Shout Never",
           "alternative"
          ],
          [
           "Nothing For Christmas",
           "New Found Glory",
           "alternative"
          ],
          [
           "Nothing for Christmas",
           "New Found Glory",
           "alternative"
          ],
          [
           "drivers license",
           "Olivia Rodrigo",
           "pop"
          ],
          [
           "Scars - Acoustic Version",
           "Papa Roach",
           "emo"
          ],
          [
           "Honey and Glass",
           "Peyton Cardoza",
           "pop"
          ],
          [
           "Etude No. 2",
           "Philip Glass",
           "classical"
          ],
          [
           "Decipher Reflections From Reality - Original Version",
           "PlayRadioPlay!",
           "pop"
          ],
          [
           "Bless The Broken Road",
           "Rascal Flatts",
           "country"
          ],
          [
           "I Got a Woman",
           "Ray Charles",
           "R&B"
          ],
          [
           "Sixteen",
           "Real Friends",
           "emo"
          ],
          [
           "I've Given Up on You",
           "Real Friends",
           "emo"
          ],
          [
           "The Scientist (Live Film Version) [feat. Mark Saul]",
           "Ryan Alexander",
           "indie"
          ],
          [
           "Remember That Night?",
           "Sara Kays",
           "pop"
          ],
          [
           "Fall for You (Acoustic)",
           "Secondhand Serenade",
           "emo"
          ],
          [
           "Trampoline",
           "SHAED",
           "pop"
          ],
          [
           "Save Me - Acoustic",
           "Shinedown",
           "rock"
          ],
          [
           "Save Me - Acoustic",
           "Shinedown",
           "rock"
          ],
          [
           "My Heroine - Acoustic",
           "Silverstein",
           "post hardcore"
          ],
          [
           "All My Heart",
           "Sleeping With Sirens",
           "post hardcore"
          ],
          [
           "Honeybee",
           "Steam Powered Giraffe",
           "indie"
          ],
          [
           "Brass Goggles",
           "Steam Powered Giraffe",
           "indie"
          ],
          [
           "Wicked Game - Acoustic; Live",
           "Stone Sour",
           "emo"
          ],
          [
           "Wicked Game - Acoustic; Live",
           "Stone Sour",
           "emo"
          ],
          [
           "Chicago",
           "Sufjan Stevens",
           "pop"
          ],
          [
           "Evergreen",
           "Switchfoot",
           "rock"
          ],
          [
           "Vice Verses",
           "Switchfoot",
           "rock"
          ],
          [
           "Cute Without The E - Cut From The Team",
           "Taking Back Sunday",
           "emo"
          ],
          [
           "A Decade Under The Influence - Acoustic",
           "Taking Back Sunday",
           "emo"
          ],
          [
           "you broke me first",
           "Tate McRae",
           "pop"
          ],
          [
           "Jack's Lament",
           "The All-American Rejects",
           "emo"
          ],
          [
           "Don't Be So Hard",
           "The Audition",
           "pop punk"
          ],
          [
           "Self-Conclusion",
           "The Spill Canvas",
           "emo"
          ],
          [
           "Black Dresses",
           "The Spill Canvas",
           "emo"
          ],
          [
           "Self-Conclusion",
           "The Spill Canvas",
           "emo"
          ],
          [
           "Self-Conclusion",
           "The Spill Canvas",
           "emo"
          ],
          [
           "Whiskey Dream Kathleen",
           "The Spill Canvas",
           "emo"
          ],
          [
           "Navy Blue",
           "The Story So Far",
           "pop punk"
          ],
          [
           "Earned It (Fifty Shades Of Grey) - From The \"Fifty Shades Of Grey\" Soundtrack",
           "The Weeknd",
           "rap"
          ],
          [
           "End Of All Days",
           "Thirty Seconds To Mars",
           "emo"
          ],
          [
           "Pyres Of Varanasi",
           "Thirty Seconds To Mars",
           "alternative"
          ],
          [
           "Convergence",
           "Thirty Seconds To Mars",
           "alternative"
          ],
          [
           "Depuis Le Début",
           "Thirty Seconds To Mars",
           "alternative"
          ],
          [
           "Escape",
           "Thirty Seconds To Mars",
           "alternative"
          ],
          [
           "100 Suns",
           "Thirty Seconds To Mars",
           "emo"
          ],
          [
           "Alibi",
           "Thirty Seconds To Mars",
           "emo"
          ],
          [
           "History",
           "This Wild Life",
           "emo"
          ],
          [
           "Concrete - Live Session",
           "This Wild Life",
           "emo"
          ],
          [
           "Roots and Branches (Meant To Be Alone)",
           "This Wild Life",
           "emo"
          ],
          [
           "Sleepwalking - Live Session",
           "This Wild Life",
           "emo"
          ],
          [
           "Blister in the Sun - 2002 Remastered Version",
           "Violent Femmes",
           "pop"
          ],
          [
           "O Holy Night",
           "We The Kings",
           "rock"
          ],
          [
           "The Village",
           "Wrabel",
           "pop"
          ],
          [
           "whoa (mind in awe)",
           "XXXTENTACION",
           "rap"
          ],
          [
           "Crash",
           "You Me At Six",
           "pop punk"
          ],
          [
           "Seven Nation Army",
           "Zella Day",
           "rock"
          ]
         ],
         "hovertemplate": "0=%{x}<br>1=%{y}<br>2=%{z}<br>name=%{customdata[0]}<br>artist=%{customdata[1]}<br>genre=%{customdata[2]}<br>Cluster=%{marker.color}<extra></extra>",
         "legendgroup": "",
         "marker": {
          "color": [
           1,
           1,
           1,
           1,
           1,
           1,
           1,
           1,
           1,
           1,
           1,
           1,
           1,
           1,
           1,
           1,
           1,
           1,
           1,
           1,
           1,
           1,
           1,
           1,
           1,
           1,
           1,
           1,
           1,
           1,
           1,
           1,
           1,
           1,
           1,
           1,
           1,
           1,
           1,
           1,
           1,
           1,
           1,
           1,
           1,
           1,
           1,
           1,
           1,
           1,
           1,
           1,
           1,
           1,
           1,
           1,
           1,
           1,
           1,
           1,
           1,
           1,
           1,
           1,
           1,
           1,
           1,
           1,
           1,
           1,
           1,
           1,
           1,
           1,
           1,
           1,
           1,
           1,
           1,
           1,
           1,
           1,
           1,
           1,
           1,
           1,
           1,
           1,
           1,
           1,
           1,
           1,
           1,
           1,
           1,
           1,
           1,
           1,
           1,
           1,
           1,
           1,
           1,
           1,
           1,
           1,
           1,
           1,
           1,
           1,
           1,
           1,
           1,
           1,
           1,
           1,
           1,
           1,
           1,
           1,
           1,
           1,
           1,
           1,
           1,
           1,
           1,
           1,
           1,
           1,
           1,
           1,
           1,
           1,
           1,
           1,
           1,
           1,
           1,
           1,
           1,
           1,
           1,
           1,
           1,
           1,
           1,
           1,
           1,
           1,
           1,
           1,
           1,
           1,
           1,
           1,
           1,
           1,
           1,
           1,
           1,
           1,
           1
          ],
          "coloraxis": "coloraxis",
          "line": {
           "color": "cyan",
           "width": 1
          },
          "size": 5,
          "symbol": "circle"
         },
         "mode": "markers",
         "name": "",
         "scene": "scene",
         "showlegend": false,
         "type": "scatter3d",
         "x": [
          2.602736416950726,
          1.0557212140593384,
          1.9535690643680554,
          2.644965410487383,
          1.9611273606745312,
          0.7336903678422305,
          2.545773664522722,
          2.0427207321762606,
          1.0087523736694544,
          2.853188985072909,
          4.125361536633133,
          2.657568336581745,
          3.1312718069888534,
          3.080606956915057,
          2.8044085131377967,
          2.4157389783820618,
          2.2493537526032794,
          2.862070599369235,
          3.107810465442241,
          2.2599854472369367,
          1.3138058400923955,
          1.1841496970215253,
          1.7032544415269835,
          1.7125350758444482,
          0.7530262254609401,
          1.237337235018831,
          3.354053244057044,
          2.4701546468819253,
          3.9499389829056755,
          2.7417844225482457,
          2.224248275179142,
          0.9422957713719198,
          2.8363414566302922,
          0.9303897971849634,
          1.2853582500660252,
          2.505112791477563,
          0.9303897971849634,
          2.586214934112879,
          4.052525426807134,
          4.052525426807134,
          2.408874697341038,
          2.408874697341038,
          2.0523030084284466,
          3.8572942439347817,
          3.5944134443795948,
          4.079835040812404,
          4.471758887680886,
          2.577530355157974,
          4.90652596575937,
          2.2812599862327296,
          3.5185737068868774,
          4.6414011214831685,
          4.641636682202904,
          1.1609122943579566,
          1.5366356284068432,
          2.7118463166925446,
          1.1975751737846687,
          6.298249159567896,
          3.1168254064133447,
          1.2529925851657961,
          2.5727643876465134,
          2.1980198423535815,
          2.367259221017549,
          1.322609858442751,
          1.6183314656533268,
          1.9637847152076873,
          3.1396397171281007,
          1.3607760948623646,
          0.9081294697667766,
          2.0312780540532542,
          1.693866724569228,
          0.8955798156104849,
          3.960664220534997,
          0.8981449409536513,
          6.55825345891425,
          5.153465032073782,
          3.9135993629215857,
          4.087977479172012,
          4.681311168740719,
          0.9716463871770757,
          4.3544693304289614,
          4.564930856531301,
          2.709628501003037,
          2.893064691873402,
          1.5550483864943447,
          1.099167132196466,
          2.0002367150184113,
          1.9920640606689102,
          1.726859782766079,
          1.3783524175667985,
          1.7195009837163266,
          1.8706448888376321,
          1.8706448888376321,
          1.5740809785927437,
          1.241465931163049,
          1.4916323998308463,
          1.409065760547962,
          1.553914187094077,
          1.241465931163049,
          1.553914187094077,
          1.1089890823276671,
          1.4348513526671725,
          1.4348513526671725,
          1.0598139354737164,
          1.2886406774524717,
          1.4709122689508467,
          1.4709122689508467,
          2.198243807757178,
          2.0198257517411213,
          1.8882191735913827,
          2.001031332849589,
          1.4930735803217703,
          2.8183384370874602,
          4.9930310600586,
          1.6021681314543088,
          1.484017351069631,
          0.7815502379958423,
          2.69814310855615,
          1.8889160099909392,
          2.860699644048891,
          1.3816237563356217,
          1.7930934028706287,
          1.3736164471366665,
          1.3703888459932163,
          1.3703888459932163,
          1.166105977599971,
          1.5205690694520633,
          3.711783792036994,
          0.9095290982955725,
          1.9286207689393722,
          1.9286207689393722,
          1.746165161691595,
          1.8244211788691165,
          3.1715276879156304,
          3.041274977476362,
          2.415525254976819,
          2.5866951009106005,
          2.3500810509804255,
          0.6302654331418455,
          1.2804643294236049,
          1.3578914986300032,
          1.2804643294236049,
          1.2804643294236049,
          2.0590787311878644,
          1.2608502457891648,
          1.1854034077106559,
          1.2621321162235226,
          0.7604050683079489,
          3.225163724863359,
          2.9465381221221585,
          3.24956709273361,
          3.844300220051552,
          3.248165864305665,
          1.3843917485260067,
          0.8982413281980299,
          1.5093928728823196,
          2.4189177287718335,
          2.631455531946894,
          2.8339323914189625,
          1.7465202695882984,
          0.6456878536105652,
          1.0731548331742207,
          2.7557750390938462
         ],
         "y": [
          -1.4920368280611536,
          0.2887491834266427,
          -0.24585249507046222,
          -0.5332920768874011,
          1.8767082564093516,
          -0.5637159625964107,
          1.8048596981313243,
          -1.6047233181859606,
          0.12978256946501615,
          -0.09207597912423032,
          -0.5247234726508335,
          0.40535361722761903,
          -0.2301548641335403,
          0.0028314317808683523,
          -0.22665884752092896,
          0.3012532524931575,
          -1.6776263638588764,
          -0.656681407759553,
          -0.9514487140087977,
          -0.08118860064745188,
          -0.9361484551075877,
          -1.5211461975195548,
          0.6067682317410089,
          -0.9760910648313245,
          -0.03215141722048839,
          0.33433283287270116,
          -0.644256162082025,
          0.12935666022872827,
          0.21530900502389574,
          0.7561032993142244,
          0.40441897966436624,
          -1.1338365185726758,
          -1.0297958596955388,
          -1.2283112388882784,
          0.2154684040064858,
          0.43118853627105275,
          -1.2283112388882784,
          0.12790363420254544,
          -1.32820995883295,
          -1.32820995883295,
          -0.2671051377578378,
          -0.2671051377578378,
          -0.9138717825732955,
          -1.841552768265739,
          -2.2494828878300956,
          -2.1768883043110856,
          -2.2735503475655743,
          -0.7028662773719581,
          0.3806213778718181,
          -0.3993103382795187,
          -0.30883743621358106,
          -0.2575137978701881,
          -0.875653408917827,
          -0.7025652515122194,
          0.8717166252665065,
          -0.6498548536139535,
          0.11244897485981525,
          -1.7692805559460536,
          0.41102920976458224,
          -0.710726306504591,
          0.390698731450764,
          -2.220199353021482,
          -1.2046910302746907,
          -1.1689135459142075,
          -1.519112416811319,
          -1.4683980645501098,
          -1.3185577807143767,
          -2.1042318524966825,
          -0.6202995085638106,
          -0.2785189542476601,
          -0.9223160518999933,
          -0.561075533789238,
          -1.1723718117924464,
          -0.5644416405079329,
          -2.4779674559145315,
          -2.6315421669578547,
          1.756915840642827,
          -1.0005893672944945,
          -2.2093242468462044,
          -0.5494603896477444,
          -0.21055606284263673,
          -1.0544277874610983,
          -0.7478766708513958,
          0.7536840828070805,
          -0.9426272583920374,
          -0.4689081991811251,
          -0.240218189944494,
          -0.10392035266648626,
          1.4291850111049353,
          -0.12537638395008227,
          1.125025888656029,
          -0.18659552159274165,
          -0.18659552159274165,
          -2.1405215459421743,
          -0.7612930563745439,
          -1.3567577257707655,
          -0.5355012815189734,
          -0.5313736032434286,
          -0.7612930563745439,
          -0.5313736032434286,
          0.5386198095127288,
          0.3703927799608678,
          0.3703927799608678,
          -0.20186936892630766,
          0.453216789367976,
          -0.4282762849296055,
          -0.4282762849296055,
          0.2609993151613258,
          0.05973479339526403,
          -0.09335976320652012,
          -0.7362137953186447,
          0.5568375037478946,
          0.01222946148677927,
          -1.8566937694961956,
          0.08368678727976146,
          -0.23411794086563856,
          1.1810465957355616,
          -0.47595175001352064,
          -0.6228062791130445,
          1.5015041986295927,
          0.8584512264414117,
          -0.9666515971339587,
          0.6557104283432058,
          -0.17722897178132008,
          -0.17722897178132008,
          -0.9495810703737192,
          0.49602270115787855,
          -1.0448317098643158,
          0.5114423086856856,
          0.19074516101932346,
          0.19074516101932346,
          0.08097579049198027,
          -1.8178810630777076,
          -0.6668723919835347,
          -0.671023718996392,
          -0.8135613159273314,
          -0.46749209774344225,
          -0.9231718317238232,
          -1.0683894417520141,
          0.16814038460444786,
          0.1718153125157496,
          0.16814038460444786,
          0.16814038460444786,
          -0.11098287107255854,
          0.16062975430418686,
          0.2330659230835089,
          -0.8794951516899012,
          -0.5340438673610561,
          -0.28849352591716504,
          -0.9100661012657763,
          -2.000645695926474,
          1.2735929051024857,
          -1.7569339946660443,
          -1.032472983889145,
          -0.7323416671404823,
          -0.9448027011630111,
          -0.6126117586232317,
          2.420110507401115,
          -0.3440914999441032,
          -0.4784412384403652,
          0.17373568558224445,
          -1.1375808586237055,
          0.3960428734915081
         ],
         "z": [
          0.15872255573917737,
          -0.6106468576778653,
          -0.08749564755419062,
          -0.3571887413423741,
          -0.7064447305767938,
          -0.2290903563061404,
          0.41389580001822274,
          -0.08544085835036051,
          0.316505270253332,
          0.3142780619292254,
          0.2573473549174511,
          -0.8760982129199228,
          -0.447324202213466,
          -0.41003724650963175,
          -0.3703941867307378,
          -0.6865398335758683,
          0.05634702054784128,
          -0.17318410489867075,
          0.1019360729387736,
          -0.8013388160370154,
          -0.5815589880191436,
          -0.14044150732897717,
          -0.3805265363766413,
          0.679355712026061,
          -0.052203711205472327,
          -0.3422595539985303,
          0.7672145259136769,
          -0.22428780423136915,
          -0.8020831454676777,
          -0.8255649244211019,
          -1.0647642772257961,
          0.1974587826599338,
          -0.29733021776809226,
          0.09811524540818282,
          -0.9709094126418287,
          -0.7429789112074656,
          0.09811524540818282,
          -0.8892725621862737,
          0.14172033807996978,
          0.14172033807996978,
          -0.4777730340374668,
          -0.4777730340374668,
          -0.3107160552009936,
          0.5148540661642919,
          0.6067915635342179,
          0.665550241019592,
          0.8587275943122854,
          -0.22590378247120962,
          -0.022552760724224855,
          1.4206065990700292,
          0.29629668798927405,
          0.4528199686362378,
          0.5769502626297693,
          -0.22855528603310543,
          -1.3116296300348569,
          -0.1813399533416889,
          -0.3278174021821837,
          1.4382331538048452,
          1.2821827976207443,
          -0.8658130207298411,
          -0.5324282498764854,
          0.43136670038890773,
          -0.03404102268993988,
          -0.6865328993156389,
          0.3967478240322049,
          0.4159308294604462,
          -0.14269780534322818,
          0.324437528638723,
          -0.2437475407640176,
          -0.4030194166339137,
          -0.17023127791246506,
          -0.25707562250138044,
          -0.07090911513404756,
          -0.25433847609552246,
          0.2894769082019338,
          0.0983541510851589,
          0.4523143442698432,
          -0.1322990426746447,
          1.828193929365975,
          -0.30867900712986907,
          -0.042684838688030705,
          0.7829106658605236,
          -0.05623346427886324,
          -0.5358560510455236,
          -0.47854470749270367,
          0.3839883710825631,
          -0.8929057835795977,
          -0.9783292775683696,
          1.1942512677330084,
          -0.39795829931520627,
          1.4973810648253407,
          -0.631003021840224,
          -0.631003021840224,
          0.38433065685613726,
          -0.027030835220329202,
          -0.19927269662878722,
          0.39725928786773734,
          0.281702292157439,
          -0.027030835220329202,
          0.281702292157439,
          -0.8957285861565628,
          -0.7773325214462732,
          -0.7773325214462732,
          -0.8601381088648297,
          -1.0696382455896443,
          -0.2494179585023918,
          -0.2494179585023918,
          -0.33968250825025276,
          -0.6696709537975789,
          -0.6169983671123267,
          -0.0482394017424188,
          -0.5860589695296282,
          0.6050699696273822,
          0.9585988437702325,
          -0.48503516867395663,
          -0.3648840493815422,
          0.5983501617369485,
          -0.2584200933884989,
          -0.35372306340034065,
          3.1296832012273827,
          -0.5797883908204238,
          0.012805704379012645,
          -1.162102814901043,
          -0.13892153453258374,
          -0.13892153453258374,
          -0.2414073851846191,
          -1.1118356763034387,
          0.15014926691843405,
          0.516516912311226,
          1.8418567906527272,
          1.8418567906527272,
          -0.6293063708936762,
          -0.05489701654600321,
          -0.07345222912552268,
          -0.2626831298069398,
          -0.8109681293365969,
          -0.39855062140642017,
          0.14668876566754802,
          -0.4687717428411229,
          0.06147490466717031,
          -0.45471437304707923,
          0.06147490466717031,
          0.06147490466717031,
          -0.5693343961509788,
          -0.7945712876067579,
          -1.0606425993689803,
          -0.6765859084392275,
          1.4501529911844109,
          0.8758054453050503,
          -0.11198653697091877,
          0.9314269648595082,
          -0.5131914888301701,
          -0.03129588225658372,
          -0.4765725398805514,
          -0.5625314973389596,
          -0.3545645326929981,
          -0.2779310320399822,
          -0.7102918443962211,
          -0.2534215721446856,
          -0.43636935283568984,
          -0.8418428323576487,
          -0.9319332513619428,
          -0.8703847465938598
         ]
        }
       ],
       "layout": {
        "coloraxis": {
         "colorbar": {
          "title": {
           "text": "Cluster"
          }
         },
         "colorscale": [
          [
           0,
           "#0d0887"
          ],
          [
           0.1111111111111111,
           "#46039f"
          ],
          [
           0.2222222222222222,
           "#7201a8"
          ],
          [
           0.3333333333333333,
           "#9c179e"
          ],
          [
           0.4444444444444444,
           "#bd3786"
          ],
          [
           0.5555555555555556,
           "#d8576b"
          ],
          [
           0.6666666666666666,
           "#ed7953"
          ],
          [
           0.7777777777777778,
           "#fb9f3a"
          ],
          [
           0.8888888888888888,
           "#fdca26"
          ],
          [
           1,
           "#f0f921"
          ]
         ]
        },
        "legend": {
         "tracegroupgap": 0
        },
        "margin": {
         "t": 60
        },
        "scene": {
         "domain": {
          "x": [
           0,
           1
          ],
          "y": [
           0,
           1
          ]
         },
         "xaxis": {
          "range": [
           -2,
           6
          ],
          "title": {
           "text": "0"
          }
         },
         "yaxis": {
          "range": [
           -2,
           4
          ],
          "title": {
           "text": "1"
          }
         },
         "zaxis": {
          "range": [
           -2,
           5
          ],
          "title": {
           "text": "2"
          }
         }
        },
        "template": {
         "data": {
          "bar": [
           {
            "error_x": {
             "color": "#2a3f5f"
            },
            "error_y": {
             "color": "#2a3f5f"
            },
            "marker": {
             "line": {
              "color": "#E5ECF6",
              "width": 0.5
             },
             "pattern": {
              "fillmode": "overlay",
              "size": 10,
              "solidity": 0.2
             }
            },
            "type": "bar"
           }
          ],
          "barpolar": [
           {
            "marker": {
             "line": {
              "color": "#E5ECF6",
              "width": 0.5
             },
             "pattern": {
              "fillmode": "overlay",
              "size": 10,
              "solidity": 0.2
             }
            },
            "type": "barpolar"
           }
          ],
          "carpet": [
           {
            "aaxis": {
             "endlinecolor": "#2a3f5f",
             "gridcolor": "white",
             "linecolor": "white",
             "minorgridcolor": "white",
             "startlinecolor": "#2a3f5f"
            },
            "baxis": {
             "endlinecolor": "#2a3f5f",
             "gridcolor": "white",
             "linecolor": "white",
             "minorgridcolor": "white",
             "startlinecolor": "#2a3f5f"
            },
            "type": "carpet"
           }
          ],
          "choropleth": [
           {
            "colorbar": {
             "outlinewidth": 0,
             "ticks": ""
            },
            "type": "choropleth"
           }
          ],
          "contour": [
           {
            "colorbar": {
             "outlinewidth": 0,
             "ticks": ""
            },
            "colorscale": [
             [
              0,
              "#0d0887"
             ],
             [
              0.1111111111111111,
              "#46039f"
             ],
             [
              0.2222222222222222,
              "#7201a8"
             ],
             [
              0.3333333333333333,
              "#9c179e"
             ],
             [
              0.4444444444444444,
              "#bd3786"
             ],
             [
              0.5555555555555556,
              "#d8576b"
             ],
             [
              0.6666666666666666,
              "#ed7953"
             ],
             [
              0.7777777777777778,
              "#fb9f3a"
             ],
             [
              0.8888888888888888,
              "#fdca26"
             ],
             [
              1,
              "#f0f921"
             ]
            ],
            "type": "contour"
           }
          ],
          "contourcarpet": [
           {
            "colorbar": {
             "outlinewidth": 0,
             "ticks": ""
            },
            "type": "contourcarpet"
           }
          ],
          "heatmap": [
           {
            "colorbar": {
             "outlinewidth": 0,
             "ticks": ""
            },
            "colorscale": [
             [
              0,
              "#0d0887"
             ],
             [
              0.1111111111111111,
              "#46039f"
             ],
             [
              0.2222222222222222,
              "#7201a8"
             ],
             [
              0.3333333333333333,
              "#9c179e"
             ],
             [
              0.4444444444444444,
              "#bd3786"
             ],
             [
              0.5555555555555556,
              "#d8576b"
             ],
             [
              0.6666666666666666,
              "#ed7953"
             ],
             [
              0.7777777777777778,
              "#fb9f3a"
             ],
             [
              0.8888888888888888,
              "#fdca26"
             ],
             [
              1,
              "#f0f921"
             ]
            ],
            "type": "heatmap"
           }
          ],
          "heatmapgl": [
           {
            "colorbar": {
             "outlinewidth": 0,
             "ticks": ""
            },
            "colorscale": [
             [
              0,
              "#0d0887"
             ],
             [
              0.1111111111111111,
              "#46039f"
             ],
             [
              0.2222222222222222,
              "#7201a8"
             ],
             [
              0.3333333333333333,
              "#9c179e"
             ],
             [
              0.4444444444444444,
              "#bd3786"
             ],
             [
              0.5555555555555556,
              "#d8576b"
             ],
             [
              0.6666666666666666,
              "#ed7953"
             ],
             [
              0.7777777777777778,
              "#fb9f3a"
             ],
             [
              0.8888888888888888,
              "#fdca26"
             ],
             [
              1,
              "#f0f921"
             ]
            ],
            "type": "heatmapgl"
           }
          ],
          "histogram": [
           {
            "marker": {
             "pattern": {
              "fillmode": "overlay",
              "size": 10,
              "solidity": 0.2
             }
            },
            "type": "histogram"
           }
          ],
          "histogram2d": [
           {
            "colorbar": {
             "outlinewidth": 0,
             "ticks": ""
            },
            "colorscale": [
             [
              0,
              "#0d0887"
             ],
             [
              0.1111111111111111,
              "#46039f"
             ],
             [
              0.2222222222222222,
              "#7201a8"
             ],
             [
              0.3333333333333333,
              "#9c179e"
             ],
             [
              0.4444444444444444,
              "#bd3786"
             ],
             [
              0.5555555555555556,
              "#d8576b"
             ],
             [
              0.6666666666666666,
              "#ed7953"
             ],
             [
              0.7777777777777778,
              "#fb9f3a"
             ],
             [
              0.8888888888888888,
              "#fdca26"
             ],
             [
              1,
              "#f0f921"
             ]
            ],
            "type": "histogram2d"
           }
          ],
          "histogram2dcontour": [
           {
            "colorbar": {
             "outlinewidth": 0,
             "ticks": ""
            },
            "colorscale": [
             [
              0,
              "#0d0887"
             ],
             [
              0.1111111111111111,
              "#46039f"
             ],
             [
              0.2222222222222222,
              "#7201a8"
             ],
             [
              0.3333333333333333,
              "#9c179e"
             ],
             [
              0.4444444444444444,
              "#bd3786"
             ],
             [
              0.5555555555555556,
              "#d8576b"
             ],
             [
              0.6666666666666666,
              "#ed7953"
             ],
             [
              0.7777777777777778,
              "#fb9f3a"
             ],
             [
              0.8888888888888888,
              "#fdca26"
             ],
             [
              1,
              "#f0f921"
             ]
            ],
            "type": "histogram2dcontour"
           }
          ],
          "mesh3d": [
           {
            "colorbar": {
             "outlinewidth": 0,
             "ticks": ""
            },
            "type": "mesh3d"
           }
          ],
          "parcoords": [
           {
            "line": {
             "colorbar": {
              "outlinewidth": 0,
              "ticks": ""
             }
            },
            "type": "parcoords"
           }
          ],
          "pie": [
           {
            "automargin": true,
            "type": "pie"
           }
          ],
          "scatter": [
           {
            "marker": {
             "colorbar": {
              "outlinewidth": 0,
              "ticks": ""
             }
            },
            "type": "scatter"
           }
          ],
          "scatter3d": [
           {
            "line": {
             "colorbar": {
              "outlinewidth": 0,
              "ticks": ""
             }
            },
            "marker": {
             "colorbar": {
              "outlinewidth": 0,
              "ticks": ""
             }
            },
            "type": "scatter3d"
           }
          ],
          "scattercarpet": [
           {
            "marker": {
             "colorbar": {
              "outlinewidth": 0,
              "ticks": ""
             }
            },
            "type": "scattercarpet"
           }
          ],
          "scattergeo": [
           {
            "marker": {
             "colorbar": {
              "outlinewidth": 0,
              "ticks": ""
             }
            },
            "type": "scattergeo"
           }
          ],
          "scattergl": [
           {
            "marker": {
             "colorbar": {
              "outlinewidth": 0,
              "ticks": ""
             }
            },
            "type": "scattergl"
           }
          ],
          "scattermapbox": [
           {
            "marker": {
             "colorbar": {
              "outlinewidth": 0,
              "ticks": ""
             }
            },
            "type": "scattermapbox"
           }
          ],
          "scatterpolar": [
           {
            "marker": {
             "colorbar": {
              "outlinewidth": 0,
              "ticks": ""
             }
            },
            "type": "scatterpolar"
           }
          ],
          "scatterpolargl": [
           {
            "marker": {
             "colorbar": {
              "outlinewidth": 0,
              "ticks": ""
             }
            },
            "type": "scatterpolargl"
           }
          ],
          "scatterternary": [
           {
            "marker": {
             "colorbar": {
              "outlinewidth": 0,
              "ticks": ""
             }
            },
            "type": "scatterternary"
           }
          ],
          "surface": [
           {
            "colorbar": {
             "outlinewidth": 0,
             "ticks": ""
            },
            "colorscale": [
             [
              0,
              "#0d0887"
             ],
             [
              0.1111111111111111,
              "#46039f"
             ],
             [
              0.2222222222222222,
              "#7201a8"
             ],
             [
              0.3333333333333333,
              "#9c179e"
             ],
             [
              0.4444444444444444,
              "#bd3786"
             ],
             [
              0.5555555555555556,
              "#d8576b"
             ],
             [
              0.6666666666666666,
              "#ed7953"
             ],
             [
              0.7777777777777778,
              "#fb9f3a"
             ],
             [
              0.8888888888888888,
              "#fdca26"
             ],
             [
              1,
              "#f0f921"
             ]
            ],
            "type": "surface"
           }
          ],
          "table": [
           {
            "cells": {
             "fill": {
              "color": "#EBF0F8"
             },
             "line": {
              "color": "white"
             }
            },
            "header": {
             "fill": {
              "color": "#C8D4E3"
             },
             "line": {
              "color": "white"
             }
            },
            "type": "table"
           }
          ]
         },
         "layout": {
          "annotationdefaults": {
           "arrowcolor": "#2a3f5f",
           "arrowhead": 0,
           "arrowwidth": 1
          },
          "autotypenumbers": "strict",
          "coloraxis": {
           "colorbar": {
            "outlinewidth": 0,
            "ticks": ""
           }
          },
          "colorscale": {
           "diverging": [
            [
             0,
             "#8e0152"
            ],
            [
             0.1,
             "#c51b7d"
            ],
            [
             0.2,
             "#de77ae"
            ],
            [
             0.3,
             "#f1b6da"
            ],
            [
             0.4,
             "#fde0ef"
            ],
            [
             0.5,
             "#f7f7f7"
            ],
            [
             0.6,
             "#e6f5d0"
            ],
            [
             0.7,
             "#b8e186"
            ],
            [
             0.8,
             "#7fbc41"
            ],
            [
             0.9,
             "#4d9221"
            ],
            [
             1,
             "#276419"
            ]
           ],
           "sequential": [
            [
             0,
             "#0d0887"
            ],
            [
             0.1111111111111111,
             "#46039f"
            ],
            [
             0.2222222222222222,
             "#7201a8"
            ],
            [
             0.3333333333333333,
             "#9c179e"
            ],
            [
             0.4444444444444444,
             "#bd3786"
            ],
            [
             0.5555555555555556,
             "#d8576b"
            ],
            [
             0.6666666666666666,
             "#ed7953"
            ],
            [
             0.7777777777777778,
             "#fb9f3a"
            ],
            [
             0.8888888888888888,
             "#fdca26"
            ],
            [
             1,
             "#f0f921"
            ]
           ],
           "sequentialminus": [
            [
             0,
             "#0d0887"
            ],
            [
             0.1111111111111111,
             "#46039f"
            ],
            [
             0.2222222222222222,
             "#7201a8"
            ],
            [
             0.3333333333333333,
             "#9c179e"
            ],
            [
             0.4444444444444444,
             "#bd3786"
            ],
            [
             0.5555555555555556,
             "#d8576b"
            ],
            [
             0.6666666666666666,
             "#ed7953"
            ],
            [
             0.7777777777777778,
             "#fb9f3a"
            ],
            [
             0.8888888888888888,
             "#fdca26"
            ],
            [
             1,
             "#f0f921"
            ]
           ]
          },
          "colorway": [
           "#636efa",
           "#EF553B",
           "#00cc96",
           "#ab63fa",
           "#FFA15A",
           "#19d3f3",
           "#FF6692",
           "#B6E880",
           "#FF97FF",
           "#FECB52"
          ],
          "font": {
           "color": "#2a3f5f"
          },
          "geo": {
           "bgcolor": "white",
           "lakecolor": "white",
           "landcolor": "#E5ECF6",
           "showlakes": true,
           "showland": true,
           "subunitcolor": "white"
          },
          "hoverlabel": {
           "align": "left"
          },
          "hovermode": "closest",
          "mapbox": {
           "style": "light"
          },
          "paper_bgcolor": "white",
          "plot_bgcolor": "#E5ECF6",
          "polar": {
           "angularaxis": {
            "gridcolor": "white",
            "linecolor": "white",
            "ticks": ""
           },
           "bgcolor": "#E5ECF6",
           "radialaxis": {
            "gridcolor": "white",
            "linecolor": "white",
            "ticks": ""
           }
          },
          "scene": {
           "xaxis": {
            "backgroundcolor": "#E5ECF6",
            "gridcolor": "white",
            "gridwidth": 2,
            "linecolor": "white",
            "showbackground": true,
            "ticks": "",
            "zerolinecolor": "white"
           },
           "yaxis": {
            "backgroundcolor": "#E5ECF6",
            "gridcolor": "white",
            "gridwidth": 2,
            "linecolor": "white",
            "showbackground": true,
            "ticks": "",
            "zerolinecolor": "white"
           },
           "zaxis": {
            "backgroundcolor": "#E5ECF6",
            "gridcolor": "white",
            "gridwidth": 2,
            "linecolor": "white",
            "showbackground": true,
            "ticks": "",
            "zerolinecolor": "white"
           }
          },
          "shapedefaults": {
           "line": {
            "color": "#2a3f5f"
           }
          },
          "ternary": {
           "aaxis": {
            "gridcolor": "white",
            "linecolor": "white",
            "ticks": ""
           },
           "baxis": {
            "gridcolor": "white",
            "linecolor": "white",
            "ticks": ""
           },
           "bgcolor": "#E5ECF6",
           "caxis": {
            "gridcolor": "white",
            "linecolor": "white",
            "ticks": ""
           }
          },
          "title": {
           "x": 0.05
          },
          "xaxis": {
           "automargin": true,
           "gridcolor": "white",
           "linecolor": "white",
           "ticks": "",
           "title": {
            "standoff": 15
           },
           "zerolinecolor": "white",
           "zerolinewidth": 2
          },
          "yaxis": {
           "automargin": true,
           "gridcolor": "white",
           "linecolor": "white",
           "ticks": "",
           "title": {
            "standoff": 15
           },
           "zerolinecolor": "white",
           "zerolinewidth": 2
          }
         }
        }
       }
      },
      "text/html": [
       "<div>                            <div id=\"084e3433-b459-48fb-9205-aafb8fa384d1\" class=\"plotly-graph-div\" style=\"height:525px; width:100%;\"></div>            <script type=\"text/javascript\">                require([\"plotly\"], function(Plotly) {                    window.PLOTLYENV=window.PLOTLYENV || {};                                    if (document.getElementById(\"084e3433-b459-48fb-9205-aafb8fa384d1\")) {                    Plotly.newPlot(                        \"084e3433-b459-48fb-9205-aafb8fa384d1\",                        [{\"customdata\":[[\"So Long, Goodbye - Live\",\"10 Years\",\"rock\"],[\"Let Me Down Slowly\",\"Alec Benjamin\",\"pop\"],[\"If I Ain't Got You\",\"Alicia Keys\",\"R&B\"],[\"Electric (feat. Khalid)\",\"Alina Baraz\",\"rap\"],[\"West Coast Christmas\",\"Anarbor\",\"pop punk\"],[\"I Put A Spell On You (Fifty Shades of Grey) - From \\\"Fifty Shades Of Grey\\\" Soundtrack\",\"Annie Lennox\",\"pop\"],[\"7 rings\",\"Ariana Grande\",\"pop\"],[\"Okay - Acoustic\",\"AS IT IS\",\"emo\"],[\"feel something\",\"Bea Miller\",\"pop\"],[\"come out and play\",\"Billie Eilish\",\"pop\"],[\"when the party's over\",\"Billie Eilish\",\"pop\"],[\"Photograph (feat. Bea Miller)\",\"Boyce Avenue\",\"pop\"],[\"Superman\",\"Boyce Avenue\",\"pop\"],[\"Set Fire to the Rain\",\"Boyce Avenue\",\"pop\"],[\"We Are Young\",\"Boyce Avenue\",\"pop\"],[\"Breakeven (Falling to Pieces)\",\"Boyce Avenue\",\"pop\"],[\"Glycerine\",\"Boyce Avenue\",\"pop\"],[\"Radioactive\",\"Boyce Avenue\",\"pop\"],[\"A Thousand Years\",\"Boyce Avenue\",\"pop\"],[\"Letter to Me\",\"Brad Paisley\",\"country\"],[\"Who Am I\",\"Casting Crowns\",\"christian contemporary\"],[\"A Thousand Years\",\"Christina Perri\",\"pop\"],[\"Wake Up\",\"Coheed and Cambria\",\"emo\"],[\"Heather\",\"Conan Gray\",\"pop\"],[\"Reason to Believe - Re-Record\",\"Dashboard Confessional\",\"emo\"],[\"Vindicated - Re-Record\",\"Dashboard Confessional\",\"emo\"],[\"Stolen - Re-Record\",\"Dashboard Confessional\",\"emo\"],[\"So Long, so Long - Re-Record\",\"Dashboard Confessional\",\"emo\"],[\"Dusk and Summer - Re-Record / Original Lyrics\",\"Dashboard Confessional\",\"emo\"],[\"Belle of the Boulevard - Re-Record\",\"Dashboard Confessional\",\"emo\"],[\"Hands Down - Re-Record\",\"Dashboard Confessional\",\"emo\"],[\"Screaming Infidelities\",\"Dashboard Confessional\",\"emo\"],[\"Screaming Infidelities - Acoustic\",\"Dashboard Confessional\",\"emo\"],[\"Screaming Infidelities\",\"Dashboard Confessional\",\"emo\"],[\"Water And Bridges - Acoustic\",\"Dashboard Confessional\",\"emo\"],[\"Even Now - Acoustic\",\"Dashboard Confessional\",\"emo\"],[\"Screaming Infidelities\",\"Dashboard Confessional\",\"emo\"],[\"This Bitter Pill\",\"Dashboard Confessional\",\"emo\"],[\"The Ice Is Getting Thinner\",\"Death Cab for Cutie\",\"emo\"],[\"The Ice Is Getting Thinner\",\"Death Cab for Cutie\",\"emo\"],[\"Photograph\",\"Ed Sheeran\",\"pop\"],[\"Photograph\",\"Ed Sheeran\",\"pop\"],[\"Give Me Love\",\"Ed Sheeran\",\"pop\"],[\"To Love's End (Inuyasha)\",\"Eliott Tordo Erhu\",\"instrumental\"],[\"Sadness & Sorrow\",\"Eliott Tordo Erhu\",\"instrumental\"],[\"Teldrassil\",\"Eliott Tordo Erhu\",\"instrumental\"],[\"Oogway Ascends\",\"Eliott Tordo Erhu\",\"instrumental\"],[\"Brother\",\"Falling In Reverse\",\"post hardcore\"],[\"Shedding Skins\",\"Fia\",\"indie\"],[\"I Lost a Friend\",\"FINNEAS\",\"pop\"],[\"Break My Heart Again\",\"FINNEAS\",\"pop\"],[\"La campanella in G-Sharp Minor (From \\\"Grandes \\u00e9tudes de Paganini\\\", S. 141 / 3)\",\"Franz Liszt\",\"classical\"],[\"Praeludium and Allegro\",\"Fritz Kreisler\",\"classical\"],[\"Emily\",\"From First To Last\",\"emo\"],[\"If I Tremble\",\"Front Porch Step\",\"emo\"],[\"Help Me Hurt\",\"Front Porch Step\",\"emo\"],[\"Worship from a Wretch\",\"Front Porch Step\",\"emo\"],[\"Apr\\u00e8s un r\\u00eave, Op. 7, No. 1\",\"Gabriel Faur\\u00e9\",\"classical\"],[\"i hate u, i love u (feat. olivia o'brien)\",\"Garrett Nash\",\"pop\"],[\"Beautiful Things\",\"Gungor\",\"christian contemporary\"],[\"Leave It Alone\",\"Hayley Williams\",\"emo\"],[\"Oceans (Where Feet May Fail)\",\"Hillsong UNITED\",\"christian contemporary\"],[\"Oceans (Where Feet My Fail) - Live/Acoustic Version\",\"Hillsong UNITED\",\"christian contemporary\"],[\"Came To My Rescue - Live\",\"Hillsong UNITED\",\"christian contemporary\"],[\"Joy To The World\",\"Hillsong Worship\",\"christian contemporary\"],[\"Emmanuel\",\"Hillsong Worship\",\"christian contemporary\"],[\"O Holy Night\",\"Hillsong Worship\",\"christian contemporary\"],[\"Unto Us\",\"Hillsong Worship\",\"christian contemporary\"],[\"The First Noel (Holy Is The Lord)\",\"Hillsong Worship\",\"christian contemporary\"],[\"All I Can Give You\",\"Jason Lancaster\",\"emo\"],[\"All I Can Give You\",\"Jason Lancaster\",\"emo\"],[\"Away In A Manger\",\"Jeremy Camp\",\"christian contemporary\"],[\"Have Yourself A Merry Little Christmas\",\"Jeremy Camp\",\"christian contemporary\"],[\"Away In A Manger\",\"Jeremy Camp\",\"christian contemporary\"],[\"Christmas Greeting\",\"Jeremy Camp\",\"christian contemporary\"],[\"Joy To The World Intro\",\"Jeremy Camp\",\"christian contemporary\"],[\"Luke 2: 15-20\",\"Jeremy Camp\",\"christian contemporary\"],[\"Have Yourself A Merry Little Christmas\",\"Jeremy Camp\",\"christian contemporary\"],[\"Matthew 1: 23\",\"Jeremy Camp\",\"christian contemporary\"],[\"Away In A Manger\",\"Jeremy Camp\",\"christian contemporary\"],[\"you were good to me\",\"Jeremy Zucker\",\"pop\"],[\"Chopin: Etude Op. 25 No. 11 in a Minor (Winter Wind)\",\"Johan \\u00c5hl\\u00e9n\",\"classical\"],[\"All of Me\",\"John Legend\",\"R&B\"],[\"Little Talks\",\"Julia Sheer\",\"indie\"],[\"Apologize (Acoustic Version)\",\"Kacey Musgraves\",\"pop\"],[\"Way down We Go\",\"KALEO\",\"R&B\"],[\"Praying\",\"Kesha\",\"pop\"],[\"Praying\",\"Kesha\",\"pop\"],[\"Gold\",\"Kiiara\",\"pop\"],[\"Shallow\",\"Lady Gaga\",\"pop\"],[\"You Don't Own Me\",\"Lesley Gore\",\"classic rock\"],[\"Someone You Loved\",\"Lewis Capaldi\",\"pop\"],[\"Someone You Loved\",\"Lewis Capaldi\",\"pop\"],[\"Smells Like Teen Spirit\",\"Malia J\",\"indie\"],[\"Take This To Heart - Acoustic\",\"Mayday Parade\",\"emo\"],[\"Your Song - EP Version\",\"Mayday Parade\",\"emo\"],[\"Amber Lynn - EP Version\",\"Mayday Parade\",\"emo\"],[\"Three Cheers For Five Years\",\"Mayday Parade\",\"emo\"],[\"Take This To Heart - Acoustic\",\"Mayday Parade\",\"emo\"],[\"Three Cheers For Five Years\",\"Mayday Parade\",\"emo\"],[\"Jamie All Over - EP Version\",\"Mayday Parade\",\"emo\"],[\"Bruised and Scarred - EP Version\",\"Mayday Parade\",\"emo\"],[\"Bruised and Scarred - EP Version\",\"Mayday Parade\",\"emo\"],[\"Miles Away (Acoustic) [feat. Kellin Quinn]\",\"Memphis May Fire\",\"post hardcore\"],[\"Chasin' You\",\"Morgan Wallen\",\"country\"],[\"December (feat. Chris Carrabba)\",\"Neck Deep\",\"emo\"],[\"December (feat. Chris Carrabba)\",\"Neck Deep\",\"emo\"],[\"30 Days - Single Version\",\"Never Shout Never\",\"alternative\"],[\"Nothing For Christmas\",\"New Found Glory\",\"alternative\"],[\"Nothing for Christmas\",\"New Found Glory\",\"alternative\"],[\"drivers license\",\"Olivia Rodrigo\",\"pop\"],[\"Scars - Acoustic Version\",\"Papa Roach\",\"emo\"],[\"Honey and Glass\",\"Peyton Cardoza\",\"pop\"],[\"Etude No. 2\",\"Philip Glass\",\"classical\"],[\"Decipher Reflections From Reality - Original Version\",\"PlayRadioPlay!\",\"pop\"],[\"Bless The Broken Road\",\"Rascal Flatts\",\"country\"],[\"I Got a Woman\",\"Ray Charles\",\"R&B\"],[\"Sixteen\",\"Real Friends\",\"emo\"],[\"I've Given Up on You\",\"Real Friends\",\"emo\"],[\"The Scientist (Live Film Version) [feat. Mark Saul]\",\"Ryan Alexander\",\"indie\"],[\"Remember That Night?\",\"Sara Kays\",\"pop\"],[\"Fall for You (Acoustic)\",\"Secondhand Serenade\",\"emo\"],[\"Trampoline\",\"SHAED\",\"pop\"],[\"Save Me - Acoustic\",\"Shinedown\",\"rock\"],[\"Save Me - Acoustic\",\"Shinedown\",\"rock\"],[\"My Heroine - Acoustic\",\"Silverstein\",\"post hardcore\"],[\"All My Heart\",\"Sleeping With Sirens\",\"post hardcore\"],[\"Honeybee\",\"Steam Powered Giraffe\",\"indie\"],[\"Brass Goggles\",\"Steam Powered Giraffe\",\"indie\"],[\"Wicked Game - Acoustic; Live\",\"Stone Sour\",\"emo\"],[\"Wicked Game - Acoustic; Live\",\"Stone Sour\",\"emo\"],[\"Chicago\",\"Sufjan Stevens\",\"pop\"],[\"Evergreen\",\"Switchfoot\",\"rock\"],[\"Vice Verses\",\"Switchfoot\",\"rock\"],[\"Cute Without The E - Cut From The Team\",\"Taking Back Sunday\",\"emo\"],[\"A Decade Under The Influence - Acoustic\",\"Taking Back Sunday\",\"emo\"],[\"you broke me first\",\"Tate McRae\",\"pop\"],[\"Jack's Lament\",\"The All-American Rejects\",\"emo\"],[\"Don't Be So Hard\",\"The Audition\",\"pop punk\"],[\"Self-Conclusion\",\"The Spill Canvas\",\"emo\"],[\"Black Dresses\",\"The Spill Canvas\",\"emo\"],[\"Self-Conclusion\",\"The Spill Canvas\",\"emo\"],[\"Self-Conclusion\",\"The Spill Canvas\",\"emo\"],[\"Whiskey Dream Kathleen\",\"The Spill Canvas\",\"emo\"],[\"Navy Blue\",\"The Story So Far\",\"pop punk\"],[\"Earned It (Fifty Shades Of Grey) - From The \\\"Fifty Shades Of Grey\\\" Soundtrack\",\"The Weeknd\",\"rap\"],[\"End Of All Days\",\"Thirty Seconds To Mars\",\"emo\"],[\"Pyres Of Varanasi\",\"Thirty Seconds To Mars\",\"alternative\"],[\"Convergence\",\"Thirty Seconds To Mars\",\"alternative\"],[\"Depuis Le D\\u00e9but\",\"Thirty Seconds To Mars\",\"alternative\"],[\"Escape\",\"Thirty Seconds To Mars\",\"alternative\"],[\"100 Suns\",\"Thirty Seconds To Mars\",\"emo\"],[\"Alibi\",\"Thirty Seconds To Mars\",\"emo\"],[\"History\",\"This Wild Life\",\"emo\"],[\"Concrete - Live Session\",\"This Wild Life\",\"emo\"],[\"Roots and Branches (Meant To Be Alone)\",\"This Wild Life\",\"emo\"],[\"Sleepwalking - Live Session\",\"This Wild Life\",\"emo\"],[\"Blister in the Sun - 2002 Remastered Version\",\"Violent Femmes\",\"pop\"],[\"O Holy Night\",\"We The Kings\",\"rock\"],[\"The Village\",\"Wrabel\",\"pop\"],[\"whoa (mind in awe)\",\"XXXTENTACION\",\"rap\"],[\"Crash\",\"You Me At Six\",\"pop punk\"],[\"Seven Nation Army\",\"Zella Day\",\"rock\"]],\"hovertemplate\":\"0=%{x}<br>1=%{y}<br>2=%{z}<br>name=%{customdata[0]}<br>artist=%{customdata[1]}<br>genre=%{customdata[2]}<br>Cluster=%{marker.color}<extra></extra>\",\"legendgroup\":\"\",\"marker\":{\"color\":[1.0,1.0,1.0,1.0,1.0,1.0,1.0,1.0,1.0,1.0,1.0,1.0,1.0,1.0,1.0,1.0,1.0,1.0,1.0,1.0,1.0,1.0,1.0,1.0,1.0,1.0,1.0,1.0,1.0,1.0,1.0,1.0,1.0,1.0,1.0,1.0,1.0,1.0,1.0,1.0,1.0,1.0,1.0,1.0,1.0,1.0,1.0,1.0,1.0,1.0,1.0,1.0,1.0,1.0,1.0,1.0,1.0,1.0,1.0,1.0,1.0,1.0,1.0,1.0,1.0,1.0,1.0,1.0,1.0,1.0,1.0,1.0,1.0,1.0,1.0,1.0,1.0,1.0,1.0,1.0,1.0,1.0,1.0,1.0,1.0,1.0,1.0,1.0,1.0,1.0,1.0,1.0,1.0,1.0,1.0,1.0,1.0,1.0,1.0,1.0,1.0,1.0,1.0,1.0,1.0,1.0,1.0,1.0,1.0,1.0,1.0,1.0,1.0,1.0,1.0,1.0,1.0,1.0,1.0,1.0,1.0,1.0,1.0,1.0,1.0,1.0,1.0,1.0,1.0,1.0,1.0,1.0,1.0,1.0,1.0,1.0,1.0,1.0,1.0,1.0,1.0,1.0,1.0,1.0,1.0,1.0,1.0,1.0,1.0,1.0,1.0,1.0,1.0,1.0,1.0,1.0,1.0,1.0,1.0,1.0,1.0,1.0,1.0],\"coloraxis\":\"coloraxis\",\"symbol\":\"circle\",\"line\":{\"color\":\"cyan\",\"width\":1},\"size\":5},\"mode\":\"markers\",\"name\":\"\",\"scene\":\"scene\",\"showlegend\":false,\"x\":[2.602736416950726,1.0557212140593384,1.9535690643680554,2.644965410487383,1.9611273606745312,0.7336903678422305,2.545773664522722,2.0427207321762606,1.0087523736694544,2.853188985072909,4.125361536633133,2.657568336581745,3.1312718069888534,3.080606956915057,2.8044085131377967,2.4157389783820618,2.2493537526032794,2.862070599369235,3.107810465442241,2.2599854472369367,1.3138058400923955,1.1841496970215253,1.7032544415269835,1.7125350758444482,0.7530262254609401,1.237337235018831,3.354053244057044,2.4701546468819253,3.9499389829056755,2.7417844225482457,2.224248275179142,0.9422957713719198,2.8363414566302922,0.9303897971849634,1.2853582500660252,2.505112791477563,0.9303897971849634,2.586214934112879,4.052525426807134,4.052525426807134,2.408874697341038,2.408874697341038,2.0523030084284466,3.8572942439347817,3.5944134443795948,4.079835040812404,4.471758887680886,2.577530355157974,4.90652596575937,2.2812599862327296,3.5185737068868774,4.6414011214831685,4.641636682202904,1.1609122943579566,1.5366356284068432,2.7118463166925446,1.1975751737846687,6.298249159567896,3.1168254064133447,1.2529925851657961,2.5727643876465134,2.1980198423535815,2.367259221017549,1.322609858442751,1.6183314656533268,1.9637847152076873,3.1396397171281007,1.3607760948623646,0.9081294697667766,2.0312780540532542,1.693866724569228,0.8955798156104849,3.960664220534997,0.8981449409536513,6.55825345891425,5.153465032073782,3.9135993629215857,4.087977479172012,4.681311168740719,0.9716463871770757,4.3544693304289614,4.564930856531301,2.709628501003037,2.893064691873402,1.5550483864943447,1.099167132196466,2.0002367150184113,1.9920640606689102,1.726859782766079,1.3783524175667985,1.7195009837163266,1.8706448888376321,1.8706448888376321,1.5740809785927437,1.241465931163049,1.4916323998308463,1.409065760547962,1.553914187094077,1.241465931163049,1.553914187094077,1.1089890823276671,1.4348513526671725,1.4348513526671725,1.0598139354737164,1.2886406774524717,1.4709122689508467,1.4709122689508467,2.198243807757178,2.0198257517411213,1.8882191735913827,2.001031332849589,1.4930735803217703,2.8183384370874602,4.9930310600586,1.6021681314543088,1.484017351069631,0.7815502379958423,2.69814310855615,1.8889160099909392,2.860699644048891,1.3816237563356217,1.7930934028706287,1.3736164471366665,1.3703888459932163,1.3703888459932163,1.166105977599971,1.5205690694520633,3.711783792036994,0.9095290982955725,1.9286207689393722,1.9286207689393722,1.746165161691595,1.8244211788691165,3.1715276879156304,3.041274977476362,2.415525254976819,2.5866951009106005,2.3500810509804255,0.6302654331418455,1.2804643294236049,1.3578914986300032,1.2804643294236049,1.2804643294236049,2.0590787311878644,1.2608502457891648,1.1854034077106559,1.2621321162235226,0.7604050683079489,3.225163724863359,2.9465381221221585,3.24956709273361,3.844300220051552,3.248165864305665,1.3843917485260067,0.8982413281980299,1.5093928728823196,2.4189177287718335,2.631455531946894,2.8339323914189625,1.7465202695882984,0.6456878536105652,1.0731548331742207,2.7557750390938462],\"y\":[-1.4920368280611536,0.2887491834266427,-0.24585249507046222,-0.5332920768874011,1.8767082564093516,-0.5637159625964107,1.8048596981313243,-1.6047233181859606,0.12978256946501615,-0.09207597912423032,-0.5247234726508335,0.40535361722761903,-0.2301548641335403,0.0028314317808683523,-0.22665884752092896,0.3012532524931575,-1.6776263638588764,-0.656681407759553,-0.9514487140087977,-0.08118860064745188,-0.9361484551075877,-1.5211461975195548,0.6067682317410089,-0.9760910648313245,-0.03215141722048839,0.33433283287270116,-0.644256162082025,0.12935666022872827,0.21530900502389574,0.7561032993142244,0.40441897966436624,-1.1338365185726758,-1.0297958596955388,-1.2283112388882784,0.2154684040064858,0.43118853627105275,-1.2283112388882784,0.12790363420254544,-1.32820995883295,-1.32820995883295,-0.2671051377578378,-0.2671051377578378,-0.9138717825732955,-1.841552768265739,-2.2494828878300956,-2.1768883043110856,-2.2735503475655743,-0.7028662773719581,0.3806213778718181,-0.3993103382795187,-0.30883743621358106,-0.2575137978701881,-0.875653408917827,-0.7025652515122194,0.8717166252665065,-0.6498548536139535,0.11244897485981525,-1.7692805559460536,0.41102920976458224,-0.710726306504591,0.390698731450764,-2.220199353021482,-1.2046910302746907,-1.1689135459142075,-1.519112416811319,-1.4683980645501098,-1.3185577807143767,-2.1042318524966825,-0.6202995085638106,-0.2785189542476601,-0.9223160518999933,-0.561075533789238,-1.1723718117924464,-0.5644416405079329,-2.4779674559145315,-2.6315421669578547,1.756915840642827,-1.0005893672944945,-2.2093242468462044,-0.5494603896477444,-0.21055606284263673,-1.0544277874610983,-0.7478766708513958,0.7536840828070805,-0.9426272583920374,-0.4689081991811251,-0.240218189944494,-0.10392035266648626,1.4291850111049353,-0.12537638395008227,1.125025888656029,-0.18659552159274165,-0.18659552159274165,-2.1405215459421743,-0.7612930563745439,-1.3567577257707655,-0.5355012815189734,-0.5313736032434286,-0.7612930563745439,-0.5313736032434286,0.5386198095127288,0.3703927799608678,0.3703927799608678,-0.20186936892630766,0.453216789367976,-0.4282762849296055,-0.4282762849296055,0.2609993151613258,0.05973479339526403,-0.09335976320652012,-0.7362137953186447,0.5568375037478946,0.01222946148677927,-1.8566937694961956,0.08368678727976146,-0.23411794086563856,1.1810465957355616,-0.47595175001352064,-0.6228062791130445,1.5015041986295927,0.8584512264414117,-0.9666515971339587,0.6557104283432058,-0.17722897178132008,-0.17722897178132008,-0.9495810703737192,0.49602270115787855,-1.0448317098643158,0.5114423086856856,0.19074516101932346,0.19074516101932346,0.08097579049198027,-1.8178810630777076,-0.6668723919835347,-0.671023718996392,-0.8135613159273314,-0.46749209774344225,-0.9231718317238232,-1.0683894417520141,0.16814038460444786,0.1718153125157496,0.16814038460444786,0.16814038460444786,-0.11098287107255854,0.16062975430418686,0.2330659230835089,-0.8794951516899012,-0.5340438673610561,-0.28849352591716504,-0.9100661012657763,-2.000645695926474,1.2735929051024857,-1.7569339946660443,-1.032472983889145,-0.7323416671404823,-0.9448027011630111,-0.6126117586232317,2.420110507401115,-0.3440914999441032,-0.4784412384403652,0.17373568558224445,-1.1375808586237055,0.3960428734915081],\"z\":[0.15872255573917737,-0.6106468576778653,-0.08749564755419062,-0.3571887413423741,-0.7064447305767938,-0.2290903563061404,0.41389580001822274,-0.08544085835036051,0.316505270253332,0.3142780619292254,0.2573473549174511,-0.8760982129199228,-0.447324202213466,-0.41003724650963175,-0.3703941867307378,-0.6865398335758683,0.05634702054784128,-0.17318410489867075,0.1019360729387736,-0.8013388160370154,-0.5815589880191436,-0.14044150732897717,-0.3805265363766413,0.679355712026061,-0.052203711205472327,-0.3422595539985303,0.7672145259136769,-0.22428780423136915,-0.8020831454676777,-0.8255649244211019,-1.0647642772257961,0.1974587826599338,-0.29733021776809226,0.09811524540818282,-0.9709094126418287,-0.7429789112074656,0.09811524540818282,-0.8892725621862737,0.14172033807996978,0.14172033807996978,-0.4777730340374668,-0.4777730340374668,-0.3107160552009936,0.5148540661642919,0.6067915635342179,0.665550241019592,0.8587275943122854,-0.22590378247120962,-0.022552760724224855,1.4206065990700292,0.29629668798927405,0.4528199686362378,0.5769502626297693,-0.22855528603310543,-1.3116296300348569,-0.1813399533416889,-0.3278174021821837,1.4382331538048452,1.2821827976207443,-0.8658130207298411,-0.5324282498764854,0.43136670038890773,-0.03404102268993988,-0.6865328993156389,0.3967478240322049,0.4159308294604462,-0.14269780534322818,0.324437528638723,-0.2437475407640176,-0.4030194166339137,-0.17023127791246506,-0.25707562250138044,-0.07090911513404756,-0.25433847609552246,0.2894769082019338,0.0983541510851589,0.4523143442698432,-0.1322990426746447,1.828193929365975,-0.30867900712986907,-0.042684838688030705,0.7829106658605236,-0.05623346427886324,-0.5358560510455236,-0.47854470749270367,0.3839883710825631,-0.8929057835795977,-0.9783292775683696,1.1942512677330084,-0.39795829931520627,1.4973810648253407,-0.631003021840224,-0.631003021840224,0.38433065685613726,-0.027030835220329202,-0.19927269662878722,0.39725928786773734,0.281702292157439,-0.027030835220329202,0.281702292157439,-0.8957285861565628,-0.7773325214462732,-0.7773325214462732,-0.8601381088648297,-1.0696382455896443,-0.2494179585023918,-0.2494179585023918,-0.33968250825025276,-0.6696709537975789,-0.6169983671123267,-0.0482394017424188,-0.5860589695296282,0.6050699696273822,0.9585988437702325,-0.48503516867395663,-0.3648840493815422,0.5983501617369485,-0.2584200933884989,-0.35372306340034065,3.1296832012273827,-0.5797883908204238,0.012805704379012645,-1.162102814901043,-0.13892153453258374,-0.13892153453258374,-0.2414073851846191,-1.1118356763034387,0.15014926691843405,0.516516912311226,1.8418567906527272,1.8418567906527272,-0.6293063708936762,-0.05489701654600321,-0.07345222912552268,-0.2626831298069398,-0.8109681293365969,-0.39855062140642017,0.14668876566754802,-0.4687717428411229,0.06147490466717031,-0.45471437304707923,0.06147490466717031,0.06147490466717031,-0.5693343961509788,-0.7945712876067579,-1.0606425993689803,-0.6765859084392275,1.4501529911844109,0.8758054453050503,-0.11198653697091877,0.9314269648595082,-0.5131914888301701,-0.03129588225658372,-0.4765725398805514,-0.5625314973389596,-0.3545645326929981,-0.2779310320399822,-0.7102918443962211,-0.2534215721446856,-0.43636935283568984,-0.8418428323576487,-0.9319332513619428,-0.8703847465938598],\"type\":\"scatter3d\"}],                        {\"template\":{\"data\":{\"bar\":[{\"error_x\":{\"color\":\"#2a3f5f\"},\"error_y\":{\"color\":\"#2a3f5f\"},\"marker\":{\"line\":{\"color\":\"#E5ECF6\",\"width\":0.5},\"pattern\":{\"fillmode\":\"overlay\",\"size\":10,\"solidity\":0.2}},\"type\":\"bar\"}],\"barpolar\":[{\"marker\":{\"line\":{\"color\":\"#E5ECF6\",\"width\":0.5},\"pattern\":{\"fillmode\":\"overlay\",\"size\":10,\"solidity\":0.2}},\"type\":\"barpolar\"}],\"carpet\":[{\"aaxis\":{\"endlinecolor\":\"#2a3f5f\",\"gridcolor\":\"white\",\"linecolor\":\"white\",\"minorgridcolor\":\"white\",\"startlinecolor\":\"#2a3f5f\"},\"baxis\":{\"endlinecolor\":\"#2a3f5f\",\"gridcolor\":\"white\",\"linecolor\":\"white\",\"minorgridcolor\":\"white\",\"startlinecolor\":\"#2a3f5f\"},\"type\":\"carpet\"}],\"choropleth\":[{\"colorbar\":{\"outlinewidth\":0,\"ticks\":\"\"},\"type\":\"choropleth\"}],\"contour\":[{\"colorbar\":{\"outlinewidth\":0,\"ticks\":\"\"},\"colorscale\":[[0.0,\"#0d0887\"],[0.1111111111111111,\"#46039f\"],[0.2222222222222222,\"#7201a8\"],[0.3333333333333333,\"#9c179e\"],[0.4444444444444444,\"#bd3786\"],[0.5555555555555556,\"#d8576b\"],[0.6666666666666666,\"#ed7953\"],[0.7777777777777778,\"#fb9f3a\"],[0.8888888888888888,\"#fdca26\"],[1.0,\"#f0f921\"]],\"type\":\"contour\"}],\"contourcarpet\":[{\"colorbar\":{\"outlinewidth\":0,\"ticks\":\"\"},\"type\":\"contourcarpet\"}],\"heatmap\":[{\"colorbar\":{\"outlinewidth\":0,\"ticks\":\"\"},\"colorscale\":[[0.0,\"#0d0887\"],[0.1111111111111111,\"#46039f\"],[0.2222222222222222,\"#7201a8\"],[0.3333333333333333,\"#9c179e\"],[0.4444444444444444,\"#bd3786\"],[0.5555555555555556,\"#d8576b\"],[0.6666666666666666,\"#ed7953\"],[0.7777777777777778,\"#fb9f3a\"],[0.8888888888888888,\"#fdca26\"],[1.0,\"#f0f921\"]],\"type\":\"heatmap\"}],\"heatmapgl\":[{\"colorbar\":{\"outlinewidth\":0,\"ticks\":\"\"},\"colorscale\":[[0.0,\"#0d0887\"],[0.1111111111111111,\"#46039f\"],[0.2222222222222222,\"#7201a8\"],[0.3333333333333333,\"#9c179e\"],[0.4444444444444444,\"#bd3786\"],[0.5555555555555556,\"#d8576b\"],[0.6666666666666666,\"#ed7953\"],[0.7777777777777778,\"#fb9f3a\"],[0.8888888888888888,\"#fdca26\"],[1.0,\"#f0f921\"]],\"type\":\"heatmapgl\"}],\"histogram\":[{\"marker\":{\"pattern\":{\"fillmode\":\"overlay\",\"size\":10,\"solidity\":0.2}},\"type\":\"histogram\"}],\"histogram2d\":[{\"colorbar\":{\"outlinewidth\":0,\"ticks\":\"\"},\"colorscale\":[[0.0,\"#0d0887\"],[0.1111111111111111,\"#46039f\"],[0.2222222222222222,\"#7201a8\"],[0.3333333333333333,\"#9c179e\"],[0.4444444444444444,\"#bd3786\"],[0.5555555555555556,\"#d8576b\"],[0.6666666666666666,\"#ed7953\"],[0.7777777777777778,\"#fb9f3a\"],[0.8888888888888888,\"#fdca26\"],[1.0,\"#f0f921\"]],\"type\":\"histogram2d\"}],\"histogram2dcontour\":[{\"colorbar\":{\"outlinewidth\":0,\"ticks\":\"\"},\"colorscale\":[[0.0,\"#0d0887\"],[0.1111111111111111,\"#46039f\"],[0.2222222222222222,\"#7201a8\"],[0.3333333333333333,\"#9c179e\"],[0.4444444444444444,\"#bd3786\"],[0.5555555555555556,\"#d8576b\"],[0.6666666666666666,\"#ed7953\"],[0.7777777777777778,\"#fb9f3a\"],[0.8888888888888888,\"#fdca26\"],[1.0,\"#f0f921\"]],\"type\":\"histogram2dcontour\"}],\"mesh3d\":[{\"colorbar\":{\"outlinewidth\":0,\"ticks\":\"\"},\"type\":\"mesh3d\"}],\"parcoords\":[{\"line\":{\"colorbar\":{\"outlinewidth\":0,\"ticks\":\"\"}},\"type\":\"parcoords\"}],\"pie\":[{\"automargin\":true,\"type\":\"pie\"}],\"scatter\":[{\"marker\":{\"colorbar\":{\"outlinewidth\":0,\"ticks\":\"\"}},\"type\":\"scatter\"}],\"scatter3d\":[{\"line\":{\"colorbar\":{\"outlinewidth\":0,\"ticks\":\"\"}},\"marker\":{\"colorbar\":{\"outlinewidth\":0,\"ticks\":\"\"}},\"type\":\"scatter3d\"}],\"scattercarpet\":[{\"marker\":{\"colorbar\":{\"outlinewidth\":0,\"ticks\":\"\"}},\"type\":\"scattercarpet\"}],\"scattergeo\":[{\"marker\":{\"colorbar\":{\"outlinewidth\":0,\"ticks\":\"\"}},\"type\":\"scattergeo\"}],\"scattergl\":[{\"marker\":{\"colorbar\":{\"outlinewidth\":0,\"ticks\":\"\"}},\"type\":\"scattergl\"}],\"scattermapbox\":[{\"marker\":{\"colorbar\":{\"outlinewidth\":0,\"ticks\":\"\"}},\"type\":\"scattermapbox\"}],\"scatterpolar\":[{\"marker\":{\"colorbar\":{\"outlinewidth\":0,\"ticks\":\"\"}},\"type\":\"scatterpolar\"}],\"scatterpolargl\":[{\"marker\":{\"colorbar\":{\"outlinewidth\":0,\"ticks\":\"\"}},\"type\":\"scatterpolargl\"}],\"scatterternary\":[{\"marker\":{\"colorbar\":{\"outlinewidth\":0,\"ticks\":\"\"}},\"type\":\"scatterternary\"}],\"surface\":[{\"colorbar\":{\"outlinewidth\":0,\"ticks\":\"\"},\"colorscale\":[[0.0,\"#0d0887\"],[0.1111111111111111,\"#46039f\"],[0.2222222222222222,\"#7201a8\"],[0.3333333333333333,\"#9c179e\"],[0.4444444444444444,\"#bd3786\"],[0.5555555555555556,\"#d8576b\"],[0.6666666666666666,\"#ed7953\"],[0.7777777777777778,\"#fb9f3a\"],[0.8888888888888888,\"#fdca26\"],[1.0,\"#f0f921\"]],\"type\":\"surface\"}],\"table\":[{\"cells\":{\"fill\":{\"color\":\"#EBF0F8\"},\"line\":{\"color\":\"white\"}},\"header\":{\"fill\":{\"color\":\"#C8D4E3\"},\"line\":{\"color\":\"white\"}},\"type\":\"table\"}]},\"layout\":{\"annotationdefaults\":{\"arrowcolor\":\"#2a3f5f\",\"arrowhead\":0,\"arrowwidth\":1},\"autotypenumbers\":\"strict\",\"coloraxis\":{\"colorbar\":{\"outlinewidth\":0,\"ticks\":\"\"}},\"colorscale\":{\"diverging\":[[0,\"#8e0152\"],[0.1,\"#c51b7d\"],[0.2,\"#de77ae\"],[0.3,\"#f1b6da\"],[0.4,\"#fde0ef\"],[0.5,\"#f7f7f7\"],[0.6,\"#e6f5d0\"],[0.7,\"#b8e186\"],[0.8,\"#7fbc41\"],[0.9,\"#4d9221\"],[1,\"#276419\"]],\"sequential\":[[0.0,\"#0d0887\"],[0.1111111111111111,\"#46039f\"],[0.2222222222222222,\"#7201a8\"],[0.3333333333333333,\"#9c179e\"],[0.4444444444444444,\"#bd3786\"],[0.5555555555555556,\"#d8576b\"],[0.6666666666666666,\"#ed7953\"],[0.7777777777777778,\"#fb9f3a\"],[0.8888888888888888,\"#fdca26\"],[1.0,\"#f0f921\"]],\"sequentialminus\":[[0.0,\"#0d0887\"],[0.1111111111111111,\"#46039f\"],[0.2222222222222222,\"#7201a8\"],[0.3333333333333333,\"#9c179e\"],[0.4444444444444444,\"#bd3786\"],[0.5555555555555556,\"#d8576b\"],[0.6666666666666666,\"#ed7953\"],[0.7777777777777778,\"#fb9f3a\"],[0.8888888888888888,\"#fdca26\"],[1.0,\"#f0f921\"]]},\"colorway\":[\"#636efa\",\"#EF553B\",\"#00cc96\",\"#ab63fa\",\"#FFA15A\",\"#19d3f3\",\"#FF6692\",\"#B6E880\",\"#FF97FF\",\"#FECB52\"],\"font\":{\"color\":\"#2a3f5f\"},\"geo\":{\"bgcolor\":\"white\",\"lakecolor\":\"white\",\"landcolor\":\"#E5ECF6\",\"showlakes\":true,\"showland\":true,\"subunitcolor\":\"white\"},\"hoverlabel\":{\"align\":\"left\"},\"hovermode\":\"closest\",\"mapbox\":{\"style\":\"light\"},\"paper_bgcolor\":\"white\",\"plot_bgcolor\":\"#E5ECF6\",\"polar\":{\"angularaxis\":{\"gridcolor\":\"white\",\"linecolor\":\"white\",\"ticks\":\"\"},\"bgcolor\":\"#E5ECF6\",\"radialaxis\":{\"gridcolor\":\"white\",\"linecolor\":\"white\",\"ticks\":\"\"}},\"scene\":{\"xaxis\":{\"backgroundcolor\":\"#E5ECF6\",\"gridcolor\":\"white\",\"gridwidth\":2,\"linecolor\":\"white\",\"showbackground\":true,\"ticks\":\"\",\"zerolinecolor\":\"white\"},\"yaxis\":{\"backgroundcolor\":\"#E5ECF6\",\"gridcolor\":\"white\",\"gridwidth\":2,\"linecolor\":\"white\",\"showbackground\":true,\"ticks\":\"\",\"zerolinecolor\":\"white\"},\"zaxis\":{\"backgroundcolor\":\"#E5ECF6\",\"gridcolor\":\"white\",\"gridwidth\":2,\"linecolor\":\"white\",\"showbackground\":true,\"ticks\":\"\",\"zerolinecolor\":\"white\"}},\"shapedefaults\":{\"line\":{\"color\":\"#2a3f5f\"}},\"ternary\":{\"aaxis\":{\"gridcolor\":\"white\",\"linecolor\":\"white\",\"ticks\":\"\"},\"baxis\":{\"gridcolor\":\"white\",\"linecolor\":\"white\",\"ticks\":\"\"},\"bgcolor\":\"#E5ECF6\",\"caxis\":{\"gridcolor\":\"white\",\"linecolor\":\"white\",\"ticks\":\"\"}},\"title\":{\"x\":0.05},\"xaxis\":{\"automargin\":true,\"gridcolor\":\"white\",\"linecolor\":\"white\",\"ticks\":\"\",\"title\":{\"standoff\":15},\"zerolinecolor\":\"white\",\"zerolinewidth\":2},\"yaxis\":{\"automargin\":true,\"gridcolor\":\"white\",\"linecolor\":\"white\",\"ticks\":\"\",\"title\":{\"standoff\":15},\"zerolinecolor\":\"white\",\"zerolinewidth\":2}}},\"scene\":{\"domain\":{\"x\":[0.0,1.0],\"y\":[0.0,1.0]},\"xaxis\":{\"title\":{\"text\":\"0\"},\"range\":[-2,6]},\"yaxis\":{\"title\":{\"text\":\"1\"},\"range\":[-2,4]},\"zaxis\":{\"title\":{\"text\":\"2\"},\"range\":[-2,5]}},\"coloraxis\":{\"colorbar\":{\"title\":{\"text\":\"Cluster\"}},\"colorscale\":[[0.0,\"#0d0887\"],[0.1111111111111111,\"#46039f\"],[0.2222222222222222,\"#7201a8\"],[0.3333333333333333,\"#9c179e\"],[0.4444444444444444,\"#bd3786\"],[0.5555555555555556,\"#d8576b\"],[0.6666666666666666,\"#ed7953\"],[0.7777777777777778,\"#fb9f3a\"],[0.8888888888888888,\"#fdca26\"],[1.0,\"#f0f921\"]]},\"legend\":{\"tracegroupgap\":0},\"margin\":{\"t\":60}},                        {\"responsive\": true}                    ).then(function(){\n",
       "                            \n",
       "var gd = document.getElementById('084e3433-b459-48fb-9205-aafb8fa384d1');\n",
       "var x = new MutationObserver(function (mutations, observer) {{\n",
       "        var display = window.getComputedStyle(gd).display;\n",
       "        if (!display || display === 'none') {{\n",
       "            console.log([gd, 'removed!']);\n",
       "            Plotly.purge(gd);\n",
       "            observer.disconnect();\n",
       "        }}\n",
       "}});\n",
       "\n",
       "// Listen for the removal of the full notebook cells\n",
       "var notebookContainer = gd.closest('#notebook-container');\n",
       "if (notebookContainer) {{\n",
       "    x.observe(notebookContainer, {childList: true});\n",
       "}}\n",
       "\n",
       "// Listen for the clearing of the current output cell\n",
       "var outputEl = gd.closest('.output');\n",
       "if (outputEl) {{\n",
       "    x.observe(outputEl, {childList: true});\n",
       "}}\n",
       "\n",
       "                        })                };                });            </script>        </div>"
      ]
     },
     "metadata": {},
     "output_type": "display_data"
    }
   ],
   "source": [
    "#you can change the data_frame = value with the following: clstr_0, clstr_1, clstr_2, clstr_3, clster_4\n",
    "\n",
    "fig = px.scatter_3d(data_frame=clstr_1, \n",
    "                 x = 0, y = 1, z=2, color='Cluster', size_max=0.01, hover_data=['name','artist','genre'], \n",
    "                    range_x=(-2,6), range_y=(-2,4), range_z=(-2,5))\n",
    "\n",
    "fig.update_traces(marker=dict(size=5,\n",
    "                              line=dict(width=1,\n",
    "                                        color='cyan')),\n",
    "                  selector=dict(mode='markers'))\n",
    "\n",
    "fig.show()"
   ]
  }
 ],
 "metadata": {
  "kernelspec": {
   "display_name": "Python 3 (ipykernel)",
   "language": "python",
   "name": "python3"
  },
  "language_info": {
   "codemirror_mode": {
    "name": "ipython",
    "version": 3
   },
   "file_extension": ".py",
   "mimetype": "text/x-python",
   "name": "python",
   "nbconvert_exporter": "python",
   "pygments_lexer": "ipython3",
   "version": "3.9.7"
  }
 },
 "nbformat": 4,
 "nbformat_minor": 5
}
